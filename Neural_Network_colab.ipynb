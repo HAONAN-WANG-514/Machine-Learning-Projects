{
  "nbformat": 4,
  "nbformat_minor": 0,
  "metadata": {
    "colab": {
      "name": "neural network.ipynb",
      "provenance": []
    },
    "kernelspec": {
      "name": "python3",
      "display_name": "Python 3"
    }
  },
  "cells": [
    {
      "cell_type": "markdown",
      "metadata": {
        "id": "D9XM_jRVcGhy",
        "colab_type": "text"
      },
      "source": [
        "## **Q2:** \n",
        "neural network: \n",
        "test accuracy for data points 6601 till the end"
      ]
    },
    {
      "cell_type": "markdown",
      "metadata": {
        "id": "rGcz93eGeM-D",
        "colab_type": "text"
      },
      "source": [
        "### Step 1 - Configuring the Project"
      ]
    },
    {
      "cell_type": "code",
      "metadata": {
        "id": "K6N88PdPEx1J",
        "colab_type": "code",
        "colab": {}
      },
      "source": [
        "# create a new directory and navigate to it\n",
        "!mkdir tensorflow-demo\n",
        "!cd tensorflow-demo"
      ],
      "execution_count": 0,
      "outputs": []
    },
    {
      "cell_type": "code",
      "metadata": {
        "id": "YLNBaNFSFM_c",
        "colab_type": "code",
        "colab": {}
      },
      "source": [
        "# for setting up virtual environment\n",
        "!apt-get install python3-venv"
      ],
      "execution_count": 0,
      "outputs": []
    },
    {
      "cell_type": "code",
      "metadata": {
        "id": "hmr2e4ojE_8Y",
        "colab_type": "code",
        "colab": {}
      },
      "source": [
        "# set uo the virtual environment\n",
        "!python3 -m venv tensorflow-demo\n",
        "!source tensorflow-demo/bin/activate"
      ],
      "execution_count": 0,
      "outputs": []
    },
    {
      "cell_type": "markdown",
      "metadata": {
        "id": "pXznbtpgecQi",
        "colab_type": "text"
      },
      "source": [
        "### Step 2 - Importing the MNIST Dataset"
      ]
    },
    {
      "cell_type": "code",
      "metadata": {
        "id": "NU9z6i2xEo8y",
        "colab_type": "code",
        "colab": {}
      },
      "source": [
        "# import Tensorflow library and MNIST dataset\n",
        "import tensorflow as tf\n",
        "from tensorflow.examples.tutorials.mnist import input_data"
      ],
      "execution_count": 0,
      "outputs": []
    },
    {
      "cell_type": "code",
      "metadata": {
        "id": "yWdeMSl_FxTj",
        "colab_type": "code",
        "outputId": "906284bb-ae25-48e6-81bf-d72e13468ee9",
        "colab": {
          "base_uri": "https://localhost:8080/",
          "height": 84
        }
      },
      "source": [
        "# store the image data in the variable mnist\n",
        "mnist = input_data.read_data_sets(\"MNIST_data/\", one_hot=True)  # y labels are one-hot-encoded"
      ],
      "execution_count": 28,
      "outputs": [
        {
          "output_type": "stream",
          "text": [
            "Extracting MNIST_data/train-images-idx3-ubyte.gz\n",
            "Extracting MNIST_data/train-labels-idx1-ubyte.gz\n",
            "Extracting MNIST_data/t10k-images-idx3-ubyte.gz\n",
            "Extracting MNIST_data/t10k-labels-idx1-ubyte.gz\n"
          ],
          "name": "stdout"
        }
      ]
    },
    {
      "cell_type": "code",
      "metadata": {
        "id": "KIkrbVQrF5kH",
        "colab_type": "code",
        "colab": {}
      },
      "source": [
        "# split dataset into training, validation and testing set\n",
        "# check the number of examples in each set\n",
        "n_train = mnist.train.num_examples  # 55,000\n",
        "n_validation = mnist.validation.num_examples  # 5000\n",
        "n_test = mnist.test.num_examples  # 10,000"
      ],
      "execution_count": 0,
      "outputs": []
    },
    {
      "cell_type": "markdown",
      "metadata": {
        "id": "HoJkrKPremky",
        "colab_type": "text"
      },
      "source": [
        "### Step 3 - Defining the Neural Network Architecture"
      ]
    },
    {
      "cell_type": "code",
      "metadata": {
        "id": "hzvqFzuoGSd3",
        "colab_type": "code",
        "colab": {}
      },
      "source": [
        "# store the number of units per layer in global variables\n",
        "# this allows us to alter the network architecture in one place\n",
        "# our designed architecture is 'deep neural network', because of multiple hidden layers\n",
        "n_input = 784  # input layer (28x28 pixels)\n",
        "n_hidden1 = 512  # 1st hidden layer\n",
        "n_hidden2 = 256  # 2nd hidden layer\n",
        "n_hidden3 = 128  # 3rd hidden layer\n",
        "n_output = 10  # output layer (0-9 digits)"
      ],
      "execution_count": 0,
      "outputs": []
    },
    {
      "cell_type": "code",
      "metadata": {
        "id": "zM_uRIwRGrxD",
        "colab_type": "code",
        "colab": {}
      },
      "source": [
        "# define hyperparameters\n",
        "learning_rate = 1e-4  # how much the parameters will adjust at each step of the learning process\n",
        "n_iterations = 1000  # how many times we go through the training step\n",
        "batch_size = 128   # how many training samples we use at each step\n",
        "dropout = 0.5  # a threshold at which we eliminate some units at random. Help prevent overfitting"
      ],
      "execution_count": 0,
      "outputs": []
    },
    {
      "cell_type": "markdown",
      "metadata": {
        "id": "NQsgsrh_HH4X",
        "colab_type": "text"
      },
      "source": [
        "### Step 4 - Building the Tensorflow Graph"
      ]
    },
    {
      "cell_type": "code",
      "metadata": {
        "id": "Q6wsRs9nGrz_",
        "colab_type": "code",
        "colab": {}
      },
      "source": [
        "# define three tensors\n",
        "X = tf.placeholder(\"float\", [None, n_input])  # none represents any amount\n",
        "Y = tf.placeholder(\"float\", [None, n_output])\n",
        "keep_prob = tf.placeholder(tf.float32)  # to control dropout rate, initialize it as a placeholder to remain the same for all training and testing steps"
      ],
      "execution_count": 0,
      "outputs": []
    },
    {
      "cell_type": "code",
      "metadata": {
        "id": "hmz3cW8VGr2z",
        "colab_type": "code",
        "colab": {}
      },
      "source": [
        "# define weights\n",
        "weights = {\n",
        "    'w1': tf.Variable(tf.truncated_normal([n_input, n_hidden1], stddev=0.1)),\n",
        "    'w2': tf.Variable(tf.truncated_normal([n_hidden1, n_hidden2], stddev=0.1)),\n",
        "    'w3': tf.Variable(tf.truncated_normal([n_hidden2, n_hidden3], stddev=0.1)),\n",
        "    'out': tf.Variable(tf.truncated_normal([n_hidden3, n_output], stddev=0.1)),\n",
        "}"
      ],
      "execution_count": 0,
      "outputs": []
    },
    {
      "cell_type": "code",
      "metadata": {
        "id": "qQv1M42jGr5Z",
        "colab_type": "code",
        "colab": {}
      },
      "source": [
        "# define biases\n",
        "biases = {\n",
        "    'b1': tf.Variable(tf.constant(0.1, shape=[n_hidden1])),\n",
        "    'b2': tf.Variable(tf.constant(0.1, shape=[n_hidden2])),\n",
        "    'b3': tf.Variable(tf.constant(0.1, shape=[n_hidden3])),\n",
        "    'out': tf.Variable(tf.constant(0.1, shape=[n_output]))\n",
        "}"
      ],
      "execution_count": 0,
      "outputs": []
    },
    {
      "cell_type": "code",
      "metadata": {
        "id": "D4jAHm4VJCf5",
        "colab_type": "code",
        "colab": {}
      },
      "source": [
        "# set up the layers by defining the operations\n",
        "layer_1 = tf.add(tf.matmul(X, weights['w1']), biases['b1'])\n",
        "layer_2 = tf.add(tf.matmul(layer_1, weights['w2']), biases['b2'])\n",
        "layer_3 = tf.add(tf.matmul(layer_2, weights['w3']), biases['b3'])\n",
        "layer_drop = tf.nn.dropout(layer_3, keep_prob)\n",
        "output_layer = tf.matmul(layer_3, weights['out']) + biases['out']"
      ],
      "execution_count": 0,
      "outputs": []
    },
    {
      "cell_type": "code",
      "metadata": {
        "id": "R8UtHDD1JCig",
        "colab_type": "code",
        "colab": {}
      },
      "source": [
        "# define loss function\n",
        "# cross-entropy(log-loss): quantify the difference between two probability distributions\n",
        "cross_entropy = tf.reduce_mean(\n",
        "    tf.nn.softmax_cross_entropy_with_logits(\n",
        "        labels=Y, logits=output_layer\n",
        "        ))\n",
        "# Adam optimizer: spped up gradient descent optimization\n",
        "train_step = tf.train.AdamOptimizer(1e-4).minimize(cross_entropy)"
      ],
      "execution_count": 0,
      "outputs": []
    },
    {
      "cell_type": "markdown",
      "metadata": {
        "id": "piPpJZdnPKwW",
        "colab_type": "text"
      },
      "source": [
        "### Step 5 - Training and Testing"
      ]
    },
    {
      "cell_type": "code",
      "metadata": {
        "id": "uRP2pparJCk_",
        "colab_type": "code",
        "colab": {}
      },
      "source": [
        "# define method of evaluating accuracy\n",
        "correct_pred = tf.equal(tf.argmax(output_layer, 1), tf.argmax(Y, 1))\n",
        "accuracy = tf.reduce_mean(tf.cast(correct_pred, tf.float32))"
      ],
      "execution_count": 0,
      "outputs": []
    },
    {
      "cell_type": "code",
      "metadata": {
        "id": "GMQujBCFJCoW",
        "colab_type": "code",
        "colab": {}
      },
      "source": [
        "# initialize a session for running the graph\n",
        "init = tf.global_variables_initializer()\n",
        "sess = tf.Session()\n",
        "sess.run(init)"
      ],
      "execution_count": 0,
      "outputs": []
    },
    {
      "cell_type": "code",
      "metadata": {
        "id": "hTguO0_RJw8k",
        "colab_type": "code",
        "outputId": "7eefd760-f87e-427f-ce26-132c4771683f",
        "colab": {
          "base_uri": "https://localhost:8080/",
          "height": 185
        }
      },
      "source": [
        "# train on mini batches\n",
        "for i in range(n_iterations):\n",
        "    batch_x, batch_y = mnist.train.next_batch(batch_size)\n",
        "    sess.run(train_step, feed_dict={\n",
        "        X: batch_x, Y: batch_y, keep_prob: dropout\n",
        "        })\n",
        "\n",
        "    # print loss and accuracy (per minibatch)\n",
        "    if i % 100 == 0:\n",
        "        minibatch_loss, minibatch_accuracy = sess.run(\n",
        "            [cross_entropy, accuracy],\n",
        "            feed_dict={X: batch_x, Y: batch_y, keep_prob: 1.0}\n",
        "            )\n",
        "        print(\n",
        "            \"Iteration\",\n",
        "            str(i),\n",
        "            \"\\t| Loss =\",\n",
        "            str(minibatch_loss),\n",
        "            \"\\t| Accuracy =\",\n",
        "            str(minibatch_accuracy)\n",
        "            )"
      ],
      "execution_count": 39,
      "outputs": [
        {
          "output_type": "stream",
          "text": [
            "Iteration 0 \t| Loss = 3.1963573 \t| Accuracy = 0.1640625\n",
            "Iteration 100 \t| Loss = 0.49080488 \t| Accuracy = 0.84375\n",
            "Iteration 200 \t| Loss = 0.3035546 \t| Accuracy = 0.875\n",
            "Iteration 300 \t| Loss = 0.4561987 \t| Accuracy = 0.8515625\n",
            "Iteration 400 \t| Loss = 0.21551365 \t| Accuracy = 0.9375\n",
            "Iteration 500 \t| Loss = 0.3444941 \t| Accuracy = 0.90625\n",
            "Iteration 600 \t| Loss = 0.27827537 \t| Accuracy = 0.90625\n",
            "Iteration 700 \t| Loss = 0.43239567 \t| Accuracy = 0.8828125\n",
            "Iteration 800 \t| Loss = 0.45047224 \t| Accuracy = 0.875\n",
            "Iteration 900 \t| Loss = 0.30275312 \t| Accuracy = 0.9140625\n"
          ],
          "name": "stdout"
        }
      ]
    },
    {
      "cell_type": "code",
      "metadata": {
        "id": "JMYVOfXmJw_H",
        "colab_type": "code",
        "outputId": "53f9667e-57c2-441f-ca05-4b7b474639c1",
        "colab": {
          "base_uri": "https://localhost:8080/",
          "height": 50
        }
      },
      "source": [
        "# run the session on the test images\n",
        "test_accuracy = sess.run(accuracy, feed_dict={X: mnist.test.images[6600:10000,:], Y: mnist.test.labels[6600:10000,:], keep_prob: 1.0})\n",
        "print(\"\\nAccuracy on test set:\", test_accuracy)"
      ],
      "execution_count": 40,
      "outputs": [
        {
          "output_type": "stream",
          "text": [
            "\n",
            "Accuracy on test set: 0.94529414\n"
          ],
          "name": "stdout"
        }
      ]
    },
    {
      "cell_type": "code",
      "metadata": {
        "id": "bKF2Rqm4Gr8z",
        "colab_type": "code",
        "outputId": "1f38bb1f-4456-4266-dedc-6609716e3304",
        "colab": {
          "base_uri": "https://localhost:8080/",
          "height": 67
        }
      },
      "source": [
        "# download a new sample test image\n",
        "!curl -O https://raw.githubusercontent.com/do-community/tensorflow-digit-recognition/master/test_img.png"
      ],
      "execution_count": 41,
      "outputs": [
        {
          "output_type": "stream",
          "text": [
            "  % Total    % Received % Xferd  Average Speed   Time    Time     Time  Current\n",
            "                                 Dload  Upload   Total   Spent    Left  Speed\n",
            "\r  0     0    0     0    0     0      0      0 --:--:-- --:--:-- --:--:--     0\r  0     0    0     0    0     0      0      0 --:--:-- --:--:-- --:--:--     0\r100   393  100   393    0     0   2551      0 --:--:-- --:--:-- --:--:--  2535\n"
          ],
          "name": "stdout"
        }
      ]
    },
    {
      "cell_type": "code",
      "metadata": {
        "id": "3CGMYSNlQf3m",
        "colab_type": "code",
        "colab": {}
      },
      "source": [
        "import numpy as np\n",
        "from PIL import Image"
      ],
      "execution_count": 0,
      "outputs": []
    },
    {
      "cell_type": "code",
      "metadata": {
        "id": "FknUX9JCQkDx",
        "colab_type": "code",
        "colab": {}
      },
      "source": [
        "# load the test image\n",
        "img = np.invert(Image.open(\"test_img.png\").convert('L')).ravel()"
      ],
      "execution_count": 0,
      "outputs": []
    },
    {
      "cell_type": "code",
      "metadata": {
        "id": "oEdkJIBvQqQk",
        "colab_type": "code",
        "outputId": "c7439cdb-076f-4946-d03a-c8a2bb18a5f7",
        "colab": {
          "base_uri": "https://localhost:8080/",
          "height": 34
        }
      },
      "source": [
        "# test the image and print the outputted label\n",
        "prediction = sess.run(tf.argmax(output_layer, 1), feed_dict={X: [img]})\n",
        "print (\"Prediction for test image:\", np.squeeze(prediction))"
      ],
      "execution_count": 44,
      "outputs": [
        {
          "output_type": "stream",
          "text": [
            "Prediction for test image: 2\n"
          ],
          "name": "stdout"
        }
      ]
    },
    {
      "cell_type": "markdown",
      "metadata": {
        "id": "kY8wrh4XS4gk",
        "colab_type": "text"
      },
      "source": [
        "### **Q3:**\n",
        "Without dropout for the final layer(layer 3)"
      ]
    },
    {
      "cell_type": "code",
      "metadata": {
        "id": "ql9aQ5aaTNe8",
        "colab_type": "code",
        "colab": {
          "base_uri": "https://localhost:8080/",
          "height": 185
        },
        "outputId": "4aa89d5c-9a37-42f3-a9aa-a86c9d3aaf9e"
      },
      "source": [
        "# train on mini batches\n",
        "for i in range(n_iterations):\n",
        "    batch_x, batch_y = mnist.train.next_batch(batch_size)\n",
        "    sess.run(train_step, feed_dict={\n",
        "        X: batch_x, Y: batch_y\n",
        "        })\n",
        "\n",
        "    # print loss and accuracy (per minibatch)\n",
        "    if i % 100 == 0:\n",
        "        minibatch_loss, minibatch_accuracy = sess.run(\n",
        "            [cross_entropy, accuracy],\n",
        "            feed_dict={X: batch_x, Y: batch_y, keep_prob: 1.0}\n",
        "            )\n",
        "        print(\n",
        "            \"Iteration\",\n",
        "            str(i),\n",
        "            \"\\t| Loss =\",\n",
        "            str(minibatch_loss),\n",
        "            \"\\t| Accuracy =\",\n",
        "            str(minibatch_accuracy)\n",
        "            )"
      ],
      "execution_count": 45,
      "outputs": [
        {
          "output_type": "stream",
          "text": [
            "Iteration 0 \t| Loss = 0.20418227 \t| Accuracy = 0.9453125\n",
            "Iteration 100 \t| Loss = 0.22042751 \t| Accuracy = 0.9140625\n",
            "Iteration 200 \t| Loss = 0.20367971 \t| Accuracy = 0.9375\n",
            "Iteration 300 \t| Loss = 0.20530073 \t| Accuracy = 0.9453125\n",
            "Iteration 400 \t| Loss = 0.26766694 \t| Accuracy = 0.90625\n",
            "Iteration 500 \t| Loss = 0.18392602 \t| Accuracy = 0.9453125\n",
            "Iteration 600 \t| Loss = 0.27930096 \t| Accuracy = 0.9140625\n",
            "Iteration 700 \t| Loss = 0.13998422 \t| Accuracy = 0.96875\n",
            "Iteration 800 \t| Loss = 0.1969614 \t| Accuracy = 0.9453125\n",
            "Iteration 900 \t| Loss = 0.4407578 \t| Accuracy = 0.875\n"
          ],
          "name": "stdout"
        }
      ]
    },
    {
      "cell_type": "code",
      "metadata": {
        "id": "31d9v_49Thrs",
        "colab_type": "code",
        "colab": {
          "base_uri": "https://localhost:8080/",
          "height": 50
        },
        "outputId": "0b3fe2a0-1f7b-4368-deb5-4b9290ba125f"
      },
      "source": [
        "# test accuracy on the corresponding test set\n",
        "test_accuracy = sess.run(accuracy, feed_dict={X: mnist.test.images[6600:10000,:], Y: mnist.test.labels[6600:10000,:], keep_prob: 1.0})\n",
        "print(\"\\nAccuracy on test set:\", test_accuracy)"
      ],
      "execution_count": 46,
      "outputs": [
        {
          "output_type": "stream",
          "text": [
            "\n",
            "Accuracy on test set: 0.9429412\n"
          ],
          "name": "stdout"
        }
      ]
    },
    {
      "cell_type": "code",
      "metadata": {
        "id": "E1YIOC-LTt6C",
        "colab_type": "code",
        "colab": {
          "base_uri": "https://localhost:8080/",
          "height": 34
        },
        "outputId": "5643f41f-0fa6-48b8-e6b2-e872455aadba"
      },
      "source": [
        "prediction = sess.run(tf.argmax(output_layer, 1), feed_dict={X: [img]})\n",
        "print (\"Prediction for test image:\", np.squeeze(prediction))"
      ],
      "execution_count": 47,
      "outputs": [
        {
          "output_type": "stream",
          "text": [
            "Prediction for test image: 2\n"
          ],
          "name": "stdout"
        }
      ]
    },
    {
      "cell_type": "markdown",
      "metadata": {
        "id": "A0cwMEwbWrnI",
        "colab_type": "text"
      },
      "source": [
        "### **Q5:**\n",
        "Multinomial logistic regression"
      ]
    },
    {
      "cell_type": "code",
      "metadata": {
        "id": "HZ3nqlXmTt83",
        "colab_type": "code",
        "colab": {}
      },
      "source": [
        "from sklearn.linear_model import LogisticRegression\n",
        "from sklearn.metrics import r2_score"
      ],
      "execution_count": 0,
      "outputs": []
    },
    {
      "cell_type": "code",
      "metadata": {
        "id": "gD_6Z7XjWyrW",
        "colab_type": "code",
        "colab": {}
      },
      "source": [
        "# create multinomial logistic regression\n",
        "clf = LogisticRegression(random_state=0, multi_class='multinomial', solver='newton-cg')"
      ],
      "execution_count": 0,
      "outputs": []
    },
    {
      "cell_type": "code",
      "metadata": {
        "id": "JbeprcufX5BA",
        "colab_type": "code",
        "colab": {
          "base_uri": "https://localhost:8080/",
          "height": 84
        },
        "outputId": "861fceef-8a5a-4640-bbb7-0c0f68fd7237"
      },
      "source": [
        "# load data\n",
        "mnist_multi = input_data.read_data_sets(\"MNIST_data/\", one_hot=False)"
      ],
      "execution_count": 55,
      "outputs": [
        {
          "output_type": "stream",
          "text": [
            "Extracting MNIST_data/train-images-idx3-ubyte.gz\n",
            "Extracting MNIST_data/train-labels-idx1-ubyte.gz\n",
            "Extracting MNIST_data/t10k-images-idx3-ubyte.gz\n",
            "Extracting MNIST_data/t10k-labels-idx1-ubyte.gz\n"
          ],
          "name": "stdout"
        }
      ]
    },
    {
      "cell_type": "code",
      "metadata": {
        "id": "Y2ryeqneW77a",
        "colab_type": "code",
        "colab": {
          "base_uri": "https://localhost:8080/",
          "height": 104
        },
        "outputId": "6f649f48-afeb-470e-d05f-74dcfa49ccfe"
      },
      "source": [
        "# train model on the training set\n",
        "model = clf.fit(mnist_multi.train.images, mnist_multi.train.labels)"
      ],
      "execution_count": 58,
      "outputs": [
        {
          "output_type": "stream",
          "text": [
            "/usr/local/lib/python3.6/dist-packages/scipy/optimize/linesearch.py:314: LineSearchWarning: The line search algorithm did not converge\n",
            "  warn('The line search algorithm did not converge', LineSearchWarning)\n",
            "/usr/local/lib/python3.6/dist-packages/sklearn/utils/optimize.py:204: UserWarning: Line Search failed\n",
            "  warnings.warn('Line Search failed')\n"
          ],
          "name": "stderr"
        }
      ]
    },
    {
      "cell_type": "code",
      "metadata": {
        "id": "ELK11wkqYrSx",
        "colab_type": "code",
        "colab": {}
      },
      "source": [
        "# predict the test set\n",
        "y_pred = model.predict(mnist_multi.test.images[6600:10000,:])"
      ],
      "execution_count": 0,
      "outputs": []
    },
    {
      "cell_type": "code",
      "metadata": {
        "id": "YmRwEePCaTsK",
        "colab_type": "code",
        "colab": {
          "base_uri": "https://localhost:8080/",
          "height": 34
        },
        "outputId": "e831de12-5c16-4d52-8dfa-77443e9b1734"
      },
      "source": [
        "r2_score(mnist_multi.test.labels[6600:10000,], y_pred)"
      ],
      "execution_count": 73,
      "outputs": [
        {
          "output_type": "execute_result",
          "data": {
            "text/plain": [
              "0.8974757292079572"
            ]
          },
          "metadata": {
            "tags": []
          },
          "execution_count": 73
        }
      ]
    }
  ]
}
