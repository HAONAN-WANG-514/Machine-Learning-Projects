{
 "cells": [
  {
   "cell_type": "code",
   "execution_count": null,
   "metadata": {},
   "outputs": [],
   "source": [
    "## ---------------------------------------------------------------------------\n",
    "## \n",
    "## Title:       Homework 06: NLP\n",
    "## Author(s):   Danfeng Cao, Haonan Wang, Rajasa Kakkera, Ana Parra Vera\n",
    "## Affiliation: UC Davis MSBA Program\n",
    "## Description: BAX-422 – Data Design & Representation\n",
    "## Date:        2020-02-23\n",
    "## \n",
    "## ---------------------------------------------------------------------------\n"
   ]
  },
  {
   "cell_type": "code",
   "execution_count": 1,
   "metadata": {},
   "outputs": [],
   "source": [
    "# In the shared zip file, there are 16 JSONs containing information pertaining to product reviews. \n",
    "# As the master file with more than 7.8 million lines and 5.1 GB in size could be too large \n",
    "# to handle on some personal computers, it was divided into chunks of 500k lines each. \n",
    "# Each group is assigned only one of the JSONs within the uploaded zip file.\n",
    "\n",
    "# Group 1 is to work on the file with ‘.1’ subscript, Group 2 on the one with ‘.2’\n",
    "# subscript and so on, till Group 15. Group 16 will go back to the start and \n",
    "# use the file with .1 subscript, Group 17 will use .2 and so on.\n",
    "\n",
    "# File .16 is NOT assigned to any group.\n",
    "\n",
    "# Please mention the file name of the file you used in your solution script as a comment \n",
    "# somewhere near the beginning.\n",
    "\n",
    "# Please note, the files you have been assigned are also not too small in size. If you can easily \n",
    "# read and process the json in your machine, that is perfectly fine. But in case you face memory \n",
    "# issues, you can refer to the shared starter code notebook file for an alternative method to \n",
    "# handle the JSON.\n",
    "\n",
    "# Read the assigned JSON file and extract the following information:\n",
    "# • reviewerID - ID of the reviewer, e.g. A2SUAM1J3GNN3B\n",
    "# • asin - ID of the product, e.g. 0000013714\n",
    "# • reviewerName - name of the reviewer\n",
    "# • helpful - helpfulness rating of the review, e.g. 2 out of 3 people found the review\n",
    "#             to be helpful. The starter code’s dataframe would have 2 in the helpful_start\n",
    "#             column and 3 in the helpful_end column\n",
    "# • reviewText - text of the review • overall - rating of the product\n",
    "# • summary - summary of the review\n",
    "# • unixReviewTime - time of the review\n",
    "\n",
    "# Solve the following questions:"
   ]
  },
  {
   "cell_type": "code",
   "execution_count": 2,
   "metadata": {},
   "outputs": [],
   "source": [
    "import pandas as pd\n",
    "import numpy as np\n",
    "import json\n",
    "import re\n",
    "from nltk.corpus import stopwords\n",
    "from nltk.tokenize import word_tokenize\n",
    "from nltk.stem import PorterStemmer\n",
    "import nltk\n",
    "from sklearn.metrics.pairwise import euclidean_distances\n",
    "from sklearn.decomposition import PCA\n",
    "from sklearn.model_selection import train_test_split\n",
    "from sklearn.linear_model import LogisticRegressionCV\n",
    "\n",
    "# Uncomment these two lines if you are running these for the first time\n",
    "# as these sets of words need to be downloaded the first time\n",
    "# nltk.download('stopwords')\n",
    "# nltk.download('punkt')"
   ]
  },
  {
   "cell_type": "markdown",
   "metadata": {},
   "source": [
    "## Using File #3"
   ]
  },
  {
   "cell_type": "code",
   "execution_count": 96,
   "metadata": {},
   "outputs": [],
   "source": [
    "reviews_data = pd.read_json('reviews_electronics.json/reviews_electronics.3.json', lines=True)"
   ]
  },
  {
   "cell_type": "code",
   "execution_count": 97,
   "metadata": {},
   "outputs": [
    {
     "data": {
      "text/html": [
       "<div>\n",
       "<style scoped>\n",
       "    .dataframe tbody tr th:only-of-type {\n",
       "        vertical-align: middle;\n",
       "    }\n",
       "\n",
       "    .dataframe tbody tr th {\n",
       "        vertical-align: top;\n",
       "    }\n",
       "\n",
       "    .dataframe thead th {\n",
       "        text-align: right;\n",
       "    }\n",
       "</style>\n",
       "<table border=\"1\" class=\"dataframe\">\n",
       "  <thead>\n",
       "    <tr style=\"text-align: right;\">\n",
       "      <th></th>\n",
       "      <th>asin</th>\n",
       "      <th>helpful</th>\n",
       "      <th>overall</th>\n",
       "      <th>reviewText</th>\n",
       "      <th>reviewTime</th>\n",
       "      <th>reviewerID</th>\n",
       "      <th>reviewerName</th>\n",
       "      <th>summary</th>\n",
       "      <th>unixReviewTime</th>\n",
       "    </tr>\n",
       "  </thead>\n",
       "  <tbody>\n",
       "    <tr>\n",
       "      <th>0</th>\n",
       "      <td>0132793040</td>\n",
       "      <td>[1, 1]</td>\n",
       "      <td>5</td>\n",
       "      <td>Corey Barker does a great job of explaining Bl...</td>\n",
       "      <td>04 13, 2013</td>\n",
       "      <td>AKM1MP6P0OYPR</td>\n",
       "      <td>Vicki Gibson \"momo4\"</td>\n",
       "      <td>Very thorough</td>\n",
       "      <td>1365811200</td>\n",
       "    </tr>\n",
       "    <tr>\n",
       "      <th>1</th>\n",
       "      <td>B000HDU0Q4</td>\n",
       "      <td>[0, 0]</td>\n",
       "      <td>5</td>\n",
       "      <td>This adapter is perfect for machines without m...</td>\n",
       "      <td>06 9, 2014</td>\n",
       "      <td>A2GGBTOAGKO0VE</td>\n",
       "      <td>Randy Rodriguez</td>\n",
       "      <td>Perfect for machines without memory stick readers</td>\n",
       "      <td>1402272000</td>\n",
       "    </tr>\n",
       "    <tr>\n",
       "      <th>2</th>\n",
       "      <td>B000HDU0Q4</td>\n",
       "      <td>[0, 0]</td>\n",
       "      <td>5</td>\n",
       "      <td>Connect and immediately began to work.  Pictur...</td>\n",
       "      <td>05 30, 2012</td>\n",
       "      <td>A2OC5SYI7THCR6</td>\n",
       "      <td>Ricardo A. Vasquez \"Rialvaca\"</td>\n",
       "      <td>Easiest product to use</td>\n",
       "      <td>1338336000</td>\n",
       "    </tr>\n",
       "    <tr>\n",
       "      <th>3</th>\n",
       "      <td>B000HDU0Q4</td>\n",
       "      <td>[1, 1]</td>\n",
       "      <td>5</td>\n",
       "      <td>This card reader has been a good thing because...</td>\n",
       "      <td>10 12, 2008</td>\n",
       "      <td>ALWL0AJ94O8RJ</td>\n",
       "      <td>RJ</td>\n",
       "      <td>Portable</td>\n",
       "      <td>1223769600</td>\n",
       "    </tr>\n",
       "    <tr>\n",
       "      <th>4</th>\n",
       "      <td>B000HDU0Q4</td>\n",
       "      <td>[0, 5]</td>\n",
       "      <td>4</td>\n",
       "      <td>They shipped me the wrong product and untill I...</td>\n",
       "      <td>12 30, 2009</td>\n",
       "      <td>A1XTY9T4FYKT7S</td>\n",
       "      <td>Robert A. Heaston Jr.</td>\n",
       "      <td>Shipped wrong Product</td>\n",
       "      <td>1262131200</td>\n",
       "    </tr>\n",
       "  </tbody>\n",
       "</table>\n",
       "</div>"
      ],
      "text/plain": [
       "         asin helpful  overall  \\\n",
       "0  0132793040  [1, 1]        5   \n",
       "1  B000HDU0Q4  [0, 0]        5   \n",
       "2  B000HDU0Q4  [0, 0]        5   \n",
       "3  B000HDU0Q4  [1, 1]        5   \n",
       "4  B000HDU0Q4  [0, 5]        4   \n",
       "\n",
       "                                          reviewText   reviewTime  \\\n",
       "0  Corey Barker does a great job of explaining Bl...  04 13, 2013   \n",
       "1  This adapter is perfect for machines without m...   06 9, 2014   \n",
       "2  Connect and immediately began to work.  Pictur...  05 30, 2012   \n",
       "3  This card reader has been a good thing because...  10 12, 2008   \n",
       "4  They shipped me the wrong product and untill I...  12 30, 2009   \n",
       "\n",
       "       reviewerID                   reviewerName  \\\n",
       "0   AKM1MP6P0OYPR           Vicki Gibson \"momo4\"   \n",
       "1  A2GGBTOAGKO0VE                Randy Rodriguez   \n",
       "2  A2OC5SYI7THCR6  Ricardo A. Vasquez \"Rialvaca\"   \n",
       "3   ALWL0AJ94O8RJ                             RJ   \n",
       "4  A1XTY9T4FYKT7S          Robert A. Heaston Jr.   \n",
       "\n",
       "                                             summary  unixReviewTime  \n",
       "0                                      Very thorough      1365811200  \n",
       "1  Perfect for machines without memory stick readers      1402272000  \n",
       "2                             Easiest product to use      1338336000  \n",
       "3                                           Portable      1223769600  \n",
       "4                              Shipped wrong Product      1262131200  "
      ]
     },
     "execution_count": 97,
     "metadata": {},
     "output_type": "execute_result"
    }
   ],
   "source": [
    "reviews_data.head()"
   ]
  },
  {
   "cell_type": "code",
   "execution_count": 146,
   "metadata": {},
   "outputs": [
    {
     "name": "stdout",
     "output_type": "stream",
     "text": [
      "First few reviews:\n",
      "0    Corey Barker does a great job of explaining Bl...\n",
      "1    This adapter is perfect for machines without m...\n",
      "2    Connect and immediately began to work.  Pictur...\n",
      "3    This card reader has been a good thing because...\n",
      "Name: reviewText, dtype: object\n"
     ]
    }
   ],
   "source": [
    "reviews = reviews_data.reviewText\n",
    "\n",
    "# Prints the first few reviews\n",
    "print(\"First few reviews:\")\n",
    "print(reviews[:4])"
   ]
  },
  {
   "cell_type": "code",
   "execution_count": 147,
   "metadata": {},
   "outputs": [
    {
     "name": "stdout",
     "output_type": "stream",
     "text": [
      "Number of reviews: 500001 \n",
      "\n"
     ]
    }
   ],
   "source": [
    "# Prints total reviews\n",
    "print(\"Number of reviews:\", len(reviews), \"\\n\")"
   ]
  },
  {
   "cell_type": "code",
   "execution_count": 148,
   "metadata": {},
   "outputs": [
    {
     "name": "stdout",
     "output_type": "stream",
     "text": [
      "Prints full first few reviews:\n",
      "\n",
      "Corey Barker does a great job of explaining Blend Modes in this DVD. All of the Kelby training videos are great but pricey to buy individually. If you really want bang for your buck just subscribe to Kelby Training online. \n",
      "\n",
      "This adapter is perfect for machines without memory stick readers. I bought it for my dad, who has an imac and a sony digital cam. This adapter works perfectly in his imac and reads the sony memory stick flawlessly. \n",
      "\n",
      "Connect and immediately began to work.  Picture transfers were never easier. i recommended buying this product right now.  Works with Mac and PC. \n",
      "\n"
     ]
    }
   ],
   "source": [
    "print(\"Prints full first few reviews:\\n\")\n",
    "\n",
    "for review in reviews[:3]:\n",
    "    print(review, \"\\n\")"
   ]
  },
  {
   "cell_type": "code",
   "execution_count": 149,
   "metadata": {},
   "outputs": [
    {
     "name": "stdout",
     "output_type": "stream",
     "text": [
      "Prints full first few reviews after being converted to lowecase:\n",
      "\n",
      "corey barker does a great job of explaining blend modes in this dvd. all of the kelby training videos are great but pricey to buy individually. if you really want bang for your buck just subscribe to kelby training online. \n",
      "\n",
      "this adapter is perfect for machines without memory stick readers. i bought it for my dad, who has an imac and a sony digital cam. this adapter works perfectly in his imac and reads the sony memory stick flawlessly. \n",
      "\n",
      "connect and immediately began to work.  picture transfers were never easier. i recommended buying this product right now.  works with mac and pc. \n",
      "\n",
      "this card reader has been a good thing because it is small and easily portable.  this was the reason that i purchased it and it has works great.  recommend! \n",
      "\n",
      "they shipped me the wrong product and untill i shipped them the wrong one back they would not ship the right one \n",
      "\n"
     ]
    }
   ],
   "source": [
    "# Converts all reviews to lower case\n",
    "reviews = reviews.str.lower()\n",
    "\n",
    "print(\"Prints full first few reviews after being converted to lowecase:\\n\")\n",
    "\n",
    "for review in reviews[:5]:\n",
    "    print(review, \"\\n\")"
   ]
  },
  {
   "cell_type": "markdown",
   "metadata": {},
   "source": [
    "# Question 1"
   ]
  },
  {
   "cell_type": "code",
   "execution_count": 150,
   "metadata": {},
   "outputs": [],
   "source": [
    "def filter_review(review):\n",
    "    \n",
    "    # Removes punctuation marks except apostrophes\n",
    "    review = re.sub(\"[^a-zA-Z' ]+\", \"\", review)\n",
    "\n",
    "    stop_words = set(stopwords.words('english')) \n",
    "\n",
    "    # Tokenizes sentences in review\n",
    "    word_tokens = review.split()\n",
    "\n",
    "    filtered_review = [] \n",
    "\n",
    "    # Filters document and keeps words that are not stopwords\n",
    "    for w in word_tokens: \n",
    "        if w not in stop_words: \n",
    "            filtered_review.append(w) \n",
    "\n",
    "#     print(review, \"\\n\")\n",
    "#     print(filtered_review)\n",
    "    \n",
    "    return(filtered_review)\n"
   ]
  },
  {
   "cell_type": "code",
   "execution_count": 151,
   "metadata": {
    "scrolled": true
   },
   "outputs": [
    {
     "name": "stdout",
     "output_type": "stream",
     "text": [
      "[\"i've\", 'used', 'product', 'several', 'times', 'transfer', 'pics', 'sony', 'handycam', 'uses', 'dvd', 'video', 'memory', 'stick', 'pro', 'duo', 'card', 'pics', 'easy', 'use', 'problems', 'far', 'wish', 'cover', 'ends', 'reader', 'comes', 'one', 'clear', 'cover', 'fits', 'either', 'usb', 'end', 'card', 'insert', 'end', 'also', 'noticed', 'prices', 'vary', 'product', 'come', 'memory', 'stick', 'card', 'already', 'reader']\n"
     ]
    }
   ],
   "source": [
    "# Checks that the function above works\n",
    "print(filter_review(reviews[9]))"
   ]
  },
  {
   "cell_type": "code",
   "execution_count": 152,
   "metadata": {},
   "outputs": [],
   "source": [
    "# 1. Treat each review as a document. Ignore misspellings. Convert all reviews \n",
    "#    to lower case. Remove stop words (use package to do this).\n",
    "\n",
    "documents = []\n",
    "\n",
    "# Gets filtered review from each review and creates list of documents for results\n",
    "for review in reviews:\n",
    "    document = filter_review(review)\n",
    "    documents.append(document)\n"
   ]
  },
  {
   "cell_type": "code",
   "execution_count": 153,
   "metadata": {
    "scrolled": true
   },
   "outputs": [
    {
     "name": "stdout",
     "output_type": "stream",
     "text": [
      "Prints the first few documents:\n",
      "\n",
      "['corey', 'barker', 'great', 'job', 'explaining', 'blend', 'modes', 'dvd', 'kelby', 'training', 'videos', 'great', 'pricey', 'buy', 'individually', 'really', 'want', 'bang', 'buck', 'subscribe', 'kelby', 'training', 'online'] \n",
      "\n",
      "['adapter', 'perfect', 'machines', 'without', 'memory', 'stick', 'readers', 'bought', 'dad', 'imac', 'sony', 'digital', 'cam', 'adapter', 'works', 'perfectly', 'imac', 'reads', 'sony', 'memory', 'stick', 'flawlessly'] \n",
      "\n",
      "['connect', 'immediately', 'began', 'work', 'picture', 'transfers', 'never', 'easier', 'recommended', 'buying', 'product', 'right', 'works', 'mac', 'pc'] \n",
      "\n",
      "['card', 'reader', 'good', 'thing', 'small', 'easily', 'portable', 'reason', 'purchased', 'works', 'great', 'recommend'] \n",
      "\n",
      "['shipped', 'wrong', 'product', 'untill', 'shipped', 'wrong', 'one', 'back', 'would', 'ship', 'right', 'one'] \n",
      "\n"
     ]
    }
   ],
   "source": [
    "print(\"Prints the first few documents:\\n\")\n",
    "\n",
    "for document in documents[:5]:\n",
    "    print(document, \"\\n\")"
   ]
  },
  {
   "cell_type": "markdown",
   "metadata": {},
   "source": [
    "# Question 2"
   ]
  },
  {
   "cell_type": "code",
   "execution_count": 154,
   "metadata": {},
   "outputs": [],
   "source": [
    "# There are no reviews with the word \"not\" in them\n",
    "for document in documents:\n",
    "    for word in document:\n",
    "        if word == 'not':\n",
    "            print(word)\n",
    "            print(document, \"\\n\")"
   ]
  },
  {
   "cell_type": "code",
   "execution_count": 163,
   "metadata": {},
   "outputs": [
    {
     "name": "stdout",
     "output_type": "stream",
     "text": [
      "Before:\n",
      "['several', 'versions', 'sandisk', 'readers', 'one', 'got', 'memory', 'stick', 'pro', 'duo', 'looking', 'sandisk', 'micromate', 'sd', 'look', 'posts', 'simmilar', 'discription', 'one', 'says', 'sd', 'pro', 'duo', 'another', 'draw', 'back', 'item', 'sizeis', 'huge', 'inserted', 'covers', 'half', 'usb', 'slot', 'firewire', 'port', 'laptop']\n",
      "\n",
      "another is at index 23\n",
      "\n",
      "After:\n",
      "['several', 'versions', 'sandisk', 'readers', 'one', 'got', 'memory', 'stick', 'pro', 'duo', 'looking', 'sandisk', 'micromate', 'sd', 'look', 'posts', 'simmilar', 'discription', 'one', 'says', 'sd', 'pro', 'duo', 'not', 'draw', 'back', 'item', 'sizeis', 'huge', 'inserted', 'covers', 'half', 'usb', 'slot', 'firewire', 'port', 'laptop']\n"
     ]
    }
   ],
   "source": [
    "# Takes an example for adding the changing \"another\" for \"not\"\n",
    "# to be able to handle the \"not\" case later.\n",
    "# Uses copy() so underlying documents does not get affected.\n",
    "example_text = documents[5].copy()\n",
    "\n",
    "print(\"Before:\")\n",
    "print(example_text)\n",
    "\n",
    "# replacing word another for 'not'\n",
    "for word in example_text:\n",
    "    if word == 'another':\n",
    "        print(\"\\nanother is at index\", example_text.index('another'))\n",
    "        example_text[example_text.index('another')] = \"not\"\n",
    "\n",
    "print(\"\\nAfter:\")\n",
    "print(example_text)"
   ]
  },
  {
   "cell_type": "code",
   "execution_count": 164,
   "metadata": {},
   "outputs": [],
   "source": [
    "# There are still no reviews with the word \"not\" in them\n",
    "for document in documents:\n",
    "    for word in document:\n",
    "        if word == 'not':\n",
    "            print(word)\n",
    "            print(document, \"\\n\")"
   ]
  },
  {
   "cell_type": "markdown",
   "metadata": {},
   "source": [
    "## NOT Handler\n",
    "Handling 'not' cases"
   ]
  },
  {
   "cell_type": "code",
   "execution_count": 178,
   "metadata": {},
   "outputs": [
    {
     "name": "stdout",
     "output_type": "stream",
     "text": [
      "Before:\n",
      "Number of words 7\n",
      "['well', 'its', 'kinda', 'ok', 'but', 'not', 'ok'] \n",
      "\n",
      "'not' is at index 5 \n",
      "\n",
      "After:\n",
      "Number of words 6\n",
      "['well', 'its', 'kinda', 'ok', 'but', 'not_ok']\n"
     ]
    }
   ],
   "source": [
    "test_str = ['well', 'its', 'kinda', 'ok', 'but', 'not', 'ok']\n",
    "\n",
    "print(\"Before:\")\n",
    "print(\"Number of words\", len(test_str))\n",
    "print(test_str, \"\\n\")\n",
    "\n",
    "for word in test_str:\n",
    "    if word == 'not':\n",
    "        print(\"\\'not' is at index\", test_str.index('not'), \"\\n\")\n",
    "        \n",
    "        # Checks to see if there is a following word after 'not'\n",
    "        if (test_str.index('not') + 1) < len(test_str):\n",
    "            test_str[(test_str.index('not') + 1)] = 'not_' + test_str[(test_str.index('not') + 1)]\n",
    "            test_str.pop(test_str.index('not'))\n",
    "        else:\n",
    "            test_str.pop(test_str.index('not'))\n",
    "\n",
    "print(\"After:\")\n",
    "print(\"Number of words\", len(test_str))\n",
    "print(test_str)     "
   ]
  },
  {
   "cell_type": "code",
   "execution_count": 180,
   "metadata": {},
   "outputs": [
    {
     "name": "stdout",
     "output_type": "stream",
     "text": [
      "Before:\n",
      "Number of words 8\n",
      "['well', 'its', 'not', 'kinda', 'ok', 'but', 'not', 'ok'] \n",
      "\n",
      "'not' is at index 2 \n",
      "\n",
      "'not' is at index 5 \n",
      "\n",
      "After:\n",
      "Number of words 6\n",
      "['well', 'its', 'not_kinda', 'ok', 'but', 'not_ok']\n"
     ]
    }
   ],
   "source": [
    "test_str = ['well', 'its', 'not', 'kinda', 'ok', 'but', 'not', 'ok']\n",
    "\n",
    "print(\"Before:\")\n",
    "print(\"Number of words\", len(test_str))\n",
    "print(test_str, \"\\n\")\n",
    "\n",
    "for word in test_str:\n",
    "    if word == 'not':\n",
    "        print(\"\\'not' is at index\", test_str.index('not'), \"\\n\")\n",
    "        \n",
    "        # Checks to see if there is a following word after 'not'\n",
    "        if (test_str.index('not') + 1) < len(test_str):\n",
    "            if test_str[(test_str.index('not') + 1)] != 'not':\n",
    "                test_str[(test_str.index('not') + 1)] = 'not_' + test_str[(test_str.index('not') + 1)]\n",
    "                test_str.pop(test_str.index('not'))\n",
    "            else:\n",
    "                test_str.pop(test_str.index('not'))\n",
    "                test_str.pop(test_str.index('not'))\n",
    "        else:\n",
    "            test_str.pop(test_str.index('not'))\n",
    "\n",
    "\n",
    "print(\"After:\")\n",
    "print(\"Number of words\", len(test_str))\n",
    "print(test_str)     "
   ]
  },
  {
   "cell_type": "code",
   "execution_count": 265,
   "metadata": {},
   "outputs": [
    {
     "name": "stdout",
     "output_type": "stream",
     "text": [
      "Before:\n",
      "Number of words 11\n",
      "['well', 'its', 'not', 'kinda', 'ok', 'but', 'ok', 'not', 'not', 'not', 'not'] \n",
      "\n",
      "After:\n",
      "Number of words 6\n",
      "['well', 'its', 'not_kinda', 'ok', 'but', 'ok']\n"
     ]
    }
   ],
   "source": [
    "test_str = ['well', 'its', 'not', 'kinda', 'ok', 'but', 'ok', 'not', 'not', 'not', 'not']\n",
    "\n",
    "print(\"Before:\")\n",
    "print(\"Number of words\", len(test_str))\n",
    "print(test_str, \"\\n\")\n",
    "\n",
    "i = 0\n",
    "while i < len(test_str):\n",
    "    if test_str[i] == 'not':\n",
    "#         print(\"\\'not' is at index\", test_str.index('not'), ', i=', i, \"\\n\")\n",
    "        \n",
    "        # Checks to see if there is a following word after 'not'\n",
    "        if (test_str.index('not') + 1) < len(test_str):\n",
    "            if test_str[(test_str.index('not') + 1)] != 'not':\n",
    "                test_str[(test_str.index('not') + 1)] = 'not_' + test_str[(test_str.index('not') + 1)]\n",
    "                test_str.pop(test_str.index('not'))\n",
    "            else:\n",
    "                while (i+1 < len(test_str)) & (test_str[i]=='not'):\n",
    "                    test_str.pop(test_str.index('not'))\n",
    "                    i-=1\n",
    "        else:\n",
    "            test_str.pop(test_str.index('not'))\n",
    "    i+=1\n",
    "\n",
    "print(\"After:\")\n",
    "print(\"Number of words\", len(test_str))\n",
    "print(test_str)     "
   ]
  },
  {
   "cell_type": "code",
   "execution_count": 307,
   "metadata": {},
   "outputs": [],
   "source": [
    "def not_handler(document):\n",
    "\n",
    "    i = 0\n",
    "    while i < len(document):\n",
    "        if document[i] == 'not':\n",
    "            # Checks to see if there is a following word after 'not'\n",
    "            if (document.index('not') + 1) < len(document):\n",
    "                if document[(document.index('not') + 1)] != 'not':\n",
    "                    document[(document.index('not') + 1)] = 'not_' + document[(document.index('not') + 1)]\n",
    "                    document.pop(document.index('not'))\n",
    "                else:\n",
    "                    while (i+1 < len(document)) & (document[i]=='not'):\n",
    "                        document.pop(document.index('not'))\n",
    "                        i-=1\n",
    "            else:\n",
    "                document.pop(document.index('not'))\n",
    "        i+=1\n",
    "\n",
    "    return(document)"
   ]
  },
  {
   "cell_type": "code",
   "execution_count": 269,
   "metadata": {},
   "outputs": [
    {
     "data": {
      "text/plain": [
       "['well', 'its', 'not_kinda', 'ok', 'but', 'ok']"
      ]
     },
     "execution_count": 269,
     "metadata": {},
     "output_type": "execute_result"
    }
   ],
   "source": [
    "test_str = ['well', 'its', 'not', 'kinda', 'ok', 'but', 'ok', 'not', 'not', 'not', 'not']\n",
    "\n",
    "not_handler(test_str)"
   ]
  },
  {
   "cell_type": "markdown",
   "metadata": {},
   "source": [
    "## N'T Handler\n",
    "Handling n't cases (e.g., don't, didn't etc.)"
   ]
  },
  {
   "cell_type": "code",
   "execution_count": 294,
   "metadata": {},
   "outputs": [
    {
     "name": "stdout",
     "output_type": "stream",
     "text": [
      "Before:\n",
      "Number of words 12\n",
      "['its', 'kinda', 'ok', 'i', \"don't\", 'know', 'if', 'we', \"won't\", 'be', 'ok', \"weren't\"] \n",
      "\n",
      "After:\n",
      "Number of words 9\n",
      "['its', 'kinda', 'ok', 'i', 'not_know', 'if', 'we', 'not_be', 'ok']\n"
     ]
    }
   ],
   "source": [
    "test_str = ['its', 'kinda', 'ok', 'i', \"don't\", \"know\", \"if\", \"we\", \"won't\", \"be\", 'ok', \"weren't\"]\n",
    "\n",
    "print(\"Before:\")\n",
    "print(\"Number of words\", len(test_str))\n",
    "print(test_str, \"\\n\")\n",
    "\n",
    "i = 0\n",
    "while i < len(test_str):\n",
    "    if \"'\" in test_str[i]:        \n",
    "        # Checks to see if there is a following word after word ending in \"n't\"\n",
    "        if (i+1) < len(test_str):\n",
    "            test_str[i+1] = 'not_' + test_str[i+1]\n",
    "            test_str.pop(i)\n",
    "        else:\n",
    "            test_str.pop(i)\n",
    "    i+=1\n",
    "\n",
    "print(\"After:\")\n",
    "print(\"Number of words\", len(test_str))\n",
    "print(test_str)     "
   ]
  },
  {
   "cell_type": "code",
   "execution_count": 304,
   "metadata": {},
   "outputs": [],
   "source": [
    "def n_apostrophe_t_handler(document):\n",
    "\n",
    "    i = 0\n",
    "    while i < len(document):\n",
    "        if \"'\" in document[i]:        \n",
    "            # Checks to see if there is a following word after word ending in \"n't\"\n",
    "            if (i+1) < len(document):\n",
    "                document[i+1] = 'not_' + document[i+1]\n",
    "                document.pop(i)\n",
    "            else:\n",
    "                document.pop(i)\n",
    "        i+=1\n",
    "\n",
    "    return(document)"
   ]
  },
  {
   "cell_type": "code",
   "execution_count": 305,
   "metadata": {},
   "outputs": [
    {
     "data": {
      "text/plain": [
       "['its', 'kinda', 'ok', 'i', 'not_know', 'if', 'we', 'not_be', 'ok']"
      ]
     },
     "execution_count": 305,
     "metadata": {},
     "output_type": "execute_result"
    }
   ],
   "source": [
    "test_str = ['its', 'kinda', 'ok', 'i', \"don't\", \"know\", \"if\", \"we\", \"won't\", \"be\", 'ok', \"weren't\"]\n",
    "\n",
    "n_apostrophe_t_handler(test_str)"
   ]
  },
  {
   "cell_type": "markdown",
   "metadata": {},
   "source": [
    "## Combining the functions"
   ]
  },
  {
   "cell_type": "code",
   "execution_count": 320,
   "metadata": {},
   "outputs": [],
   "source": [
    "# 2. Handle negation: Look for the following two negations: \"not\" and \"xxxn't\" \n",
    "#    (e.g., don't, didn't etc.). Split off the \"n't\" part from \"xxxn't\" into \n",
    "#    separate words \"xxx\" and \"not\". Attach all 'not's (any normal \"not\" \n",
    "#    appearing in the text as well as the \"n't\" converted to \"not\") to the\n",
    "#    subsequent word, eg \"not_nextword\" (code this yourself).\n",
    "\n",
    "\n",
    "def negation_handler(document):\n",
    "\n",
    "    i = 0\n",
    "    while i < len(document):\n",
    "\n",
    "        # Checks for not case\n",
    "        if document[i] == 'not':\n",
    "            # Checks to see if there is a following word after 'not'\n",
    "            if (document.index('not') + 1) < len(document):\n",
    "                if document[(document.index('not') + 1)] != 'not':\n",
    "                    document[(document.index('not') + 1)] = 'not_' + document[(document.index('not') + 1)]\n",
    "                    document.pop(document.index('not'))\n",
    "                else:\n",
    "                    while (i+1 < len(document)) & (document[i]=='not'):\n",
    "                        document.pop(document.index('not'))\n",
    "                        i-=1\n",
    "            else:\n",
    "                document.pop(document.index('not'))\n",
    "                i-=1\n",
    "\n",
    "        # Checks for word ending in \"n't\" case\n",
    "        if \"'\" in document[i]:   \n",
    "            # Checks to see if there is a following word after word ending in \"n't\"\n",
    "            if (i+1) < len(document):\n",
    "                document[i+1] = 'not_' + document[i+1]\n",
    "                document.pop(i)\n",
    "            else:\n",
    "                document.pop(i)\n",
    "        i+=1\n",
    "\n",
    "    return(document)"
   ]
  },
  {
   "cell_type": "code",
   "execution_count": 321,
   "metadata": {},
   "outputs": [
    {
     "data": {
      "text/plain": [
       "['its', 'kinda', 'ok', 'i', 'not_know', 'if', 'we', 'not_be', 'ok']"
      ]
     },
     "execution_count": 321,
     "metadata": {},
     "output_type": "execute_result"
    }
   ],
   "source": [
    "test_str1 = ['its', 'kinda', 'ok', 'i', \"don't\", \"know\", \"if\", \"we\", \"won't\", \"be\", 'ok', \"weren't\"]\n",
    "negation_handler(test_str1)\n"
   ]
  },
  {
   "cell_type": "code",
   "execution_count": 322,
   "metadata": {},
   "outputs": [
    {
     "data": {
      "text/plain": [
       "['well', 'its', 'not_kinda', 'ok', 'but', 'ok']"
      ]
     },
     "execution_count": 322,
     "metadata": {},
     "output_type": "execute_result"
    }
   ],
   "source": [
    "test_str2 = ['well', 'its', 'not', 'kinda', 'ok', 'but', 'ok', 'not', 'not', 'not', 'not']\n",
    "negation_handler(test_str2)\n"
   ]
  },
  {
   "cell_type": "code",
   "execution_count": 323,
   "metadata": {},
   "outputs": [
    {
     "data": {
      "text/plain": [
       "['well',\n",
       " 'its',\n",
       " 'not_kinda',\n",
       " 'ok',\n",
       " 'but',\n",
       " 'ok',\n",
       " 'not_i',\n",
       " 'not_know',\n",
       " 'if',\n",
       " 'we',\n",
       " 'not_be',\n",
       " 'ok']"
      ]
     },
     "execution_count": 323,
     "metadata": {},
     "output_type": "execute_result"
    }
   ],
   "source": [
    "test_str3 = ['well', 'its', 'not', 'kinda', 'ok', 'but', 'ok', 'not', 'not', 'not', 'not',\n",
    "             'i', \"don't\", \"know\", \"if\", \"we\", \"won't\", \"be\", 'ok', \"weren't\"]\n",
    "negation_handler(test_str3)"
   ]
  },
  {
   "cell_type": "code",
   "execution_count": 347,
   "metadata": {},
   "outputs": [],
   "source": [
    "negated_documents = []\n",
    "\n",
    "# Handles negations\n",
    "for document in documents:\n",
    "    negated_document = negation_handler(document)\n",
    "    negated_documents.append(negated_document)\n"
   ]
  },
  {
   "cell_type": "markdown",
   "metadata": {},
   "source": [
    "# Question 3"
   ]
  },
  {
   "cell_type": "code",
   "execution_count": 327,
   "metadata": {},
   "outputs": [
    {
     "name": "stdout",
     "output_type": "stream",
     "text": [
      "Porter Stemmer\n",
      "cat\n",
      "troubl\n",
      "troubl\n"
     ]
    }
   ],
   "source": [
    "porter = PorterStemmer()\n",
    "\n",
    "# provide a word to be stemmed\n",
    "print(\"Porter Stemmer\")\n",
    "print(porter.stem(\"cats\"))\n",
    "print(porter.stem(\"trouble\"))\n",
    "print(porter.stem(\"troubling\"))"
   ]
  },
  {
   "cell_type": "code",
   "execution_count": 328,
   "metadata": {},
   "outputs": [
    {
     "data": {
      "text/plain": [
       "['its', 'kinda', 'ok', 'i', 'not_know', 'if', 'we', 'not_be', 'ok']"
      ]
     },
     "execution_count": 328,
     "metadata": {},
     "output_type": "execute_result"
    }
   ],
   "source": [
    "test_str"
   ]
  },
  {
   "cell_type": "code",
   "execution_count": 329,
   "metadata": {},
   "outputs": [
    {
     "name": "stdout",
     "output_type": "stream",
     "text": [
      "its becomes it\n",
      "kinda becomes kinda\n",
      "ok becomes ok\n",
      "i becomes i\n",
      "not_know becomes not_know\n",
      "if becomes if\n",
      "we becomes we\n",
      "not_be becomes not_b\n",
      "ok becomes ok\n"
     ]
    }
   ],
   "source": [
    "for word in test_str:\n",
    "    print(word, \"becomes\", porter.stem(word))"
   ]
  },
  {
   "cell_type": "code",
   "execution_count": 332,
   "metadata": {},
   "outputs": [
    {
     "name": "stdout",
     "output_type": "stream",
     "text": [
      "['several', 'versions', 'sandisk', 'readers', 'one', 'got', 'memory', 'stick', 'pro', 'duo', 'looking', 'sandisk', 'micromate', 'sd', 'look', 'posts', 'simmilar', 'discription', 'one', 'says', 'sd', 'pro', 'duo', 'not', 'draw', 'back', 'item', 'sizeis', 'huge', 'inserted', 'covers', 'half', 'usb', 'slot', 'firewire', 'port', 'laptop']\n"
     ]
    }
   ],
   "source": [
    "print(example_text)"
   ]
  },
  {
   "cell_type": "code",
   "execution_count": 333,
   "metadata": {
    "collapsed": true
   },
   "outputs": [
    {
     "name": "stdout",
     "output_type": "stream",
     "text": [
      "several becomes sever\n",
      "versions becomes version\n",
      "sandisk becomes sandisk\n",
      "readers becomes reader\n",
      "one becomes one\n",
      "got becomes got\n",
      "memory becomes memori\n",
      "stick becomes stick\n",
      "pro becomes pro\n",
      "duo becomes duo\n",
      "looking becomes look\n",
      "sandisk becomes sandisk\n",
      "micromate becomes microm\n",
      "sd becomes sd\n",
      "look becomes look\n",
      "posts becomes post\n",
      "simmilar becomes simmilar\n",
      "discription becomes discript\n",
      "one becomes one\n",
      "says becomes say\n",
      "sd becomes sd\n",
      "pro becomes pro\n",
      "duo becomes duo\n",
      "not becomes not\n",
      "draw becomes draw\n",
      "back becomes back\n",
      "item becomes item\n",
      "sizeis becomes sizei\n",
      "huge becomes huge\n",
      "inserted becomes insert\n",
      "covers becomes cover\n",
      "half becomes half\n",
      "usb becomes usb\n",
      "slot becomes slot\n",
      "firewire becomes firewir\n",
      "port becomes port\n",
      "laptop becomes laptop\n"
     ]
    }
   ],
   "source": [
    "for word in example_text:\n",
    "    print(word, \"becomes\", porter.stem(word))"
   ]
  },
  {
   "cell_type": "code",
   "execution_count": 337,
   "metadata": {},
   "outputs": [],
   "source": [
    "# 3. Stem all words using Porter 1979 (use package to do this).\n",
    "\n",
    "def porter_stemmer(document):\n",
    "    stemmed_documents = []\n",
    "    for word in document:\n",
    "        stemmed_documents.append(porter.stem(word))\n",
    "    return(stemmed_documents)\n"
   ]
  },
  {
   "cell_type": "code",
   "execution_count": 346,
   "metadata": {
    "scrolled": true
   },
   "outputs": [
    {
     "name": "stdout",
     "output_type": "stream",
     "text": [
      "['corey', 'barker', 'great', 'job', 'explaining', 'blend', 'modes', 'dvd', 'kelby', 'training', 'videos', 'great', 'pricey', 'buy', 'individually', 'really', 'want', 'bang', 'buck', 'subscribe', 'kelby', 'training', 'online'] \n",
      "\n",
      " ['corey', 'barker', 'great', 'job', 'explain', 'blend', 'mode', 'dvd', 'kelbi', 'train', 'video', 'great', 'pricey', 'buy', 'individu', 'realli', 'want', 'bang', 'buck', 'subscrib', 'kelbi', 'train', 'onlin'] \n",
      "\n",
      "\n",
      "['adapter', 'perfect', 'machines', 'without', 'memory', 'stick', 'readers', 'bought', 'dad', 'imac', 'sony', 'digital', 'cam', 'adapter', 'works', 'perfectly', 'imac', 'reads', 'sony', 'memory', 'stick', 'flawlessly'] \n",
      "\n",
      " ['adapt', 'perfect', 'machin', 'without', 'memori', 'stick', 'reader', 'bought', 'dad', 'imac', 'soni', 'digit', 'cam', 'adapt', 'work', 'perfectli', 'imac', 'read', 'soni', 'memori', 'stick', 'flawlessli'] \n",
      "\n",
      "\n",
      "['connect', 'immediately', 'began', 'work', 'picture', 'transfers', 'never', 'easier', 'recommended', 'buying', 'product', 'right', 'works', 'mac', 'pc'] \n",
      "\n",
      " ['connect', 'immedi', 'began', 'work', 'pictur', 'transfer', 'never', 'easier', 'recommend', 'buy', 'product', 'right', 'work', 'mac', 'pc'] \n",
      "\n",
      "\n",
      "['card', 'reader', 'good', 'thing', 'small', 'easily', 'portable', 'reason', 'purchased', 'works', 'great', 'recommend'] \n",
      "\n",
      " ['card', 'reader', 'good', 'thing', 'small', 'easili', 'portabl', 'reason', 'purchas', 'work', 'great', 'recommend'] \n",
      "\n",
      "\n"
     ]
    }
   ],
   "source": [
    "# Testing the function\n",
    "\n",
    "for document in documents[:4]:\n",
    "    print(document, \"\\n\\n\", porter_stemmer(document), \"\\n\\n\")"
   ]
  },
  {
   "cell_type": "code",
   "execution_count": 358,
   "metadata": {},
   "outputs": [],
   "source": [
    "stemmed_documents = []\n",
    "\n",
    "# Stems negated documents\n",
    "for document in negated_documents:\n",
    "    stemmed_document = porter_stemmer(document)\n",
    "    stemmed_documents.append(stemmed_document)\n"
   ]
  },
  {
   "cell_type": "code",
   "execution_count": 360,
   "metadata": {},
   "outputs": [
    {
     "data": {
      "text/plain": [
       "['sever',\n",
       " 'version',\n",
       " 'sandisk',\n",
       " 'reader',\n",
       " 'one',\n",
       " 'got',\n",
       " 'memori',\n",
       " 'stick',\n",
       " 'pro',\n",
       " 'duo',\n",
       " 'look',\n",
       " 'sandisk',\n",
       " 'microm',\n",
       " 'sd',\n",
       " 'look',\n",
       " 'post',\n",
       " 'simmilar',\n",
       " 'discript',\n",
       " 'one',\n",
       " 'say',\n",
       " 'sd',\n",
       " 'pro',\n",
       " 'duo',\n",
       " 'anoth',\n",
       " 'draw',\n",
       " 'back',\n",
       " 'item',\n",
       " 'sizei',\n",
       " 'huge',\n",
       " 'insert',\n",
       " 'cover',\n",
       " 'half',\n",
       " 'usb',\n",
       " 'slot',\n",
       " 'firewir',\n",
       " 'port',\n",
       " 'laptop']"
      ]
     },
     "execution_count": 360,
     "metadata": {},
     "output_type": "execute_result"
    }
   ],
   "source": [
    "stemmed_documents[5]"
   ]
  },
  {
   "cell_type": "markdown",
   "metadata": {},
   "source": [
    "# Question 4"
   ]
  },
  {
   "cell_type": "code",
   "execution_count": 374,
   "metadata": {
    "scrolled": false
   },
   "outputs": [
    {
     "name": "stdout",
     "output_type": "stream",
     "text": [
      "['corey' 'barker' 'great' 'job' 'explain' 'blend' 'mode' 'dvd' 'kelbi'\n",
      " 'train' 'video' 'great' 'pricey' 'buy' 'individu' 'realli' 'want' 'bang'\n",
      " 'buck' 'subscrib' 'kelbi' 'train' 'onlin' 'adapt' 'perfect' 'machin'\n",
      " 'without' 'memori' 'stick' 'reader' 'bought' 'dad' 'imac' 'soni' 'digit'\n",
      " 'cam' 'adapt' 'work' 'perfectli' 'imac' 'read' 'soni' 'memori' 'stick'\n",
      " 'flawlessli' 'connect' 'immedi' 'began' 'work' 'pictur' 'transfer'\n",
      " 'never' 'easier' 'recommend' 'buy' 'product' 'right' 'work' 'mac' 'pc'\n",
      " 'card' 'reader' 'good' 'thing' 'small' 'easili' 'portabl' 'reason'\n",
      " 'purchas' 'work' 'great' 'recommend' 'ship' 'wrong' 'product' 'until'\n",
      " 'ship' 'wrong' 'one' 'back' 'would' 'ship' 'right' 'one']\n"
     ]
    }
   ],
   "source": [
    "# Makes a single array from all the sub-arrays (aka documents)\n",
    "# Uses only the first 5 documents\n",
    "np.hstack(stemmed_documents[:5])"
   ]
  },
  {
   "cell_type": "code",
   "execution_count": 391,
   "metadata": {
    "scrolled": true
   },
   "outputs": [
    {
     "data": {
      "text/html": [
       "<div>\n",
       "<style scoped>\n",
       "    .dataframe tbody tr th:only-of-type {\n",
       "        vertical-align: middle;\n",
       "    }\n",
       "\n",
       "    .dataframe tbody tr th {\n",
       "        vertical-align: top;\n",
       "    }\n",
       "\n",
       "    .dataframe thead th {\n",
       "        text-align: right;\n",
       "    }\n",
       "</style>\n",
       "<table border=\"1\" class=\"dataframe\">\n",
       "  <thead>\n",
       "    <tr style=\"text-align: right;\">\n",
       "      <th></th>\n",
       "      <th>count</th>\n",
       "    </tr>\n",
       "  </thead>\n",
       "  <tbody>\n",
       "    <tr>\n",
       "      <th>work</th>\n",
       "      <td>4</td>\n",
       "    </tr>\n",
       "    <tr>\n",
       "      <th>ship</th>\n",
       "      <td>3</td>\n",
       "    </tr>\n",
       "    <tr>\n",
       "      <th>great</th>\n",
       "      <td>3</td>\n",
       "    </tr>\n",
       "    <tr>\n",
       "      <th>stick</th>\n",
       "      <td>2</td>\n",
       "    </tr>\n",
       "    <tr>\n",
       "      <th>reader</th>\n",
       "      <td>2</td>\n",
       "    </tr>\n",
       "    <tr>\n",
       "      <th>product</th>\n",
       "      <td>2</td>\n",
       "    </tr>\n",
       "    <tr>\n",
       "      <th>memori</th>\n",
       "      <td>2</td>\n",
       "    </tr>\n",
       "    <tr>\n",
       "      <th>soni</th>\n",
       "      <td>2</td>\n",
       "    </tr>\n",
       "    <tr>\n",
       "      <th>buy</th>\n",
       "      <td>2</td>\n",
       "    </tr>\n",
       "    <tr>\n",
       "      <th>right</th>\n",
       "      <td>2</td>\n",
       "    </tr>\n",
       "    <tr>\n",
       "      <th>kelbi</th>\n",
       "      <td>2</td>\n",
       "    </tr>\n",
       "    <tr>\n",
       "      <th>train</th>\n",
       "      <td>2</td>\n",
       "    </tr>\n",
       "    <tr>\n",
       "      <th>wrong</th>\n",
       "      <td>2</td>\n",
       "    </tr>\n",
       "    <tr>\n",
       "      <th>imac</th>\n",
       "      <td>2</td>\n",
       "    </tr>\n",
       "    <tr>\n",
       "      <th>adapt</th>\n",
       "      <td>2</td>\n",
       "    </tr>\n",
       "    <tr>\n",
       "      <th>recommend</th>\n",
       "      <td>2</td>\n",
       "    </tr>\n",
       "    <tr>\n",
       "      <th>one</th>\n",
       "      <td>2</td>\n",
       "    </tr>\n",
       "    <tr>\n",
       "      <th>small</th>\n",
       "      <td>1</td>\n",
       "    </tr>\n",
       "    <tr>\n",
       "      <th>blend</th>\n",
       "      <td>1</td>\n",
       "    </tr>\n",
       "    <tr>\n",
       "      <th>mode</th>\n",
       "      <td>1</td>\n",
       "    </tr>\n",
       "    <tr>\n",
       "      <th>good</th>\n",
       "      <td>1</td>\n",
       "    </tr>\n",
       "    <tr>\n",
       "      <th>machin</th>\n",
       "      <td>1</td>\n",
       "    </tr>\n",
       "    <tr>\n",
       "      <th>bought</th>\n",
       "      <td>1</td>\n",
       "    </tr>\n",
       "    <tr>\n",
       "      <th>explain</th>\n",
       "      <td>1</td>\n",
       "    </tr>\n",
       "    <tr>\n",
       "      <th>back</th>\n",
       "      <td>1</td>\n",
       "    </tr>\n",
       "    <tr>\n",
       "      <th>read</th>\n",
       "      <td>1</td>\n",
       "    </tr>\n",
       "    <tr>\n",
       "      <th>dvd</th>\n",
       "      <td>1</td>\n",
       "    </tr>\n",
       "    <tr>\n",
       "      <th>dad</th>\n",
       "      <td>1</td>\n",
       "    </tr>\n",
       "    <tr>\n",
       "      <th>bang</th>\n",
       "      <td>1</td>\n",
       "    </tr>\n",
       "    <tr>\n",
       "      <th>began</th>\n",
       "      <td>1</td>\n",
       "    </tr>\n",
       "    <tr>\n",
       "      <th>...</th>\n",
       "      <td>...</td>\n",
       "    </tr>\n",
       "    <tr>\n",
       "      <th>until</th>\n",
       "      <td>1</td>\n",
       "    </tr>\n",
       "    <tr>\n",
       "      <th>individu</th>\n",
       "      <td>1</td>\n",
       "    </tr>\n",
       "    <tr>\n",
       "      <th>mac</th>\n",
       "      <td>1</td>\n",
       "    </tr>\n",
       "    <tr>\n",
       "      <th>digit</th>\n",
       "      <td>1</td>\n",
       "    </tr>\n",
       "    <tr>\n",
       "      <th>reason</th>\n",
       "      <td>1</td>\n",
       "    </tr>\n",
       "    <tr>\n",
       "      <th>purchas</th>\n",
       "      <td>1</td>\n",
       "    </tr>\n",
       "    <tr>\n",
       "      <th>card</th>\n",
       "      <td>1</td>\n",
       "    </tr>\n",
       "    <tr>\n",
       "      <th>easier</th>\n",
       "      <td>1</td>\n",
       "    </tr>\n",
       "    <tr>\n",
       "      <th>pricey</th>\n",
       "      <td>1</td>\n",
       "    </tr>\n",
       "    <tr>\n",
       "      <th>corey</th>\n",
       "      <td>1</td>\n",
       "    </tr>\n",
       "    <tr>\n",
       "      <th>perfect</th>\n",
       "      <td>1</td>\n",
       "    </tr>\n",
       "    <tr>\n",
       "      <th>subscrib</th>\n",
       "      <td>1</td>\n",
       "    </tr>\n",
       "    <tr>\n",
       "      <th>video</th>\n",
       "      <td>1</td>\n",
       "    </tr>\n",
       "    <tr>\n",
       "      <th>connect</th>\n",
       "      <td>1</td>\n",
       "    </tr>\n",
       "    <tr>\n",
       "      <th>perfectli</th>\n",
       "      <td>1</td>\n",
       "    </tr>\n",
       "    <tr>\n",
       "      <th>immedi</th>\n",
       "      <td>1</td>\n",
       "    </tr>\n",
       "    <tr>\n",
       "      <th>barker</th>\n",
       "      <td>1</td>\n",
       "    </tr>\n",
       "    <tr>\n",
       "      <th>easili</th>\n",
       "      <td>1</td>\n",
       "    </tr>\n",
       "    <tr>\n",
       "      <th>job</th>\n",
       "      <td>1</td>\n",
       "    </tr>\n",
       "    <tr>\n",
       "      <th>transfer</th>\n",
       "      <td>1</td>\n",
       "    </tr>\n",
       "    <tr>\n",
       "      <th>portabl</th>\n",
       "      <td>1</td>\n",
       "    </tr>\n",
       "    <tr>\n",
       "      <th>would</th>\n",
       "      <td>1</td>\n",
       "    </tr>\n",
       "    <tr>\n",
       "      <th>buck</th>\n",
       "      <td>1</td>\n",
       "    </tr>\n",
       "    <tr>\n",
       "      <th>realli</th>\n",
       "      <td>1</td>\n",
       "    </tr>\n",
       "    <tr>\n",
       "      <th>pc</th>\n",
       "      <td>1</td>\n",
       "    </tr>\n",
       "    <tr>\n",
       "      <th>never</th>\n",
       "      <td>1</td>\n",
       "    </tr>\n",
       "    <tr>\n",
       "      <th>pictur</th>\n",
       "      <td>1</td>\n",
       "    </tr>\n",
       "    <tr>\n",
       "      <th>without</th>\n",
       "      <td>1</td>\n",
       "    </tr>\n",
       "    <tr>\n",
       "      <th>want</th>\n",
       "      <td>1</td>\n",
       "    </tr>\n",
       "    <tr>\n",
       "      <th>flawlessli</th>\n",
       "      <td>1</td>\n",
       "    </tr>\n",
       "  </tbody>\n",
       "</table>\n",
       "<p>63 rows × 1 columns</p>\n",
       "</div>"
      ],
      "text/plain": [
       "            count\n",
       "work            4\n",
       "ship            3\n",
       "great           3\n",
       "stick           2\n",
       "reader          2\n",
       "product         2\n",
       "memori          2\n",
       "soni            2\n",
       "buy             2\n",
       "right           2\n",
       "kelbi           2\n",
       "train           2\n",
       "wrong           2\n",
       "imac            2\n",
       "adapt           2\n",
       "recommend       2\n",
       "one             2\n",
       "small           1\n",
       "blend           1\n",
       "mode            1\n",
       "good            1\n",
       "machin          1\n",
       "bought          1\n",
       "explain         1\n",
       "back            1\n",
       "read            1\n",
       "dvd             1\n",
       "dad             1\n",
       "bang            1\n",
       "began           1\n",
       "...           ...\n",
       "until           1\n",
       "individu        1\n",
       "mac             1\n",
       "digit           1\n",
       "reason          1\n",
       "purchas         1\n",
       "card            1\n",
       "easier          1\n",
       "pricey          1\n",
       "corey           1\n",
       "perfect         1\n",
       "subscrib        1\n",
       "video           1\n",
       "connect         1\n",
       "perfectli       1\n",
       "immedi          1\n",
       "barker          1\n",
       "easili          1\n",
       "job             1\n",
       "transfer        1\n",
       "portabl         1\n",
       "would           1\n",
       "buck            1\n",
       "realli          1\n",
       "pc              1\n",
       "never           1\n",
       "pictur          1\n",
       "without         1\n",
       "want            1\n",
       "flawlessli      1\n",
       "\n",
       "[63 rows x 1 columns]"
      ]
     },
     "execution_count": 391,
     "metadata": {},
     "output_type": "execute_result"
    }
   ],
   "source": [
    "# Casts to pandas Series and creates the frequency count for word stems in reviews\n",
    "# Uses only the first 5 documents\n",
    "pd.DataFrame(pd.Series(np.hstack(stemmed_documents[:5])).value_counts(), columns=[\"count\"])"
   ]
  },
  {
   "cell_type": "code",
   "execution_count": 392,
   "metadata": {},
   "outputs": [],
   "source": [
    "# 4. Create frequency count table for all word stems in all reviews (this will be big). \n",
    "#    Use the most frequent 500 words to define the word vector. Create a bag-of-word \n",
    "#    vector representation for each review in electronics.\n",
    "\n",
    "frequency_count = pd.DataFrame(pd.Series(np.hstack(stemmed_documents)).value_counts(), columns=[\"count\"])\n",
    "frequency_count = frequency_count.reset_index()\n",
    "frequency_count = frequency_count.rename({\"index\": \"word\"}, axis=1)\n"
   ]
  },
  {
   "cell_type": "code",
   "execution_count": 401,
   "metadata": {
    "scrolled": false
   },
   "outputs": [
    {
     "data": {
      "text/html": [
       "<div>\n",
       "<style scoped>\n",
       "    .dataframe tbody tr th:only-of-type {\n",
       "        vertical-align: middle;\n",
       "    }\n",
       "\n",
       "    .dataframe tbody tr th {\n",
       "        vertical-align: top;\n",
       "    }\n",
       "\n",
       "    .dataframe thead th {\n",
       "        text-align: right;\n",
       "    }\n",
       "</style>\n",
       "<table border=\"1\" class=\"dataframe\">\n",
       "  <thead>\n",
       "    <tr style=\"text-align: right;\">\n",
       "      <th></th>\n",
       "      <th>word</th>\n",
       "      <th>count</th>\n",
       "    </tr>\n",
       "  </thead>\n",
       "  <tbody>\n",
       "    <tr>\n",
       "      <th>0</th>\n",
       "      <td>use</td>\n",
       "      <td>293705</td>\n",
       "    </tr>\n",
       "    <tr>\n",
       "      <th>1</th>\n",
       "      <td>work</td>\n",
       "      <td>251152</td>\n",
       "    </tr>\n",
       "    <tr>\n",
       "      <th>2</th>\n",
       "      <td>one</td>\n",
       "      <td>195244</td>\n",
       "    </tr>\n",
       "    <tr>\n",
       "      <th>3</th>\n",
       "      <td>great</td>\n",
       "      <td>182476</td>\n",
       "    </tr>\n",
       "    <tr>\n",
       "      <th>4</th>\n",
       "      <td>get</td>\n",
       "      <td>149235</td>\n",
       "    </tr>\n",
       "  </tbody>\n",
       "</table>\n",
       "</div>"
      ],
      "text/plain": [
       "    word   count\n",
       "0    use  293705\n",
       "1   work  251152\n",
       "2    one  195244\n",
       "3  great  182476\n",
       "4    get  149235"
      ]
     },
     "execution_count": 401,
     "metadata": {},
     "output_type": "execute_result"
    }
   ],
   "source": [
    "frequency_count.head()"
   ]
  },
  {
   "cell_type": "code",
   "execution_count": 467,
   "metadata": {},
   "outputs": [
    {
     "name": "stdout",
     "output_type": "stream",
     "text": [
      "Word vector has 500 words\n"
     ]
    },
    {
     "data": {
      "text/html": [
       "<div>\n",
       "<style scoped>\n",
       "    .dataframe tbody tr th:only-of-type {\n",
       "        vertical-align: middle;\n",
       "    }\n",
       "\n",
       "    .dataframe tbody tr th {\n",
       "        vertical-align: top;\n",
       "    }\n",
       "\n",
       "    .dataframe thead th {\n",
       "        text-align: right;\n",
       "    }\n",
       "</style>\n",
       "<table border=\"1\" class=\"dataframe\">\n",
       "  <thead>\n",
       "    <tr style=\"text-align: right;\">\n",
       "      <th></th>\n",
       "      <th>word</th>\n",
       "      <th>count</th>\n",
       "    </tr>\n",
       "  </thead>\n",
       "  <tbody>\n",
       "    <tr>\n",
       "      <th>0</th>\n",
       "      <td>use</td>\n",
       "      <td>293705</td>\n",
       "    </tr>\n",
       "    <tr>\n",
       "      <th>1</th>\n",
       "      <td>work</td>\n",
       "      <td>251152</td>\n",
       "    </tr>\n",
       "    <tr>\n",
       "      <th>2</th>\n",
       "      <td>one</td>\n",
       "      <td>195244</td>\n",
       "    </tr>\n",
       "    <tr>\n",
       "      <th>3</th>\n",
       "      <td>great</td>\n",
       "      <td>182476</td>\n",
       "    </tr>\n",
       "    <tr>\n",
       "      <th>4</th>\n",
       "      <td>get</td>\n",
       "      <td>149235</td>\n",
       "    </tr>\n",
       "  </tbody>\n",
       "</table>\n",
       "</div>"
      ],
      "text/plain": [
       "    word   count\n",
       "0    use  293705\n",
       "1   work  251152\n",
       "2    one  195244\n",
       "3  great  182476\n",
       "4    get  149235"
      ]
     },
     "execution_count": 467,
     "metadata": {},
     "output_type": "execute_result"
    }
   ],
   "source": [
    "# Uses the most frequent 500 words to define the word vector\n",
    "word_vector = frequency_count.head(500)\n",
    "\n",
    "print(\"Word vector has\", word_vector.shape[0], \"words\")\n",
    "\n",
    "word_vector.head()"
   ]
  },
  {
   "cell_type": "code",
   "execution_count": 480,
   "metadata": {
    "scrolled": true
   },
   "outputs": [
    {
     "name": "stdout",
     "output_type": "stream",
     "text": [
      "['use', 'work', 'one', 'great', 'get', 'good', 'would', 'like', 'product', 'sound']\n"
     ]
    }
   ],
   "source": [
    "# Uses the most frequent 500 words to define the word vector (vocabulary)\n",
    "# and previous the first 10 words in the vocabulary\n",
    "vocabulary = word_vector.word.tolist()\n",
    "print(vocabulary[:10])"
   ]
  },
  {
   "cell_type": "code",
   "execution_count": 474,
   "metadata": {
    "scrolled": true
   },
   "outputs": [],
   "source": [
    "def get_bag_of_words(document, vocabulary):\n",
    "    bag_of_words = {}\n",
    "\n",
    "    for word in vocabulary:\n",
    "        bag_of_words[word] = 0\n",
    "\n",
    "        if word in document:\n",
    "            bag_of_words[word] = 1\n",
    "\n",
    "    return bag_of_words"
   ]
  },
  {
   "cell_type": "markdown",
   "metadata": {},
   "source": [
    "- [cat, sat, hat]\n",
    "    - the cats sat=[1,1,0]"
   ]
  },
  {
   "cell_type": "code",
   "execution_count": 477,
   "metadata": {
    "scrolled": true
   },
   "outputs": [
    {
     "name": "stdout",
     "output_type": "stream",
     "text": [
      "{'use': 0, 'work': 0, 'one': 0, 'great': 1, 'get': 0, 'good': 0, 'would': 0, 'like': 0, 'product': 0, 'sound': 0, 'camera': 0, 'time': 0, 'well': 0, 'need': 0, 'price': 0, 'qualiti': 0, 'look': 0, 'bought': 0, 'buy': 1, 'cabl': 0, 'purchas': 0, 'also': 0, 'want': 1, 'problem': 0, 'even': 0, 'much': 0, 'realli': 1, 'tv': 0, 'make': 0, 'easi': 0, 'set': 0, 'batteri': 0, 'speaker': 0, 'pictur': 0, 'go': 0, 'unit': 0, 'littl': 0, 'better': 0, 'card': 0, 'drive': 0, 'thing': 0, 'take': 0, 'comput': 0, 'back': 0, 'case': 0, 'recommend': 0, 'got': 0, 'year': 0, 'player': 0, 'new': 0, 'tri': 0, 'could': 0, 'still': 0, 'review': 0, 'nice': 0, 'first': 0, 'fit': 0, 'power': 0, 'two': 0, 'love': 0, 'come': 0, 'plug': 0, 'connect': 0, 'ipod': 0, 'video': 1, 'instal': 0, 'mount': 0, 'way': 0, 'screen': 0, 'devic': 0, 'say': 0, 'day': 0, 'small': 0, 'replac': 0, 'seem': 0, 'right': 0, 'laptop': 0, 'best': 0, 'lot': 0, 'turn': 0, 'find': 0, 'light': 0, 'system': 0, 'without': 0, 'receiv': 0, 'put': 0, 'think': 0, 'usb': 0, 'headphon': 0, 'anoth': 0, 'music': 0, 'differ': 0, 'play': 0, 'month': 0, 'amazon': 0, 'sinc': 0, 'around': 0, 'know': 0, 'featur': 0, 'order': 0, 'see': 0, 'fine': 0, 'old': 0, 'long': 0, 'enough': 0, 'item': 0, 'charg': 0, 'hard': 0, 'far': 0, 'len': 0, 'mous': 0, 'run': 0, 'mani': 0, 'bit': 0, 'expect': 0, 'made': 0, 'issu': 0, 'never': 0, 'money': 0, 'read': 0, 'size': 0, 'keep': 0, 'last': 0, 'howev': 0, 'button': 0, 'dvd': 1, 'softwar': 0, 'give': 0, 'perfect': 0, 'phone': 0, 'found': 0, 'record': 0, 'someth': 0, 'abl': 0, 'came': 0, 'ear': 0, 'pretti': 0, 'gb': 0, 'box': 0, 'though': 0, 'excel': 0, 'high': 0, 'hold': 0, 'soni': 0, 'radio': 0, 'control': 0, 'adapt': 0, 'feel': 0, 'end': 0, 'cord': 0, 'big': 0, 'return': 0, 'remot': 0, 'start': 0, 'sure': 0, 'room': 0, 'worth': 0, 'home': 0, 'digit': 0, 'car': 0, 'ship': 0, 'bag': 0, 'everyth': 0, 'wire': 0, 'second': 0, 'week': 0, 'includ': 0, 'hour': 0, 'everi': 0, 'may': 0, 'listen': 0, 'hd': 0, 'audio': 0, 'actual': 0, 'less': 0, 'place': 0, 'side': 0, 'design': 0, 'cheap': 0, 'window': 0, 'happi': 0, 'memori': 0, 'help': 0, 'gp': 0, 'photo': 0, 'bad': 0, 'quit': 0, 'volum': 0, 'support': 0, 'mp': 0, 'reason': 0, 'switch': 0, 'model': 0, 'store': 0, 'took': 0, 'peopl': 0, 'star': 0, 'fast': 0, 'move': 0, 'easili': 0, 'sever': 0, 'file': 0, 'low': 0, 'keyboard': 0, 'nois': 0, 'function': 0, 'clear': 0, 'port': 0, 'perfectli': 0, 'imag': 0, 'pc': 0, 'flash': 0, 'bass': 0, 'thought': 0, 'point': 0, 'charger': 0, 'away': 0, 'color': 0, 'cost': 0, 'call': 0, 'extra': 0, 'allow': 0, 'highli': 0, 'said': 0, 'chang': 0, 'anyth': 0, 'watch': 0, 'definit': 0, 'alway': 0, 'movi': 0, 'pair': 0, 'perform': 0, 'servic': 0, 'show': 0, 'brand': 0, 'part': 0, 'almost': 0, 'went': 0, 'minut': 0, 'wall': 0, 'adjust': 0, 'comfort': 0, 'anyon': 0, 'open': 0, 'deal': 0, 'protect': 0, 'carri': 0, 'top': 0, 'coupl': 0, 'canon': 0, 'yet': 0, 'monitor': 0, 'hdmi': 0, 'x': 0, 'job': 1, 'pay': 0, 'provid': 0, 'pleas': 0, 'compar': 0, 'simpl': 0, 'speed': 0, 'signal': 0, 'expens': 0, 'custom': 0, 'might': 0, 'cover': 0, 'decid': 0, 'probabl': 0, 'option': 0, 'wireless': 0, 'save': 0, 'hear': 0, 'hand': 0, 'ago': 0, 'hook': 0, 'ever': 0, 'notic': 0, 'sd': 0, 'larg': 0, 'full': 0, 'amaz': 0, 'stop': 0, 'noth': 0, 'packag': 0, 'plastic': 0, 'etc': 0, 'channel': 0, 'display': 0, 'origin': 0, 'type': 0, 'overal': 0, 'space': 0, 'arriv': 0, 'hope': 0, 'three': 0, 'life': 0, 'cd': 0, 'either': 0, 'game': 0, 'complet': 0, 'line': 0, 'not_us': 0, 'piec': 0, 'setup': 0, 'must': 0, 'left': 0, 'rate': 0, 'exactli': 0, 'live': 0, 'updat': 0, 'disappoint': 0, 'close': 0, 'upgrad': 0, 'mm': 0, 'attach': 0, 'mode': 1, 'especi': 0, 'next': 0, 'other': 0, 'manual': 0, 'stay': 0, 'instead': 0, 'fan': 0, 'view': 0, 'base': 0, 'longer': 0, 'lcd': 0, 'fact': 0, 'although': 0, 'program': 0, 'remov': 0, 'let': 0, 'requir': 0, 'wish': 0, 'rang': 0, 'least': 0, 'level': 0, 'final': 0, 'tell': 0, 'complaint': 0, 'pocket': 0, 'shot': 0, 'quickli': 0, 'experi': 0, 'shoot': 0, 'short': 0, 'black': 0, 'user': 0, 'garmin': 0, 'front': 0, 'extrem': 0, 'download': 0, 'head': 0, 'travel': 0, 'mine': 0, 'plu': 0, 'instruct': 0, 'compani': 0, 'inch': 0, 'els': 0, 'test': 0, 'touch': 0, 'standard': 0, 'care': 0, 'free': 0, 'key': 0, 'spend': 0, 'consid': 0, 'station': 0, 'mean': 0, 'samsung': 0, 'mac': 0, 'alreadi': 0, 'stereo': 0, 'transfer': 0, 'hous': 0, 'cool': 0, 'version': 0, 'frame': 0, 'mayb': 0, 'antenna': 0, 'pro': 0, 'drop': 0, 'avail': 0, 'thank': 0, 'sometim': 0, 'pad': 0, 'input': 0, 'portabl': 0, 'zoom': 0, 'cannot': 0, 'figur': 0, 'trip': 0, 'direct': 0, 'wrong': 0, 'bright': 0, 'ok': 0, 'addit': 0, 'fix': 0, 'awesom': 0, 'pick': 0, 'song': 0, 'load': 0, 'appl': 0, 'heavi': 0, 'built': 0, 'gener': 0, 'driver': 0, 'person': 0, 'valu': 0, 'insid': 0, 'screw': 0, 'wonder': 0, 'friend': 0, 'decent': 0, 'real': 0, 'data': 0, 'simpli': 0, 'clean': 0, 'impress': 0, 'zune': 0, 'add': 0, 'number': 0, 'connector': 0, 'gave': 0, 'machin': 0, 'extern': 0, 'within': 0, 'stand': 0, 'leav': 0, 'area': 0, 'loud': 0, 'us': 0, 'posit': 0, 'kind': 0, 'clip': 0, 'fail': 0, 'offer': 0, 'bose': 0, 'basic': 0, 'solid': 0, 'map': 0, 'paid': 0, 'earbud': 0, 'advertis': 0, 'router': 0, 'headset': 0, 'check': 0, 'quick': 0, 'oper': 0, 'wait': 0, 'send': 0, 'due': 0, 'happen': 0, 'note': 0, 'warranti': 0, 'done': 0, 'access': 0, 'nikon': 0, 'result': 0, 'format': 0, 'sit': 0, 'bottom': 0, 'half': 0, 'handl': 0, 'except': 0, 'recent': 0, 'weight': 0, 'p': 0, 'center': 0, 'suppli': 0, 'enjoy': 0, 'absolut': 0, 'appear': 0, 'older': 0, 'ask': 0, 'guess': 0, 'kit': 0, 'rather': 0, 'secur': 0, 'unless': 0, 'sturdi': 0, 'tripod': 0, 'dock': 0, 'stick': 0, 'total': 0, 'sent': 0, 'suppos': 0, 'research': 0, 'mention': 0, 'media': 0, 'improv': 0, 'disc': 0, 'smaller': 0, 'later': 0, 'pack': 0, 'caus': 0, 'internet': 0, 'fall': 0, 'someon': 0} \n",
      "\n",
      "{'use': 0, 'work': 1, 'one': 0, 'great': 0, 'get': 0, 'good': 0, 'would': 0, 'like': 0, 'product': 0, 'sound': 0, 'camera': 0, 'time': 0, 'well': 0, 'need': 0, 'price': 0, 'qualiti': 0, 'look': 0, 'bought': 1, 'buy': 0, 'cabl': 0, 'purchas': 0, 'also': 0, 'want': 0, 'problem': 0, 'even': 0, 'much': 0, 'realli': 0, 'tv': 0, 'make': 0, 'easi': 0, 'set': 0, 'batteri': 0, 'speaker': 0, 'pictur': 0, 'go': 0, 'unit': 0, 'littl': 0, 'better': 0, 'card': 0, 'drive': 0, 'thing': 0, 'take': 0, 'comput': 0, 'back': 0, 'case': 0, 'recommend': 0, 'got': 0, 'year': 0, 'player': 0, 'new': 0, 'tri': 0, 'could': 0, 'still': 0, 'review': 0, 'nice': 0, 'first': 0, 'fit': 0, 'power': 0, 'two': 0, 'love': 0, 'come': 0, 'plug': 0, 'connect': 0, 'ipod': 0, 'video': 0, 'instal': 0, 'mount': 0, 'way': 0, 'screen': 0, 'devic': 0, 'say': 0, 'day': 0, 'small': 0, 'replac': 0, 'seem': 0, 'right': 0, 'laptop': 0, 'best': 0, 'lot': 0, 'turn': 0, 'find': 0, 'light': 0, 'system': 0, 'without': 1, 'receiv': 0, 'put': 0, 'think': 0, 'usb': 0, 'headphon': 0, 'anoth': 0, 'music': 0, 'differ': 0, 'play': 0, 'month': 0, 'amazon': 0, 'sinc': 0, 'around': 0, 'know': 0, 'featur': 0, 'order': 0, 'see': 0, 'fine': 0, 'old': 0, 'long': 0, 'enough': 0, 'item': 0, 'charg': 0, 'hard': 0, 'far': 0, 'len': 0, 'mous': 0, 'run': 0, 'mani': 0, 'bit': 0, 'expect': 0, 'made': 0, 'issu': 0, 'never': 0, 'money': 0, 'read': 1, 'size': 0, 'keep': 0, 'last': 0, 'howev': 0, 'button': 0, 'dvd': 0, 'softwar': 0, 'give': 0, 'perfect': 1, 'phone': 0, 'found': 0, 'record': 0, 'someth': 0, 'abl': 0, 'came': 0, 'ear': 0, 'pretti': 0, 'gb': 0, 'box': 0, 'though': 0, 'excel': 0, 'high': 0, 'hold': 0, 'soni': 1, 'radio': 0, 'control': 0, 'adapt': 1, 'feel': 0, 'end': 0, 'cord': 0, 'big': 0, 'return': 0, 'remot': 0, 'start': 0, 'sure': 0, 'room': 0, 'worth': 0, 'home': 0, 'digit': 1, 'car': 0, 'ship': 0, 'bag': 0, 'everyth': 0, 'wire': 0, 'second': 0, 'week': 0, 'includ': 0, 'hour': 0, 'everi': 0, 'may': 0, 'listen': 0, 'hd': 0, 'audio': 0, 'actual': 0, 'less': 0, 'place': 0, 'side': 0, 'design': 0, 'cheap': 0, 'window': 0, 'happi': 0, 'memori': 1, 'help': 0, 'gp': 0, 'photo': 0, 'bad': 0, 'quit': 0, 'volum': 0, 'support': 0, 'mp': 0, 'reason': 0, 'switch': 0, 'model': 0, 'store': 0, 'took': 0, 'peopl': 0, 'star': 0, 'fast': 0, 'move': 0, 'easili': 0, 'sever': 0, 'file': 0, 'low': 0, 'keyboard': 0, 'nois': 0, 'function': 0, 'clear': 0, 'port': 0, 'perfectli': 1, 'imag': 0, 'pc': 0, 'flash': 0, 'bass': 0, 'thought': 0, 'point': 0, 'charger': 0, 'away': 0, 'color': 0, 'cost': 0, 'call': 0, 'extra': 0, 'allow': 0, 'highli': 0, 'said': 0, 'chang': 0, 'anyth': 0, 'watch': 0, 'definit': 0, 'alway': 0, 'movi': 0, 'pair': 0, 'perform': 0, 'servic': 0, 'show': 0, 'brand': 0, 'part': 0, 'almost': 0, 'went': 0, 'minut': 0, 'wall': 0, 'adjust': 0, 'comfort': 0, 'anyon': 0, 'open': 0, 'deal': 0, 'protect': 0, 'carri': 0, 'top': 0, 'coupl': 0, 'canon': 0, 'yet': 0, 'monitor': 0, 'hdmi': 0, 'x': 0, 'job': 0, 'pay': 0, 'provid': 0, 'pleas': 0, 'compar': 0, 'simpl': 0, 'speed': 0, 'signal': 0, 'expens': 0, 'custom': 0, 'might': 0, 'cover': 0, 'decid': 0, 'probabl': 0, 'option': 0, 'wireless': 0, 'save': 0, 'hear': 0, 'hand': 0, 'ago': 0, 'hook': 0, 'ever': 0, 'notic': 0, 'sd': 0, 'larg': 0, 'full': 0, 'amaz': 0, 'stop': 0, 'noth': 0, 'packag': 0, 'plastic': 0, 'etc': 0, 'channel': 0, 'display': 0, 'origin': 0, 'type': 0, 'overal': 0, 'space': 0, 'arriv': 0, 'hope': 0, 'three': 0, 'life': 0, 'cd': 0, 'either': 0, 'game': 0, 'complet': 0, 'line': 0, 'not_us': 0, 'piec': 0, 'setup': 0, 'must': 0, 'left': 0, 'rate': 0, 'exactli': 0, 'live': 0, 'updat': 0, 'disappoint': 0, 'close': 0, 'upgrad': 0, 'mm': 0, 'attach': 0, 'mode': 0, 'especi': 0, 'next': 0, 'other': 0, 'manual': 0, 'stay': 0, 'instead': 0, 'fan': 0, 'view': 0, 'base': 0, 'longer': 0, 'lcd': 0, 'fact': 0, 'although': 0, 'program': 0, 'remov': 0, 'let': 0, 'requir': 0, 'wish': 0, 'rang': 0, 'least': 0, 'level': 0, 'final': 0, 'tell': 0, 'complaint': 0, 'pocket': 0, 'shot': 0, 'quickli': 0, 'experi': 0, 'shoot': 0, 'short': 0, 'black': 0, 'user': 0, 'garmin': 0, 'front': 0, 'extrem': 0, 'download': 0, 'head': 0, 'travel': 0, 'mine': 0, 'plu': 0, 'instruct': 0, 'compani': 0, 'inch': 0, 'els': 0, 'test': 0, 'touch': 0, 'standard': 0, 'care': 0, 'free': 0, 'key': 0, 'spend': 0, 'consid': 0, 'station': 0, 'mean': 0, 'samsung': 0, 'mac': 0, 'alreadi': 0, 'stereo': 0, 'transfer': 0, 'hous': 0, 'cool': 0, 'version': 0, 'frame': 0, 'mayb': 0, 'antenna': 0, 'pro': 0, 'drop': 0, 'avail': 0, 'thank': 0, 'sometim': 0, 'pad': 0, 'input': 0, 'portabl': 0, 'zoom': 0, 'cannot': 0, 'figur': 0, 'trip': 0, 'direct': 0, 'wrong': 0, 'bright': 0, 'ok': 0, 'addit': 0, 'fix': 0, 'awesom': 0, 'pick': 0, 'song': 0, 'load': 0, 'appl': 0, 'heavi': 0, 'built': 0, 'gener': 0, 'driver': 0, 'person': 0, 'valu': 0, 'insid': 0, 'screw': 0, 'wonder': 0, 'friend': 0, 'decent': 0, 'real': 0, 'data': 0, 'simpli': 0, 'clean': 0, 'impress': 0, 'zune': 0, 'add': 0, 'number': 0, 'connector': 0, 'gave': 0, 'machin': 1, 'extern': 0, 'within': 0, 'stand': 0, 'leav': 0, 'area': 0, 'loud': 0, 'us': 0, 'posit': 0, 'kind': 0, 'clip': 0, 'fail': 0, 'offer': 0, 'bose': 0, 'basic': 0, 'solid': 0, 'map': 0, 'paid': 0, 'earbud': 0, 'advertis': 0, 'router': 0, 'headset': 0, 'check': 0, 'quick': 0, 'oper': 0, 'wait': 0, 'send': 0, 'due': 0, 'happen': 0, 'note': 0, 'warranti': 0, 'done': 0, 'access': 0, 'nikon': 0, 'result': 0, 'format': 0, 'sit': 0, 'bottom': 0, 'half': 0, 'handl': 0, 'except': 0, 'recent': 0, 'weight': 0, 'p': 0, 'center': 0, 'suppli': 0, 'enjoy': 0, 'absolut': 0, 'appear': 0, 'older': 0, 'ask': 0, 'guess': 0, 'kit': 0, 'rather': 0, 'secur': 0, 'unless': 0, 'sturdi': 0, 'tripod': 0, 'dock': 0, 'stick': 1, 'total': 0, 'sent': 0, 'suppos': 0, 'research': 0, 'mention': 0, 'media': 0, 'improv': 0, 'disc': 0, 'smaller': 0, 'later': 0, 'pack': 0, 'caus': 0, 'internet': 0, 'fall': 0, 'someon': 0} \n",
      "\n",
      "{'use': 0, 'work': 1, 'one': 0, 'great': 0, 'get': 0, 'good': 0, 'would': 0, 'like': 0, 'product': 1, 'sound': 0, 'camera': 0, 'time': 0, 'well': 0, 'need': 0, 'price': 0, 'qualiti': 0, 'look': 0, 'bought': 0, 'buy': 1, 'cabl': 0, 'purchas': 0, 'also': 0, 'want': 0, 'problem': 0, 'even': 0, 'much': 0, 'realli': 0, 'tv': 0, 'make': 0, 'easi': 0, 'set': 0, 'batteri': 0, 'speaker': 0, 'pictur': 1, 'go': 0, 'unit': 0, 'littl': 0, 'better': 0, 'card': 0, 'drive': 0, 'thing': 0, 'take': 0, 'comput': 0, 'back': 0, 'case': 0, 'recommend': 1, 'got': 0, 'year': 0, 'player': 0, 'new': 0, 'tri': 0, 'could': 0, 'still': 0, 'review': 0, 'nice': 0, 'first': 0, 'fit': 0, 'power': 0, 'two': 0, 'love': 0, 'come': 0, 'plug': 0, 'connect': 1, 'ipod': 0, 'video': 0, 'instal': 0, 'mount': 0, 'way': 0, 'screen': 0, 'devic': 0, 'say': 0, 'day': 0, 'small': 0, 'replac': 0, 'seem': 0, 'right': 1, 'laptop': 0, 'best': 0, 'lot': 0, 'turn': 0, 'find': 0, 'light': 0, 'system': 0, 'without': 0, 'receiv': 0, 'put': 0, 'think': 0, 'usb': 0, 'headphon': 0, 'anoth': 0, 'music': 0, 'differ': 0, 'play': 0, 'month': 0, 'amazon': 0, 'sinc': 0, 'around': 0, 'know': 0, 'featur': 0, 'order': 0, 'see': 0, 'fine': 0, 'old': 0, 'long': 0, 'enough': 0, 'item': 0, 'charg': 0, 'hard': 0, 'far': 0, 'len': 0, 'mous': 0, 'run': 0, 'mani': 0, 'bit': 0, 'expect': 0, 'made': 0, 'issu': 0, 'never': 1, 'money': 0, 'read': 0, 'size': 0, 'keep': 0, 'last': 0, 'howev': 0, 'button': 0, 'dvd': 0, 'softwar': 0, 'give': 0, 'perfect': 0, 'phone': 0, 'found': 0, 'record': 0, 'someth': 0, 'abl': 0, 'came': 0, 'ear': 0, 'pretti': 0, 'gb': 0, 'box': 0, 'though': 0, 'excel': 0, 'high': 0, 'hold': 0, 'soni': 0, 'radio': 0, 'control': 0, 'adapt': 0, 'feel': 0, 'end': 0, 'cord': 0, 'big': 0, 'return': 0, 'remot': 0, 'start': 0, 'sure': 0, 'room': 0, 'worth': 0, 'home': 0, 'digit': 0, 'car': 0, 'ship': 0, 'bag': 0, 'everyth': 0, 'wire': 0, 'second': 0, 'week': 0, 'includ': 0, 'hour': 0, 'everi': 0, 'may': 0, 'listen': 0, 'hd': 0, 'audio': 0, 'actual': 0, 'less': 0, 'place': 0, 'side': 0, 'design': 0, 'cheap': 0, 'window': 0, 'happi': 0, 'memori': 0, 'help': 0, 'gp': 0, 'photo': 0, 'bad': 0, 'quit': 0, 'volum': 0, 'support': 0, 'mp': 0, 'reason': 0, 'switch': 0, 'model': 0, 'store': 0, 'took': 0, 'peopl': 0, 'star': 0, 'fast': 0, 'move': 0, 'easili': 0, 'sever': 0, 'file': 0, 'low': 0, 'keyboard': 0, 'nois': 0, 'function': 0, 'clear': 0, 'port': 0, 'perfectli': 0, 'imag': 0, 'pc': 1, 'flash': 0, 'bass': 0, 'thought': 0, 'point': 0, 'charger': 0, 'away': 0, 'color': 0, 'cost': 0, 'call': 0, 'extra': 0, 'allow': 0, 'highli': 0, 'said': 0, 'chang': 0, 'anyth': 0, 'watch': 0, 'definit': 0, 'alway': 0, 'movi': 0, 'pair': 0, 'perform': 0, 'servic': 0, 'show': 0, 'brand': 0, 'part': 0, 'almost': 0, 'went': 0, 'minut': 0, 'wall': 0, 'adjust': 0, 'comfort': 0, 'anyon': 0, 'open': 0, 'deal': 0, 'protect': 0, 'carri': 0, 'top': 0, 'coupl': 0, 'canon': 0, 'yet': 0, 'monitor': 0, 'hdmi': 0, 'x': 0, 'job': 0, 'pay': 0, 'provid': 0, 'pleas': 0, 'compar': 0, 'simpl': 0, 'speed': 0, 'signal': 0, 'expens': 0, 'custom': 0, 'might': 0, 'cover': 0, 'decid': 0, 'probabl': 0, 'option': 0, 'wireless': 0, 'save': 0, 'hear': 0, 'hand': 0, 'ago': 0, 'hook': 0, 'ever': 0, 'notic': 0, 'sd': 0, 'larg': 0, 'full': 0, 'amaz': 0, 'stop': 0, 'noth': 0, 'packag': 0, 'plastic': 0, 'etc': 0, 'channel': 0, 'display': 0, 'origin': 0, 'type': 0, 'overal': 0, 'space': 0, 'arriv': 0, 'hope': 0, 'three': 0, 'life': 0, 'cd': 0, 'either': 0, 'game': 0, 'complet': 0, 'line': 0, 'not_us': 0, 'piec': 0, 'setup': 0, 'must': 0, 'left': 0, 'rate': 0, 'exactli': 0, 'live': 0, 'updat': 0, 'disappoint': 0, 'close': 0, 'upgrad': 0, 'mm': 0, 'attach': 0, 'mode': 0, 'especi': 0, 'next': 0, 'other': 0, 'manual': 0, 'stay': 0, 'instead': 0, 'fan': 0, 'view': 0, 'base': 0, 'longer': 0, 'lcd': 0, 'fact': 0, 'although': 0, 'program': 0, 'remov': 0, 'let': 0, 'requir': 0, 'wish': 0, 'rang': 0, 'least': 0, 'level': 0, 'final': 0, 'tell': 0, 'complaint': 0, 'pocket': 0, 'shot': 0, 'quickli': 0, 'experi': 0, 'shoot': 0, 'short': 0, 'black': 0, 'user': 0, 'garmin': 0, 'front': 0, 'extrem': 0, 'download': 0, 'head': 0, 'travel': 0, 'mine': 0, 'plu': 0, 'instruct': 0, 'compani': 0, 'inch': 0, 'els': 0, 'test': 0, 'touch': 0, 'standard': 0, 'care': 0, 'free': 0, 'key': 0, 'spend': 0, 'consid': 0, 'station': 0, 'mean': 0, 'samsung': 0, 'mac': 1, 'alreadi': 0, 'stereo': 0, 'transfer': 1, 'hous': 0, 'cool': 0, 'version': 0, 'frame': 0, 'mayb': 0, 'antenna': 0, 'pro': 0, 'drop': 0, 'avail': 0, 'thank': 0, 'sometim': 0, 'pad': 0, 'input': 0, 'portabl': 0, 'zoom': 0, 'cannot': 0, 'figur': 0, 'trip': 0, 'direct': 0, 'wrong': 0, 'bright': 0, 'ok': 0, 'addit': 0, 'fix': 0, 'awesom': 0, 'pick': 0, 'song': 0, 'load': 0, 'appl': 0, 'heavi': 0, 'built': 0, 'gener': 0, 'driver': 0, 'person': 0, 'valu': 0, 'insid': 0, 'screw': 0, 'wonder': 0, 'friend': 0, 'decent': 0, 'real': 0, 'data': 0, 'simpli': 0, 'clean': 0, 'impress': 0, 'zune': 0, 'add': 0, 'number': 0, 'connector': 0, 'gave': 0, 'machin': 0, 'extern': 0, 'within': 0, 'stand': 0, 'leav': 0, 'area': 0, 'loud': 0, 'us': 0, 'posit': 0, 'kind': 0, 'clip': 0, 'fail': 0, 'offer': 0, 'bose': 0, 'basic': 0, 'solid': 0, 'map': 0, 'paid': 0, 'earbud': 0, 'advertis': 0, 'router': 0, 'headset': 0, 'check': 0, 'quick': 0, 'oper': 0, 'wait': 0, 'send': 0, 'due': 0, 'happen': 0, 'note': 0, 'warranti': 0, 'done': 0, 'access': 0, 'nikon': 0, 'result': 0, 'format': 0, 'sit': 0, 'bottom': 0, 'half': 0, 'handl': 0, 'except': 0, 'recent': 0, 'weight': 0, 'p': 0, 'center': 0, 'suppli': 0, 'enjoy': 0, 'absolut': 0, 'appear': 0, 'older': 0, 'ask': 0, 'guess': 0, 'kit': 0, 'rather': 0, 'secur': 0, 'unless': 0, 'sturdi': 0, 'tripod': 0, 'dock': 0, 'stick': 0, 'total': 0, 'sent': 0, 'suppos': 0, 'research': 0, 'mention': 0, 'media': 0, 'improv': 0, 'disc': 0, 'smaller': 0, 'later': 0, 'pack': 0, 'caus': 0, 'internet': 0, 'fall': 0, 'someon': 0} \n",
      "\n",
      "{'use': 0, 'work': 1, 'one': 0, 'great': 1, 'get': 0, 'good': 1, 'would': 0, 'like': 0, 'product': 0, 'sound': 0, 'camera': 0, 'time': 0, 'well': 0, 'need': 0, 'price': 0, 'qualiti': 0, 'look': 0, 'bought': 0, 'buy': 0, 'cabl': 0, 'purchas': 1, 'also': 0, 'want': 0, 'problem': 0, 'even': 0, 'much': 0, 'realli': 0, 'tv': 0, 'make': 0, 'easi': 0, 'set': 0, 'batteri': 0, 'speaker': 0, 'pictur': 0, 'go': 0, 'unit': 0, 'littl': 0, 'better': 0, 'card': 1, 'drive': 0, 'thing': 1, 'take': 0, 'comput': 0, 'back': 0, 'case': 0, 'recommend': 1, 'got': 0, 'year': 0, 'player': 0, 'new': 0, 'tri': 0, 'could': 0, 'still': 0, 'review': 0, 'nice': 0, 'first': 0, 'fit': 0, 'power': 0, 'two': 0, 'love': 0, 'come': 0, 'plug': 0, 'connect': 0, 'ipod': 0, 'video': 0, 'instal': 0, 'mount': 0, 'way': 0, 'screen': 0, 'devic': 0, 'say': 0, 'day': 0, 'small': 1, 'replac': 0, 'seem': 0, 'right': 0, 'laptop': 0, 'best': 0, 'lot': 0, 'turn': 0, 'find': 0, 'light': 0, 'system': 0, 'without': 0, 'receiv': 0, 'put': 0, 'think': 0, 'usb': 0, 'headphon': 0, 'anoth': 0, 'music': 0, 'differ': 0, 'play': 0, 'month': 0, 'amazon': 0, 'sinc': 0, 'around': 0, 'know': 0, 'featur': 0, 'order': 0, 'see': 0, 'fine': 0, 'old': 0, 'long': 0, 'enough': 0, 'item': 0, 'charg': 0, 'hard': 0, 'far': 0, 'len': 0, 'mous': 0, 'run': 0, 'mani': 0, 'bit': 0, 'expect': 0, 'made': 0, 'issu': 0, 'never': 0, 'money': 0, 'read': 0, 'size': 0, 'keep': 0, 'last': 0, 'howev': 0, 'button': 0, 'dvd': 0, 'softwar': 0, 'give': 0, 'perfect': 0, 'phone': 0, 'found': 0, 'record': 0, 'someth': 0, 'abl': 0, 'came': 0, 'ear': 0, 'pretti': 0, 'gb': 0, 'box': 0, 'though': 0, 'excel': 0, 'high': 0, 'hold': 0, 'soni': 0, 'radio': 0, 'control': 0, 'adapt': 0, 'feel': 0, 'end': 0, 'cord': 0, 'big': 0, 'return': 0, 'remot': 0, 'start': 0, 'sure': 0, 'room': 0, 'worth': 0, 'home': 0, 'digit': 0, 'car': 0, 'ship': 0, 'bag': 0, 'everyth': 0, 'wire': 0, 'second': 0, 'week': 0, 'includ': 0, 'hour': 0, 'everi': 0, 'may': 0, 'listen': 0, 'hd': 0, 'audio': 0, 'actual': 0, 'less': 0, 'place': 0, 'side': 0, 'design': 0, 'cheap': 0, 'window': 0, 'happi': 0, 'memori': 0, 'help': 0, 'gp': 0, 'photo': 0, 'bad': 0, 'quit': 0, 'volum': 0, 'support': 0, 'mp': 0, 'reason': 1, 'switch': 0, 'model': 0, 'store': 0, 'took': 0, 'peopl': 0, 'star': 0, 'fast': 0, 'move': 0, 'easili': 1, 'sever': 0, 'file': 0, 'low': 0, 'keyboard': 0, 'nois': 0, 'function': 0, 'clear': 0, 'port': 0, 'perfectli': 0, 'imag': 0, 'pc': 0, 'flash': 0, 'bass': 0, 'thought': 0, 'point': 0, 'charger': 0, 'away': 0, 'color': 0, 'cost': 0, 'call': 0, 'extra': 0, 'allow': 0, 'highli': 0, 'said': 0, 'chang': 0, 'anyth': 0, 'watch': 0, 'definit': 0, 'alway': 0, 'movi': 0, 'pair': 0, 'perform': 0, 'servic': 0, 'show': 0, 'brand': 0, 'part': 0, 'almost': 0, 'went': 0, 'minut': 0, 'wall': 0, 'adjust': 0, 'comfort': 0, 'anyon': 0, 'open': 0, 'deal': 0, 'protect': 0, 'carri': 0, 'top': 0, 'coupl': 0, 'canon': 0, 'yet': 0, 'monitor': 0, 'hdmi': 0, 'x': 0, 'job': 0, 'pay': 0, 'provid': 0, 'pleas': 0, 'compar': 0, 'simpl': 0, 'speed': 0, 'signal': 0, 'expens': 0, 'custom': 0, 'might': 0, 'cover': 0, 'decid': 0, 'probabl': 0, 'option': 0, 'wireless': 0, 'save': 0, 'hear': 0, 'hand': 0, 'ago': 0, 'hook': 0, 'ever': 0, 'notic': 0, 'sd': 0, 'larg': 0, 'full': 0, 'amaz': 0, 'stop': 0, 'noth': 0, 'packag': 0, 'plastic': 0, 'etc': 0, 'channel': 0, 'display': 0, 'origin': 0, 'type': 0, 'overal': 0, 'space': 0, 'arriv': 0, 'hope': 0, 'three': 0, 'life': 0, 'cd': 0, 'either': 0, 'game': 0, 'complet': 0, 'line': 0, 'not_us': 0, 'piec': 0, 'setup': 0, 'must': 0, 'left': 0, 'rate': 0, 'exactli': 0, 'live': 0, 'updat': 0, 'disappoint': 0, 'close': 0, 'upgrad': 0, 'mm': 0, 'attach': 0, 'mode': 0, 'especi': 0, 'next': 0, 'other': 0, 'manual': 0, 'stay': 0, 'instead': 0, 'fan': 0, 'view': 0, 'base': 0, 'longer': 0, 'lcd': 0, 'fact': 0, 'although': 0, 'program': 0, 'remov': 0, 'let': 0, 'requir': 0, 'wish': 0, 'rang': 0, 'least': 0, 'level': 0, 'final': 0, 'tell': 0, 'complaint': 0, 'pocket': 0, 'shot': 0, 'quickli': 0, 'experi': 0, 'shoot': 0, 'short': 0, 'black': 0, 'user': 0, 'garmin': 0, 'front': 0, 'extrem': 0, 'download': 0, 'head': 0, 'travel': 0, 'mine': 0, 'plu': 0, 'instruct': 0, 'compani': 0, 'inch': 0, 'els': 0, 'test': 0, 'touch': 0, 'standard': 0, 'care': 0, 'free': 0, 'key': 0, 'spend': 0, 'consid': 0, 'station': 0, 'mean': 0, 'samsung': 0, 'mac': 0, 'alreadi': 0, 'stereo': 0, 'transfer': 0, 'hous': 0, 'cool': 0, 'version': 0, 'frame': 0, 'mayb': 0, 'antenna': 0, 'pro': 0, 'drop': 0, 'avail': 0, 'thank': 0, 'sometim': 0, 'pad': 0, 'input': 0, 'portabl': 1, 'zoom': 0, 'cannot': 0, 'figur': 0, 'trip': 0, 'direct': 0, 'wrong': 0, 'bright': 0, 'ok': 0, 'addit': 0, 'fix': 0, 'awesom': 0, 'pick': 0, 'song': 0, 'load': 0, 'appl': 0, 'heavi': 0, 'built': 0, 'gener': 0, 'driver': 0, 'person': 0, 'valu': 0, 'insid': 0, 'screw': 0, 'wonder': 0, 'friend': 0, 'decent': 0, 'real': 0, 'data': 0, 'simpli': 0, 'clean': 0, 'impress': 0, 'zune': 0, 'add': 0, 'number': 0, 'connector': 0, 'gave': 0, 'machin': 0, 'extern': 0, 'within': 0, 'stand': 0, 'leav': 0, 'area': 0, 'loud': 0, 'us': 0, 'posit': 0, 'kind': 0, 'clip': 0, 'fail': 0, 'offer': 0, 'bose': 0, 'basic': 0, 'solid': 0, 'map': 0, 'paid': 0, 'earbud': 0, 'advertis': 0, 'router': 0, 'headset': 0, 'check': 0, 'quick': 0, 'oper': 0, 'wait': 0, 'send': 0, 'due': 0, 'happen': 0, 'note': 0, 'warranti': 0, 'done': 0, 'access': 0, 'nikon': 0, 'result': 0, 'format': 0, 'sit': 0, 'bottom': 0, 'half': 0, 'handl': 0, 'except': 0, 'recent': 0, 'weight': 0, 'p': 0, 'center': 0, 'suppli': 0, 'enjoy': 0, 'absolut': 0, 'appear': 0, 'older': 0, 'ask': 0, 'guess': 0, 'kit': 0, 'rather': 0, 'secur': 0, 'unless': 0, 'sturdi': 0, 'tripod': 0, 'dock': 0, 'stick': 0, 'total': 0, 'sent': 0, 'suppos': 0, 'research': 0, 'mention': 0, 'media': 0, 'improv': 0, 'disc': 0, 'smaller': 0, 'later': 0, 'pack': 0, 'caus': 0, 'internet': 0, 'fall': 0, 'someon': 0} \n",
      "\n",
      "{'use': 0, 'work': 0, 'one': 1, 'great': 0, 'get': 0, 'good': 0, 'would': 1, 'like': 0, 'product': 1, 'sound': 0, 'camera': 0, 'time': 0, 'well': 0, 'need': 0, 'price': 0, 'qualiti': 0, 'look': 0, 'bought': 0, 'buy': 0, 'cabl': 0, 'purchas': 0, 'also': 0, 'want': 0, 'problem': 0, 'even': 0, 'much': 0, 'realli': 0, 'tv': 0, 'make': 0, 'easi': 0, 'set': 0, 'batteri': 0, 'speaker': 0, 'pictur': 0, 'go': 0, 'unit': 0, 'littl': 0, 'better': 0, 'card': 0, 'drive': 0, 'thing': 0, 'take': 0, 'comput': 0, 'back': 1, 'case': 0, 'recommend': 0, 'got': 0, 'year': 0, 'player': 0, 'new': 0, 'tri': 0, 'could': 0, 'still': 0, 'review': 0, 'nice': 0, 'first': 0, 'fit': 0, 'power': 0, 'two': 0, 'love': 0, 'come': 0, 'plug': 0, 'connect': 0, 'ipod': 0, 'video': 0, 'instal': 0, 'mount': 0, 'way': 0, 'screen': 0, 'devic': 0, 'say': 0, 'day': 0, 'small': 0, 'replac': 0, 'seem': 0, 'right': 1, 'laptop': 0, 'best': 0, 'lot': 0, 'turn': 0, 'find': 0, 'light': 0, 'system': 0, 'without': 0, 'receiv': 0, 'put': 0, 'think': 0, 'usb': 0, 'headphon': 0, 'anoth': 0, 'music': 0, 'differ': 0, 'play': 0, 'month': 0, 'amazon': 0, 'sinc': 0, 'around': 0, 'know': 0, 'featur': 0, 'order': 0, 'see': 0, 'fine': 0, 'old': 0, 'long': 0, 'enough': 0, 'item': 0, 'charg': 0, 'hard': 0, 'far': 0, 'len': 0, 'mous': 0, 'run': 0, 'mani': 0, 'bit': 0, 'expect': 0, 'made': 0, 'issu': 0, 'never': 0, 'money': 0, 'read': 0, 'size': 0, 'keep': 0, 'last': 0, 'howev': 0, 'button': 0, 'dvd': 0, 'softwar': 0, 'give': 0, 'perfect': 0, 'phone': 0, 'found': 0, 'record': 0, 'someth': 0, 'abl': 0, 'came': 0, 'ear': 0, 'pretti': 0, 'gb': 0, 'box': 0, 'though': 0, 'excel': 0, 'high': 0, 'hold': 0, 'soni': 0, 'radio': 0, 'control': 0, 'adapt': 0, 'feel': 0, 'end': 0, 'cord': 0, 'big': 0, 'return': 0, 'remot': 0, 'start': 0, 'sure': 0, 'room': 0, 'worth': 0, 'home': 0, 'digit': 0, 'car': 0, 'ship': 1, 'bag': 0, 'everyth': 0, 'wire': 0, 'second': 0, 'week': 0, 'includ': 0, 'hour': 0, 'everi': 0, 'may': 0, 'listen': 0, 'hd': 0, 'audio': 0, 'actual': 0, 'less': 0, 'place': 0, 'side': 0, 'design': 0, 'cheap': 0, 'window': 0, 'happi': 0, 'memori': 0, 'help': 0, 'gp': 0, 'photo': 0, 'bad': 0, 'quit': 0, 'volum': 0, 'support': 0, 'mp': 0, 'reason': 0, 'switch': 0, 'model': 0, 'store': 0, 'took': 0, 'peopl': 0, 'star': 0, 'fast': 0, 'move': 0, 'easili': 0, 'sever': 0, 'file': 0, 'low': 0, 'keyboard': 0, 'nois': 0, 'function': 0, 'clear': 0, 'port': 0, 'perfectli': 0, 'imag': 0, 'pc': 0, 'flash': 0, 'bass': 0, 'thought': 0, 'point': 0, 'charger': 0, 'away': 0, 'color': 0, 'cost': 0, 'call': 0, 'extra': 0, 'allow': 0, 'highli': 0, 'said': 0, 'chang': 0, 'anyth': 0, 'watch': 0, 'definit': 0, 'alway': 0, 'movi': 0, 'pair': 0, 'perform': 0, 'servic': 0, 'show': 0, 'brand': 0, 'part': 0, 'almost': 0, 'went': 0, 'minut': 0, 'wall': 0, 'adjust': 0, 'comfort': 0, 'anyon': 0, 'open': 0, 'deal': 0, 'protect': 0, 'carri': 0, 'top': 0, 'coupl': 0, 'canon': 0, 'yet': 0, 'monitor': 0, 'hdmi': 0, 'x': 0, 'job': 0, 'pay': 0, 'provid': 0, 'pleas': 0, 'compar': 0, 'simpl': 0, 'speed': 0, 'signal': 0, 'expens': 0, 'custom': 0, 'might': 0, 'cover': 0, 'decid': 0, 'probabl': 0, 'option': 0, 'wireless': 0, 'save': 0, 'hear': 0, 'hand': 0, 'ago': 0, 'hook': 0, 'ever': 0, 'notic': 0, 'sd': 0, 'larg': 0, 'full': 0, 'amaz': 0, 'stop': 0, 'noth': 0, 'packag': 0, 'plastic': 0, 'etc': 0, 'channel': 0, 'display': 0, 'origin': 0, 'type': 0, 'overal': 0, 'space': 0, 'arriv': 0, 'hope': 0, 'three': 0, 'life': 0, 'cd': 0, 'either': 0, 'game': 0, 'complet': 0, 'line': 0, 'not_us': 0, 'piec': 0, 'setup': 0, 'must': 0, 'left': 0, 'rate': 0, 'exactli': 0, 'live': 0, 'updat': 0, 'disappoint': 0, 'close': 0, 'upgrad': 0, 'mm': 0, 'attach': 0, 'mode': 0, 'especi': 0, 'next': 0, 'other': 0, 'manual': 0, 'stay': 0, 'instead': 0, 'fan': 0, 'view': 0, 'base': 0, 'longer': 0, 'lcd': 0, 'fact': 0, 'although': 0, 'program': 0, 'remov': 0, 'let': 0, 'requir': 0, 'wish': 0, 'rang': 0, 'least': 0, 'level': 0, 'final': 0, 'tell': 0, 'complaint': 0, 'pocket': 0, 'shot': 0, 'quickli': 0, 'experi': 0, 'shoot': 0, 'short': 0, 'black': 0, 'user': 0, 'garmin': 0, 'front': 0, 'extrem': 0, 'download': 0, 'head': 0, 'travel': 0, 'mine': 0, 'plu': 0, 'instruct': 0, 'compani': 0, 'inch': 0, 'els': 0, 'test': 0, 'touch': 0, 'standard': 0, 'care': 0, 'free': 0, 'key': 0, 'spend': 0, 'consid': 0, 'station': 0, 'mean': 0, 'samsung': 0, 'mac': 0, 'alreadi': 0, 'stereo': 0, 'transfer': 0, 'hous': 0, 'cool': 0, 'version': 0, 'frame': 0, 'mayb': 0, 'antenna': 0, 'pro': 0, 'drop': 0, 'avail': 0, 'thank': 0, 'sometim': 0, 'pad': 0, 'input': 0, 'portabl': 0, 'zoom': 0, 'cannot': 0, 'figur': 0, 'trip': 0, 'direct': 0, 'wrong': 1, 'bright': 0, 'ok': 0, 'addit': 0, 'fix': 0, 'awesom': 0, 'pick': 0, 'song': 0, 'load': 0, 'appl': 0, 'heavi': 0, 'built': 0, 'gener': 0, 'driver': 0, 'person': 0, 'valu': 0, 'insid': 0, 'screw': 0, 'wonder': 0, 'friend': 0, 'decent': 0, 'real': 0, 'data': 0, 'simpli': 0, 'clean': 0, 'impress': 0, 'zune': 0, 'add': 0, 'number': 0, 'connector': 0, 'gave': 0, 'machin': 0, 'extern': 0, 'within': 0, 'stand': 0, 'leav': 0, 'area': 0, 'loud': 0, 'us': 0, 'posit': 0, 'kind': 0, 'clip': 0, 'fail': 0, 'offer': 0, 'bose': 0, 'basic': 0, 'solid': 0, 'map': 0, 'paid': 0, 'earbud': 0, 'advertis': 0, 'router': 0, 'headset': 0, 'check': 0, 'quick': 0, 'oper': 0, 'wait': 0, 'send': 0, 'due': 0, 'happen': 0, 'note': 0, 'warranti': 0, 'done': 0, 'access': 0, 'nikon': 0, 'result': 0, 'format': 0, 'sit': 0, 'bottom': 0, 'half': 0, 'handl': 0, 'except': 0, 'recent': 0, 'weight': 0, 'p': 0, 'center': 0, 'suppli': 0, 'enjoy': 0, 'absolut': 0, 'appear': 0, 'older': 0, 'ask': 0, 'guess': 0, 'kit': 0, 'rather': 0, 'secur': 0, 'unless': 0, 'sturdi': 0, 'tripod': 0, 'dock': 0, 'stick': 0, 'total': 0, 'sent': 0, 'suppos': 0, 'research': 0, 'mention': 0, 'media': 0, 'improv': 0, 'disc': 0, 'smaller': 0, 'later': 0, 'pack': 0, 'caus': 0, 'internet': 0, 'fall': 0, 'someon': 0} \n",
      "\n",
      "{'use': 0, 'work': 0, 'one': 1, 'great': 0, 'get': 0, 'good': 0, 'would': 0, 'like': 0, 'product': 0, 'sound': 0, 'camera': 0, 'time': 0, 'well': 0, 'need': 0, 'price': 0, 'qualiti': 0, 'look': 1, 'bought': 0, 'buy': 0, 'cabl': 0, 'purchas': 0, 'also': 0, 'want': 0, 'problem': 0, 'even': 0, 'much': 0, 'realli': 0, 'tv': 0, 'make': 0, 'easi': 0, 'set': 0, 'batteri': 0, 'speaker': 0, 'pictur': 0, 'go': 0, 'unit': 0, 'littl': 0, 'better': 0, 'card': 0, 'drive': 0, 'thing': 0, 'take': 0, 'comput': 0, 'back': 1, 'case': 0, 'recommend': 0, 'got': 1, 'year': 0, 'player': 0, 'new': 0, 'tri': 0, 'could': 0, 'still': 0, 'review': 0, 'nice': 0, 'first': 0, 'fit': 0, 'power': 0, 'two': 0, 'love': 0, 'come': 0, 'plug': 0, 'connect': 0, 'ipod': 0, 'video': 0, 'instal': 0, 'mount': 0, 'way': 0, 'screen': 0, 'devic': 0, 'say': 1, 'day': 0, 'small': 0, 'replac': 0, 'seem': 0, 'right': 0, 'laptop': 1, 'best': 0, 'lot': 0, 'turn': 0, 'find': 0, 'light': 0, 'system': 0, 'without': 0, 'receiv': 0, 'put': 0, 'think': 0, 'usb': 1, 'headphon': 0, 'anoth': 1, 'music': 0, 'differ': 0, 'play': 0, 'month': 0, 'amazon': 0, 'sinc': 0, 'around': 0, 'know': 0, 'featur': 0, 'order': 0, 'see': 0, 'fine': 0, 'old': 0, 'long': 0, 'enough': 0, 'item': 1, 'charg': 0, 'hard': 0, 'far': 0, 'len': 0, 'mous': 0, 'run': 0, 'mani': 0, 'bit': 0, 'expect': 0, 'made': 0, 'issu': 0, 'never': 0, 'money': 0, 'read': 0, 'size': 0, 'keep': 0, 'last': 0, 'howev': 0, 'button': 0, 'dvd': 0, 'softwar': 0, 'give': 0, 'perfect': 0, 'phone': 0, 'found': 0, 'record': 0, 'someth': 0, 'abl': 0, 'came': 0, 'ear': 0, 'pretti': 0, 'gb': 0, 'box': 0, 'though': 0, 'excel': 0, 'high': 0, 'hold': 0, 'soni': 0, 'radio': 0, 'control': 0, 'adapt': 0, 'feel': 0, 'end': 0, 'cord': 0, 'big': 0, 'return': 0, 'remot': 0, 'start': 0, 'sure': 0, 'room': 0, 'worth': 0, 'home': 0, 'digit': 0, 'car': 0, 'ship': 0, 'bag': 0, 'everyth': 0, 'wire': 0, 'second': 0, 'week': 0, 'includ': 0, 'hour': 0, 'everi': 0, 'may': 0, 'listen': 0, 'hd': 0, 'audio': 0, 'actual': 0, 'less': 0, 'place': 0, 'side': 0, 'design': 0, 'cheap': 0, 'window': 0, 'happi': 0, 'memori': 1, 'help': 0, 'gp': 0, 'photo': 0, 'bad': 0, 'quit': 0, 'volum': 0, 'support': 0, 'mp': 0, 'reason': 0, 'switch': 0, 'model': 0, 'store': 0, 'took': 0, 'peopl': 0, 'star': 0, 'fast': 0, 'move': 0, 'easili': 0, 'sever': 1, 'file': 0, 'low': 0, 'keyboard': 0, 'nois': 0, 'function': 0, 'clear': 0, 'port': 1, 'perfectli': 0, 'imag': 0, 'pc': 0, 'flash': 0, 'bass': 0, 'thought': 0, 'point': 0, 'charger': 0, 'away': 0, 'color': 0, 'cost': 0, 'call': 0, 'extra': 0, 'allow': 0, 'highli': 0, 'said': 0, 'chang': 0, 'anyth': 0, 'watch': 0, 'definit': 0, 'alway': 0, 'movi': 0, 'pair': 0, 'perform': 0, 'servic': 0, 'show': 0, 'brand': 0, 'part': 0, 'almost': 0, 'went': 0, 'minut': 0, 'wall': 0, 'adjust': 0, 'comfort': 0, 'anyon': 0, 'open': 0, 'deal': 0, 'protect': 0, 'carri': 0, 'top': 0, 'coupl': 0, 'canon': 0, 'yet': 0, 'monitor': 0, 'hdmi': 0, 'x': 0, 'job': 0, 'pay': 0, 'provid': 0, 'pleas': 0, 'compar': 0, 'simpl': 0, 'speed': 0, 'signal': 0, 'expens': 0, 'custom': 0, 'might': 0, 'cover': 1, 'decid': 0, 'probabl': 0, 'option': 0, 'wireless': 0, 'save': 0, 'hear': 0, 'hand': 0, 'ago': 0, 'hook': 0, 'ever': 0, 'notic': 0, 'sd': 1, 'larg': 0, 'full': 0, 'amaz': 0, 'stop': 0, 'noth': 0, 'packag': 0, 'plastic': 0, 'etc': 0, 'channel': 0, 'display': 0, 'origin': 0, 'type': 0, 'overal': 0, 'space': 0, 'arriv': 0, 'hope': 0, 'three': 0, 'life': 0, 'cd': 0, 'either': 0, 'game': 0, 'complet': 0, 'line': 0, 'not_us': 0, 'piec': 0, 'setup': 0, 'must': 0, 'left': 0, 'rate': 0, 'exactli': 0, 'live': 0, 'updat': 0, 'disappoint': 0, 'close': 0, 'upgrad': 0, 'mm': 0, 'attach': 0, 'mode': 0, 'especi': 0, 'next': 0, 'other': 0, 'manual': 0, 'stay': 0, 'instead': 0, 'fan': 0, 'view': 0, 'base': 0, 'longer': 0, 'lcd': 0, 'fact': 0, 'although': 0, 'program': 0, 'remov': 0, 'let': 0, 'requir': 0, 'wish': 0, 'rang': 0, 'least': 0, 'level': 0, 'final': 0, 'tell': 0, 'complaint': 0, 'pocket': 0, 'shot': 0, 'quickli': 0, 'experi': 0, 'shoot': 0, 'short': 0, 'black': 0, 'user': 0, 'garmin': 0, 'front': 0, 'extrem': 0, 'download': 0, 'head': 0, 'travel': 0, 'mine': 0, 'plu': 0, 'instruct': 0, 'compani': 0, 'inch': 0, 'els': 0, 'test': 0, 'touch': 0, 'standard': 0, 'care': 0, 'free': 0, 'key': 0, 'spend': 0, 'consid': 0, 'station': 0, 'mean': 0, 'samsung': 0, 'mac': 0, 'alreadi': 0, 'stereo': 0, 'transfer': 0, 'hous': 0, 'cool': 0, 'version': 1, 'frame': 0, 'mayb': 0, 'antenna': 0, 'pro': 1, 'drop': 0, 'avail': 0, 'thank': 0, 'sometim': 0, 'pad': 0, 'input': 0, 'portabl': 0, 'zoom': 0, 'cannot': 0, 'figur': 0, 'trip': 0, 'direct': 0, 'wrong': 0, 'bright': 0, 'ok': 0, 'addit': 0, 'fix': 0, 'awesom': 0, 'pick': 0, 'song': 0, 'load': 0, 'appl': 0, 'heavi': 0, 'built': 0, 'gener': 0, 'driver': 0, 'person': 0, 'valu': 0, 'insid': 0, 'screw': 0, 'wonder': 0, 'friend': 0, 'decent': 0, 'real': 0, 'data': 0, 'simpli': 0, 'clean': 0, 'impress': 0, 'zune': 0, 'add': 0, 'number': 0, 'connector': 0, 'gave': 0, 'machin': 0, 'extern': 0, 'within': 0, 'stand': 0, 'leav': 0, 'area': 0, 'loud': 0, 'us': 0, 'posit': 0, 'kind': 0, 'clip': 0, 'fail': 0, 'offer': 0, 'bose': 0, 'basic': 0, 'solid': 0, 'map': 0, 'paid': 0, 'earbud': 0, 'advertis': 0, 'router': 0, 'headset': 0, 'check': 0, 'quick': 0, 'oper': 0, 'wait': 0, 'send': 0, 'due': 0, 'happen': 0, 'note': 0, 'warranti': 0, 'done': 0, 'access': 0, 'nikon': 0, 'result': 0, 'format': 0, 'sit': 0, 'bottom': 0, 'half': 1, 'handl': 0, 'except': 0, 'recent': 0, 'weight': 0, 'p': 0, 'center': 0, 'suppli': 0, 'enjoy': 0, 'absolut': 0, 'appear': 0, 'older': 0, 'ask': 0, 'guess': 0, 'kit': 0, 'rather': 0, 'secur': 0, 'unless': 0, 'sturdi': 0, 'tripod': 0, 'dock': 0, 'stick': 1, 'total': 0, 'sent': 0, 'suppos': 0, 'research': 0, 'mention': 0, 'media': 0, 'improv': 0, 'disc': 0, 'smaller': 0, 'later': 0, 'pack': 0, 'caus': 0, 'internet': 0, 'fall': 0, 'someon': 0} \n",
      "\n",
      "{'use': 0, 'work': 0, 'one': 0, 'great': 1, 'get': 0, 'good': 1, 'would': 0, 'like': 0, 'product': 0, 'sound': 0, 'camera': 1, 'time': 0, 'well': 0, 'need': 1, 'price': 0, 'qualiti': 1, 'look': 0, 'bought': 0, 'buy': 0, 'cabl': 0, 'purchas': 0, 'also': 0, 'want': 0, 'problem': 0, 'even': 0, 'much': 0, 'realli': 0, 'tv': 0, 'make': 0, 'easi': 0, 'set': 0, 'batteri': 0, 'speaker': 0, 'pictur': 0, 'go': 0, 'unit': 0, 'littl': 0, 'better': 0, 'card': 1, 'drive': 1, 'thing': 0, 'take': 1, 'comput': 0, 'back': 0, 'case': 0, 'recommend': 0, 'got': 0, 'year': 0, 'player': 0, 'new': 0, 'tri': 0, 'could': 0, 'still': 0, 'review': 0, 'nice': 0, 'first': 0, 'fit': 0, 'power': 0, 'two': 0, 'love': 0, 'come': 0, 'plug': 1, 'connect': 0, 'ipod': 0, 'video': 0, 'instal': 0, 'mount': 0, 'way': 0, 'screen': 0, 'devic': 0, 'say': 0, 'day': 0, 'small': 0, 'replac': 0, 'seem': 0, 'right': 0, 'laptop': 0, 'best': 0, 'lot': 0, 'turn': 0, 'find': 0, 'light': 0, 'system': 0, 'without': 0, 'receiv': 0, 'put': 0, 'think': 0, 'usb': 0, 'headphon': 0, 'anoth': 0, 'music': 0, 'differ': 0, 'play': 0, 'month': 0, 'amazon': 0, 'sinc': 0, 'around': 0, 'know': 0, 'featur': 0, 'order': 0, 'see': 0, 'fine': 0, 'old': 0, 'long': 0, 'enough': 0, 'item': 0, 'charg': 0, 'hard': 1, 'far': 0, 'len': 0, 'mous': 0, 'run': 0, 'mani': 0, 'bit': 0, 'expect': 0, 'made': 0, 'issu': 0, 'never': 0, 'money': 0, 'read': 0, 'size': 0, 'keep': 0, 'last': 0, 'howev': 0, 'button': 0, 'dvd': 0, 'softwar': 0, 'give': 0, 'perfect': 0, 'phone': 0, 'found': 0, 'record': 0, 'someth': 0, 'abl': 0, 'came': 0, 'ear': 0, 'pretti': 0, 'gb': 0, 'box': 0, 'though': 0, 'excel': 0, 'high': 0, 'hold': 0, 'soni': 1, 'radio': 0, 'control': 0, 'adapt': 0, 'feel': 0, 'end': 0, 'cord': 0, 'big': 0, 'return': 0, 'remot': 0, 'start': 0, 'sure': 0, 'room': 0, 'worth': 0, 'home': 0, 'digit': 0, 'car': 0, 'ship': 0, 'bag': 0, 'everyth': 0, 'wire': 0, 'second': 0, 'week': 0, 'includ': 0, 'hour': 0, 'everi': 0, 'may': 0, 'listen': 0, 'hd': 0, 'audio': 0, 'actual': 0, 'less': 0, 'place': 0, 'side': 0, 'design': 0, 'cheap': 0, 'window': 0, 'happi': 0, 'memori': 0, 'help': 0, 'gp': 0, 'photo': 0, 'bad': 0, 'quit': 0, 'volum': 0, 'support': 0, 'mp': 0, 'reason': 0, 'switch': 0, 'model': 0, 'store': 0, 'took': 0, 'peopl': 0, 'star': 0, 'fast': 0, 'move': 0, 'easili': 0, 'sever': 0, 'file': 0, 'low': 0, 'keyboard': 0, 'nois': 0, 'function': 0, 'clear': 0, 'port': 0, 'perfectli': 0, 'imag': 0, 'pc': 0, 'flash': 0, 'bass': 0, 'thought': 0, 'point': 0, 'charger': 0, 'away': 0, 'color': 0, 'cost': 0, 'call': 0, 'extra': 0, 'allow': 0, 'highli': 0, 'said': 0, 'chang': 0, 'anyth': 1, 'watch': 0, 'definit': 0, 'alway': 0, 'movi': 0, 'pair': 0, 'perform': 0, 'servic': 0, 'show': 0, 'brand': 0, 'part': 0, 'almost': 0, 'went': 0, 'minut': 0, 'wall': 0, 'adjust': 0, 'comfort': 0, 'anyon': 0, 'open': 0, 'deal': 0, 'protect': 0, 'carri': 0, 'top': 0, 'coupl': 0, 'canon': 0, 'yet': 0, 'monitor': 0, 'hdmi': 0, 'x': 0, 'job': 0, 'pay': 0, 'provid': 0, 'pleas': 0, 'compar': 0, 'simpl': 0, 'speed': 0, 'signal': 0, 'expens': 0, 'custom': 0, 'might': 0, 'cover': 0, 'decid': 0, 'probabl': 0, 'option': 0, 'wireless': 0, 'save': 0, 'hear': 0, 'hand': 0, 'ago': 0, 'hook': 0, 'ever': 0, 'notic': 0, 'sd': 1, 'larg': 0, 'full': 0, 'amaz': 0, 'stop': 0, 'noth': 0, 'packag': 0, 'plastic': 0, 'etc': 0, 'channel': 0, 'display': 0, 'origin': 0, 'type': 0, 'overal': 0, 'space': 0, 'arriv': 0, 'hope': 0, 'three': 0, 'life': 0, 'cd': 0, 'either': 0, 'game': 0, 'complet': 0, 'line': 0, 'not_us': 0, 'piec': 0, 'setup': 0, 'must': 1, 'left': 0, 'rate': 0, 'exactli': 0, 'live': 0, 'updat': 0, 'disappoint': 0, 'close': 0, 'upgrad': 0, 'mm': 0, 'attach': 0, 'mode': 0, 'especi': 0, 'next': 0, 'other': 0, 'manual': 0, 'stay': 0, 'instead': 0, 'fan': 0, 'view': 0, 'base': 0, 'longer': 0, 'lcd': 0, 'fact': 0, 'although': 0, 'program': 0, 'remov': 0, 'let': 0, 'requir': 0, 'wish': 0, 'rang': 0, 'least': 0, 'level': 0, 'final': 0, 'tell': 0, 'complaint': 0, 'pocket': 0, 'shot': 0, 'quickli': 0, 'experi': 0, 'shoot': 0, 'short': 0, 'black': 0, 'user': 0, 'garmin': 0, 'front': 0, 'extrem': 0, 'download': 0, 'head': 0, 'travel': 0, 'mine': 0, 'plu': 0, 'instruct': 0, 'compani': 0, 'inch': 0, 'els': 0, 'test': 0, 'touch': 0, 'standard': 0, 'care': 0, 'free': 0, 'key': 0, 'spend': 0, 'consid': 0, 'station': 0, 'mean': 0, 'samsung': 0, 'mac': 0, 'alreadi': 0, 'stereo': 0, 'transfer': 1, 'hous': 0, 'cool': 0, 'version': 0, 'frame': 0, 'mayb': 0, 'antenna': 0, 'pro': 0, 'drop': 0, 'avail': 0, 'thank': 0, 'sometim': 0, 'pad': 0, 'input': 0, 'portabl': 0, 'zoom': 0, 'cannot': 0, 'figur': 0, 'trip': 0, 'direct': 0, 'wrong': 0, 'bright': 0, 'ok': 0, 'addit': 0, 'fix': 0, 'awesom': 0, 'pick': 0, 'song': 0, 'load': 0, 'appl': 0, 'heavi': 0, 'built': 0, 'gener': 0, 'driver': 0, 'person': 0, 'valu': 0, 'insid': 0, 'screw': 0, 'wonder': 0, 'friend': 0, 'decent': 0, 'real': 0, 'data': 0, 'simpli': 0, 'clean': 0, 'impress': 0, 'zune': 0, 'add': 0, 'number': 0, 'connector': 0, 'gave': 0, 'machin': 0, 'extern': 0, 'within': 0, 'stand': 0, 'leav': 0, 'area': 0, 'loud': 0, 'us': 0, 'posit': 0, 'kind': 0, 'clip': 0, 'fail': 0, 'offer': 0, 'bose': 0, 'basic': 0, 'solid': 0, 'map': 0, 'paid': 0, 'earbud': 0, 'advertis': 0, 'router': 0, 'headset': 0, 'check': 0, 'quick': 0, 'oper': 0, 'wait': 0, 'send': 0, 'due': 0, 'happen': 0, 'note': 0, 'warranti': 0, 'done': 0, 'access': 0, 'nikon': 0, 'result': 0, 'format': 0, 'sit': 0, 'bottom': 0, 'half': 0, 'handl': 0, 'except': 0, 'recent': 0, 'weight': 0, 'p': 0, 'center': 0, 'suppli': 0, 'enjoy': 0, 'absolut': 0, 'appear': 0, 'older': 0, 'ask': 0, 'guess': 0, 'kit': 0, 'rather': 0, 'secur': 0, 'unless': 0, 'sturdi': 0, 'tripod': 0, 'dock': 0, 'stick': 0, 'total': 0, 'sent': 0, 'suppos': 0, 'research': 0, 'mention': 0, 'media': 0, 'improv': 0, 'disc': 0, 'smaller': 0, 'later': 0, 'pack': 0, 'caus': 0, 'internet': 0, 'fall': 0, 'someon': 0} \n",
      "\n",
      "{'use': 1, 'work': 1, 'one': 0, 'great': 0, 'get': 0, 'good': 0, 'would': 0, 'like': 0, 'product': 0, 'sound': 0, 'camera': 1, 'time': 0, 'well': 0, 'need': 0, 'price': 0, 'qualiti': 0, 'look': 1, 'bought': 0, 'buy': 0, 'cabl': 0, 'purchas': 0, 'also': 0, 'want': 0, 'problem': 0, 'even': 0, 'much': 0, 'realli': 0, 'tv': 0, 'make': 0, 'easi': 0, 'set': 0, 'batteri': 0, 'speaker': 0, 'pictur': 0, 'go': 0, 'unit': 0, 'littl': 0, 'better': 0, 'card': 1, 'drive': 0, 'thing': 0, 'take': 0, 'comput': 0, 'back': 0, 'case': 0, 'recommend': 0, 'got': 0, 'year': 0, 'player': 0, 'new': 0, 'tri': 0, 'could': 0, 'still': 0, 'review': 0, 'nice': 0, 'first': 0, 'fit': 0, 'power': 0, 'two': 0, 'love': 0, 'come': 0, 'plug': 0, 'connect': 0, 'ipod': 0, 'video': 0, 'instal': 0, 'mount': 0, 'way': 0, 'screen': 0, 'devic': 0, 'say': 0, 'day': 0, 'small': 0, 'replac': 0, 'seem': 0, 'right': 0, 'laptop': 0, 'best': 0, 'lot': 0, 'turn': 0, 'find': 0, 'light': 0, 'system': 0, 'without': 0, 'receiv': 0, 'put': 0, 'think': 0, 'usb': 0, 'headphon': 0, 'anoth': 0, 'music': 0, 'differ': 1, 'play': 0, 'month': 0, 'amazon': 0, 'sinc': 0, 'around': 0, 'know': 0, 'featur': 0, 'order': 0, 'see': 0, 'fine': 0, 'old': 0, 'long': 0, 'enough': 0, 'item': 0, 'charg': 0, 'hard': 0, 'far': 0, 'len': 0, 'mous': 0, 'run': 0, 'mani': 0, 'bit': 0, 'expect': 0, 'made': 0, 'issu': 0, 'never': 0, 'money': 0, 'read': 0, 'size': 0, 'keep': 0, 'last': 0, 'howev': 0, 'button': 0, 'dvd': 0, 'softwar': 0, 'give': 0, 'perfect': 0, 'phone': 0, 'found': 0, 'record': 0, 'someth': 0, 'abl': 0, 'came': 0, 'ear': 0, 'pretti': 0, 'gb': 0, 'box': 0, 'though': 0, 'excel': 0, 'high': 0, 'hold': 0, 'soni': 1, 'radio': 0, 'control': 0, 'adapt': 0, 'feel': 0, 'end': 0, 'cord': 0, 'big': 0, 'return': 0, 'remot': 0, 'start': 0, 'sure': 0, 'room': 0, 'worth': 0, 'home': 0, 'digit': 0, 'car': 0, 'ship': 0, 'bag': 0, 'everyth': 0, 'wire': 0, 'second': 0, 'week': 0, 'includ': 0, 'hour': 0, 'everi': 0, 'may': 0, 'listen': 0, 'hd': 0, 'audio': 0, 'actual': 0, 'less': 0, 'place': 0, 'side': 0, 'design': 0, 'cheap': 0, 'window': 0, 'happi': 0, 'memori': 1, 'help': 0, 'gp': 0, 'photo': 1, 'bad': 0, 'quit': 0, 'volum': 0, 'support': 0, 'mp': 0, 'reason': 0, 'switch': 0, 'model': 0, 'store': 0, 'took': 0, 'peopl': 0, 'star': 0, 'fast': 0, 'move': 0, 'easili': 0, 'sever': 0, 'file': 0, 'low': 0, 'keyboard': 0, 'nois': 0, 'function': 0, 'clear': 0, 'port': 0, 'perfectli': 0, 'imag': 0, 'pc': 0, 'flash': 0, 'bass': 0, 'thought': 0, 'point': 0, 'charger': 0, 'away': 0, 'color': 0, 'cost': 0, 'call': 0, 'extra': 0, 'allow': 0, 'highli': 0, 'said': 0, 'chang': 0, 'anyth': 0, 'watch': 0, 'definit': 0, 'alway': 0, 'movi': 0, 'pair': 0, 'perform': 0, 'servic': 0, 'show': 0, 'brand': 0, 'part': 0, 'almost': 0, 'went': 0, 'minut': 0, 'wall': 0, 'adjust': 0, 'comfort': 0, 'anyon': 0, 'open': 0, 'deal': 0, 'protect': 0, 'carri': 0, 'top': 0, 'coupl': 0, 'canon': 0, 'yet': 0, 'monitor': 0, 'hdmi': 0, 'x': 0, 'job': 0, 'pay': 0, 'provid': 0, 'pleas': 0, 'compar': 0, 'simpl': 0, 'speed': 0, 'signal': 0, 'expens': 0, 'custom': 0, 'might': 0, 'cover': 0, 'decid': 0, 'probabl': 0, 'option': 0, 'wireless': 0, 'save': 0, 'hear': 0, 'hand': 0, 'ago': 0, 'hook': 0, 'ever': 0, 'notic': 0, 'sd': 0, 'larg': 0, 'full': 0, 'amaz': 0, 'stop': 0, 'noth': 0, 'packag': 0, 'plastic': 0, 'etc': 0, 'channel': 0, 'display': 0, 'origin': 0, 'type': 0, 'overal': 0, 'space': 0, 'arriv': 0, 'hope': 0, 'three': 0, 'life': 0, 'cd': 0, 'either': 0, 'game': 0, 'complet': 0, 'line': 0, 'not_us': 0, 'piec': 0, 'setup': 0, 'must': 0, 'left': 0, 'rate': 0, 'exactli': 0, 'live': 0, 'updat': 0, 'disappoint': 0, 'close': 0, 'upgrad': 0, 'mm': 0, 'attach': 0, 'mode': 0, 'especi': 0, 'next': 0, 'other': 0, 'manual': 0, 'stay': 0, 'instead': 0, 'fan': 0, 'view': 0, 'base': 0, 'longer': 0, 'lcd': 0, 'fact': 0, 'although': 0, 'program': 0, 'remov': 0, 'let': 0, 'requir': 0, 'wish': 0, 'rang': 0, 'least': 0, 'level': 0, 'final': 0, 'tell': 0, 'complaint': 0, 'pocket': 0, 'shot': 0, 'quickli': 0, 'experi': 0, 'shoot': 0, 'short': 0, 'black': 0, 'user': 0, 'garmin': 0, 'front': 0, 'extrem': 0, 'download': 0, 'head': 0, 'travel': 0, 'mine': 0, 'plu': 0, 'instruct': 0, 'compani': 0, 'inch': 0, 'els': 0, 'test': 0, 'touch': 0, 'standard': 0, 'care': 0, 'free': 0, 'key': 0, 'spend': 0, 'consid': 0, 'station': 0, 'mean': 0, 'samsung': 0, 'mac': 0, 'alreadi': 0, 'stereo': 0, 'transfer': 0, 'hous': 0, 'cool': 0, 'version': 0, 'frame': 0, 'mayb': 0, 'antenna': 0, 'pro': 0, 'drop': 0, 'avail': 0, 'thank': 0, 'sometim': 0, 'pad': 0, 'input': 0, 'portabl': 0, 'zoom': 0, 'cannot': 0, 'figur': 0, 'trip': 0, 'direct': 0, 'wrong': 0, 'bright': 0, 'ok': 0, 'addit': 0, 'fix': 0, 'awesom': 0, 'pick': 0, 'song': 0, 'load': 0, 'appl': 0, 'heavi': 0, 'built': 0, 'gener': 0, 'driver': 0, 'person': 0, 'valu': 0, 'insid': 0, 'screw': 0, 'wonder': 0, 'friend': 0, 'decent': 0, 'real': 0, 'data': 0, 'simpli': 0, 'clean': 0, 'impress': 0, 'zune': 0, 'add': 0, 'number': 0, 'connector': 0, 'gave': 0, 'machin': 0, 'extern': 0, 'within': 0, 'stand': 0, 'leav': 0, 'area': 0, 'loud': 0, 'us': 0, 'posit': 0, 'kind': 0, 'clip': 0, 'fail': 0, 'offer': 0, 'bose': 0, 'basic': 0, 'solid': 0, 'map': 0, 'paid': 0, 'earbud': 0, 'advertis': 0, 'router': 0, 'headset': 0, 'check': 0, 'quick': 0, 'oper': 0, 'wait': 0, 'send': 0, 'due': 0, 'happen': 0, 'note': 0, 'warranti': 0, 'done': 0, 'access': 0, 'nikon': 0, 'result': 0, 'format': 0, 'sit': 0, 'bottom': 0, 'half': 0, 'handl': 0, 'except': 0, 'recent': 0, 'weight': 0, 'p': 0, 'center': 0, 'suppli': 0, 'enjoy': 0, 'absolut': 0, 'appear': 0, 'older': 1, 'ask': 0, 'guess': 0, 'kit': 0, 'rather': 0, 'secur': 0, 'unless': 0, 'sturdi': 0, 'tripod': 0, 'dock': 0, 'stick': 1, 'total': 0, 'sent': 0, 'suppos': 0, 'research': 0, 'mention': 0, 'media': 0, 'improv': 0, 'disc': 0, 'smaller': 0, 'later': 0, 'pack': 0, 'caus': 0, 'internet': 0, 'fall': 0, 'someon': 0} \n",
      "\n",
      "{'use': 1, 'work': 0, 'one': 1, 'great': 1, 'get': 1, 'good': 0, 'would': 0, 'like': 0, 'product': 0, 'sound': 0, 'camera': 0, 'time': 0, 'well': 0, 'need': 0, 'price': 1, 'qualiti': 0, 'look': 0, 'bought': 1, 'buy': 0, 'cabl': 1, 'purchas': 1, 'also': 1, 'want': 0, 'problem': 0, 'even': 0, 'much': 1, 'realli': 0, 'tv': 0, 'make': 1, 'easi': 0, 'set': 0, 'batteri': 0, 'speaker': 0, 'pictur': 0, 'go': 0, 'unit': 0, 'littl': 0, 'better': 0, 'card': 1, 'drive': 0, 'thing': 0, 'take': 0, 'comput': 1, 'back': 0, 'case': 0, 'recommend': 0, 'got': 1, 'year': 1, 'player': 0, 'new': 0, 'tri': 0, 'could': 0, 'still': 0, 'review': 0, 'nice': 0, 'first': 0, 'fit': 0, 'power': 0, 'two': 0, 'love': 0, 'come': 0, 'plug': 0, 'connect': 1, 'ipod': 0, 'video': 0, 'instal': 0, 'mount': 0, 'way': 0, 'screen': 0, 'devic': 1, 'say': 0, 'day': 0, 'small': 0, 'replac': 0, 'seem': 0, 'right': 0, 'laptop': 1, 'best': 0, 'lot': 0, 'turn': 0, 'find': 0, 'light': 0, 'system': 0, 'without': 0, 'receiv': 0, 'put': 0, 'think': 0, 'usb': 0, 'headphon': 0, 'anoth': 0, 'music': 0, 'differ': 0, 'play': 0, 'month': 0, 'amazon': 0, 'sinc': 0, 'around': 1, 'know': 0, 'featur': 0, 'order': 0, 'see': 0, 'fine': 0, 'old': 0, 'long': 0, 'enough': 0, 'item': 0, 'charg': 0, 'hard': 0, 'far': 0, 'len': 0, 'mous': 0, 'run': 0, 'mani': 0, 'bit': 0, 'expect': 0, 'made': 1, 'issu': 0, 'never': 0, 'money': 0, 'read': 0, 'size': 0, 'keep': 0, 'last': 0, 'howev': 0, 'button': 0, 'dvd': 0, 'softwar': 0, 'give': 0, 'perfect': 0, 'phone': 0, 'found': 0, 'record': 0, 'someth': 0, 'abl': 0, 'came': 1, 'ear': 0, 'pretti': 0, 'gb': 0, 'box': 0, 'though': 0, 'excel': 0, 'high': 0, 'hold': 1, 'soni': 1, 'radio': 0, 'control': 0, 'adapt': 0, 'feel': 0, 'end': 0, 'cord': 0, 'big': 0, 'return': 0, 'remot': 0, 'start': 0, 'sure': 0, 'room': 0, 'worth': 0, 'home': 0, 'digit': 0, 'car': 0, 'ship': 0, 'bag': 0, 'everyth': 0, 'wire': 0, 'second': 0, 'week': 0, 'includ': 0, 'hour': 0, 'everi': 0, 'may': 0, 'listen': 0, 'hd': 0, 'audio': 0, 'actual': 0, 'less': 0, 'place': 0, 'side': 0, 'design': 0, 'cheap': 0, 'window': 0, 'happi': 0, 'memori': 1, 'help': 0, 'gp': 0, 'photo': 1, 'bad': 0, 'quit': 0, 'volum': 0, 'support': 0, 'mp': 0, 'reason': 0, 'switch': 0, 'model': 0, 'store': 0, 'took': 0, 'peopl': 0, 'star': 0, 'fast': 0, 'move': 0, 'easili': 0, 'sever': 0, 'file': 0, 'low': 0, 'keyboard': 0, 'nois': 0, 'function': 0, 'clear': 0, 'port': 0, 'perfectli': 1, 'imag': 0, 'pc': 0, 'flash': 0, 'bass': 0, 'thought': 0, 'point': 1, 'charger': 0, 'away': 0, 'color': 0, 'cost': 0, 'call': 0, 'extra': 0, 'allow': 0, 'highli': 0, 'said': 0, 'chang': 0, 'anyth': 0, 'watch': 0, 'definit': 0, 'alway': 0, 'movi': 0, 'pair': 0, 'perform': 0, 'servic': 0, 'show': 0, 'brand': 0, 'part': 0, 'almost': 0, 'went': 0, 'minut': 0, 'wall': 0, 'adjust': 0, 'comfort': 0, 'anyon': 0, 'open': 0, 'deal': 0, 'protect': 0, 'carri': 1, 'top': 0, 'coupl': 0, 'canon': 0, 'yet': 0, 'monitor': 0, 'hdmi': 0, 'x': 0, 'job': 0, 'pay': 0, 'provid': 0, 'pleas': 0, 'compar': 0, 'simpl': 0, 'speed': 0, 'signal': 0, 'expens': 0, 'custom': 0, 'might': 0, 'cover': 0, 'decid': 0, 'probabl': 0, 'option': 0, 'wireless': 0, 'save': 0, 'hear': 0, 'hand': 0, 'ago': 1, 'hook': 0, 'ever': 0, 'notic': 0, 'sd': 0, 'larg': 0, 'full': 0, 'amaz': 0, 'stop': 0, 'noth': 0, 'packag': 0, 'plastic': 0, 'etc': 0, 'channel': 0, 'display': 0, 'origin': 0, 'type': 0, 'overal': 0, 'space': 0, 'arriv': 0, 'hope': 0, 'three': 0, 'life': 0, 'cd': 0, 'either': 0, 'game': 0, 'complet': 0, 'line': 0, 'not_us': 0, 'piec': 0, 'setup': 0, 'must': 0, 'left': 0, 'rate': 0, 'exactli': 0, 'live': 0, 'updat': 0, 'disappoint': 0, 'close': 0, 'upgrad': 0, 'mm': 0, 'attach': 0, 'mode': 0, 'especi': 0, 'next': 0, 'other': 0, 'manual': 0, 'stay': 0, 'instead': 0, 'fan': 0, 'view': 0, 'base': 0, 'longer': 0, 'lcd': 0, 'fact': 0, 'although': 0, 'program': 0, 'remov': 0, 'let': 0, 'requir': 0, 'wish': 0, 'rang': 0, 'least': 0, 'level': 0, 'final': 0, 'tell': 0, 'complaint': 0, 'pocket': 0, 'shot': 0, 'quickli': 0, 'experi': 0, 'shoot': 1, 'short': 0, 'black': 0, 'user': 0, 'garmin': 0, 'front': 0, 'extrem': 0, 'download': 0, 'head': 0, 'travel': 0, 'mine': 0, 'plu': 0, 'instruct': 0, 'compani': 0, 'inch': 0, 'els': 0, 'test': 0, 'touch': 0, 'standard': 1, 'care': 0, 'free': 0, 'key': 0, 'spend': 0, 'consid': 0, 'station': 0, 'mean': 0, 'samsung': 0, 'mac': 0, 'alreadi': 0, 'stereo': 0, 'transfer': 0, 'hous': 0, 'cool': 0, 'version': 0, 'frame': 0, 'mayb': 0, 'antenna': 0, 'pro': 0, 'drop': 0, 'avail': 0, 'thank': 0, 'sometim': 0, 'pad': 0, 'input': 0, 'portabl': 0, 'zoom': 0, 'cannot': 0, 'figur': 0, 'trip': 0, 'direct': 0, 'wrong': 0, 'bright': 0, 'ok': 0, 'addit': 1, 'fix': 0, 'awesom': 0, 'pick': 0, 'song': 0, 'load': 0, 'appl': 0, 'heavi': 0, 'built': 0, 'gener': 0, 'driver': 0, 'person': 0, 'valu': 0, 'insid': 0, 'screw': 0, 'wonder': 0, 'friend': 0, 'decent': 0, 'real': 0, 'data': 0, 'simpli': 0, 'clean': 0, 'impress': 0, 'zune': 0, 'add': 0, 'number': 0, 'connector': 0, 'gave': 0, 'machin': 0, 'extern': 0, 'within': 0, 'stand': 0, 'leav': 0, 'area': 0, 'loud': 0, 'us': 0, 'posit': 0, 'kind': 0, 'clip': 0, 'fail': 0, 'offer': 0, 'bose': 0, 'basic': 0, 'solid': 0, 'map': 0, 'paid': 0, 'earbud': 0, 'advertis': 0, 'router': 0, 'headset': 0, 'check': 0, 'quick': 0, 'oper': 0, 'wait': 0, 'send': 0, 'due': 0, 'happen': 0, 'note': 0, 'warranti': 0, 'done': 0, 'access': 0, 'nikon': 0, 'result': 0, 'format': 0, 'sit': 0, 'bottom': 0, 'half': 0, 'handl': 0, 'except': 0, 'recent': 0, 'weight': 0, 'p': 0, 'center': 0, 'suppli': 0, 'enjoy': 0, 'absolut': 0, 'appear': 0, 'older': 0, 'ask': 0, 'guess': 0, 'kit': 0, 'rather': 0, 'secur': 0, 'unless': 0, 'sturdi': 0, 'tripod': 0, 'dock': 0, 'stick': 0, 'total': 0, 'sent': 0, 'suppos': 0, 'research': 0, 'mention': 0, 'media': 0, 'improv': 0, 'disc': 0, 'smaller': 0, 'later': 0, 'pack': 0, 'caus': 0, 'internet': 0, 'fall': 0, 'someon': 0} \n",
      "\n",
      "{'use': 1, 'work': 0, 'one': 1, 'great': 0, 'get': 0, 'good': 0, 'would': 0, 'like': 0, 'product': 1, 'sound': 0, 'camera': 0, 'time': 1, 'well': 0, 'need': 0, 'price': 1, 'qualiti': 0, 'look': 0, 'bought': 0, 'buy': 0, 'cabl': 0, 'purchas': 0, 'also': 1, 'want': 0, 'problem': 1, 'even': 0, 'much': 0, 'realli': 0, 'tv': 0, 'make': 0, 'easi': 1, 'set': 0, 'batteri': 0, 'speaker': 0, 'pictur': 0, 'go': 0, 'unit': 0, 'littl': 0, 'better': 0, 'card': 1, 'drive': 0, 'thing': 0, 'take': 0, 'comput': 0, 'back': 0, 'case': 0, 'recommend': 0, 'got': 0, 'year': 0, 'player': 0, 'new': 0, 'tri': 0, 'could': 0, 'still': 0, 'review': 0, 'nice': 0, 'first': 0, 'fit': 1, 'power': 0, 'two': 0, 'love': 0, 'come': 1, 'plug': 0, 'connect': 0, 'ipod': 0, 'video': 1, 'instal': 0, 'mount': 0, 'way': 0, 'screen': 0, 'devic': 0, 'say': 0, 'day': 0, 'small': 0, 'replac': 0, 'seem': 0, 'right': 0, 'laptop': 0, 'best': 0, 'lot': 0, 'turn': 0, 'find': 0, 'light': 0, 'system': 0, 'without': 0, 'receiv': 0, 'put': 0, 'think': 0, 'usb': 1, 'headphon': 0, 'anoth': 0, 'music': 0, 'differ': 0, 'play': 0, 'month': 0, 'amazon': 0, 'sinc': 0, 'around': 0, 'know': 0, 'featur': 0, 'order': 0, 'see': 0, 'fine': 0, 'old': 0, 'long': 0, 'enough': 0, 'item': 0, 'charg': 0, 'hard': 0, 'far': 1, 'len': 0, 'mous': 0, 'run': 0, 'mani': 0, 'bit': 0, 'expect': 0, 'made': 0, 'issu': 0, 'never': 0, 'money': 0, 'read': 0, 'size': 0, 'keep': 0, 'last': 0, 'howev': 0, 'button': 0, 'dvd': 1, 'softwar': 0, 'give': 0, 'perfect': 0, 'phone': 0, 'found': 0, 'record': 0, 'someth': 0, 'abl': 0, 'came': 0, 'ear': 0, 'pretti': 0, 'gb': 0, 'box': 0, 'though': 0, 'excel': 0, 'high': 0, 'hold': 0, 'soni': 1, 'radio': 0, 'control': 0, 'adapt': 0, 'feel': 0, 'end': 1, 'cord': 0, 'big': 0, 'return': 0, 'remot': 0, 'start': 0, 'sure': 0, 'room': 0, 'worth': 0, 'home': 0, 'digit': 0, 'car': 0, 'ship': 0, 'bag': 0, 'everyth': 0, 'wire': 0, 'second': 0, 'week': 0, 'includ': 0, 'hour': 0, 'everi': 0, 'may': 0, 'listen': 0, 'hd': 0, 'audio': 0, 'actual': 0, 'less': 0, 'place': 0, 'side': 0, 'design': 0, 'cheap': 0, 'window': 0, 'happi': 0, 'memori': 1, 'help': 0, 'gp': 0, 'photo': 0, 'bad': 0, 'quit': 0, 'volum': 0, 'support': 0, 'mp': 0, 'reason': 0, 'switch': 0, 'model': 0, 'store': 0, 'took': 0, 'peopl': 0, 'star': 0, 'fast': 0, 'move': 0, 'easili': 0, 'sever': 1, 'file': 0, 'low': 0, 'keyboard': 0, 'nois': 0, 'function': 0, 'clear': 1, 'port': 0, 'perfectli': 0, 'imag': 0, 'pc': 0, 'flash': 0, 'bass': 0, 'thought': 0, 'point': 0, 'charger': 0, 'away': 0, 'color': 0, 'cost': 0, 'call': 0, 'extra': 0, 'allow': 0, 'highli': 0, 'said': 0, 'chang': 0, 'anyth': 0, 'watch': 0, 'definit': 0, 'alway': 0, 'movi': 0, 'pair': 0, 'perform': 0, 'servic': 0, 'show': 0, 'brand': 0, 'part': 0, 'almost': 0, 'went': 0, 'minut': 0, 'wall': 0, 'adjust': 0, 'comfort': 0, 'anyon': 0, 'open': 0, 'deal': 0, 'protect': 0, 'carri': 0, 'top': 0, 'coupl': 0, 'canon': 0, 'yet': 0, 'monitor': 0, 'hdmi': 0, 'x': 0, 'job': 0, 'pay': 0, 'provid': 0, 'pleas': 0, 'compar': 0, 'simpl': 0, 'speed': 0, 'signal': 0, 'expens': 0, 'custom': 0, 'might': 0, 'cover': 1, 'decid': 0, 'probabl': 0, 'option': 0, 'wireless': 0, 'save': 0, 'hear': 0, 'hand': 0, 'ago': 0, 'hook': 0, 'ever': 0, 'notic': 1, 'sd': 0, 'larg': 0, 'full': 0, 'amaz': 0, 'stop': 0, 'noth': 0, 'packag': 0, 'plastic': 0, 'etc': 0, 'channel': 0, 'display': 0, 'origin': 0, 'type': 0, 'overal': 0, 'space': 0, 'arriv': 0, 'hope': 0, 'three': 0, 'life': 0, 'cd': 0, 'either': 1, 'game': 0, 'complet': 0, 'line': 0, 'not_us': 1, 'piec': 0, 'setup': 0, 'must': 0, 'left': 0, 'rate': 0, 'exactli': 0, 'live': 0, 'updat': 0, 'disappoint': 0, 'close': 0, 'upgrad': 0, 'mm': 0, 'attach': 0, 'mode': 0, 'especi': 0, 'next': 0, 'other': 0, 'manual': 0, 'stay': 0, 'instead': 0, 'fan': 0, 'view': 0, 'base': 0, 'longer': 0, 'lcd': 0, 'fact': 0, 'although': 0, 'program': 0, 'remov': 0, 'let': 0, 'requir': 0, 'wish': 1, 'rang': 0, 'least': 0, 'level': 0, 'final': 0, 'tell': 0, 'complaint': 0, 'pocket': 0, 'shot': 0, 'quickli': 0, 'experi': 0, 'shoot': 0, 'short': 0, 'black': 0, 'user': 0, 'garmin': 0, 'front': 0, 'extrem': 0, 'download': 0, 'head': 0, 'travel': 0, 'mine': 0, 'plu': 0, 'instruct': 0, 'compani': 0, 'inch': 0, 'els': 0, 'test': 0, 'touch': 0, 'standard': 0, 'care': 0, 'free': 0, 'key': 0, 'spend': 0, 'consid': 0, 'station': 0, 'mean': 0, 'samsung': 0, 'mac': 0, 'alreadi': 1, 'stereo': 0, 'transfer': 1, 'hous': 0, 'cool': 0, 'version': 0, 'frame': 0, 'mayb': 0, 'antenna': 0, 'pro': 1, 'drop': 0, 'avail': 0, 'thank': 0, 'sometim': 0, 'pad': 0, 'input': 0, 'portabl': 0, 'zoom': 0, 'cannot': 0, 'figur': 0, 'trip': 0, 'direct': 0, 'wrong': 0, 'bright': 0, 'ok': 0, 'addit': 0, 'fix': 0, 'awesom': 0, 'pick': 0, 'song': 0, 'load': 0, 'appl': 0, 'heavi': 0, 'built': 0, 'gener': 0, 'driver': 0, 'person': 0, 'valu': 0, 'insid': 0, 'screw': 0, 'wonder': 0, 'friend': 0, 'decent': 0, 'real': 0, 'data': 0, 'simpli': 0, 'clean': 0, 'impress': 0, 'zune': 0, 'add': 0, 'number': 0, 'connector': 0, 'gave': 0, 'machin': 0, 'extern': 0, 'within': 0, 'stand': 0, 'leav': 0, 'area': 0, 'loud': 0, 'us': 0, 'posit': 0, 'kind': 0, 'clip': 0, 'fail': 0, 'offer': 0, 'bose': 0, 'basic': 0, 'solid': 0, 'map': 0, 'paid': 0, 'earbud': 0, 'advertis': 0, 'router': 0, 'headset': 0, 'check': 0, 'quick': 0, 'oper': 0, 'wait': 0, 'send': 0, 'due': 0, 'happen': 0, 'note': 0, 'warranti': 0, 'done': 0, 'access': 0, 'nikon': 0, 'result': 0, 'format': 0, 'sit': 0, 'bottom': 0, 'half': 0, 'handl': 0, 'except': 0, 'recent': 0, 'weight': 0, 'p': 0, 'center': 0, 'suppli': 0, 'enjoy': 0, 'absolut': 0, 'appear': 0, 'older': 0, 'ask': 0, 'guess': 0, 'kit': 0, 'rather': 0, 'secur': 0, 'unless': 0, 'sturdi': 0, 'tripod': 0, 'dock': 0, 'stick': 1, 'total': 0, 'sent': 0, 'suppos': 0, 'research': 0, 'mention': 0, 'media': 0, 'improv': 0, 'disc': 0, 'smaller': 0, 'later': 0, 'pack': 0, 'caus': 0, 'internet': 0, 'fall': 0, 'someon': 0} \n",
      "\n",
      "{'use': 1, 'work': 0, 'one': 1, 'great': 0, 'get': 0, 'good': 0, 'would': 0, 'like': 0, 'product': 0, 'sound': 0, 'camera': 0, 'time': 0, 'well': 0, 'need': 0, 'price': 1, 'qualiti': 0, 'look': 1, 'bought': 0, 'buy': 0, 'cabl': 0, 'purchas': 0, 'also': 0, 'want': 1, 'problem': 0, 'even': 0, 'much': 0, 'realli': 0, 'tv': 0, 'make': 0, 'easi': 1, 'set': 0, 'batteri': 0, 'speaker': 0, 'pictur': 0, 'go': 0, 'unit': 0, 'littl': 0, 'better': 0, 'card': 1, 'drive': 0, 'thing': 0, 'take': 0, 'comput': 0, 'back': 0, 'case': 0, 'recommend': 0, 'got': 0, 'year': 1, 'player': 0, 'new': 0, 'tri': 0, 'could': 0, 'still': 0, 'review': 0, 'nice': 0, 'first': 0, 'fit': 0, 'power': 0, 'two': 0, 'love': 0, 'come': 0, 'plug': 0, 'connect': 0, 'ipod': 0, 'video': 0, 'instal': 0, 'mount': 0, 'way': 0, 'screen': 0, 'devic': 0, 'say': 0, 'day': 0, 'small': 0, 'replac': 0, 'seem': 0, 'right': 0, 'laptop': 0, 'best': 0, 'lot': 0, 'turn': 0, 'find': 0, 'light': 0, 'system': 0, 'without': 0, 'receiv': 0, 'put': 0, 'think': 0, 'usb': 0, 'headphon': 0, 'anoth': 0, 'music': 0, 'differ': 0, 'play': 0, 'month': 0, 'amazon': 0, 'sinc': 0, 'around': 0, 'know': 0, 'featur': 0, 'order': 0, 'see': 0, 'fine': 0, 'old': 0, 'long': 0, 'enough': 0, 'item': 0, 'charg': 0, 'hard': 0, 'far': 0, 'len': 0, 'mous': 0, 'run': 0, 'mani': 0, 'bit': 0, 'expect': 0, 'made': 0, 'issu': 0, 'never': 0, 'money': 0, 'read': 0, 'size': 0, 'keep': 0, 'last': 0, 'howev': 0, 'button': 0, 'dvd': 0, 'softwar': 0, 'give': 0, 'perfect': 0, 'phone': 0, 'found': 0, 'record': 0, 'someth': 0, 'abl': 0, 'came': 0, 'ear': 0, 'pretti': 0, 'gb': 0, 'box': 0, 'though': 0, 'excel': 0, 'high': 0, 'hold': 0, 'soni': 0, 'radio': 0, 'control': 0, 'adapt': 0, 'feel': 0, 'end': 0, 'cord': 0, 'big': 0, 'return': 0, 'remot': 0, 'start': 0, 'sure': 0, 'room': 0, 'worth': 0, 'home': 0, 'digit': 0, 'car': 0, 'ship': 0, 'bag': 0, 'everyth': 0, 'wire': 0, 'second': 0, 'week': 0, 'includ': 0, 'hour': 0, 'everi': 0, 'may': 0, 'listen': 0, 'hd': 0, 'audio': 0, 'actual': 0, 'less': 0, 'place': 0, 'side': 0, 'design': 0, 'cheap': 0, 'window': 0, 'happi': 0, 'memori': 0, 'help': 0, 'gp': 0, 'photo': 0, 'bad': 0, 'quit': 0, 'volum': 0, 'support': 0, 'mp': 0, 'reason': 0, 'switch': 0, 'model': 0, 'store': 0, 'took': 0, 'peopl': 0, 'star': 0, 'fast': 0, 'move': 0, 'easili': 0, 'sever': 0, 'file': 0, 'low': 0, 'keyboard': 0, 'nois': 0, 'function': 0, 'clear': 0, 'port': 0, 'perfectli': 0, 'imag': 0, 'pc': 0, 'flash': 0, 'bass': 0, 'thought': 0, 'point': 0, 'charger': 0, 'away': 0, 'color': 0, 'cost': 0, 'call': 0, 'extra': 0, 'allow': 0, 'highli': 0, 'said': 0, 'chang': 0, 'anyth': 0, 'watch': 0, 'definit': 0, 'alway': 0, 'movi': 0, 'pair': 0, 'perform': 0, 'servic': 0, 'show': 0, 'brand': 0, 'part': 0, 'almost': 0, 'went': 0, 'minut': 0, 'wall': 0, 'adjust': 0, 'comfort': 0, 'anyon': 0, 'open': 0, 'deal': 0, 'protect': 0, 'carri': 0, 'top': 0, 'coupl': 1, 'canon': 0, 'yet': 0, 'monitor': 0, 'hdmi': 0, 'x': 0, 'job': 0, 'pay': 0, 'provid': 0, 'pleas': 0, 'compar': 0, 'simpl': 0, 'speed': 0, 'signal': 0, 'expens': 0, 'custom': 0, 'might': 0, 'cover': 0, 'decid': 0, 'probabl': 0, 'option': 0, 'wireless': 0, 'save': 0, 'hear': 0, 'hand': 0, 'ago': 0, 'hook': 0, 'ever': 0, 'notic': 0, 'sd': 0, 'larg': 0, 'full': 0, 'amaz': 0, 'stop': 0, 'noth': 0, 'packag': 0, 'plastic': 0, 'etc': 0, 'channel': 0, 'display': 0, 'origin': 0, 'type': 0, 'overal': 0, 'space': 0, 'arriv': 0, 'hope': 0, 'three': 0, 'life': 0, 'cd': 0, 'either': 0, 'game': 0, 'complet': 0, 'line': 0, 'not_us': 0, 'piec': 0, 'setup': 0, 'must': 0, 'left': 0, 'rate': 0, 'exactli': 0, 'live': 0, 'updat': 0, 'disappoint': 0, 'close': 0, 'upgrad': 0, 'mm': 0, 'attach': 0, 'mode': 0, 'especi': 0, 'next': 0, 'other': 0, 'manual': 0, 'stay': 0, 'instead': 0, 'fan': 0, 'view': 0, 'base': 0, 'longer': 0, 'lcd': 0, 'fact': 0, 'although': 0, 'program': 0, 'remov': 0, 'let': 0, 'requir': 0, 'wish': 0, 'rang': 0, 'least': 0, 'level': 0, 'final': 0, 'tell': 0, 'complaint': 0, 'pocket': 0, 'shot': 0, 'quickli': 0, 'experi': 0, 'shoot': 0, 'short': 0, 'black': 0, 'user': 0, 'garmin': 0, 'front': 0, 'extrem': 0, 'download': 0, 'head': 0, 'travel': 0, 'mine': 1, 'plu': 0, 'instruct': 0, 'compani': 0, 'inch': 0, 'els': 0, 'test': 0, 'touch': 0, 'standard': 0, 'care': 0, 'free': 0, 'key': 0, 'spend': 0, 'consid': 0, 'station': 0, 'mean': 0, 'samsung': 0, 'mac': 0, 'alreadi': 0, 'stereo': 0, 'transfer': 0, 'hous': 0, 'cool': 0, 'version': 0, 'frame': 0, 'mayb': 0, 'antenna': 0, 'pro': 0, 'drop': 0, 'avail': 0, 'thank': 0, 'sometim': 0, 'pad': 0, 'input': 0, 'portabl': 0, 'zoom': 0, 'cannot': 0, 'figur': 0, 'trip': 0, 'direct': 0, 'wrong': 0, 'bright': 0, 'ok': 0, 'addit': 0, 'fix': 0, 'awesom': 0, 'pick': 0, 'song': 0, 'load': 0, 'appl': 0, 'heavi': 0, 'built': 0, 'gener': 0, 'driver': 0, 'person': 0, 'valu': 0, 'insid': 0, 'screw': 0, 'wonder': 0, 'friend': 0, 'decent': 0, 'real': 0, 'data': 0, 'simpli': 1, 'clean': 0, 'impress': 0, 'zune': 0, 'add': 0, 'number': 0, 'connector': 0, 'gave': 0, 'machin': 0, 'extern': 0, 'within': 0, 'stand': 0, 'leav': 0, 'area': 0, 'loud': 0, 'us': 0, 'posit': 0, 'kind': 0, 'clip': 0, 'fail': 0, 'offer': 0, 'bose': 0, 'basic': 0, 'solid': 0, 'map': 0, 'paid': 0, 'earbud': 0, 'advertis': 0, 'router': 0, 'headset': 0, 'check': 0, 'quick': 0, 'oper': 0, 'wait': 0, 'send': 0, 'due': 0, 'happen': 0, 'note': 0, 'warranti': 0, 'done': 0, 'access': 0, 'nikon': 0, 'result': 0, 'format': 0, 'sit': 0, 'bottom': 0, 'half': 0, 'handl': 0, 'except': 0, 'recent': 0, 'weight': 0, 'p': 0, 'center': 0, 'suppli': 0, 'enjoy': 0, 'absolut': 0, 'appear': 0, 'older': 0, 'ask': 0, 'guess': 0, 'kit': 0, 'rather': 0, 'secur': 0, 'unless': 0, 'sturdi': 0, 'tripod': 0, 'dock': 0, 'stick': 0, 'total': 0, 'sent': 0, 'suppos': 0, 'research': 0, 'mention': 0, 'media': 0, 'improv': 0, 'disc': 0, 'smaller': 0, 'later': 0, 'pack': 0, 'caus': 0, 'internet': 0, 'fall': 0, 'someon': 0} \n",
      "\n",
      "{'use': 0, 'work': 1, 'one': 0, 'great': 0, 'get': 0, 'good': 1, 'would': 0, 'like': 0, 'product': 0, 'sound': 0, 'camera': 1, 'time': 0, 'well': 0, 'need': 1, 'price': 0, 'qualiti': 0, 'look': 0, 'bought': 0, 'buy': 0, 'cabl': 0, 'purchas': 0, 'also': 0, 'want': 0, 'problem': 0, 'even': 0, 'much': 0, 'realli': 0, 'tv': 0, 'make': 0, 'easi': 0, 'set': 0, 'batteri': 0, 'speaker': 0, 'pictur': 0, 'go': 0, 'unit': 0, 'littl': 0, 'better': 0, 'card': 0, 'drive': 0, 'thing': 0, 'take': 0, 'comput': 1, 'back': 0, 'case': 0, 'recommend': 0, 'got': 0, 'year': 0, 'player': 0, 'new': 0, 'tri': 0, 'could': 0, 'still': 0, 'review': 0, 'nice': 0, 'first': 0, 'fit': 0, 'power': 0, 'two': 0, 'love': 0, 'come': 0, 'plug': 0, 'connect': 0, 'ipod': 0, 'video': 0, 'instal': 0, 'mount': 0, 'way': 0, 'screen': 0, 'devic': 0, 'say': 0, 'day': 0, 'small': 0, 'replac': 1, 'seem': 0, 'right': 0, 'laptop': 0, 'best': 0, 'lot': 0, 'turn': 0, 'find': 0, 'light': 0, 'system': 0, 'without': 0, 'receiv': 0, 'put': 0, 'think': 0, 'usb': 0, 'headphon': 0, 'anoth': 0, 'music': 0, 'differ': 0, 'play': 0, 'month': 0, 'amazon': 0, 'sinc': 0, 'around': 0, 'know': 0, 'featur': 0, 'order': 1, 'see': 0, 'fine': 0, 'old': 0, 'long': 0, 'enough': 0, 'item': 0, 'charg': 0, 'hard': 0, 'far': 0, 'len': 0, 'mous': 0, 'run': 0, 'mani': 0, 'bit': 0, 'expect': 0, 'made': 0, 'issu': 0, 'never': 0, 'money': 0, 'read': 0, 'size': 0, 'keep': 0, 'last': 0, 'howev': 0, 'button': 0, 'dvd': 0, 'softwar': 0, 'give': 0, 'perfect': 0, 'phone': 0, 'found': 0, 'record': 0, 'someth': 0, 'abl': 0, 'came': 0, 'ear': 0, 'pretti': 0, 'gb': 0, 'box': 0, 'though': 0, 'excel': 0, 'high': 0, 'hold': 0, 'soni': 1, 'radio': 0, 'control': 0, 'adapt': 1, 'feel': 0, 'end': 0, 'cord': 1, 'big': 0, 'return': 0, 'remot': 0, 'start': 0, 'sure': 0, 'room': 0, 'worth': 0, 'home': 0, 'digit': 0, 'car': 0, 'ship': 0, 'bag': 0, 'everyth': 0, 'wire': 0, 'second': 0, 'week': 0, 'includ': 0, 'hour': 0, 'everi': 0, 'may': 0, 'listen': 0, 'hd': 0, 'audio': 0, 'actual': 0, 'less': 0, 'place': 0, 'side': 0, 'design': 0, 'cheap': 0, 'window': 0, 'happi': 0, 'memori': 0, 'help': 0, 'gp': 0, 'photo': 0, 'bad': 0, 'quit': 0, 'volum': 0, 'support': 0, 'mp': 0, 'reason': 0, 'switch': 0, 'model': 0, 'store': 0, 'took': 0, 'peopl': 0, 'star': 0, 'fast': 0, 'move': 0, 'easili': 0, 'sever': 0, 'file': 0, 'low': 0, 'keyboard': 0, 'nois': 0, 'function': 0, 'clear': 0, 'port': 0, 'perfectli': 1, 'imag': 0, 'pc': 0, 'flash': 0, 'bass': 0, 'thought': 0, 'point': 0, 'charger': 0, 'away': 0, 'color': 0, 'cost': 0, 'call': 0, 'extra': 0, 'allow': 0, 'highli': 0, 'said': 0, 'chang': 0, 'anyth': 0, 'watch': 0, 'definit': 0, 'alway': 1, 'movi': 0, 'pair': 0, 'perform': 0, 'servic': 0, 'show': 0, 'brand': 0, 'part': 0, 'almost': 0, 'went': 0, 'minut': 0, 'wall': 0, 'adjust': 0, 'comfort': 0, 'anyon': 0, 'open': 0, 'deal': 0, 'protect': 0, 'carri': 0, 'top': 0, 'coupl': 0, 'canon': 0, 'yet': 0, 'monitor': 0, 'hdmi': 0, 'x': 0, 'job': 0, 'pay': 0, 'provid': 0, 'pleas': 0, 'compar': 0, 'simpl': 0, 'speed': 0, 'signal': 0, 'expens': 0, 'custom': 0, 'might': 0, 'cover': 0, 'decid': 0, 'probabl': 0, 'option': 0, 'wireless': 0, 'save': 0, 'hear': 0, 'hand': 0, 'ago': 0, 'hook': 1, 'ever': 0, 'notic': 0, 'sd': 0, 'larg': 0, 'full': 0, 'amaz': 0, 'stop': 0, 'noth': 0, 'packag': 0, 'plastic': 0, 'etc': 0, 'channel': 0, 'display': 0, 'origin': 1, 'type': 0, 'overal': 0, 'space': 0, 'arriv': 0, 'hope': 0, 'three': 0, 'life': 0, 'cd': 0, 'either': 0, 'game': 0, 'complet': 0, 'line': 0, 'not_us': 0, 'piec': 0, 'setup': 0, 'must': 0, 'left': 0, 'rate': 0, 'exactli': 0, 'live': 0, 'updat': 0, 'disappoint': 0, 'close': 0, 'upgrad': 0, 'mm': 0, 'attach': 0, 'mode': 0, 'especi': 0, 'next': 0, 'other': 0, 'manual': 0, 'stay': 0, 'instead': 0, 'fan': 0, 'view': 0, 'base': 0, 'longer': 0, 'lcd': 0, 'fact': 0, 'although': 0, 'program': 0, 'remov': 0, 'let': 0, 'requir': 0, 'wish': 0, 'rang': 0, 'least': 0, 'level': 0, 'final': 0, 'tell': 0, 'complaint': 0, 'pocket': 0, 'shot': 0, 'quickli': 0, 'experi': 0, 'shoot': 0, 'short': 0, 'black': 0, 'user': 0, 'garmin': 0, 'front': 0, 'extrem': 0, 'download': 0, 'head': 0, 'travel': 0, 'mine': 0, 'plu': 0, 'instruct': 0, 'compani': 0, 'inch': 0, 'els': 0, 'test': 0, 'touch': 0, 'standard': 0, 'care': 0, 'free': 0, 'key': 0, 'spend': 0, 'consid': 0, 'station': 0, 'mean': 0, 'samsung': 0, 'mac': 0, 'alreadi': 0, 'stereo': 0, 'transfer': 0, 'hous': 0, 'cool': 0, 'version': 0, 'frame': 0, 'mayb': 0, 'antenna': 0, 'pro': 0, 'drop': 0, 'avail': 0, 'thank': 0, 'sometim': 0, 'pad': 0, 'input': 0, 'portabl': 0, 'zoom': 0, 'cannot': 0, 'figur': 0, 'trip': 0, 'direct': 0, 'wrong': 0, 'bright': 0, 'ok': 0, 'addit': 0, 'fix': 0, 'awesom': 0, 'pick': 0, 'song': 0, 'load': 0, 'appl': 0, 'heavi': 0, 'built': 0, 'gener': 0, 'driver': 0, 'person': 0, 'valu': 0, 'insid': 0, 'screw': 0, 'wonder': 0, 'friend': 0, 'decent': 0, 'real': 0, 'data': 0, 'simpli': 0, 'clean': 0, 'impress': 0, 'zune': 0, 'add': 0, 'number': 0, 'connector': 0, 'gave': 0, 'machin': 0, 'extern': 0, 'within': 0, 'stand': 0, 'leav': 0, 'area': 0, 'loud': 0, 'us': 0, 'posit': 0, 'kind': 0, 'clip': 0, 'fail': 0, 'offer': 0, 'bose': 0, 'basic': 0, 'solid': 0, 'map': 0, 'paid': 0, 'earbud': 0, 'advertis': 0, 'router': 0, 'headset': 0, 'check': 0, 'quick': 0, 'oper': 0, 'wait': 0, 'send': 0, 'due': 0, 'happen': 0, 'note': 0, 'warranti': 0, 'done': 0, 'access': 0, 'nikon': 0, 'result': 0, 'format': 0, 'sit': 0, 'bottom': 0, 'half': 0, 'handl': 0, 'except': 0, 'recent': 0, 'weight': 0, 'p': 0, 'center': 0, 'suppli': 0, 'enjoy': 0, 'absolut': 0, 'appear': 0, 'older': 0, 'ask': 0, 'guess': 0, 'kit': 0, 'rather': 0, 'secur': 0, 'unless': 0, 'sturdi': 0, 'tripod': 0, 'dock': 0, 'stick': 0, 'total': 0, 'sent': 0, 'suppos': 0, 'research': 0, 'mention': 0, 'media': 0, 'improv': 0, 'disc': 0, 'smaller': 0, 'later': 0, 'pack': 0, 'caus': 0, 'internet': 0, 'fall': 0, 'someon': 0} \n",
      "\n",
      "{'use': 1, 'work': 0, 'one': 1, 'great': 0, 'get': 0, 'good': 0, 'would': 0, 'like': 0, 'product': 0, 'sound': 0, 'camera': 0, 'time': 0, 'well': 1, 'need': 0, 'price': 0, 'qualiti': 0, 'look': 1, 'bought': 1, 'buy': 0, 'cabl': 0, 'purchas': 0, 'also': 0, 'want': 1, 'problem': 0, 'even': 0, 'much': 0, 'realli': 0, 'tv': 0, 'make': 1, 'easi': 0, 'set': 0, 'batteri': 0, 'speaker': 0, 'pictur': 0, 'go': 0, 'unit': 0, 'littl': 0, 'better': 0, 'card': 1, 'drive': 0, 'thing': 0, 'take': 0, 'comput': 0, 'back': 0, 'case': 0, 'recommend': 0, 'got': 0, 'year': 0, 'player': 0, 'new': 0, 'tri': 0, 'could': 0, 'still': 0, 'review': 0, 'nice': 0, 'first': 1, 'fit': 1, 'power': 0, 'two': 0, 'love': 0, 'come': 0, 'plug': 0, 'connect': 0, 'ipod': 0, 'video': 0, 'instal': 0, 'mount': 0, 'way': 0, 'screen': 0, 'devic': 0, 'say': 1, 'day': 0, 'small': 0, 'replac': 0, 'seem': 0, 'right': 0, 'laptop': 0, 'best': 0, 'lot': 0, 'turn': 0, 'find': 0, 'light': 0, 'system': 0, 'without': 0, 'receiv': 0, 'put': 0, 'think': 0, 'usb': 0, 'headphon': 0, 'anoth': 0, 'music': 0, 'differ': 0, 'play': 0, 'month': 0, 'amazon': 0, 'sinc': 0, 'around': 0, 'know': 0, 'featur': 0, 'order': 1, 'see': 0, 'fine': 0, 'old': 0, 'long': 0, 'enough': 0, 'item': 0, 'charg': 0, 'hard': 0, 'far': 0, 'len': 0, 'mous': 0, 'run': 0, 'mani': 0, 'bit': 0, 'expect': 0, 'made': 0, 'issu': 0, 'never': 0, 'money': 0, 'read': 1, 'size': 0, 'keep': 0, 'last': 0, 'howev': 0, 'button': 0, 'dvd': 0, 'softwar': 0, 'give': 0, 'perfect': 0, 'phone': 0, 'found': 0, 'record': 0, 'someth': 0, 'abl': 0, 'came': 0, 'ear': 0, 'pretti': 0, 'gb': 0, 'box': 0, 'though': 0, 'excel': 0, 'high': 0, 'hold': 0, 'soni': 1, 'radio': 0, 'control': 0, 'adapt': 0, 'feel': 0, 'end': 0, 'cord': 0, 'big': 0, 'return': 0, 'remot': 0, 'start': 0, 'sure': 1, 'room': 0, 'worth': 0, 'home': 0, 'digit': 0, 'car': 0, 'ship': 0, 'bag': 0, 'everyth': 0, 'wire': 0, 'second': 0, 'week': 0, 'includ': 0, 'hour': 0, 'everi': 0, 'may': 0, 'listen': 0, 'hd': 0, 'audio': 0, 'actual': 0, 'less': 0, 'place': 0, 'side': 0, 'design': 0, 'cheap': 0, 'window': 0, 'happi': 0, 'memori': 0, 'help': 0, 'gp': 0, 'photo': 0, 'bad': 0, 'quit': 0, 'volum': 0, 'support': 0, 'mp': 0, 'reason': 0, 'switch': 0, 'model': 0, 'store': 0, 'took': 0, 'peopl': 0, 'star': 0, 'fast': 0, 'move': 0, 'easili': 0, 'sever': 1, 'file': 0, 'low': 0, 'keyboard': 0, 'nois': 0, 'function': 0, 'clear': 0, 'port': 0, 'perfectli': 0, 'imag': 0, 'pc': 0, 'flash': 0, 'bass': 0, 'thought': 0, 'point': 0, 'charger': 0, 'away': 0, 'color': 0, 'cost': 0, 'call': 0, 'extra': 0, 'allow': 0, 'highli': 0, 'said': 0, 'chang': 0, 'anyth': 0, 'watch': 0, 'definit': 0, 'alway': 0, 'movi': 0, 'pair': 0, 'perform': 0, 'servic': 0, 'show': 0, 'brand': 0, 'part': 0, 'almost': 0, 'went': 0, 'minut': 0, 'wall': 0, 'adjust': 0, 'comfort': 0, 'anyon': 0, 'open': 0, 'deal': 0, 'protect': 0, 'carri': 0, 'top': 0, 'coupl': 0, 'canon': 0, 'yet': 0, 'monitor': 0, 'hdmi': 0, 'x': 0, 'job': 0, 'pay': 0, 'provid': 0, 'pleas': 0, 'compar': 0, 'simpl': 0, 'speed': 0, 'signal': 0, 'expens': 0, 'custom': 0, 'might': 0, 'cover': 0, 'decid': 0, 'probabl': 0, 'option': 0, 'wireless': 0, 'save': 0, 'hear': 0, 'hand': 0, 'ago': 0, 'hook': 0, 'ever': 0, 'notic': 0, 'sd': 1, 'larg': 0, 'full': 0, 'amaz': 0, 'stop': 0, 'noth': 0, 'packag': 0, 'plastic': 0, 'etc': 0, 'channel': 0, 'display': 0, 'origin': 0, 'type': 0, 'overal': 0, 'space': 0, 'arriv': 0, 'hope': 0, 'three': 0, 'life': 0, 'cd': 0, 'either': 0, 'game': 0, 'complet': 0, 'line': 0, 'not_us': 0, 'piec': 0, 'setup': 0, 'must': 0, 'left': 0, 'rate': 0, 'exactli': 1, 'live': 0, 'updat': 0, 'disappoint': 0, 'close': 0, 'upgrad': 0, 'mm': 0, 'attach': 0, 'mode': 0, 'especi': 0, 'next': 0, 'other': 0, 'manual': 0, 'stay': 0, 'instead': 0, 'fan': 0, 'view': 0, 'base': 0, 'longer': 0, 'lcd': 0, 'fact': 0, 'although': 0, 'program': 0, 'remov': 0, 'let': 0, 'requir': 0, 'wish': 0, 'rang': 0, 'least': 0, 'level': 0, 'final': 0, 'tell': 0, 'complaint': 0, 'pocket': 0, 'shot': 0, 'quickli': 0, 'experi': 0, 'shoot': 0, 'short': 0, 'black': 0, 'user': 0, 'garmin': 0, 'front': 0, 'extrem': 0, 'download': 0, 'head': 0, 'travel': 0, 'mine': 0, 'plu': 0, 'instruct': 0, 'compani': 0, 'inch': 0, 'els': 0, 'test': 0, 'touch': 0, 'standard': 1, 'care': 0, 'free': 0, 'key': 0, 'spend': 0, 'consid': 0, 'station': 0, 'mean': 0, 'samsung': 0, 'mac': 0, 'alreadi': 0, 'stereo': 0, 'transfer': 0, 'hous': 0, 'cool': 0, 'version': 0, 'frame': 0, 'mayb': 0, 'antenna': 0, 'pro': 0, 'drop': 0, 'avail': 0, 'thank': 0, 'sometim': 0, 'pad': 0, 'input': 0, 'portabl': 0, 'zoom': 0, 'cannot': 0, 'figur': 0, 'trip': 0, 'direct': 0, 'wrong': 0, 'bright': 0, 'ok': 0, 'addit': 0, 'fix': 0, 'awesom': 0, 'pick': 0, 'song': 0, 'load': 0, 'appl': 0, 'heavi': 0, 'built': 0, 'gener': 0, 'driver': 0, 'person': 0, 'valu': 0, 'insid': 0, 'screw': 0, 'wonder': 0, 'friend': 0, 'decent': 0, 'real': 0, 'data': 0, 'simpli': 0, 'clean': 0, 'impress': 0, 'zune': 0, 'add': 0, 'number': 0, 'connector': 0, 'gave': 0, 'machin': 0, 'extern': 0, 'within': 0, 'stand': 0, 'leav': 0, 'area': 0, 'loud': 0, 'us': 0, 'posit': 0, 'kind': 0, 'clip': 0, 'fail': 0, 'offer': 0, 'bose': 0, 'basic': 0, 'solid': 0, 'map': 0, 'paid': 0, 'earbud': 0, 'advertis': 0, 'router': 0, 'headset': 0, 'check': 0, 'quick': 0, 'oper': 0, 'wait': 0, 'send': 0, 'due': 0, 'happen': 0, 'note': 0, 'warranti': 0, 'done': 0, 'access': 0, 'nikon': 0, 'result': 0, 'format': 0, 'sit': 0, 'bottom': 0, 'half': 0, 'handl': 0, 'except': 0, 'recent': 0, 'weight': 0, 'p': 0, 'center': 0, 'suppli': 0, 'enjoy': 0, 'absolut': 0, 'appear': 0, 'older': 0, 'ask': 0, 'guess': 0, 'kit': 0, 'rather': 0, 'secur': 0, 'unless': 0, 'sturdi': 0, 'tripod': 0, 'dock': 0, 'stick': 0, 'total': 0, 'sent': 0, 'suppos': 1, 'research': 0, 'mention': 0, 'media': 0, 'improv': 0, 'disc': 0, 'smaller': 0, 'later': 0, 'pack': 0, 'caus': 0, 'internet': 0, 'fall': 0, 'someon': 0} \n",
      "\n",
      "{'use': 1, 'work': 0, 'one': 1, 'great': 0, 'get': 0, 'good': 0, 'would': 0, 'like': 0, 'product': 0, 'sound': 0, 'camera': 1, 'time': 0, 'well': 0, 'need': 0, 'price': 0, 'qualiti': 0, 'look': 0, 'bought': 0, 'buy': 0, 'cabl': 0, 'purchas': 0, 'also': 0, 'want': 0, 'problem': 0, 'even': 0, 'much': 0, 'realli': 0, 'tv': 0, 'make': 1, 'easi': 1, 'set': 0, 'batteri': 1, 'speaker': 0, 'pictur': 0, 'go': 0, 'unit': 0, 'littl': 0, 'better': 0, 'card': 1, 'drive': 0, 'thing': 1, 'take': 0, 'comput': 0, 'back': 0, 'case': 0, 'recommend': 0, 'got': 0, 'year': 0, 'player': 0, 'new': 0, 'tri': 0, 'could': 0, 'still': 0, 'review': 0, 'nice': 0, 'first': 0, 'fit': 0, 'power': 0, 'two': 0, 'love': 0, 'come': 0, 'plug': 0, 'connect': 0, 'ipod': 0, 'video': 0, 'instal': 0, 'mount': 0, 'way': 0, 'screen': 0, 'devic': 0, 'say': 0, 'day': 0, 'small': 0, 'replac': 0, 'seem': 0, 'right': 0, 'laptop': 0, 'best': 0, 'lot': 0, 'turn': 0, 'find': 0, 'light': 0, 'system': 0, 'without': 0, 'receiv': 0, 'put': 0, 'think': 0, 'usb': 0, 'headphon': 0, 'anoth': 0, 'music': 0, 'differ': 0, 'play': 0, 'month': 0, 'amazon': 0, 'sinc': 0, 'around': 0, 'know': 0, 'featur': 0, 'order': 0, 'see': 0, 'fine': 0, 'old': 0, 'long': 0, 'enough': 0, 'item': 0, 'charg': 0, 'hard': 0, 'far': 0, 'len': 0, 'mous': 0, 'run': 0, 'mani': 0, 'bit': 0, 'expect': 0, 'made': 0, 'issu': 0, 'never': 0, 'money': 0, 'read': 0, 'size': 0, 'keep': 0, 'last': 0, 'howev': 0, 'button': 0, 'dvd': 0, 'softwar': 0, 'give': 0, 'perfect': 0, 'phone': 0, 'found': 0, 'record': 0, 'someth': 0, 'abl': 0, 'came': 0, 'ear': 0, 'pretti': 0, 'gb': 1, 'box': 0, 'though': 1, 'excel': 0, 'high': 0, 'hold': 0, 'soni': 1, 'radio': 0, 'control': 0, 'adapt': 0, 'feel': 0, 'end': 0, 'cord': 0, 'big': 0, 'return': 0, 'remot': 0, 'start': 0, 'sure': 0, 'room': 0, 'worth': 0, 'home': 0, 'digit': 1, 'car': 0, 'ship': 0, 'bag': 0, 'everyth': 0, 'wire': 0, 'second': 1, 'week': 0, 'includ': 0, 'hour': 0, 'everi': 0, 'may': 0, 'listen': 0, 'hd': 0, 'audio': 0, 'actual': 0, 'less': 0, 'place': 0, 'side': 0, 'design': 1, 'cheap': 0, 'window': 0, 'happi': 0, 'memori': 1, 'help': 1, 'gp': 0, 'photo': 1, 'bad': 1, 'quit': 0, 'volum': 0, 'support': 0, 'mp': 0, 'reason': 0, 'switch': 0, 'model': 0, 'store': 0, 'took': 0, 'peopl': 0, 'star': 0, 'fast': 0, 'move': 0, 'easili': 0, 'sever': 0, 'file': 1, 'low': 0, 'keyboard': 0, 'nois': 0, 'function': 0, 'clear': 1, 'port': 0, 'perfectli': 0, 'imag': 0, 'pc': 0, 'flash': 0, 'bass': 0, 'thought': 0, 'point': 0, 'charger': 0, 'away': 0, 'color': 0, 'cost': 0, 'call': 0, 'extra': 0, 'allow': 0, 'highli': 0, 'said': 0, 'chang': 0, 'anyth': 0, 'watch': 0, 'definit': 0, 'alway': 0, 'movi': 0, 'pair': 0, 'perform': 0, 'servic': 0, 'show': 0, 'brand': 0, 'part': 0, 'almost': 0, 'went': 0, 'minut': 0, 'wall': 0, 'adjust': 0, 'comfort': 0, 'anyon': 0, 'open': 0, 'deal': 0, 'protect': 0, 'carri': 0, 'top': 0, 'coupl': 0, 'canon': 0, 'yet': 0, 'monitor': 0, 'hdmi': 0, 'x': 0, 'job': 0, 'pay': 0, 'provid': 0, 'pleas': 0, 'compar': 0, 'simpl': 0, 'speed': 0, 'signal': 0, 'expens': 0, 'custom': 0, 'might': 0, 'cover': 0, 'decid': 0, 'probabl': 0, 'option': 0, 'wireless': 0, 'save': 1, 'hear': 0, 'hand': 0, 'ago': 0, 'hook': 0, 'ever': 0, 'notic': 0, 'sd': 0, 'larg': 0, 'full': 0, 'amaz': 0, 'stop': 0, 'noth': 0, 'packag': 0, 'plastic': 1, 'etc': 0, 'channel': 0, 'display': 0, 'origin': 0, 'type': 0, 'overal': 0, 'space': 0, 'arriv': 0, 'hope': 0, 'three': 0, 'life': 1, 'cd': 0, 'either': 1, 'game': 0, 'complet': 0, 'line': 0, 'not_us': 0, 'piec': 0, 'setup': 0, 'must': 0, 'left': 0, 'rate': 0, 'exactli': 0, 'live': 0, 'updat': 0, 'disappoint': 0, 'close': 0, 'upgrad': 0, 'mm': 0, 'attach': 1, 'mode': 0, 'especi': 0, 'next': 0, 'other': 0, 'manual': 0, 'stay': 0, 'instead': 0, 'fan': 0, 'view': 0, 'base': 0, 'longer': 0, 'lcd': 0, 'fact': 0, 'although': 0, 'program': 0, 'remov': 0, 'let': 0, 'requir': 0, 'wish': 0, 'rang': 0, 'least': 0, 'level': 0, 'final': 0, 'tell': 0, 'complaint': 0, 'pocket': 0, 'shot': 0, 'quickli': 0, 'experi': 0, 'shoot': 0, 'short': 0, 'black': 0, 'user': 0, 'garmin': 0, 'front': 0, 'extrem': 0, 'download': 0, 'head': 0, 'travel': 0, 'mine': 0, 'plu': 0, 'instruct': 0, 'compani': 0, 'inch': 0, 'els': 0, 'test': 0, 'touch': 0, 'standard': 0, 'care': 0, 'free': 0, 'key': 0, 'spend': 0, 'consid': 0, 'station': 0, 'mean': 0, 'samsung': 0, 'mac': 0, 'alreadi': 0, 'stereo': 0, 'transfer': 1, 'hous': 0, 'cool': 0, 'version': 0, 'frame': 0, 'mayb': 0, 'antenna': 0, 'pro': 0, 'drop': 0, 'avail': 0, 'thank': 0, 'sometim': 0, 'pad': 0, 'input': 0, 'portabl': 0, 'zoom': 0, 'cannot': 0, 'figur': 0, 'trip': 0, 'direct': 0, 'wrong': 0, 'bright': 0, 'ok': 0, 'addit': 0, 'fix': 0, 'awesom': 0, 'pick': 0, 'song': 0, 'load': 0, 'appl': 0, 'heavi': 0, 'built': 0, 'gener': 0, 'driver': 0, 'person': 0, 'valu': 0, 'insid': 0, 'screw': 0, 'wonder': 0, 'friend': 0, 'decent': 0, 'real': 0, 'data': 0, 'simpli': 0, 'clean': 0, 'impress': 0, 'zune': 0, 'add': 0, 'number': 0, 'connector': 0, 'gave': 0, 'machin': 0, 'extern': 0, 'within': 0, 'stand': 0, 'leav': 0, 'area': 0, 'loud': 0, 'us': 0, 'posit': 0, 'kind': 0, 'clip': 0, 'fail': 0, 'offer': 0, 'bose': 0, 'basic': 0, 'solid': 0, 'map': 0, 'paid': 0, 'earbud': 0, 'advertis': 0, 'router': 0, 'headset': 0, 'check': 0, 'quick': 0, 'oper': 0, 'wait': 0, 'send': 0, 'due': 0, 'happen': 0, 'note': 0, 'warranti': 0, 'done': 0, 'access': 0, 'nikon': 0, 'result': 0, 'format': 0, 'sit': 0, 'bottom': 0, 'half': 0, 'handl': 0, 'except': 0, 'recent': 0, 'weight': 0, 'p': 0, 'center': 0, 'suppli': 0, 'enjoy': 0, 'absolut': 0, 'appear': 0, 'older': 0, 'ask': 0, 'guess': 0, 'kit': 0, 'rather': 0, 'secur': 0, 'unless': 0, 'sturdi': 0, 'tripod': 0, 'dock': 0, 'stick': 1, 'total': 0, 'sent': 0, 'suppos': 0, 'research': 0, 'mention': 0, 'media': 0, 'improv': 0, 'disc': 0, 'smaller': 0, 'later': 0, 'pack': 0, 'caus': 0, 'internet': 0, 'fall': 0, 'someon': 0} \n",
      "\n",
      "{'use': 0, 'work': 1, 'one': 0, 'great': 1, 'get': 0, 'good': 0, 'would': 0, 'like': 0, 'product': 0, 'sound': 0, 'camera': 1, 'time': 0, 'well': 0, 'need': 0, 'price': 0, 'qualiti': 0, 'look': 0, 'bought': 0, 'buy': 0, 'cabl': 0, 'purchas': 0, 'also': 0, 'want': 0, 'problem': 1, 'even': 0, 'much': 0, 'realli': 0, 'tv': 0, 'make': 0, 'easi': 0, 'set': 0, 'batteri': 0, 'speaker': 0, 'pictur': 0, 'go': 1, 'unit': 0, 'littl': 0, 'better': 0, 'card': 1, 'drive': 0, 'thing': 0, 'take': 0, 'comput': 0, 'back': 0, 'case': 1, 'recommend': 0, 'got': 0, 'year': 0, 'player': 0, 'new': 0, 'tri': 0, 'could': 0, 'still': 0, 'review': 0, 'nice': 0, 'first': 0, 'fit': 1, 'power': 0, 'two': 0, 'love': 0, 'come': 0, 'plug': 0, 'connect': 0, 'ipod': 0, 'video': 0, 'instal': 0, 'mount': 0, 'way': 0, 'screen': 0, 'devic': 0, 'say': 0, 'day': 0, 'small': 1, 'replac': 0, 'seem': 0, 'right': 0, 'laptop': 0, 'best': 0, 'lot': 0, 'turn': 0, 'find': 0, 'light': 0, 'system': 0, 'without': 1, 'receiv': 0, 'put': 0, 'think': 0, 'usb': 0, 'headphon': 0, 'anoth': 0, 'music': 0, 'differ': 0, 'play': 0, 'month': 0, 'amazon': 0, 'sinc': 0, 'around': 0, 'know': 0, 'featur': 0, 'order': 0, 'see': 0, 'fine': 0, 'old': 0, 'long': 0, 'enough': 1, 'item': 0, 'charg': 0, 'hard': 0, 'far': 0, 'len': 0, 'mous': 0, 'run': 0, 'mani': 0, 'bit': 0, 'expect': 0, 'made': 0, 'issu': 0, 'never': 0, 'money': 0, 'read': 1, 'size': 0, 'keep': 0, 'last': 0, 'howev': 0, 'button': 0, 'dvd': 0, 'softwar': 0, 'give': 0, 'perfect': 0, 'phone': 0, 'found': 0, 'record': 0, 'someth': 0, 'abl': 0, 'came': 0, 'ear': 0, 'pretti': 0, 'gb': 0, 'box': 0, 'though': 0, 'excel': 0, 'high': 0, 'hold': 0, 'soni': 0, 'radio': 0, 'control': 0, 'adapt': 0, 'feel': 0, 'end': 0, 'cord': 0, 'big': 0, 'return': 0, 'remot': 0, 'start': 0, 'sure': 0, 'room': 0, 'worth': 0, 'home': 1, 'digit': 0, 'car': 0, 'ship': 0, 'bag': 0, 'everyth': 0, 'wire': 0, 'second': 0, 'week': 0, 'includ': 0, 'hour': 0, 'everi': 0, 'may': 0, 'listen': 0, 'hd': 0, 'audio': 0, 'actual': 0, 'less': 0, 'place': 0, 'side': 0, 'design': 0, 'cheap': 0, 'window': 0, 'happi': 0, 'memori': 1, 'help': 0, 'gp': 0, 'photo': 0, 'bad': 0, 'quit': 0, 'volum': 0, 'support': 0, 'mp': 0, 'reason': 0, 'switch': 0, 'model': 0, 'store': 0, 'took': 0, 'peopl': 0, 'star': 0, 'fast': 0, 'move': 0, 'easili': 0, 'sever': 0, 'file': 0, 'low': 0, 'keyboard': 0, 'nois': 0, 'function': 0, 'clear': 0, 'port': 0, 'perfectli': 0, 'imag': 0, 'pc': 0, 'flash': 0, 'bass': 0, 'thought': 0, 'point': 0, 'charger': 0, 'away': 0, 'color': 0, 'cost': 0, 'call': 0, 'extra': 0, 'allow': 0, 'highli': 0, 'said': 0, 'chang': 0, 'anyth': 0, 'watch': 0, 'definit': 0, 'alway': 0, 'movi': 0, 'pair': 0, 'perform': 0, 'servic': 0, 'show': 0, 'brand': 0, 'part': 0, 'almost': 0, 'went': 0, 'minut': 0, 'wall': 0, 'adjust': 0, 'comfort': 0, 'anyon': 0, 'open': 0, 'deal': 0, 'protect': 0, 'carri': 0, 'top': 0, 'coupl': 0, 'canon': 0, 'yet': 0, 'monitor': 0, 'hdmi': 0, 'x': 0, 'job': 0, 'pay': 0, 'provid': 0, 'pleas': 0, 'compar': 0, 'simpl': 0, 'speed': 0, 'signal': 0, 'expens': 0, 'custom': 0, 'might': 0, 'cover': 0, 'decid': 0, 'probabl': 0, 'option': 0, 'wireless': 0, 'save': 0, 'hear': 0, 'hand': 0, 'ago': 0, 'hook': 0, 'ever': 0, 'notic': 0, 'sd': 0, 'larg': 0, 'full': 0, 'amaz': 0, 'stop': 0, 'noth': 0, 'packag': 0, 'plastic': 0, 'etc': 0, 'channel': 0, 'display': 0, 'origin': 0, 'type': 0, 'overal': 0, 'space': 0, 'arriv': 0, 'hope': 0, 'three': 0, 'life': 0, 'cd': 0, 'either': 0, 'game': 0, 'complet': 0, 'line': 0, 'not_us': 0, 'piec': 0, 'setup': 0, 'must': 0, 'left': 0, 'rate': 0, 'exactli': 0, 'live': 0, 'updat': 0, 'disappoint': 0, 'close': 0, 'upgrad': 0, 'mm': 0, 'attach': 0, 'mode': 0, 'especi': 0, 'next': 0, 'other': 0, 'manual': 0, 'stay': 0, 'instead': 0, 'fan': 0, 'view': 0, 'base': 0, 'longer': 0, 'lcd': 0, 'fact': 0, 'although': 0, 'program': 0, 'remov': 0, 'let': 0, 'requir': 0, 'wish': 0, 'rang': 0, 'least': 0, 'level': 0, 'final': 0, 'tell': 0, 'complaint': 0, 'pocket': 1, 'shot': 0, 'quickli': 0, 'experi': 0, 'shoot': 0, 'short': 0, 'black': 0, 'user': 0, 'garmin': 0, 'front': 0, 'extrem': 0, 'download': 0, 'head': 0, 'travel': 0, 'mine': 0, 'plu': 0, 'instruct': 0, 'compani': 0, 'inch': 0, 'els': 0, 'test': 0, 'touch': 0, 'standard': 0, 'care': 0, 'free': 0, 'key': 0, 'spend': 0, 'consid': 0, 'station': 0, 'mean': 0, 'samsung': 0, 'mac': 0, 'alreadi': 0, 'stereo': 0, 'transfer': 0, 'hous': 0, 'cool': 0, 'version': 0, 'frame': 0, 'mayb': 0, 'antenna': 0, 'pro': 0, 'drop': 0, 'avail': 0, 'thank': 0, 'sometim': 0, 'pad': 0, 'input': 0, 'portabl': 0, 'zoom': 0, 'cannot': 0, 'figur': 0, 'trip': 0, 'direct': 0, 'wrong': 0, 'bright': 0, 'ok': 0, 'addit': 0, 'fix': 0, 'awesom': 0, 'pick': 0, 'song': 0, 'load': 0, 'appl': 0, 'heavi': 0, 'built': 0, 'gener': 0, 'driver': 0, 'person': 0, 'valu': 0, 'insid': 0, 'screw': 0, 'wonder': 0, 'friend': 0, 'decent': 0, 'real': 0, 'data': 0, 'simpli': 0, 'clean': 0, 'impress': 0, 'zune': 0, 'add': 0, 'number': 0, 'connector': 0, 'gave': 0, 'machin': 0, 'extern': 0, 'within': 0, 'stand': 0, 'leav': 0, 'area': 0, 'loud': 0, 'us': 0, 'posit': 0, 'kind': 0, 'clip': 0, 'fail': 0, 'offer': 0, 'bose': 0, 'basic': 0, 'solid': 0, 'map': 0, 'paid': 0, 'earbud': 0, 'advertis': 0, 'router': 0, 'headset': 0, 'check': 0, 'quick': 0, 'oper': 0, 'wait': 0, 'send': 0, 'due': 0, 'happen': 0, 'note': 0, 'warranti': 0, 'done': 0, 'access': 0, 'nikon': 0, 'result': 0, 'format': 0, 'sit': 0, 'bottom': 0, 'half': 0, 'handl': 0, 'except': 0, 'recent': 0, 'weight': 0, 'p': 0, 'center': 0, 'suppli': 0, 'enjoy': 0, 'absolut': 0, 'appear': 0, 'older': 0, 'ask': 0, 'guess': 0, 'kit': 0, 'rather': 0, 'secur': 0, 'unless': 0, 'sturdi': 0, 'tripod': 0, 'dock': 0, 'stick': 0, 'total': 0, 'sent': 0, 'suppos': 0, 'research': 0, 'mention': 0, 'media': 0, 'improv': 0, 'disc': 0, 'smaller': 0, 'later': 0, 'pack': 0, 'caus': 0, 'internet': 0, 'fall': 0, 'someon': 0} \n",
      "\n"
     ]
    }
   ],
   "source": [
    "# Creates a bag-of-word vector representation for the first 15 reviews in electronics\n",
    "for document in stemmed_documents[:15]:\n",
    "    print(get_bag_of_words(document, vocabulary), \"\\n\")"
   ]
  },
  {
   "cell_type": "code",
   "execution_count": 492,
   "metadata": {},
   "outputs": [],
   "source": [
    "document_bags = [] # list of dictionaries\n",
    "\n",
    "# Creates a bag-of-word vector representation for all reviews in electronics\n",
    "for document in stemmed_documents:\n",
    "    document_bags.append(get_bag_of_words(document, vocabulary))\n"
   ]
  },
  {
   "cell_type": "code",
   "execution_count": 496,
   "metadata": {},
   "outputs": [
    {
     "name": "stdout",
     "output_type": "stream",
     "text": [
      "['problem', 'product', 'fit', 'mr', 'buddi', 'heater', 'work', 'like', 'suppos', 'want', 'use', 'fan', 'portion', 'big', 'buddi']\n"
     ]
    }
   ],
   "source": [
    "print(stemmed_documents[400])"
   ]
  },
  {
   "cell_type": "code",
   "execution_count": 493,
   "metadata": {},
   "outputs": [
    {
     "data": {
      "text/plain": [
       "dict_keys(['use', 'work', 'one', 'great', 'get', 'good', 'would', 'like', 'product', 'sound', 'camera', 'time', 'well', 'need', 'price', 'qualiti', 'look', 'bought', 'buy', 'cabl', 'purchas', 'also', 'want', 'problem', 'even', 'much', 'realli', 'tv', 'make', 'easi', 'set', 'batteri', 'speaker', 'pictur', 'go', 'unit', 'littl', 'better', 'card', 'drive', 'thing', 'take', 'comput', 'back', 'case', 'recommend', 'got', 'year', 'player', 'new', 'tri', 'could', 'still', 'review', 'nice', 'first', 'fit', 'power', 'two', 'love', 'come', 'plug', 'connect', 'ipod', 'video', 'instal', 'mount', 'way', 'screen', 'devic', 'say', 'day', 'small', 'replac', 'seem', 'right', 'laptop', 'best', 'lot', 'turn', 'find', 'light', 'system', 'without', 'receiv', 'put', 'think', 'usb', 'headphon', 'anoth', 'music', 'differ', 'play', 'month', 'amazon', 'sinc', 'around', 'know', 'featur', 'order', 'see', 'fine', 'old', 'long', 'enough', 'item', 'charg', 'hard', 'far', 'len', 'mous', 'run', 'mani', 'bit', 'expect', 'made', 'issu', 'never', 'money', 'read', 'size', 'keep', 'last', 'howev', 'button', 'dvd', 'softwar', 'give', 'perfect', 'phone', 'found', 'record', 'someth', 'abl', 'came', 'ear', 'pretti', 'gb', 'box', 'though', 'excel', 'high', 'hold', 'soni', 'radio', 'control', 'adapt', 'feel', 'end', 'cord', 'big', 'return', 'remot', 'start', 'sure', 'room', 'worth', 'home', 'digit', 'car', 'ship', 'bag', 'everyth', 'wire', 'second', 'week', 'includ', 'hour', 'everi', 'may', 'listen', 'hd', 'audio', 'actual', 'less', 'place', 'side', 'design', 'cheap', 'window', 'happi', 'memori', 'help', 'gp', 'photo', 'bad', 'quit', 'volum', 'support', 'mp', 'reason', 'switch', 'model', 'store', 'took', 'peopl', 'star', 'fast', 'move', 'easili', 'sever', 'file', 'low', 'keyboard', 'nois', 'function', 'clear', 'port', 'perfectli', 'imag', 'pc', 'flash', 'bass', 'thought', 'point', 'charger', 'away', 'color', 'cost', 'call', 'extra', 'allow', 'highli', 'said', 'chang', 'anyth', 'watch', 'definit', 'alway', 'movi', 'pair', 'perform', 'servic', 'show', 'brand', 'part', 'almost', 'went', 'minut', 'wall', 'adjust', 'comfort', 'anyon', 'open', 'deal', 'protect', 'carri', 'top', 'coupl', 'canon', 'yet', 'monitor', 'hdmi', 'x', 'job', 'pay', 'provid', 'pleas', 'compar', 'simpl', 'speed', 'signal', 'expens', 'custom', 'might', 'cover', 'decid', 'probabl', 'option', 'wireless', 'save', 'hear', 'hand', 'ago', 'hook', 'ever', 'notic', 'sd', 'larg', 'full', 'amaz', 'stop', 'noth', 'packag', 'plastic', 'etc', 'channel', 'display', 'origin', 'type', 'overal', 'space', 'arriv', 'hope', 'three', 'life', 'cd', 'either', 'game', 'complet', 'line', 'not_us', 'piec', 'setup', 'must', 'left', 'rate', 'exactli', 'live', 'updat', 'disappoint', 'close', 'upgrad', 'mm', 'attach', 'mode', 'especi', 'next', 'other', 'manual', 'stay', 'instead', 'fan', 'view', 'base', 'longer', 'lcd', 'fact', 'although', 'program', 'remov', 'let', 'requir', 'wish', 'rang', 'least', 'level', 'final', 'tell', 'complaint', 'pocket', 'shot', 'quickli', 'experi', 'shoot', 'short', 'black', 'user', 'garmin', 'front', 'extrem', 'download', 'head', 'travel', 'mine', 'plu', 'instruct', 'compani', 'inch', 'els', 'test', 'touch', 'standard', 'care', 'free', 'key', 'spend', 'consid', 'station', 'mean', 'samsung', 'mac', 'alreadi', 'stereo', 'transfer', 'hous', 'cool', 'version', 'frame', 'mayb', 'antenna', 'pro', 'drop', 'avail', 'thank', 'sometim', 'pad', 'input', 'portabl', 'zoom', 'cannot', 'figur', 'trip', 'direct', 'wrong', 'bright', 'ok', 'addit', 'fix', 'awesom', 'pick', 'song', 'load', 'appl', 'heavi', 'built', 'gener', 'driver', 'person', 'valu', 'insid', 'screw', 'wonder', 'friend', 'decent', 'real', 'data', 'simpli', 'clean', 'impress', 'zune', 'add', 'number', 'connector', 'gave', 'machin', 'extern', 'within', 'stand', 'leav', 'area', 'loud', 'us', 'posit', 'kind', 'clip', 'fail', 'offer', 'bose', 'basic', 'solid', 'map', 'paid', 'earbud', 'advertis', 'router', 'headset', 'check', 'quick', 'oper', 'wait', 'send', 'due', 'happen', 'note', 'warranti', 'done', 'access', 'nikon', 'result', 'format', 'sit', 'bottom', 'half', 'handl', 'except', 'recent', 'weight', 'p', 'center', 'suppli', 'enjoy', 'absolut', 'appear', 'older', 'ask', 'guess', 'kit', 'rather', 'secur', 'unless', 'sturdi', 'tripod', 'dock', 'stick', 'total', 'sent', 'suppos', 'research', 'mention', 'media', 'improv', 'disc', 'smaller', 'later', 'pack', 'caus', 'internet', 'fall', 'someon'])"
      ]
     },
     "execution_count": 493,
     "metadata": {},
     "output_type": "execute_result"
    }
   ],
   "source": [
    "document_bags[400].keys()"
   ]
  },
  {
   "cell_type": "code",
   "execution_count": 494,
   "metadata": {
    "scrolled": true
   },
   "outputs": [
    {
     "data": {
      "text/plain": [
       "dict_values([1, 1, 0, 0, 0, 0, 0, 1, 1, 0, 0, 0, 0, 0, 0, 0, 0, 0, 0, 0, 0, 0, 1, 1, 0, 0, 0, 0, 0, 0, 0, 0, 0, 0, 0, 0, 0, 0, 0, 0, 0, 0, 0, 0, 0, 0, 0, 0, 0, 0, 0, 0, 0, 0, 0, 0, 1, 0, 0, 0, 0, 0, 0, 0, 0, 0, 0, 0, 0, 0, 0, 0, 0, 0, 0, 0, 0, 0, 0, 0, 0, 0, 0, 0, 0, 0, 0, 0, 0, 0, 0, 0, 0, 0, 0, 0, 0, 0, 0, 0, 0, 0, 0, 0, 0, 0, 0, 0, 0, 0, 0, 0, 0, 0, 0, 0, 0, 0, 0, 0, 0, 0, 0, 0, 0, 0, 0, 0, 0, 0, 0, 0, 0, 0, 0, 0, 0, 0, 0, 0, 0, 0, 0, 0, 0, 0, 0, 0, 0, 0, 1, 0, 0, 0, 0, 0, 0, 0, 0, 0, 0, 0, 0, 0, 0, 0, 0, 0, 0, 0, 0, 0, 0, 0, 0, 0, 0, 0, 0, 0, 0, 0, 0, 0, 0, 0, 0, 0, 0, 0, 0, 0, 0, 0, 0, 0, 0, 0, 0, 0, 0, 0, 0, 0, 0, 0, 0, 0, 0, 0, 0, 0, 0, 0, 0, 0, 0, 0, 0, 0, 0, 0, 0, 0, 0, 0, 0, 0, 0, 0, 0, 0, 0, 0, 0, 0, 0, 0, 0, 0, 0, 0, 0, 0, 0, 0, 0, 0, 0, 0, 0, 0, 0, 0, 0, 0, 0, 0, 0, 0, 0, 0, 0, 0, 0, 0, 0, 0, 0, 0, 0, 0, 0, 0, 0, 0, 0, 0, 0, 0, 0, 0, 0, 0, 0, 0, 0, 0, 0, 0, 0, 0, 0, 0, 0, 0, 0, 0, 0, 0, 0, 0, 0, 0, 0, 0, 0, 0, 0, 0, 0, 0, 0, 0, 0, 0, 0, 0, 0, 0, 0, 0, 1, 0, 0, 0, 0, 0, 0, 0, 0, 0, 0, 0, 0, 0, 0, 0, 0, 0, 0, 0, 0, 0, 0, 0, 0, 0, 0, 0, 0, 0, 0, 0, 0, 0, 0, 0, 0, 0, 0, 0, 0, 0, 0, 0, 0, 0, 0, 0, 0, 0, 0, 0, 0, 0, 0, 0, 0, 0, 0, 0, 0, 0, 0, 0, 0, 0, 0, 0, 0, 0, 0, 0, 0, 0, 0, 0, 0, 0, 0, 0, 0, 0, 0, 0, 0, 0, 0, 0, 0, 0, 0, 0, 0, 0, 0, 0, 0, 0, 0, 0, 0, 0, 0, 0, 0, 0, 0, 0, 0, 0, 0, 0, 0, 0, 0, 0, 0, 0, 0, 0, 0, 0, 0, 0, 0, 0, 0, 0, 0, 0, 0, 0, 0, 0, 0, 0, 0, 0, 0, 0, 0, 0, 0, 0, 0, 0, 0, 0, 0, 0, 0, 0, 0, 0, 0, 0, 0, 0, 0, 0, 0, 0, 0, 0, 0, 1, 0, 0, 0, 0, 0, 0, 0, 0, 0, 0, 0, 0])"
      ]
     },
     "execution_count": 494,
     "metadata": {},
     "output_type": "execute_result"
    }
   ],
   "source": [
    "document_bags[400].values()"
   ]
  },
  {
   "cell_type": "code",
   "execution_count": 500,
   "metadata": {},
   "outputs": [
    {
     "data": {
      "text/html": [
       "<div>\n",
       "<style scoped>\n",
       "    .dataframe tbody tr th:only-of-type {\n",
       "        vertical-align: middle;\n",
       "    }\n",
       "\n",
       "    .dataframe tbody tr th {\n",
       "        vertical-align: top;\n",
       "    }\n",
       "\n",
       "    .dataframe thead th {\n",
       "        text-align: right;\n",
       "    }\n",
       "</style>\n",
       "<table border=\"1\" class=\"dataframe\">\n",
       "  <thead>\n",
       "    <tr style=\"text-align: right;\">\n",
       "      <th></th>\n",
       "      <th>use</th>\n",
       "      <th>work</th>\n",
       "      <th>one</th>\n",
       "      <th>great</th>\n",
       "      <th>get</th>\n",
       "      <th>good</th>\n",
       "      <th>would</th>\n",
       "      <th>like</th>\n",
       "      <th>product</th>\n",
       "      <th>sound</th>\n",
       "      <th>...</th>\n",
       "      <th>media</th>\n",
       "      <th>improv</th>\n",
       "      <th>disc</th>\n",
       "      <th>smaller</th>\n",
       "      <th>later</th>\n",
       "      <th>pack</th>\n",
       "      <th>caus</th>\n",
       "      <th>internet</th>\n",
       "      <th>fall</th>\n",
       "      <th>someon</th>\n",
       "    </tr>\n",
       "    <tr>\n",
       "      <th>reviewerID</th>\n",
       "      <th></th>\n",
       "      <th></th>\n",
       "      <th></th>\n",
       "      <th></th>\n",
       "      <th></th>\n",
       "      <th></th>\n",
       "      <th></th>\n",
       "      <th></th>\n",
       "      <th></th>\n",
       "      <th></th>\n",
       "      <th></th>\n",
       "      <th></th>\n",
       "      <th></th>\n",
       "      <th></th>\n",
       "      <th></th>\n",
       "      <th></th>\n",
       "      <th></th>\n",
       "      <th></th>\n",
       "      <th></th>\n",
       "      <th></th>\n",
       "      <th></th>\n",
       "    </tr>\n",
       "  </thead>\n",
       "  <tbody>\n",
       "    <tr>\n",
       "      <th>AKM1MP6P0OYPR</th>\n",
       "      <td>0</td>\n",
       "      <td>0</td>\n",
       "      <td>0</td>\n",
       "      <td>1</td>\n",
       "      <td>0</td>\n",
       "      <td>0</td>\n",
       "      <td>0</td>\n",
       "      <td>0</td>\n",
       "      <td>0</td>\n",
       "      <td>0</td>\n",
       "      <td>...</td>\n",
       "      <td>0</td>\n",
       "      <td>0</td>\n",
       "      <td>0</td>\n",
       "      <td>0</td>\n",
       "      <td>0</td>\n",
       "      <td>0</td>\n",
       "      <td>0</td>\n",
       "      <td>0</td>\n",
       "      <td>0</td>\n",
       "      <td>0</td>\n",
       "    </tr>\n",
       "    <tr>\n",
       "      <th>A2GGBTOAGKO0VE</th>\n",
       "      <td>0</td>\n",
       "      <td>1</td>\n",
       "      <td>0</td>\n",
       "      <td>0</td>\n",
       "      <td>0</td>\n",
       "      <td>0</td>\n",
       "      <td>0</td>\n",
       "      <td>0</td>\n",
       "      <td>0</td>\n",
       "      <td>0</td>\n",
       "      <td>...</td>\n",
       "      <td>0</td>\n",
       "      <td>0</td>\n",
       "      <td>0</td>\n",
       "      <td>0</td>\n",
       "      <td>0</td>\n",
       "      <td>0</td>\n",
       "      <td>0</td>\n",
       "      <td>0</td>\n",
       "      <td>0</td>\n",
       "      <td>0</td>\n",
       "    </tr>\n",
       "    <tr>\n",
       "      <th>A2OC5SYI7THCR6</th>\n",
       "      <td>0</td>\n",
       "      <td>1</td>\n",
       "      <td>0</td>\n",
       "      <td>0</td>\n",
       "      <td>0</td>\n",
       "      <td>0</td>\n",
       "      <td>0</td>\n",
       "      <td>0</td>\n",
       "      <td>1</td>\n",
       "      <td>0</td>\n",
       "      <td>...</td>\n",
       "      <td>0</td>\n",
       "      <td>0</td>\n",
       "      <td>0</td>\n",
       "      <td>0</td>\n",
       "      <td>0</td>\n",
       "      <td>0</td>\n",
       "      <td>0</td>\n",
       "      <td>0</td>\n",
       "      <td>0</td>\n",
       "      <td>0</td>\n",
       "    </tr>\n",
       "    <tr>\n",
       "      <th>ALWL0AJ94O8RJ</th>\n",
       "      <td>0</td>\n",
       "      <td>1</td>\n",
       "      <td>0</td>\n",
       "      <td>1</td>\n",
       "      <td>0</td>\n",
       "      <td>1</td>\n",
       "      <td>0</td>\n",
       "      <td>0</td>\n",
       "      <td>0</td>\n",
       "      <td>0</td>\n",
       "      <td>...</td>\n",
       "      <td>0</td>\n",
       "      <td>0</td>\n",
       "      <td>0</td>\n",
       "      <td>0</td>\n",
       "      <td>0</td>\n",
       "      <td>0</td>\n",
       "      <td>0</td>\n",
       "      <td>0</td>\n",
       "      <td>0</td>\n",
       "      <td>0</td>\n",
       "    </tr>\n",
       "    <tr>\n",
       "      <th>A1XTY9T4FYKT7S</th>\n",
       "      <td>0</td>\n",
       "      <td>0</td>\n",
       "      <td>1</td>\n",
       "      <td>0</td>\n",
       "      <td>0</td>\n",
       "      <td>0</td>\n",
       "      <td>1</td>\n",
       "      <td>0</td>\n",
       "      <td>1</td>\n",
       "      <td>0</td>\n",
       "      <td>...</td>\n",
       "      <td>0</td>\n",
       "      <td>0</td>\n",
       "      <td>0</td>\n",
       "      <td>0</td>\n",
       "      <td>0</td>\n",
       "      <td>0</td>\n",
       "      <td>0</td>\n",
       "      <td>0</td>\n",
       "      <td>0</td>\n",
       "      <td>0</td>\n",
       "    </tr>\n",
       "    <tr>\n",
       "      <th>AC4IGGPO6HY0M</th>\n",
       "      <td>0</td>\n",
       "      <td>0</td>\n",
       "      <td>1</td>\n",
       "      <td>0</td>\n",
       "      <td>0</td>\n",
       "      <td>0</td>\n",
       "      <td>0</td>\n",
       "      <td>0</td>\n",
       "      <td>0</td>\n",
       "      <td>0</td>\n",
       "      <td>...</td>\n",
       "      <td>0</td>\n",
       "      <td>0</td>\n",
       "      <td>0</td>\n",
       "      <td>0</td>\n",
       "      <td>0</td>\n",
       "      <td>0</td>\n",
       "      <td>0</td>\n",
       "      <td>0</td>\n",
       "      <td>0</td>\n",
       "      <td>0</td>\n",
       "    </tr>\n",
       "    <tr>\n",
       "      <th>AUPNX6P6DQCT1</th>\n",
       "      <td>0</td>\n",
       "      <td>0</td>\n",
       "      <td>0</td>\n",
       "      <td>1</td>\n",
       "      <td>0</td>\n",
       "      <td>1</td>\n",
       "      <td>0</td>\n",
       "      <td>0</td>\n",
       "      <td>0</td>\n",
       "      <td>0</td>\n",
       "      <td>...</td>\n",
       "      <td>0</td>\n",
       "      <td>0</td>\n",
       "      <td>0</td>\n",
       "      <td>0</td>\n",
       "      <td>0</td>\n",
       "      <td>0</td>\n",
       "      <td>0</td>\n",
       "      <td>0</td>\n",
       "      <td>0</td>\n",
       "      <td>0</td>\n",
       "    </tr>\n",
       "    <tr>\n",
       "      <th>A5G11Q0FLWMCK</th>\n",
       "      <td>1</td>\n",
       "      <td>1</td>\n",
       "      <td>0</td>\n",
       "      <td>0</td>\n",
       "      <td>0</td>\n",
       "      <td>0</td>\n",
       "      <td>0</td>\n",
       "      <td>0</td>\n",
       "      <td>0</td>\n",
       "      <td>0</td>\n",
       "      <td>...</td>\n",
       "      <td>0</td>\n",
       "      <td>0</td>\n",
       "      <td>0</td>\n",
       "      <td>0</td>\n",
       "      <td>0</td>\n",
       "      <td>0</td>\n",
       "      <td>0</td>\n",
       "      <td>0</td>\n",
       "      <td>0</td>\n",
       "      <td>0</td>\n",
       "    </tr>\n",
       "    <tr>\n",
       "      <th>A3V891TW1F3P9T</th>\n",
       "      <td>1</td>\n",
       "      <td>0</td>\n",
       "      <td>1</td>\n",
       "      <td>1</td>\n",
       "      <td>1</td>\n",
       "      <td>0</td>\n",
       "      <td>0</td>\n",
       "      <td>0</td>\n",
       "      <td>0</td>\n",
       "      <td>0</td>\n",
       "      <td>...</td>\n",
       "      <td>0</td>\n",
       "      <td>0</td>\n",
       "      <td>0</td>\n",
       "      <td>0</td>\n",
       "      <td>0</td>\n",
       "      <td>0</td>\n",
       "      <td>0</td>\n",
       "      <td>0</td>\n",
       "      <td>0</td>\n",
       "      <td>0</td>\n",
       "    </tr>\n",
       "    <tr>\n",
       "      <th>AB7BV8O5IVU27</th>\n",
       "      <td>1</td>\n",
       "      <td>0</td>\n",
       "      <td>1</td>\n",
       "      <td>0</td>\n",
       "      <td>0</td>\n",
       "      <td>0</td>\n",
       "      <td>0</td>\n",
       "      <td>0</td>\n",
       "      <td>1</td>\n",
       "      <td>0</td>\n",
       "      <td>...</td>\n",
       "      <td>0</td>\n",
       "      <td>0</td>\n",
       "      <td>0</td>\n",
       "      <td>0</td>\n",
       "      <td>0</td>\n",
       "      <td>0</td>\n",
       "      <td>0</td>\n",
       "      <td>0</td>\n",
       "      <td>0</td>\n",
       "      <td>0</td>\n",
       "    </tr>\n",
       "  </tbody>\n",
       "</table>\n",
       "<p>10 rows × 500 columns</p>\n",
       "</div>"
      ],
      "text/plain": [
       "                use  work  one  great  get  good  would  like  product  sound  \\\n",
       "reviewerID                                                                      \n",
       "AKM1MP6P0OYPR     0     0    0      1    0     0      0     0        0      0   \n",
       "A2GGBTOAGKO0VE    0     1    0      0    0     0      0     0        0      0   \n",
       "A2OC5SYI7THCR6    0     1    0      0    0     0      0     0        1      0   \n",
       "ALWL0AJ94O8RJ     0     1    0      1    0     1      0     0        0      0   \n",
       "A1XTY9T4FYKT7S    0     0    1      0    0     0      1     0        1      0   \n",
       "AC4IGGPO6HY0M     0     0    1      0    0     0      0     0        0      0   \n",
       "AUPNX6P6DQCT1     0     0    0      1    0     1      0     0        0      0   \n",
       "A5G11Q0FLWMCK     1     1    0      0    0     0      0     0        0      0   \n",
       "A3V891TW1F3P9T    1     0    1      1    1     0      0     0        0      0   \n",
       "AB7BV8O5IVU27     1     0    1      0    0     0      0     0        1      0   \n",
       "\n",
       "                ...  media  improv  disc  smaller  later  pack  caus  \\\n",
       "reviewerID      ...                                                    \n",
       "AKM1MP6P0OYPR   ...      0       0     0        0      0     0     0   \n",
       "A2GGBTOAGKO0VE  ...      0       0     0        0      0     0     0   \n",
       "A2OC5SYI7THCR6  ...      0       0     0        0      0     0     0   \n",
       "ALWL0AJ94O8RJ   ...      0       0     0        0      0     0     0   \n",
       "A1XTY9T4FYKT7S  ...      0       0     0        0      0     0     0   \n",
       "AC4IGGPO6HY0M   ...      0       0     0        0      0     0     0   \n",
       "AUPNX6P6DQCT1   ...      0       0     0        0      0     0     0   \n",
       "A5G11Q0FLWMCK   ...      0       0     0        0      0     0     0   \n",
       "A3V891TW1F3P9T  ...      0       0     0        0      0     0     0   \n",
       "AB7BV8O5IVU27   ...      0       0     0        0      0     0     0   \n",
       "\n",
       "                internet  fall  someon  \n",
       "reviewerID                              \n",
       "AKM1MP6P0OYPR          0     0       0  \n",
       "A2GGBTOAGKO0VE         0     0       0  \n",
       "A2OC5SYI7THCR6         0     0       0  \n",
       "ALWL0AJ94O8RJ          0     0       0  \n",
       "A1XTY9T4FYKT7S         0     0       0  \n",
       "AC4IGGPO6HY0M          0     0       0  \n",
       "AUPNX6P6DQCT1          0     0       0  \n",
       "A5G11Q0FLWMCK          0     0       0  \n",
       "A3V891TW1F3P9T         0     0       0  \n",
       "AB7BV8O5IVU27          0     0       0  \n",
       "\n",
       "[10 rows x 500 columns]"
      ]
     },
     "execution_count": 500,
     "metadata": {},
     "output_type": "execute_result"
    }
   ],
   "source": [
    "bag_of_words_df = pd.DataFrame(document_bags, index=reviews_data['reviewerID'], columns=vocabulary)\n",
    "bag_of_words_df.head(10)"
   ]
  },
  {
   "cell_type": "markdown",
   "metadata": {},
   "source": [
    "# Question 5"
   ]
  },
  {
   "cell_type": "code",
   "execution_count": 539,
   "metadata": {
    "scrolled": true
   },
   "outputs": [
    {
     "data": {
      "text/html": [
       "<div>\n",
       "<style scoped>\n",
       "    .dataframe tbody tr th:only-of-type {\n",
       "        vertical-align: middle;\n",
       "    }\n",
       "\n",
       "    .dataframe tbody tr th {\n",
       "        vertical-align: top;\n",
       "    }\n",
       "\n",
       "    .dataframe thead th {\n",
       "        text-align: right;\n",
       "    }\n",
       "</style>\n",
       "<table border=\"1\" class=\"dataframe\">\n",
       "  <thead>\n",
       "    <tr style=\"text-align: right;\">\n",
       "      <th>reviewerID</th>\n",
       "      <th>AKM1MP6P0OYPR</th>\n",
       "      <th>A2GGBTOAGKO0VE</th>\n",
       "      <th>A2OC5SYI7THCR6</th>\n",
       "      <th>ALWL0AJ94O8RJ</th>\n",
       "      <th>A1XTY9T4FYKT7S</th>\n",
       "      <th>AC4IGGPO6HY0M</th>\n",
       "      <th>AUPNX6P6DQCT1</th>\n",
       "      <th>A5G11Q0FLWMCK</th>\n",
       "      <th>A3V891TW1F3P9T</th>\n",
       "      <th>AB7BV8O5IVU27</th>\n",
       "      <th>...</th>\n",
       "      <th>A2EZNCU82BWZ3G</th>\n",
       "      <th>A2TZFTHOSBDRRZ</th>\n",
       "      <th>A1FK81HNJI5F5W</th>\n",
       "      <th>A14Z6D3IRJ23F7</th>\n",
       "      <th>A1BKDM9SCYRU3J</th>\n",
       "      <th>A2FXBWR4T4OFQ</th>\n",
       "      <th>A23FWFLIALY2HO</th>\n",
       "      <th>A2MYCM10JM7URK</th>\n",
       "      <th>A23QB16B7HJFU1</th>\n",
       "      <th>AXJL280X6VMEM</th>\n",
       "    </tr>\n",
       "    <tr>\n",
       "      <th>reviewerID</th>\n",
       "      <th></th>\n",
       "      <th></th>\n",
       "      <th></th>\n",
       "      <th></th>\n",
       "      <th></th>\n",
       "      <th></th>\n",
       "      <th></th>\n",
       "      <th></th>\n",
       "      <th></th>\n",
       "      <th></th>\n",
       "      <th></th>\n",
       "      <th></th>\n",
       "      <th></th>\n",
       "      <th></th>\n",
       "      <th></th>\n",
       "      <th></th>\n",
       "      <th></th>\n",
       "      <th></th>\n",
       "      <th></th>\n",
       "      <th></th>\n",
       "      <th></th>\n",
       "    </tr>\n",
       "  </thead>\n",
       "  <tbody>\n",
       "    <tr>\n",
       "      <th>AKM1MP6P0OYPR</th>\n",
       "      <td>0.000000</td>\n",
       "      <td>4.472136</td>\n",
       "      <td>4.123106</td>\n",
       "      <td>4.123106</td>\n",
       "      <td>3.872983</td>\n",
       "      <td>5.099020</td>\n",
       "      <td>4.582576</td>\n",
       "      <td>4.358899</td>\n",
       "      <td>6.164414</td>\n",
       "      <td>5.744563</td>\n",
       "      <td>...</td>\n",
       "      <td>5.567764</td>\n",
       "      <td>3.464102</td>\n",
       "      <td>4.582576</td>\n",
       "      <td>6.480741</td>\n",
       "      <td>5.385165</td>\n",
       "      <td>5.000000</td>\n",
       "      <td>3.605551</td>\n",
       "      <td>6.708204</td>\n",
       "      <td>7.141428</td>\n",
       "      <td>6.000000</td>\n",
       "    </tr>\n",
       "    <tr>\n",
       "      <th>A2GGBTOAGKO0VE</th>\n",
       "      <td>4.472136</td>\n",
       "      <td>0.000000</td>\n",
       "      <td>4.582576</td>\n",
       "      <td>4.582576</td>\n",
       "      <td>4.358899</td>\n",
       "      <td>5.099020</td>\n",
       "      <td>5.000000</td>\n",
       "      <td>3.872983</td>\n",
       "      <td>6.000000</td>\n",
       "      <td>5.916080</td>\n",
       "      <td>...</td>\n",
       "      <td>6.244998</td>\n",
       "      <td>4.242641</td>\n",
       "      <td>5.385165</td>\n",
       "      <td>6.928203</td>\n",
       "      <td>5.567764</td>\n",
       "      <td>5.385165</td>\n",
       "      <td>4.358899</td>\n",
       "      <td>7.000000</td>\n",
       "      <td>7.549834</td>\n",
       "      <td>6.324555</td>\n",
       "    </tr>\n",
       "    <tr>\n",
       "      <th>A2OC5SYI7THCR6</th>\n",
       "      <td>4.123106</td>\n",
       "      <td>4.582576</td>\n",
       "      <td>0.000000</td>\n",
       "      <td>4.242641</td>\n",
       "      <td>3.741657</td>\n",
       "      <td>5.385165</td>\n",
       "      <td>4.898979</td>\n",
       "      <td>4.472136</td>\n",
       "      <td>6.403124</td>\n",
       "      <td>6.000000</td>\n",
       "      <td>...</td>\n",
       "      <td>5.830952</td>\n",
       "      <td>4.123106</td>\n",
       "      <td>5.099020</td>\n",
       "      <td>6.557439</td>\n",
       "      <td>5.477226</td>\n",
       "      <td>5.099020</td>\n",
       "      <td>4.242641</td>\n",
       "      <td>6.633250</td>\n",
       "      <td>7.483315</td>\n",
       "      <td>6.082763</td>\n",
       "    </tr>\n",
       "    <tr>\n",
       "      <th>ALWL0AJ94O8RJ</th>\n",
       "      <td>4.123106</td>\n",
       "      <td>4.582576</td>\n",
       "      <td>4.242641</td>\n",
       "      <td>0.000000</td>\n",
       "      <td>4.242641</td>\n",
       "      <td>5.385165</td>\n",
       "      <td>4.472136</td>\n",
       "      <td>4.242641</td>\n",
       "      <td>6.082763</td>\n",
       "      <td>6.164414</td>\n",
       "      <td>...</td>\n",
       "      <td>5.656854</td>\n",
       "      <td>4.123106</td>\n",
       "      <td>5.099020</td>\n",
       "      <td>6.403124</td>\n",
       "      <td>5.656854</td>\n",
       "      <td>5.099020</td>\n",
       "      <td>3.741657</td>\n",
       "      <td>6.928203</td>\n",
       "      <td>7.483315</td>\n",
       "      <td>6.082763</td>\n",
       "    </tr>\n",
       "    <tr>\n",
       "      <th>A1XTY9T4FYKT7S</th>\n",
       "      <td>3.872983</td>\n",
       "      <td>4.358899</td>\n",
       "      <td>3.741657</td>\n",
       "      <td>4.242641</td>\n",
       "      <td>0.000000</td>\n",
       "      <td>4.582576</td>\n",
       "      <td>4.690416</td>\n",
       "      <td>4.242641</td>\n",
       "      <td>6.082763</td>\n",
       "      <td>5.656854</td>\n",
       "      <td>...</td>\n",
       "      <td>5.656854</td>\n",
       "      <td>3.605551</td>\n",
       "      <td>4.690416</td>\n",
       "      <td>6.244998</td>\n",
       "      <td>5.291503</td>\n",
       "      <td>4.690416</td>\n",
       "      <td>3.741657</td>\n",
       "      <td>6.782330</td>\n",
       "      <td>7.071068</td>\n",
       "      <td>5.916080</td>\n",
       "    </tr>\n",
       "  </tbody>\n",
       "</table>\n",
       "<p>5 rows × 100 columns</p>\n",
       "</div>"
      ],
      "text/plain": [
       "reviewerID      AKM1MP6P0OYPR  A2GGBTOAGKO0VE  A2OC5SYI7THCR6  ALWL0AJ94O8RJ  \\\n",
       "reviewerID                                                                     \n",
       "AKM1MP6P0OYPR        0.000000        4.472136        4.123106       4.123106   \n",
       "A2GGBTOAGKO0VE       4.472136        0.000000        4.582576       4.582576   \n",
       "A2OC5SYI7THCR6       4.123106        4.582576        0.000000       4.242641   \n",
       "ALWL0AJ94O8RJ        4.123106        4.582576        4.242641       0.000000   \n",
       "A1XTY9T4FYKT7S       3.872983        4.358899        3.741657       4.242641   \n",
       "\n",
       "reviewerID      A1XTY9T4FYKT7S  AC4IGGPO6HY0M  AUPNX6P6DQCT1  A5G11Q0FLWMCK  \\\n",
       "reviewerID                                                                    \n",
       "AKM1MP6P0OYPR         3.872983       5.099020       4.582576       4.358899   \n",
       "A2GGBTOAGKO0VE        4.358899       5.099020       5.000000       3.872983   \n",
       "A2OC5SYI7THCR6        3.741657       5.385165       4.898979       4.472136   \n",
       "ALWL0AJ94O8RJ         4.242641       5.385165       4.472136       4.242641   \n",
       "A1XTY9T4FYKT7S        0.000000       4.582576       4.690416       4.242641   \n",
       "\n",
       "reviewerID      A3V891TW1F3P9T  AB7BV8O5IVU27  ...  A2EZNCU82BWZ3G  \\\n",
       "reviewerID                                     ...                   \n",
       "AKM1MP6P0OYPR         6.164414       5.744563  ...        5.567764   \n",
       "A2GGBTOAGKO0VE        6.000000       5.916080  ...        6.244998   \n",
       "A2OC5SYI7THCR6        6.403124       6.000000  ...        5.830952   \n",
       "ALWL0AJ94O8RJ         6.082763       6.164414  ...        5.656854   \n",
       "A1XTY9T4FYKT7S        6.082763       5.656854  ...        5.656854   \n",
       "\n",
       "reviewerID      A2TZFTHOSBDRRZ  A1FK81HNJI5F5W  A14Z6D3IRJ23F7  \\\n",
       "reviewerID                                                       \n",
       "AKM1MP6P0OYPR         3.464102        4.582576        6.480741   \n",
       "A2GGBTOAGKO0VE        4.242641        5.385165        6.928203   \n",
       "A2OC5SYI7THCR6        4.123106        5.099020        6.557439   \n",
       "ALWL0AJ94O8RJ         4.123106        5.099020        6.403124   \n",
       "A1XTY9T4FYKT7S        3.605551        4.690416        6.244998   \n",
       "\n",
       "reviewerID      A1BKDM9SCYRU3J  A2FXBWR4T4OFQ  A23FWFLIALY2HO  A2MYCM10JM7URK  \\\n",
       "reviewerID                                                                      \n",
       "AKM1MP6P0OYPR         5.385165       5.000000        3.605551        6.708204   \n",
       "A2GGBTOAGKO0VE        5.567764       5.385165        4.358899        7.000000   \n",
       "A2OC5SYI7THCR6        5.477226       5.099020        4.242641        6.633250   \n",
       "ALWL0AJ94O8RJ         5.656854       5.099020        3.741657        6.928203   \n",
       "A1XTY9T4FYKT7S        5.291503       4.690416        3.741657        6.782330   \n",
       "\n",
       "reviewerID      A23QB16B7HJFU1  AXJL280X6VMEM  \n",
       "reviewerID                                     \n",
       "AKM1MP6P0OYPR         7.141428       6.000000  \n",
       "A2GGBTOAGKO0VE        7.549834       6.324555  \n",
       "A2OC5SYI7THCR6        7.483315       6.082763  \n",
       "ALWL0AJ94O8RJ         7.483315       6.082763  \n",
       "A1XTY9T4FYKT7S        7.071068       5.916080  \n",
       "\n",
       "[5 rows x 100 columns]"
      ]
     },
     "execution_count": 539,
     "metadata": {},
     "output_type": "execute_result"
    }
   ],
   "source": [
    "# 5. Establish a method for measuring the distance between different reviews. \n",
    "#    Print the mutual distance between the first 100 reviews (review IDs) to \n",
    "#    screen, sorted from closest to furthest.\n",
    "\n",
    "rewiew_distances = pd.DataFrame(euclidean_distances(bag_of_words_df.head(100), bag_of_words_df.head(100)),\n",
    "                                index=reviews_data.loc[:99, \"reviewerID\"], \n",
    "                                columns=reviews_data.loc[:99, \"reviewerID\"])\n",
    "rewiew_distances.head()"
   ]
  },
  {
   "cell_type": "code",
   "execution_count": null,
   "metadata": {},
   "outputs": [],
   "source": []
  },
  {
   "cell_type": "code",
   "execution_count": null,
   "metadata": {},
   "outputs": [],
   "source": []
  },
  {
   "cell_type": "code",
   "execution_count": null,
   "metadata": {},
   "outputs": [],
   "source": []
  },
  {
   "cell_type": "markdown",
   "metadata": {},
   "source": [
    "# Rajasa's Part"
   ]
  },
  {
   "cell_type": "code",
   "execution_count": 1,
   "metadata": {},
   "outputs": [
    {
     "ename": "NameError",
     "evalue": "name 'pd' is not defined",
     "output_type": "error",
     "traceback": [
      "\u001b[1;31m---------------------------------------------------------------------------\u001b[0m",
      "\u001b[1;31mNameError\u001b[0m                                 Traceback (most recent call last)",
      "\u001b[1;32m<ipython-input-1-42af13d014d8>\u001b[0m in \u001b[0;36m<module>\u001b[1;34m\u001b[0m\n\u001b[0;32m      2\u001b[0m \u001b[1;31m#    graph reflect your findings from the previous exercise?\u001b[0m\u001b[1;33m\u001b[0m\u001b[1;33m\u001b[0m\u001b[1;33m\u001b[0m\u001b[0m\n\u001b[0;32m      3\u001b[0m \u001b[1;32mfrom\u001b[0m \u001b[0msklearn\u001b[0m\u001b[1;33m.\u001b[0m\u001b[0mdecomposition\u001b[0m \u001b[1;32mimport\u001b[0m \u001b[0mPCA\u001b[0m\u001b[1;33m\u001b[0m\u001b[1;33m\u001b[0m\u001b[0m\n\u001b[1;32m----> 4\u001b[1;33m \u001b[0minput_vector\u001b[0m \u001b[1;33m=\u001b[0m \u001b[0mpd\u001b[0m\u001b[1;33m.\u001b[0m\u001b[0mDataFrame\u001b[0m\u001b[1;33m(\u001b[0m\u001b[0mdocument_bags\u001b[0m\u001b[1;33m,\u001b[0m\u001b[0mcolumns\u001b[0m\u001b[1;33m=\u001b[0m\u001b[0mvocabulary\u001b[0m\u001b[1;33m)\u001b[0m\u001b[1;33m\u001b[0m\u001b[1;33m\u001b[0m\u001b[0m\n\u001b[0m\u001b[0;32m      5\u001b[0m \u001b[0mpca\u001b[0m \u001b[1;33m=\u001b[0m \u001b[0mPCA\u001b[0m\u001b[1;33m(\u001b[0m\u001b[0mn_components\u001b[0m\u001b[1;33m=\u001b[0m\u001b[1;36m2\u001b[0m\u001b[1;33m)\u001b[0m\u001b[1;33m\u001b[0m\u001b[1;33m\u001b[0m\u001b[0m\n\u001b[0;32m      6\u001b[0m \u001b[0mprincipalComponents\u001b[0m \u001b[1;33m=\u001b[0m \u001b[0mpca\u001b[0m\u001b[1;33m.\u001b[0m\u001b[0mfit_transform\u001b[0m\u001b[1;33m(\u001b[0m\u001b[0minput_vector\u001b[0m\u001b[1;33m[\u001b[0m\u001b[1;33m:\u001b[0m\u001b[1;36m100\u001b[0m\u001b[1;33m]\u001b[0m\u001b[1;33m)\u001b[0m\u001b[1;33m\u001b[0m\u001b[1;33m\u001b[0m\u001b[0m\n",
      "\u001b[1;31mNameError\u001b[0m: name 'pd' is not defined"
     ]
    }
   ],
   "source": [
    "# 6. Run a PCA and graph the first two PCs for the first 100 reviews. Does your\n",
    "#    graph reflect your findings from the previous exercise?\n",
    "input_vector = pd.DataFrame(document_bags,columns=vocabulary)\n",
    "pca = PCA(n_components=2)\n",
    "principalComponents = pca.fit_transform(input_vector[:100])\n",
    "principalDf = pd.DataFrame(data = principalComponents\n",
    "             , columns = ['principal component 1', 'principal component 2'])\n",
    "print(pca.explained_variance_ratio_)\n",
    "principalDf.head()\n"
   ]
  },
  {
   "cell_type": "code",
   "execution_count": null,
   "metadata": {},
   "outputs": [],
   "source": [
    "# 7. Is it possible to use logistic regression to predict the rating (5 levels)\n",
    "#    of a product? Why may it be advantageous to use a logistic regression to \n",
    "#    predict the 5-star rating over MNL with 5 categories?\n",
    "\n"
   ]
  },
  {
   "cell_type": "code",
   "execution_count": null,
   "metadata": {},
   "outputs": [],
   "source": [
    "# 8. Perform a lasso logistic regression and measure the out-of-sample accuracy\n",
    "#    of your method of choice.\n",
    "\n",
    "#creating the dataframe for logistics regression\n",
    "log_vector = input_vector.copy()\n",
    "log_vector['rating'] = reviews_data['overall']\n",
    "log_vector.head()"
   ]
  },
  {
   "cell_type": "code",
   "execution_count": null,
   "metadata": {},
   "outputs": [],
   "source": [
    "#Splitting the data to training & test\n",
    "X = log_vector.drop(['rating'],axis = 1)\n",
    "y = log_vector['rating']\n",
    "X_train, X_test, y_train, y_test = train_test_split(X, y, test_size=0.2)"
   ]
  },
  {
   "cell_type": "code",
   "execution_count": null,
   "metadata": {},
   "outputs": [],
   "source": [
    "#Performing lasso logistics regression\n",
    "lassolog = LogisticRegressionCV(n_jobs=2, penalty='l1', solver='liblinear', cv=10, scoring = 'accuracy', random_state=0)\n",
    "lassolog.fit(X_train, y_train)"
   ]
  },
  {
   "cell_type": "code",
   "execution_count": null,
   "metadata": {},
   "outputs": [],
   "source": [
    "#measuring the out-of-sample performance\n",
    "lassolog.score(X_test, y_test)"
   ]
  },
  {
   "cell_type": "code",
   "execution_count": null,
   "metadata": {},
   "outputs": [],
   "source": [
    "# --- 0.5 bonus points if the following methods are run on all reviews\n",
    "# (across all the files). Please just continue using the reviews in \n",
    "# your assigned file otherwise. ---\n",
    "\n",
    "# 9. Implement a method to aggregate reviews by product. Can you use any\n",
    "# of the other columns to help with aggregation? Explain why or why not. \n",
    "# Please clearly explain your method.\n",
    "new_vector = input_vector.copy()\n",
    "new_vector['product_category'] = reviews_data['asin']\n",
    "new_vector['product_rating'] = reviews_data['overall']\n",
    "product_vector = pd.DataFrame(new_vector.groupby([\"product_category\"]).mean())"
   ]
  },
  {
   "cell_type": "code",
   "execution_count": null,
   "metadata": {},
   "outputs": [],
   "source": [
    "# 10. Establish a method for measuring the distance between different products.\n",
    "product_distances = pd.DataFrame(euclidean_distances(product_vector, product_vector),index = product_vector.index,columns = product_vector.index)\n",
    "product_distances.head()"
   ]
  }
 ],
 "metadata": {
  "kernelspec": {
   "display_name": "Python 3",
   "language": "python",
   "name": "python3"
  },
  "language_info": {
   "codemirror_mode": {
    "name": "ipython",
    "version": 3
   },
   "file_extension": ".py",
   "mimetype": "text/x-python",
   "name": "python",
   "nbconvert_exporter": "python",
   "pygments_lexer": "ipython3",
   "version": "3.7.5"
  }
 },
 "nbformat": 4,
 "nbformat_minor": 2
}
