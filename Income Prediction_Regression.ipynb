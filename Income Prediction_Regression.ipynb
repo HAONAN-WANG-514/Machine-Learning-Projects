{
 "cells": [
  {
   "cell_type": "code",
   "execution_count": 1,
   "metadata": {},
   "outputs": [],
   "source": [
    "import numpy as np\n",
    "import pandas as pd\n",
    "import scipy as sp\n",
    "import os\n",
    "import seaborn as sns\n",
    "import matplotlib.pyplot as plt\n",
    "import statsmodels.api as sm\n",
    "from sklearn import preprocessing\n",
    "from sklearn.model_selection import train_test_split\n",
    "from sklearn.feature_selection import RFE\n",
    "from sklearn.linear_model import LogisticRegression\n",
    "from sklearn.linear_model import LinearRegression\n",
    "from sklearn.ensemble import RandomForestClassifier\n",
    "from sklearn import metrics\n",
    "from sklearn.metrics import confusion_matrix, mean_squared_error\n",
    "from sklearn.svm import SVR\n",
    "from sklearn.feature_selection import RFE\n",
    "from scipy import stats\n",
    "from sklearn.preprocessing import PolynomialFeatures\n",
    "from sklearn.metrics import classification_report\n",
    "%matplotlib inline"
   ]
  },
  {
   "cell_type": "markdown",
   "metadata": {},
   "source": [
    "### Reading the Data"
   ]
  },
  {
   "cell_type": "code",
   "execution_count": 2,
   "metadata": {},
   "outputs": [
    {
     "data": {
      "text/html": [
       "<div>\n",
       "<style scoped>\n",
       "    .dataframe tbody tr th:only-of-type {\n",
       "        vertical-align: middle;\n",
       "    }\n",
       "\n",
       "    .dataframe tbody tr th {\n",
       "        vertical-align: top;\n",
       "    }\n",
       "\n",
       "    .dataframe thead th {\n",
       "        text-align: right;\n",
       "    }\n",
       "</style>\n",
       "<table border=\"1\" class=\"dataframe\">\n",
       "  <thead>\n",
       "    <tr style=\"text-align: right;\">\n",
       "      <th></th>\n",
       "      <th>age</th>\n",
       "      <th>workclass</th>\n",
       "      <th>fnlwgt</th>\n",
       "      <th>education</th>\n",
       "      <th>education-num</th>\n",
       "      <th>marital-status</th>\n",
       "      <th>occupation</th>\n",
       "      <th>relationship</th>\n",
       "      <th>race</th>\n",
       "      <th>sex</th>\n",
       "      <th>capital-gain</th>\n",
       "      <th>capital-loss</th>\n",
       "      <th>hours-per-week</th>\n",
       "      <th>native-country</th>\n",
       "      <th>income</th>\n",
       "    </tr>\n",
       "  </thead>\n",
       "  <tbody>\n",
       "    <tr>\n",
       "      <th>0</th>\n",
       "      <td>39</td>\n",
       "      <td>State-gov</td>\n",
       "      <td>77516</td>\n",
       "      <td>Bachelors</td>\n",
       "      <td>13</td>\n",
       "      <td>Never-married</td>\n",
       "      <td>Adm-clerical</td>\n",
       "      <td>Not-in-family</td>\n",
       "      <td>White</td>\n",
       "      <td>Male</td>\n",
       "      <td>2174</td>\n",
       "      <td>0</td>\n",
       "      <td>40</td>\n",
       "      <td>United-States</td>\n",
       "      <td>&lt;=50K</td>\n",
       "    </tr>\n",
       "    <tr>\n",
       "      <th>1</th>\n",
       "      <td>50</td>\n",
       "      <td>Self-emp-not-inc</td>\n",
       "      <td>83311</td>\n",
       "      <td>Bachelors</td>\n",
       "      <td>13</td>\n",
       "      <td>Married-civ-spouse</td>\n",
       "      <td>Exec-managerial</td>\n",
       "      <td>Husband</td>\n",
       "      <td>White</td>\n",
       "      <td>Male</td>\n",
       "      <td>0</td>\n",
       "      <td>0</td>\n",
       "      <td>13</td>\n",
       "      <td>United-States</td>\n",
       "      <td>&lt;=50K</td>\n",
       "    </tr>\n",
       "    <tr>\n",
       "      <th>2</th>\n",
       "      <td>38</td>\n",
       "      <td>Private</td>\n",
       "      <td>215646</td>\n",
       "      <td>HS-grad</td>\n",
       "      <td>9</td>\n",
       "      <td>Divorced</td>\n",
       "      <td>Handlers-cleaners</td>\n",
       "      <td>Not-in-family</td>\n",
       "      <td>White</td>\n",
       "      <td>Male</td>\n",
       "      <td>0</td>\n",
       "      <td>0</td>\n",
       "      <td>40</td>\n",
       "      <td>United-States</td>\n",
       "      <td>&lt;=50K</td>\n",
       "    </tr>\n",
       "    <tr>\n",
       "      <th>3</th>\n",
       "      <td>53</td>\n",
       "      <td>Private</td>\n",
       "      <td>234721</td>\n",
       "      <td>11th</td>\n",
       "      <td>7</td>\n",
       "      <td>Married-civ-spouse</td>\n",
       "      <td>Handlers-cleaners</td>\n",
       "      <td>Husband</td>\n",
       "      <td>Black</td>\n",
       "      <td>Male</td>\n",
       "      <td>0</td>\n",
       "      <td>0</td>\n",
       "      <td>40</td>\n",
       "      <td>United-States</td>\n",
       "      <td>&lt;=50K</td>\n",
       "    </tr>\n",
       "    <tr>\n",
       "      <th>4</th>\n",
       "      <td>28</td>\n",
       "      <td>Private</td>\n",
       "      <td>338409</td>\n",
       "      <td>Bachelors</td>\n",
       "      <td>13</td>\n",
       "      <td>Married-civ-spouse</td>\n",
       "      <td>Prof-specialty</td>\n",
       "      <td>Wife</td>\n",
       "      <td>Black</td>\n",
       "      <td>Female</td>\n",
       "      <td>0</td>\n",
       "      <td>0</td>\n",
       "      <td>40</td>\n",
       "      <td>Cuba</td>\n",
       "      <td>&lt;=50K</td>\n",
       "    </tr>\n",
       "  </tbody>\n",
       "</table>\n",
       "</div>"
      ],
      "text/plain": [
       "   age         workclass  fnlwgt  education  education-num  \\\n",
       "0   39         State-gov   77516  Bachelors             13   \n",
       "1   50  Self-emp-not-inc   83311  Bachelors             13   \n",
       "2   38           Private  215646    HS-grad              9   \n",
       "3   53           Private  234721       11th              7   \n",
       "4   28           Private  338409  Bachelors             13   \n",
       "\n",
       "       marital-status         occupation   relationship   race     sex  \\\n",
       "0       Never-married       Adm-clerical  Not-in-family  White    Male   \n",
       "1  Married-civ-spouse    Exec-managerial        Husband  White    Male   \n",
       "2            Divorced  Handlers-cleaners  Not-in-family  White    Male   \n",
       "3  Married-civ-spouse  Handlers-cleaners        Husband  Black    Male   \n",
       "4  Married-civ-spouse     Prof-specialty           Wife  Black  Female   \n",
       "\n",
       "   capital-gain  capital-loss  hours-per-week native-country income  \n",
       "0          2174             0              40  United-States  <=50K  \n",
       "1             0             0              13  United-States  <=50K  \n",
       "2             0             0              40  United-States  <=50K  \n",
       "3             0             0              40  United-States  <=50K  \n",
       "4             0             0              40           Cuba  <=50K  "
      ]
     },
     "execution_count": 2,
     "metadata": {},
     "output_type": "execute_result"
    }
   ],
   "source": [
    "income = pd.read_csv(\"income_data.csv\", sep=r'\\s*,\\s*', engine='python')\n",
    "income.head()"
   ]
  },
  {
   "cell_type": "markdown",
   "metadata": {},
   "source": [
    "## Question 1\n",
    "Build visualizations and plots to see how the dependent variable varies with some of the other variables, such as 'education', 'marital-status', 'occupation', etc and study other interrelationships of the variables. Use them to tell a story/stories.\n"
   ]
  },
  {
   "cell_type": "markdown",
   "metadata": {},
   "source": [
    "### Basic EDA"
   ]
  },
  {
   "cell_type": "code",
   "execution_count": 3,
   "metadata": {},
   "outputs": [
    {
     "data": {
      "text/html": [
       "<div>\n",
       "<style scoped>\n",
       "    .dataframe tbody tr th:only-of-type {\n",
       "        vertical-align: middle;\n",
       "    }\n",
       "\n",
       "    .dataframe tbody tr th {\n",
       "        vertical-align: top;\n",
       "    }\n",
       "\n",
       "    .dataframe thead th {\n",
       "        text-align: right;\n",
       "    }\n",
       "</style>\n",
       "<table border=\"1\" class=\"dataframe\">\n",
       "  <thead>\n",
       "    <tr style=\"text-align: right;\">\n",
       "      <th></th>\n",
       "      <th>age</th>\n",
       "      <th>fnlwgt</th>\n",
       "      <th>education-num</th>\n",
       "      <th>capital-gain</th>\n",
       "      <th>capital-loss</th>\n",
       "      <th>hours-per-week</th>\n",
       "    </tr>\n",
       "  </thead>\n",
       "  <tbody>\n",
       "    <tr>\n",
       "      <th>count</th>\n",
       "      <td>32561.000000</td>\n",
       "      <td>3.256100e+04</td>\n",
       "      <td>32561.000000</td>\n",
       "      <td>32561.000000</td>\n",
       "      <td>32561.000000</td>\n",
       "      <td>32561.000000</td>\n",
       "    </tr>\n",
       "    <tr>\n",
       "      <th>mean</th>\n",
       "      <td>38.581647</td>\n",
       "      <td>1.897784e+05</td>\n",
       "      <td>10.080679</td>\n",
       "      <td>1077.648844</td>\n",
       "      <td>87.303830</td>\n",
       "      <td>40.437456</td>\n",
       "    </tr>\n",
       "    <tr>\n",
       "      <th>std</th>\n",
       "      <td>13.640433</td>\n",
       "      <td>1.055500e+05</td>\n",
       "      <td>2.572720</td>\n",
       "      <td>7385.292085</td>\n",
       "      <td>402.960219</td>\n",
       "      <td>12.347429</td>\n",
       "    </tr>\n",
       "    <tr>\n",
       "      <th>min</th>\n",
       "      <td>17.000000</td>\n",
       "      <td>1.228500e+04</td>\n",
       "      <td>1.000000</td>\n",
       "      <td>0.000000</td>\n",
       "      <td>0.000000</td>\n",
       "      <td>1.000000</td>\n",
       "    </tr>\n",
       "    <tr>\n",
       "      <th>25%</th>\n",
       "      <td>28.000000</td>\n",
       "      <td>1.178270e+05</td>\n",
       "      <td>9.000000</td>\n",
       "      <td>0.000000</td>\n",
       "      <td>0.000000</td>\n",
       "      <td>40.000000</td>\n",
       "    </tr>\n",
       "    <tr>\n",
       "      <th>50%</th>\n",
       "      <td>37.000000</td>\n",
       "      <td>1.783560e+05</td>\n",
       "      <td>10.000000</td>\n",
       "      <td>0.000000</td>\n",
       "      <td>0.000000</td>\n",
       "      <td>40.000000</td>\n",
       "    </tr>\n",
       "    <tr>\n",
       "      <th>75%</th>\n",
       "      <td>48.000000</td>\n",
       "      <td>2.370510e+05</td>\n",
       "      <td>12.000000</td>\n",
       "      <td>0.000000</td>\n",
       "      <td>0.000000</td>\n",
       "      <td>45.000000</td>\n",
       "    </tr>\n",
       "    <tr>\n",
       "      <th>max</th>\n",
       "      <td>90.000000</td>\n",
       "      <td>1.484705e+06</td>\n",
       "      <td>16.000000</td>\n",
       "      <td>99999.000000</td>\n",
       "      <td>4356.000000</td>\n",
       "      <td>99.000000</td>\n",
       "    </tr>\n",
       "  </tbody>\n",
       "</table>\n",
       "</div>"
      ],
      "text/plain": [
       "                age        fnlwgt  education-num  capital-gain  capital-loss  \\\n",
       "count  32561.000000  3.256100e+04   32561.000000  32561.000000  32561.000000   \n",
       "mean      38.581647  1.897784e+05      10.080679   1077.648844     87.303830   \n",
       "std       13.640433  1.055500e+05       2.572720   7385.292085    402.960219   \n",
       "min       17.000000  1.228500e+04       1.000000      0.000000      0.000000   \n",
       "25%       28.000000  1.178270e+05       9.000000      0.000000      0.000000   \n",
       "50%       37.000000  1.783560e+05      10.000000      0.000000      0.000000   \n",
       "75%       48.000000  2.370510e+05      12.000000      0.000000      0.000000   \n",
       "max       90.000000  1.484705e+06      16.000000  99999.000000   4356.000000   \n",
       "\n",
       "       hours-per-week  \n",
       "count    32561.000000  \n",
       "mean        40.437456  \n",
       "std         12.347429  \n",
       "min          1.000000  \n",
       "25%         40.000000  \n",
       "50%         40.000000  \n",
       "75%         45.000000  \n",
       "max         99.000000  "
      ]
     },
     "execution_count": 3,
     "metadata": {},
     "output_type": "execute_result"
    }
   ],
   "source": [
    "# Generates descriptive statistics of numerical variables\n",
    "income.describe()"
   ]
  },
  {
   "cell_type": "markdown",
   "metadata": {},
   "source": [
    "### Age\n",
    "Possible transformation:\n",
    "- Create age bins: 20_below, 21-30, 31-40, 41-50, 51-60, 60_above"
   ]
  },
  {
   "cell_type": "code",
   "execution_count": 4,
   "metadata": {
    "scrolled": true
   },
   "outputs": [
    {
     "data": {
      "text/plain": [
       "<matplotlib.axes._subplots.AxesSubplot at 0x1d35ab8f448>"
      ]
     },
     "execution_count": 4,
     "metadata": {},
     "output_type": "execute_result"
    },
    {
     "data": {
      "image/png": "[encoded data removed]",
      "text/plain": [
       "<Figure size 720x216 with 1 Axes>"
      ]
     },
     "metadata": {
      "needs_background": "light"
     },
     "output_type": "display_data"
    }
   ],
   "source": [
    "plt.figure(figsize=(10,3))\n",
    "sns.distplot(income.age)"
   ]
  },
  {
   "cell_type": "code",
   "execution_count": 5,
   "metadata": {},
   "outputs": [
    {
     "data": {
      "text/plain": [
       "<matplotlib.axes._subplots.AxesSubplot at 0x1d354dd5c08>"
      ]
     },
     "execution_count": 5,
     "metadata": {},
     "output_type": "execute_result"
    },
    {
     "data": {
      "image/png": "[encoded data removed]",
      "text/plain": [
       "<Figure size 720x216 with 1 Axes>"
      ]
     },
     "metadata": {
      "needs_background": "light"
     },
     "output_type": "display_data"
    }
   ],
   "source": [
    "# Creates histogram of age with bin size of 10 years\n",
    "plt.figure(figsize=(10,3))\n",
    "sns.distplot(income.age, bins=10)"
   ]
  },
  {
   "cell_type": "markdown",
   "metadata": {},
   "source": [
    "### Working Class\n",
    "Possible combinations:\n",
    "- Local-gov, Sate-govworkclass, and Federal-gov can be combined into Government_Work\n",
    "- Self-emp-not-inc and Self-emp-inc can be combined into Self_Employed\n",
    "- ?, Without-pay and Never-worked can be combined into Other"
   ]
  },
  {
   "cell_type": "code",
   "execution_count": 6,
   "metadata": {},
   "outputs": [
    {
     "data": {
      "text/plain": [
       "<seaborn.axisgrid.FacetGrid at 0x1d35ab90c08>"
      ]
     },
     "execution_count": 6,
     "metadata": {},
     "output_type": "execute_result"
    },
    {
     "data": {
      "image/png": "[encoded data removed]",
      "text/plain": [
       "<Figure size 864x360 with 1 Axes>"
      ]
     },
     "metadata": {
      "needs_background": "light"
     },
     "output_type": "display_data"
    }
   ],
   "source": [
    "sns.catplot(x=\"workclass\", kind=\"count\", palette=\"GnBu_d\", \n",
    "            height=5, aspect=12/5, data=income,\n",
    "            order=income[\"workclass\"].value_counts().index)"
   ]
  },
  {
   "cell_type": "markdown",
   "metadata": {},
   "source": [
    "### fnlwgt\n",
    "Is this final weight? The variable name is not clear."
   ]
  },
  {
   "cell_type": "code",
   "execution_count": 7,
   "metadata": {},
   "outputs": [
    {
     "data": {
      "text/plain": [
       "<matplotlib.axes._subplots.AxesSubplot at 0x1d35ae1f648>"
      ]
     },
     "execution_count": 7,
     "metadata": {},
     "output_type": "execute_result"
    },
    {
     "data": {
      "image/png": "[encoded data removed]",
      "text/plain": [
       "<Figure size 864x360 with 1 Axes>"
      ]
     },
     "metadata": {
      "needs_background": "light"
     },
     "output_type": "display_data"
    }
   ],
   "source": [
    "plt.figure(figsize=(12,5))\n",
    "sns.distplot(income.fnlwgt)"
   ]
  },
  {
   "cell_type": "markdown",
   "metadata": {},
   "source": [
    "### Education vs Education-Num\n",
    "It seems like education and education-num contain the same general information. Meaning that education might be enough to keep as a factor since education-num is a subset of education. We can assume do not need that level of detail for looking at income."
   ]
  },
  {
   "cell_type": "code",
   "execution_count": 8,
   "metadata": {},
   "outputs": [
    {
     "data": {
      "text/html": [
       "<div>\n",
       "<style scoped>\n",
       "    .dataframe tbody tr th:only-of-type {\n",
       "        vertical-align: middle;\n",
       "    }\n",
       "\n",
       "    .dataframe tbody tr th {\n",
       "        vertical-align: top;\n",
       "    }\n",
       "\n",
       "    .dataframe thead th {\n",
       "        text-align: right;\n",
       "    }\n",
       "</style>\n",
       "<table border=\"1\" class=\"dataframe\">\n",
       "  <thead>\n",
       "    <tr style=\"text-align: right;\">\n",
       "      <th></th>\n",
       "      <th>education</th>\n",
       "      <th>education-num</th>\n",
       "    </tr>\n",
       "  </thead>\n",
       "  <tbody>\n",
       "    <tr>\n",
       "      <th>224</th>\n",
       "      <td>Preschool</td>\n",
       "      <td>1</td>\n",
       "    </tr>\n",
       "    <tr>\n",
       "      <th>160</th>\n",
       "      <td>1st-4th</td>\n",
       "      <td>2</td>\n",
       "    </tr>\n",
       "    <tr>\n",
       "      <th>56</th>\n",
       "      <td>5th-6th</td>\n",
       "      <td>3</td>\n",
       "    </tr>\n",
       "    <tr>\n",
       "      <th>15</th>\n",
       "      <td>7th-8th</td>\n",
       "      <td>4</td>\n",
       "    </tr>\n",
       "    <tr>\n",
       "      <th>6</th>\n",
       "      <td>9th</td>\n",
       "      <td>5</td>\n",
       "    </tr>\n",
       "    <tr>\n",
       "      <th>77</th>\n",
       "      <td>10th</td>\n",
       "      <td>6</td>\n",
       "    </tr>\n",
       "    <tr>\n",
       "      <th>3</th>\n",
       "      <td>11th</td>\n",
       "      <td>7</td>\n",
       "    </tr>\n",
       "    <tr>\n",
       "      <th>415</th>\n",
       "      <td>12th</td>\n",
       "      <td>8</td>\n",
       "    </tr>\n",
       "    <tr>\n",
       "      <th>2</th>\n",
       "      <td>HS-grad</td>\n",
       "      <td>9</td>\n",
       "    </tr>\n",
       "    <tr>\n",
       "      <th>10</th>\n",
       "      <td>Some-college</td>\n",
       "      <td>10</td>\n",
       "    </tr>\n",
       "    <tr>\n",
       "      <th>14</th>\n",
       "      <td>Assoc-voc</td>\n",
       "      <td>11</td>\n",
       "    </tr>\n",
       "    <tr>\n",
       "      <th>13</th>\n",
       "      <td>Assoc-acdm</td>\n",
       "      <td>12</td>\n",
       "    </tr>\n",
       "    <tr>\n",
       "      <th>0</th>\n",
       "      <td>Bachelors</td>\n",
       "      <td>13</td>\n",
       "    </tr>\n",
       "    <tr>\n",
       "      <th>5</th>\n",
       "      <td>Masters</td>\n",
       "      <td>14</td>\n",
       "    </tr>\n",
       "    <tr>\n",
       "      <th>52</th>\n",
       "      <td>Prof-school</td>\n",
       "      <td>15</td>\n",
       "    </tr>\n",
       "    <tr>\n",
       "      <th>20</th>\n",
       "      <td>Doctorate</td>\n",
       "      <td>16</td>\n",
       "    </tr>\n",
       "  </tbody>\n",
       "</table>\n",
       "</div>"
      ],
      "text/plain": [
       "        education  education-num\n",
       "224     Preschool              1\n",
       "160       1st-4th              2\n",
       "56        5th-6th              3\n",
       "15        7th-8th              4\n",
       "6             9th              5\n",
       "77           10th              6\n",
       "3            11th              7\n",
       "415          12th              8\n",
       "2         HS-grad              9\n",
       "10   Some-college             10\n",
       "14      Assoc-voc             11\n",
       "13     Assoc-acdm             12\n",
       "0       Bachelors             13\n",
       "5         Masters             14\n",
       "52    Prof-school             15\n",
       "20      Doctorate             16"
      ]
     },
     "execution_count": 8,
     "metadata": {},
     "output_type": "execute_result"
    }
   ],
   "source": [
    "income[['education','education-num']].drop_duplicates().sort_values(by='education-num')"
   ]
  },
  {
   "cell_type": "code",
   "execution_count": 9,
   "metadata": {
    "scrolled": false
   },
   "outputs": [
    {
     "data": {
      "text/plain": [
       "<seaborn.axisgrid.FacetGrid at 0x1d35b3dc548>"
      ]
     },
     "execution_count": 9,
     "metadata": {},
     "output_type": "execute_result"
    },
    {
     "data": {
      "image/png": "[encoded data removed]",
      "text/plain": [
       "<Figure size 792x288 with 1 Axes>"
      ]
     },
     "metadata": {
      "needs_background": "light"
     },
     "output_type": "display_data"
    }
   ],
   "source": [
    "chart = sns.catplot(x=\"education\", kind=\"count\", palette=\"ch:2.5\", \n",
    "            height=4, aspect=11/4, data=income,\n",
    "            order=income.education.value_counts().index)\n",
    "chart.set_xticklabels(rotation=45)"
   ]
  },
  {
   "cell_type": "markdown",
   "metadata": {},
   "source": [
    "### Capital Gain"
   ]
  },
  {
   "cell_type": "code",
   "execution_count": 10,
   "metadata": {},
   "outputs": [
    {
     "data": {
      "text/plain": [
       "<matplotlib.axes._subplots.AxesSubplot at 0x1d35ac18848>"
      ]
     },
     "execution_count": 10,
     "metadata": {},
     "output_type": "execute_result"
    },
    {
     "data": {
      "image/png": "[encoded data removed]",
      "text/plain": [
       "<Figure size 720x288 with 1 Axes>"
      ]
     },
     "metadata": {
      "needs_background": "light"
     },
     "output_type": "display_data"
    }
   ],
   "source": [
    "plt.figure(figsize=(10,4))\n",
    "sns.distplot(income['capital-gain'])"
   ]
  },
  {
   "cell_type": "code",
   "execution_count": 11,
   "metadata": {},
   "outputs": [
    {
     "data": {
      "text/plain": [
       "<matplotlib.axes._subplots.AxesSubplot at 0x1d35ac0a1c8>"
      ]
     },
     "execution_count": 11,
     "metadata": {},
     "output_type": "execute_result"
    },
    {
     "data": {
      "image/png": "[encoded data removed]",
      "text/plain": [
       "<Figure size 720x288 with 1 Axes>"
      ]
     },
     "metadata": {
      "needs_background": "light"
     },
     "output_type": "display_data"
    }
   ],
   "source": [
    "plt.figure(figsize=(10,4))\n",
    "sns.boxplot(x=income[\"capital-gain\"])"
   ]
  },
  {
   "cell_type": "markdown",
   "metadata": {},
   "source": [
    "### Capital Loss"
   ]
  },
  {
   "cell_type": "code",
   "execution_count": 12,
   "metadata": {},
   "outputs": [
    {
     "data": {
      "text/plain": [
       "<matplotlib.axes._subplots.AxesSubplot at 0x1d35b5f9688>"
      ]
     },
     "execution_count": 12,
     "metadata": {},
     "output_type": "execute_result"
    },
    {
     "data": {
      "image/png": "[encoded data removed]",
      "text/plain": [
       "<Figure size 720x288 with 1 Axes>"
      ]
     },
     "metadata": {
      "needs_background": "light"
     },
     "output_type": "display_data"
    }
   ],
   "source": [
    "plt.figure(figsize=(10,4))\n",
    "sns.distplot(income['capital-loss'])"
   ]
  },
  {
   "cell_type": "code",
   "execution_count": 13,
   "metadata": {},
   "outputs": [
    {
     "data": {
      "text/plain": [
       "<matplotlib.axes._subplots.AxesSubplot at 0x1d35b6d3848>"
      ]
     },
     "execution_count": 13,
     "metadata": {},
     "output_type": "execute_result"
    },
    {
     "data": {
      "image/png": "[encoded data removed]",
      "text/plain": [
       "<Figure size 720x288 with 1 Axes>"
      ]
     },
     "metadata": {
      "needs_background": "light"
     },
     "output_type": "display_data"
    }
   ],
   "source": [
    "plt.figure(figsize=(10,4))\n",
    "sns.boxplot(x=income[\"capital-loss\"])"
   ]
  },
  {
   "cell_type": "markdown",
   "metadata": {},
   "source": [
    "### Relationship"
   ]
  },
  {
   "cell_type": "code",
   "execution_count": 14,
   "metadata": {},
   "outputs": [
    {
     "data": {
      "text/plain": [
       "<seaborn.axisgrid.FacetGrid at 0x1d35b718388>"
      ]
     },
     "execution_count": 14,
     "metadata": {},
     "output_type": "execute_result"
    },
    {
     "data": {
      "image/png": "[encoded data removed]",
      "text/plain": [
       "<Figure size 648x288 with 1 Axes>"
      ]
     },
     "metadata": {
      "needs_background": "light"
     },
     "output_type": "display_data"
    }
   ],
   "source": [
    "sns.catplot(x=\"relationship\", kind=\"count\", palette=\"ch:3.5\", \n",
    "            height=4, aspect=9/4, data=income,\n",
    "            order=income.relationship.value_counts().index)"
   ]
  },
  {
   "cell_type": "markdown",
   "metadata": {},
   "source": [
    "### Marital Status\n",
    "Possible combinations can be:\n",
    "- Married-civ-spouse, Married-spouse-absent, Married-AF-spouse can all be combined into a Married category.\n",
    "- Separated-marital-status and Divorced can be combined into a Divorced_or_Separated category."
   ]
  },
  {
   "cell_type": "code",
   "execution_count": 15,
   "metadata": {},
   "outputs": [
    {
     "data": {
      "text/plain": [
       "array(['Never-married', 'Married-civ-spouse', 'Divorced',\n",
       "       'Married-spouse-absent', 'Separated', 'Married-AF-spouse',\n",
       "       'Widowed'], dtype=object)"
      ]
     },
     "execution_count": 15,
     "metadata": {},
     "output_type": "execute_result"
    }
   ],
   "source": [
    "income['marital-status'].unique()"
   ]
  },
  {
   "cell_type": "code",
   "execution_count": 16,
   "metadata": {},
   "outputs": [
    {
     "data": {
      "text/plain": [
       "<seaborn.axisgrid.FacetGrid at 0x1d35b744d08>"
      ]
     },
     "execution_count": 16,
     "metadata": {},
     "output_type": "execute_result"
    },
    {
     "data": {
      "image/png": "[encoded data removed]",
      "text/plain": [
       "<Figure size 864x360 with 1 Axes>"
      ]
     },
     "metadata": {
      "needs_background": "light"
     },
     "output_type": "display_data"
    }
   ],
   "source": [
    "sns.catplot(x=\"marital-status\", kind=\"count\", palette=\"GnBu_d\", \n",
    "            height=5, aspect=12/5, data=income,\n",
    "            order=income[\"marital-status\"].value_counts().index)"
   ]
  },
  {
   "cell_type": "markdown",
   "metadata": {},
   "source": [
    "### Occupation"
   ]
  },
  {
   "cell_type": "code",
   "execution_count": 17,
   "metadata": {},
   "outputs": [
    {
     "data": {
      "text/plain": [
       "<seaborn.axisgrid.FacetGrid at 0x1d35b963908>"
      ]
     },
     "execution_count": 17,
     "metadata": {},
     "output_type": "execute_result"
    },
    {
     "data": {
      "image/png": "[encoded data removed]",
      "text/plain": [
       "<Figure size 864x360 with 1 Axes>"
      ]
     },
     "metadata": {
      "needs_background": "light"
     },
     "output_type": "display_data"
    }
   ],
   "source": [
    "chart = sns.catplot(x=\"occupation\", kind=\"count\", palette=\"OrRd\", \n",
    "            height=5, aspect=12/5, data=income,\n",
    "            order=income.occupation.value_counts().index)\n",
    "chart.set_xticklabels(rotation=45)"
   ]
  },
  {
   "cell_type": "markdown",
   "metadata": {},
   "source": [
    "### Native Country\n",
    "Majority is USA"
   ]
  },
  {
   "cell_type": "code",
   "execution_count": 18,
   "metadata": {},
   "outputs": [
    {
     "data": {
      "text/plain": [
       "<seaborn.axisgrid.FacetGrid at 0x1d35b8444c8>"
      ]
     },
     "execution_count": 18,
     "metadata": {},
     "output_type": "execute_result"
    },
    {
     "data": {
      "image/png": "[encoded data removed]",
      "text/plain": [
       "<Figure size 1008x216 with 1 Axes>"
      ]
     },
     "metadata": {
      "needs_background": "light"
     },
     "output_type": "display_data"
    }
   ],
   "source": [
    "chart = sns.catplot(x=\"native-country\", kind=\"count\", palette=\"RdGy\", \n",
    "            height=3, aspect=14/3, data=income,\n",
    "            order=income['native-country'].value_counts().index)\n",
    "chart.set_xticklabels(rotation=40)"
   ]
  },
  {
   "cell_type": "markdown",
   "metadata": {},
   "source": [
    "### Hours Per Week"
   ]
  },
  {
   "cell_type": "code",
   "execution_count": 19,
   "metadata": {},
   "outputs": [
    {
     "data": {
      "text/plain": [
       "count    32561.000000\n",
       "mean        40.437456\n",
       "std         12.347429\n",
       "min          1.000000\n",
       "25%         40.000000\n",
       "50%         40.000000\n",
       "75%         45.000000\n",
       "max         99.000000\n",
       "Name: hours-per-week, dtype: float64"
      ]
     },
     "execution_count": 19,
     "metadata": {},
     "output_type": "execute_result"
    }
   ],
   "source": [
    "income['hours-per-week'].describe()"
   ]
  },
  {
   "cell_type": "code",
   "execution_count": 20,
   "metadata": {
    "scrolled": false
   },
   "outputs": [
    {
     "data": {
      "text/plain": [
       "<matplotlib.axes._subplots.AxesSubplot at 0x1d35bb50188>"
      ]
     },
     "execution_count": 20,
     "metadata": {},
     "output_type": "execute_result"
    },
    {
     "data": {
      "image/png": "[encoded data removed]",
      "text/plain": [
       "<Figure size 720x288 with 1 Axes>"
      ]
     },
     "metadata": {
      "needs_background": "light"
     },
     "output_type": "display_data"
    }
   ],
   "source": [
    "plt.figure(figsize=(10,4))\n",
    "sns.distplot(income['hours-per-week'])"
   ]
  },
  {
   "cell_type": "code",
   "execution_count": 21,
   "metadata": {},
   "outputs": [
    {
     "data": {
      "text/plain": [
       "<matplotlib.axes._subplots.AxesSubplot at 0x1d35bdb7408>"
      ]
     },
     "execution_count": 21,
     "metadata": {},
     "output_type": "execute_result"
    },
    {
     "data": {
      "image/png": "[encoded data removed]",
      "text/plain": [
       "<Figure size 720x288 with 1 Axes>"
      ]
     },
     "metadata": {
      "needs_background": "light"
     },
     "output_type": "display_data"
    }
   ],
   "source": [
    "plt.figure(figsize=(10,4))\n",
    "sns.boxplot(x=income[\"hours-per-week\"])"
   ]
  },
  {
   "cell_type": "code",
   "execution_count": 22,
   "metadata": {
    "scrolled": false
   },
   "outputs": [
    {
     "data": {
      "text/plain": [
       "<matplotlib.axes._subplots.AxesSubplot at 0x1d35bb35ec8>"
      ]
     },
     "execution_count": 22,
     "metadata": {},
     "output_type": "execute_result"
    },
    {
     "data": {
      "image/png": "[encoded data removed]",
      "text/plain": [
       "<Figure size 720x288 with 1 Axes>"
      ]
     },
     "metadata": {
      "needs_background": "light"
     },
     "output_type": "display_data"
    }
   ],
   "source": [
    "plt.figure(figsize=(10,4))\n",
    "sns.boxplot(x=income[(income[\"hours-per-week\"]>20) & (income['hours-per-week']<65)]['hours-per-week'])"
   ]
  },
  {
   "cell_type": "code",
   "execution_count": 23,
   "metadata": {},
   "outputs": [
    {
     "data": {
      "text/plain": [
       "28567"
      ]
     },
     "execution_count": 23,
     "metadata": {},
     "output_type": "execute_result"
    }
   ],
   "source": [
    "income[(income[\"hours-per-week\"]>20) & (income['hours-per-week']<65)]['hours-per-week'].shape[0]"
   ]
  },
  {
   "cell_type": "code",
   "execution_count": 24,
   "metadata": {},
   "outputs": [
    {
     "data": {
      "text/plain": [
       "32561"
      ]
     },
     "execution_count": 24,
     "metadata": {},
     "output_type": "execute_result"
    }
   ],
   "source": [
    "income['hours-per-week'].shape[0]"
   ]
  },
  {
   "cell_type": "code",
   "execution_count": 25,
   "metadata": {},
   "outputs": [
    {
     "data": {
      "text/plain": [
       "87.7337919597064"
      ]
     },
     "execution_count": 25,
     "metadata": {},
     "output_type": "execute_result"
    }
   ],
   "source": [
    "income[(income[\"hours-per-week\"]>20) & (income['hours-per-week']<65)]['hours-per-week'].shape[0] / income['hours-per-week'].shape[0] * 100"
   ]
  },
  {
   "cell_type": "code",
   "execution_count": 26,
   "metadata": {},
   "outputs": [
    {
     "data": {
      "text/plain": [
       "<matplotlib.axes._subplots.AxesSubplot at 0x1d35c185408>"
      ]
     },
     "execution_count": 26,
     "metadata": {},
     "output_type": "execute_result"
    },
    {
     "data": {
      "image/png": "[encoded data removed]",
      "text/plain": [
       "<Figure size 720x288 with 1 Axes>"
      ]
     },
     "metadata": {
      "needs_background": "light"
     },
     "output_type": "display_data"
    }
   ],
   "source": [
    "plt.figure(figsize=(10,4))\n",
    "sns.distplot(income[(income[\"hours-per-week\"]>20) & (income['hours-per-week']<65)]['hours-per-week'])"
   ]
  },
  {
   "cell_type": "markdown",
   "metadata": {},
   "source": [
    "### Race"
   ]
  },
  {
   "cell_type": "code",
   "execution_count": 27,
   "metadata": {},
   "outputs": [
    {
     "data": {
      "text/plain": [
       "<seaborn.axisgrid.FacetGrid at 0x1d35be5c508>"
      ]
     },
     "execution_count": 27,
     "metadata": {},
     "output_type": "execute_result"
    },
    {
     "data": {
      "image/png": "[encoded data removed]",
      "text/plain": [
       "<Figure size 864x360 with 1 Axes>"
      ]
     },
     "metadata": {
      "needs_background": "light"
     },
     "output_type": "display_data"
    }
   ],
   "source": [
    "sns.catplot(x=\"race\", kind=\"count\", palette=\"GnBu_d\", \n",
    "            height=5, aspect=12/5, data=income,\n",
    "            order=income[\"race\"].value_counts().index)"
   ]
  },
  {
   "cell_type": "markdown",
   "metadata": {},
   "source": [
    "### Education & Ocupation"
   ]
  },
  {
   "cell_type": "code",
   "execution_count": 28,
   "metadata": {},
   "outputs": [
    {
     "data": {
      "text/plain": [
       "[Text(0, 0, 'Adm-clerical'),\n",
       " Text(0, 0, 'Exec-managerial'),\n",
       " Text(0, 0, 'Handlers-cleaners'),\n",
       " Text(0, 0, 'Prof-specialty'),\n",
       " Text(0, 0, 'Other-service'),\n",
       " Text(0, 0, 'Sales'),\n",
       " Text(0, 0, 'Craft-repair'),\n",
       " Text(0, 0, 'Transport-moving'),\n",
       " Text(0, 0, 'Farming-fishing'),\n",
       " Text(0, 0, 'Machine-op-inspct'),\n",
       " Text(0, 0, 'Tech-support'),\n",
       " Text(0, 0, '?'),\n",
       " Text(0, 0, 'Protective-serv'),\n",
       " Text(0, 0, 'Armed-Forces'),\n",
       " Text(0, 0, 'Priv-house-serv')]"
      ]
     },
     "execution_count": 28,
     "metadata": {},
     "output_type": "execute_result"
    },
    {
     "data": {
      "image/png": "[encoded data removed]",
      "text/plain": [
       "<Figure size 864x360 with 1 Axes>"
      ]
     },
     "metadata": {
      "needs_background": "light"
     },
     "output_type": "display_data"
    }
   ],
   "source": [
    "plt.figure(figsize=(12,5))\n",
    "chart = sns.countplot(x=\"occupation\", hue=\"income\", \n",
    "                     data=income, palette=\"Paired\")\n",
    "chart.set_xticklabels(chart.get_xticklabels(), rotation=45)"
   ]
  },
  {
   "cell_type": "markdown",
   "metadata": {},
   "source": [
    "### Sex & Income"
   ]
  },
  {
   "cell_type": "code",
   "execution_count": 29,
   "metadata": {
    "scrolled": false
   },
   "outputs": [
    {
     "data": {
      "text/plain": [
       "<matplotlib.axes._subplots.AxesSubplot at 0x1d35c612388>"
      ]
     },
     "execution_count": 29,
     "metadata": {},
     "output_type": "execute_result"
    },
    {
     "data": {
      "image/png": "[encoded data removed]",
      "text/plain": [
       "<Figure size 432x288 with 1 Axes>"
      ]
     },
     "metadata": {
      "needs_background": "light"
     },
     "output_type": "display_data"
    }
   ],
   "source": [
    "sns.countplot(x=\"income\", hue=\"sex\", data=income, palette=\"RdBu_r\")"
   ]
  },
  {
   "cell_type": "markdown",
   "metadata": {},
   "source": [
    "### Education & Income\n",
    "After a Master's degree, the number of high incomes is higher than the low incomes."
   ]
  },
  {
   "cell_type": "code",
   "execution_count": 30,
   "metadata": {},
   "outputs": [
    {
     "data": {
      "text/plain": [
       "<matplotlib.axes._subplots.AxesSubplot at 0x1d35c6b1e08>"
      ]
     },
     "execution_count": 30,
     "metadata": {},
     "output_type": "execute_result"
    },
    {
     "data": {
      "image/png": "[encoded data removed]",
      "text/plain": [
       "<Figure size 864x360 with 1 Axes>"
      ]
     },
     "metadata": {
      "needs_background": "light"
     },
     "output_type": "display_data"
    }
   ],
   "source": [
    "plt.figure(figsize=(12,5))\n",
    "sns.countplot(x=\"education\", hue=\"income\", data=income, palette=\"deep\",\n",
    "              order=income[['education','education-num']].drop_duplicates()\n",
    "              .sort_values(by='education-num')['education'].drop_duplicates())"
   ]
  },
  {
   "cell_type": "markdown",
   "metadata": {},
   "source": [
    "### Age & Income"
   ]
  },
  {
   "cell_type": "code",
   "execution_count": 31,
   "metadata": {},
   "outputs": [
    {
     "data": {
      "text/plain": [
       "<matplotlib.axes._subplots.AxesSubplot at 0x1d35c597688>"
      ]
     },
     "execution_count": 31,
     "metadata": {},
     "output_type": "execute_result"
    },
    {
     "data": {
      "image/png": "[encoded data removed]",
      "text/plain": [
       "<Figure size 864x360 with 1 Axes>"
      ]
     },
     "metadata": {
      "needs_background": "light"
     },
     "output_type": "display_data"
    }
   ],
   "source": [
    "plt.figure(figsize=(12,5))\n",
    "sns.countplot(x=\"age\", hue=\"income\", data=income, palette=\"deep\")"
   ]
  },
  {
   "cell_type": "code",
   "execution_count": 32,
   "metadata": {},
   "outputs": [
    {
     "data": {
      "text/plain": [
       "<matplotlib.legend.Legend at 0x1d35ca22d88>"
      ]
     },
     "execution_count": 32,
     "metadata": {},
     "output_type": "execute_result"
    },
    {
     "data": {
      "image/png": "[encoded data removed]",
      "text/plain": [
       "<Figure size 1008x360 with 1 Axes>"
      ]
     },
     "metadata": {
      "needs_background": "light"
     },
     "output_type": "display_data"
    }
   ],
   "source": [
    "plt.figure(figsize=(14,5))\n",
    "sns.distplot(income[income['income']==\"<=50K\"]['age'], color=\"blue\", label='Low Income')\n",
    "sns.distplot(income[income['income']==\">50K\"]['age'], color=\"red\", label=\"High Income\")\n",
    "plt.legend(labels=['Low Income','High Income'])"
   ]
  },
  {
   "cell_type": "markdown",
   "metadata": {},
   "source": [
    "\n",
    "## Question 2.\n",
    "How would you transform your categorical variables and why? Which of them would you transform? If you do not want to transform any, justify why.\n"
   ]
  },
  {
   "cell_type": "code",
   "execution_count": 33,
   "metadata": {},
   "outputs": [
    {
     "data": {
      "text/html": [
       "<div>\n",
       "<style scoped>\n",
       "    .dataframe tbody tr th:only-of-type {\n",
       "        vertical-align: middle;\n",
       "    }\n",
       "\n",
       "    .dataframe tbody tr th {\n",
       "        vertical-align: top;\n",
       "    }\n",
       "\n",
       "    .dataframe thead th {\n",
       "        text-align: right;\n",
       "    }\n",
       "</style>\n",
       "<table border=\"1\" class=\"dataframe\">\n",
       "  <thead>\n",
       "    <tr style=\"text-align: right;\">\n",
       "      <th></th>\n",
       "      <th>age</th>\n",
       "      <th>workclass</th>\n",
       "      <th>fnlwgt</th>\n",
       "      <th>education</th>\n",
       "      <th>education-num</th>\n",
       "      <th>marital-status</th>\n",
       "      <th>occupation</th>\n",
       "      <th>relationship</th>\n",
       "      <th>race</th>\n",
       "      <th>sex</th>\n",
       "      <th>capital-gain</th>\n",
       "      <th>capital-loss</th>\n",
       "      <th>hours-per-week</th>\n",
       "      <th>native-country</th>\n",
       "      <th>income</th>\n",
       "    </tr>\n",
       "  </thead>\n",
       "  <tbody>\n",
       "    <tr>\n",
       "      <th>0</th>\n",
       "      <td>39</td>\n",
       "      <td>State-gov</td>\n",
       "      <td>77516</td>\n",
       "      <td>Bachelors</td>\n",
       "      <td>13</td>\n",
       "      <td>Never-married</td>\n",
       "      <td>Adm-clerical</td>\n",
       "      <td>Not-in-family</td>\n",
       "      <td>White</td>\n",
       "      <td>Male</td>\n",
       "      <td>2174</td>\n",
       "      <td>0</td>\n",
       "      <td>40</td>\n",
       "      <td>United-States</td>\n",
       "      <td>&lt;=50K</td>\n",
       "    </tr>\n",
       "    <tr>\n",
       "      <th>1</th>\n",
       "      <td>50</td>\n",
       "      <td>Self-emp-not-inc</td>\n",
       "      <td>83311</td>\n",
       "      <td>Bachelors</td>\n",
       "      <td>13</td>\n",
       "      <td>Married-civ-spouse</td>\n",
       "      <td>Exec-managerial</td>\n",
       "      <td>Husband</td>\n",
       "      <td>White</td>\n",
       "      <td>Male</td>\n",
       "      <td>0</td>\n",
       "      <td>0</td>\n",
       "      <td>13</td>\n",
       "      <td>United-States</td>\n",
       "      <td>&lt;=50K</td>\n",
       "    </tr>\n",
       "    <tr>\n",
       "      <th>2</th>\n",
       "      <td>38</td>\n",
       "      <td>Private</td>\n",
       "      <td>215646</td>\n",
       "      <td>HS-grad</td>\n",
       "      <td>9</td>\n",
       "      <td>Divorced</td>\n",
       "      <td>Handlers-cleaners</td>\n",
       "      <td>Not-in-family</td>\n",
       "      <td>White</td>\n",
       "      <td>Male</td>\n",
       "      <td>0</td>\n",
       "      <td>0</td>\n",
       "      <td>40</td>\n",
       "      <td>United-States</td>\n",
       "      <td>&lt;=50K</td>\n",
       "    </tr>\n",
       "    <tr>\n",
       "      <th>3</th>\n",
       "      <td>53</td>\n",
       "      <td>Private</td>\n",
       "      <td>234721</td>\n",
       "      <td>11th</td>\n",
       "      <td>7</td>\n",
       "      <td>Married-civ-spouse</td>\n",
       "      <td>Handlers-cleaners</td>\n",
       "      <td>Husband</td>\n",
       "      <td>Black</td>\n",
       "      <td>Male</td>\n",
       "      <td>0</td>\n",
       "      <td>0</td>\n",
       "      <td>40</td>\n",
       "      <td>United-States</td>\n",
       "      <td>&lt;=50K</td>\n",
       "    </tr>\n",
       "    <tr>\n",
       "      <th>4</th>\n",
       "      <td>28</td>\n",
       "      <td>Private</td>\n",
       "      <td>338409</td>\n",
       "      <td>Bachelors</td>\n",
       "      <td>13</td>\n",
       "      <td>Married-civ-spouse</td>\n",
       "      <td>Prof-specialty</td>\n",
       "      <td>Wife</td>\n",
       "      <td>Black</td>\n",
       "      <td>Female</td>\n",
       "      <td>0</td>\n",
       "      <td>0</td>\n",
       "      <td>40</td>\n",
       "      <td>Cuba</td>\n",
       "      <td>&lt;=50K</td>\n",
       "    </tr>\n",
       "  </tbody>\n",
       "</table>\n",
       "</div>"
      ],
      "text/plain": [
       "   age         workclass  fnlwgt  education  education-num  \\\n",
       "0   39         State-gov   77516  Bachelors             13   \n",
       "1   50  Self-emp-not-inc   83311  Bachelors             13   \n",
       "2   38           Private  215646    HS-grad              9   \n",
       "3   53           Private  234721       11th              7   \n",
       "4   28           Private  338409  Bachelors             13   \n",
       "\n",
       "       marital-status         occupation   relationship   race     sex  \\\n",
       "0       Never-married       Adm-clerical  Not-in-family  White    Male   \n",
       "1  Married-civ-spouse    Exec-managerial        Husband  White    Male   \n",
       "2            Divorced  Handlers-cleaners  Not-in-family  White    Male   \n",
       "3  Married-civ-spouse  Handlers-cleaners        Husband  Black    Male   \n",
       "4  Married-civ-spouse     Prof-specialty           Wife  Black  Female   \n",
       "\n",
       "   capital-gain  capital-loss  hours-per-week native-country income  \n",
       "0          2174             0              40  United-States  <=50K  \n",
       "1             0             0              13  United-States  <=50K  \n",
       "2             0             0              40  United-States  <=50K  \n",
       "3             0             0              40  United-States  <=50K  \n",
       "4             0             0              40           Cuba  <=50K  "
      ]
     },
     "execution_count": 33,
     "metadata": {},
     "output_type": "execute_result"
    }
   ],
   "source": [
    "income.head()"
   ]
  },
  {
   "cell_type": "code",
   "execution_count": 34,
   "metadata": {},
   "outputs": [],
   "source": [
    "factors = [\n",
    "    'workclass', 'education', 'marital-status', 'occupation', 'relationship',\n",
    "    'race', 'sex', 'native-country', 'income'\n",
    "]"
   ]
  },
  {
   "cell_type": "code",
   "execution_count": 35,
   "metadata": {},
   "outputs": [
    {
     "data": {
      "text/plain": [
       "False"
      ]
     },
     "execution_count": 35,
     "metadata": {},
     "output_type": "execute_result"
    }
   ],
   "source": [
    "# Checks for nulls\n",
    "income.isnull().values.any()"
   ]
  },
  {
   "cell_type": "code",
   "execution_count": 36,
   "metadata": {},
   "outputs": [],
   "source": [
    "# Handles nulls in case there are any\n",
    "for factor in factors:\n",
    "    income[factor].fillna(value=income[factor].mode()[0], inplace=True)"
   ]
  },
  {
   "cell_type": "markdown",
   "metadata": {},
   "source": [
    "### Combined variables\n",
    "- Working class\n",
    "    - Local-gov, Sate-gov, and Federal-gov can be combined into Government_Work\n",
    "    - Self-emp-not-inc and Self-emp-inc can be combined into Self_Employed\n",
    "    - ?, Without-pay and Never-worked can be combined into Other\n",
    "- Marital status\n",
    "    - Married-civ-spouse, Married-spouse-absent, Married-AF-spouse can all be combined into a Married category.\n",
    "    - Separated-marital-status and Divorced can be combined into a Divorced_or_Separated category.\n",
    "- Race\n",
    "    - Can be White, Black, and Other (with everything else combined here)\n",
    "- Education\n",
    "    - Associate level"
   ]
  },
  {
   "cell_type": "markdown",
   "metadata": {},
   "source": [
    "### Transforming Education"
   ]
  },
  {
   "cell_type": "code",
   "execution_count": 37,
   "metadata": {
    "scrolled": true
   },
   "outputs": [
    {
     "data": {
      "text/plain": [
       "array(['Bachelors', 'HS-grad', '11th', 'Masters', '9th', 'Some-college',\n",
       "       'Assoc-acdm', 'Assoc-voc', '7th-8th', 'Doctorate', 'Prof-school',\n",
       "       '5th-6th', '10th', '1st-4th', 'Preschool', '12th'], dtype=object)"
      ]
     },
     "execution_count": 37,
     "metadata": {},
     "output_type": "execute_result"
    }
   ],
   "source": [
    "income['education'].unique()"
   ]
  },
  {
   "cell_type": "code",
   "execution_count": 38,
   "metadata": {},
   "outputs": [],
   "source": [
    "# Merges levels of education below high school\n",
    "income['education'] = np.where(income['education'] == '11th', 'Not-HS-Grad', income['education'])\n",
    "income['education'] = np.where(income['education'] == '9th', 'Not-HS-Grad', income['education'])\n",
    "income['education'] = np.where(income['education'] == '7th-8th', 'Not-HS-Grad', income['education'])\n",
    "income['education'] = np.where(income['education'] == '5th-6th', 'Not-HS-Grad', income['education'])\n",
    "income['education'] = np.where(income['education'] == '10th', 'Not-HS-Grad', income['education'])\n",
    "income['education'] = np.where(income['education'] == '1st-4th', 'Not-HS-Grad', income['education'])\n",
    "income['education'] = np.where(income['education'] == 'Preschool', 'Not-HS-Grad', income['education'])\n",
    "income['education'] = np.where(income['education'] == '12th', 'Not-HS-Grad', income['education'])\n",
    "# Merges levels of education for associates level\n",
    "income['education'] = np.where(income['education'] == 'Assoc-acdm', 'Associates', income['education'])\n",
    "income['education'] = np.where(income['education'] == 'Assoc-voc', 'Associates', income['education'])"
   ]
  },
  {
   "cell_type": "code",
   "execution_count": 39,
   "metadata": {},
   "outputs": [
    {
     "data": {
      "text/plain": [
       "array(['Bachelors', 'HS-grad', 'Not-HS-Grad', 'Masters', 'Some-college',\n",
       "       'Associates', 'Doctorate', 'Prof-school'], dtype=object)"
      ]
     },
     "execution_count": 39,
     "metadata": {},
     "output_type": "execute_result"
    }
   ],
   "source": [
    "income.education.unique()"
   ]
  },
  {
   "cell_type": "markdown",
   "metadata": {},
   "source": [
    "### Transforming Working Class"
   ]
  },
  {
   "cell_type": "code",
   "execution_count": 40,
   "metadata": {},
   "outputs": [
    {
     "data": {
      "text/plain": [
       "array(['State-gov', 'Self-emp-not-inc', 'Private', 'Federal-gov',\n",
       "       'Local-gov', '?', 'Self-emp-inc', 'Without-pay', 'Never-worked'],\n",
       "      dtype=object)"
      ]
     },
     "execution_count": 40,
     "metadata": {},
     "output_type": "execute_result"
    }
   ],
   "source": [
    "income.workclass.unique()"
   ]
  },
  {
   "cell_type": "code",
   "execution_count": 41,
   "metadata": {},
   "outputs": [],
   "source": [
    "# Merges levels of workclass that fall into Government\n",
    "income['workclass'] = np.where(income['workclass'] == 'Local-gov', 'Gov', income['workclass'])\n",
    "income['workclass'] = np.where(income['workclass'] == 'State-gov', 'Gov', income['workclass'])\n",
    "income['workclass'] = np.where(income['workclass'] == 'Federal-gov', 'Gov', income['workclass'])\n",
    "# Merges levels of workclass that fall into Self-employed\n",
    "income['workclass'] = np.where(income['workclass'] == 'Self-emp-not-inc', 'Self_emp', income['workclass'])\n",
    "income['workclass'] = np.where(income['workclass'] == 'Self-emp-inc', 'Self_emp', income['workclass'])\n",
    "# Merges levels of workclass that fall into Other\n",
    "income['workclass'] = np.where(income['workclass'] == '?', 'Other', income['workclass'])\n",
    "income['workclass'] = np.where(income['workclass'] == 'Without-pay', 'Other', income['workclass'])\n"
   ]
  },
  {
   "cell_type": "markdown",
   "metadata": {},
   "source": [
    "### Transforming Race"
   ]
  },
  {
   "cell_type": "code",
   "execution_count": 42,
   "metadata": {},
   "outputs": [
    {
     "data": {
      "text/plain": [
       "array(['White', 'Black', 'Asian-Pac-Islander', 'Amer-Indian-Eskimo',\n",
       "       'Other'], dtype=object)"
      ]
     },
     "execution_count": 42,
     "metadata": {},
     "output_type": "execute_result"
    }
   ],
   "source": [
    "income.race.unique()"
   ]
  },
  {
   "cell_type": "code",
   "execution_count": 43,
   "metadata": {},
   "outputs": [],
   "source": [
    "# Merges minorities into Other\n",
    "income['race'] = np.where(income['race'] == 'Asian-Pac-Islander', 'Other', income['race'])\n",
    "income['race'] = np.where(income['race'] == 'Amer-Indian-Eskimo', 'Other', income['race'])\n"
   ]
  },
  {
   "cell_type": "markdown",
   "metadata": {},
   "source": [
    "### Transforming Marital Status"
   ]
  },
  {
   "cell_type": "code",
   "execution_count": 44,
   "metadata": {},
   "outputs": [
    {
     "data": {
      "text/plain": [
       "array(['Never-married', 'Married-civ-spouse', 'Divorced',\n",
       "       'Married-spouse-absent', 'Separated', 'Married-AF-spouse',\n",
       "       'Widowed'], dtype=object)"
      ]
     },
     "execution_count": 44,
     "metadata": {},
     "output_type": "execute_result"
    }
   ],
   "source": [
    "income['marital-status'].unique()"
   ]
  },
  {
   "cell_type": "code",
   "execution_count": 45,
   "metadata": {},
   "outputs": [],
   "source": [
    "# Merges levels of marital status that fall into Married\n",
    "income['marital-status'] = np.where(income['marital-status'] == 'Married-civ-spouse', 'Married', income['marital-status'])\n",
    "income['marital-status'] = np.where(income['marital-status'] == 'Married-spouse-absent', 'Married', income['marital-status'])\n",
    "income['marital-status'] = np.where(income['marital-status'] == 'Married-AF-spouse', 'Married', income['marital-status'])\n",
    "# Merges levels of marital status that fall into Divorced_or_Separated\n",
    "income['marital-status'] = np.where(income['marital-status'] == 'Separated', 'Divorced_or_Separated', income['marital-status'])\n",
    "income['marital-status'] = np.where(income['marital-status'] == 'Divorced', 'Divorced_or_Separated', income['marital-status'])\n"
   ]
  },
  {
   "cell_type": "code",
   "execution_count": 46,
   "metadata": {},
   "outputs": [
    {
     "data": {
      "text/html": [
       "<div>\n",
       "<style scoped>\n",
       "    .dataframe tbody tr th:only-of-type {\n",
       "        vertical-align: middle;\n",
       "    }\n",
       "\n",
       "    .dataframe tbody tr th {\n",
       "        vertical-align: top;\n",
       "    }\n",
       "\n",
       "    .dataframe thead th {\n",
       "        text-align: right;\n",
       "    }\n",
       "</style>\n",
       "<table border=\"1\" class=\"dataframe\">\n",
       "  <thead>\n",
       "    <tr style=\"text-align: right;\">\n",
       "      <th></th>\n",
       "      <th>age</th>\n",
       "      <th>workclass</th>\n",
       "      <th>fnlwgt</th>\n",
       "      <th>education</th>\n",
       "      <th>education-num</th>\n",
       "      <th>marital-status</th>\n",
       "      <th>occupation</th>\n",
       "      <th>relationship</th>\n",
       "      <th>race</th>\n",
       "      <th>sex</th>\n",
       "      <th>capital-gain</th>\n",
       "      <th>capital-loss</th>\n",
       "      <th>hours-per-week</th>\n",
       "      <th>native-country</th>\n",
       "      <th>income</th>\n",
       "    </tr>\n",
       "  </thead>\n",
       "  <tbody>\n",
       "    <tr>\n",
       "      <th>0</th>\n",
       "      <td>39</td>\n",
       "      <td>0</td>\n",
       "      <td>77516</td>\n",
       "      <td>1</td>\n",
       "      <td>13</td>\n",
       "      <td>2</td>\n",
       "      <td>1</td>\n",
       "      <td>1</td>\n",
       "      <td>2</td>\n",
       "      <td>1</td>\n",
       "      <td>2174</td>\n",
       "      <td>0</td>\n",
       "      <td>40</td>\n",
       "      <td>39</td>\n",
       "      <td>0</td>\n",
       "    </tr>\n",
       "    <tr>\n",
       "      <th>1</th>\n",
       "      <td>50</td>\n",
       "      <td>4</td>\n",
       "      <td>83311</td>\n",
       "      <td>1</td>\n",
       "      <td>13</td>\n",
       "      <td>1</td>\n",
       "      <td>4</td>\n",
       "      <td>0</td>\n",
       "      <td>2</td>\n",
       "      <td>1</td>\n",
       "      <td>0</td>\n",
       "      <td>0</td>\n",
       "      <td>13</td>\n",
       "      <td>39</td>\n",
       "      <td>0</td>\n",
       "    </tr>\n",
       "    <tr>\n",
       "      <th>2</th>\n",
       "      <td>38</td>\n",
       "      <td>3</td>\n",
       "      <td>215646</td>\n",
       "      <td>3</td>\n",
       "      <td>9</td>\n",
       "      <td>0</td>\n",
       "      <td>6</td>\n",
       "      <td>1</td>\n",
       "      <td>2</td>\n",
       "      <td>1</td>\n",
       "      <td>0</td>\n",
       "      <td>0</td>\n",
       "      <td>40</td>\n",
       "      <td>39</td>\n",
       "      <td>0</td>\n",
       "    </tr>\n",
       "    <tr>\n",
       "      <th>3</th>\n",
       "      <td>53</td>\n",
       "      <td>3</td>\n",
       "      <td>234721</td>\n",
       "      <td>5</td>\n",
       "      <td>7</td>\n",
       "      <td>1</td>\n",
       "      <td>6</td>\n",
       "      <td>0</td>\n",
       "      <td>0</td>\n",
       "      <td>1</td>\n",
       "      <td>0</td>\n",
       "      <td>0</td>\n",
       "      <td>40</td>\n",
       "      <td>39</td>\n",
       "      <td>0</td>\n",
       "    </tr>\n",
       "    <tr>\n",
       "      <th>4</th>\n",
       "      <td>28</td>\n",
       "      <td>3</td>\n",
       "      <td>338409</td>\n",
       "      <td>1</td>\n",
       "      <td>13</td>\n",
       "      <td>1</td>\n",
       "      <td>10</td>\n",
       "      <td>5</td>\n",
       "      <td>0</td>\n",
       "      <td>0</td>\n",
       "      <td>0</td>\n",
       "      <td>0</td>\n",
       "      <td>40</td>\n",
       "      <td>5</td>\n",
       "      <td>0</td>\n",
       "    </tr>\n",
       "  </tbody>\n",
       "</table>\n",
       "</div>"
      ],
      "text/plain": [
       "   age  workclass  fnlwgt  education  education-num  marital-status  \\\n",
       "0   39          0   77516          1             13               2   \n",
       "1   50          4   83311          1             13               1   \n",
       "2   38          3  215646          3              9               0   \n",
       "3   53          3  234721          5              7               1   \n",
       "4   28          3  338409          1             13               1   \n",
       "\n",
       "   occupation  relationship  race  sex  capital-gain  capital-loss  \\\n",
       "0           1             1     2    1          2174             0   \n",
       "1           4             0     2    1             0             0   \n",
       "2           6             1     2    1             0             0   \n",
       "3           6             0     0    1             0             0   \n",
       "4          10             5     0    0             0             0   \n",
       "\n",
       "   hours-per-week  native-country  income  \n",
       "0              40              39       0  \n",
       "1              13              39       0  \n",
       "2              40              39       0  \n",
       "3              40              39       0  \n",
       "4              40               5       0  "
      ]
     },
     "execution_count": 46,
     "metadata": {},
     "output_type": "execute_result"
    }
   ],
   "source": [
    "#assigning levels to the values of categorical variables\n",
    "income_fact = income.copy()\n",
    "mapping_levels = []\n",
    "for factor in factors:\n",
    "    income_fact[factor] = income_fact[factor].factorize(sort = True)[0]\n",
    "    mapping_levels.append(income_fact[factor].factorize(sort = True)[1])\n",
    "income_fact.head()"
   ]
  },
  {
   "cell_type": "code",
   "execution_count": 47,
   "metadata": {
    "scrolled": true
   },
   "outputs": [
    {
     "data": {
      "text/html": [
       "<div>\n",
       "<style scoped>\n",
       "    .dataframe tbody tr th:only-of-type {\n",
       "        vertical-align: middle;\n",
       "    }\n",
       "\n",
       "    .dataframe tbody tr th {\n",
       "        vertical-align: top;\n",
       "    }\n",
       "\n",
       "    .dataframe thead th {\n",
       "        text-align: right;\n",
       "    }\n",
       "</style>\n",
       "<table border=\"1\" class=\"dataframe\">\n",
       "  <thead>\n",
       "    <tr style=\"text-align: right;\">\n",
       "      <th></th>\n",
       "      <th>age</th>\n",
       "      <th>workclass</th>\n",
       "      <th>fnlwgt</th>\n",
       "      <th>education</th>\n",
       "      <th>education-num</th>\n",
       "      <th>marital-status</th>\n",
       "      <th>occupation</th>\n",
       "      <th>relationship</th>\n",
       "      <th>race</th>\n",
       "      <th>sex</th>\n",
       "      <th>capital-gain</th>\n",
       "      <th>capital-loss</th>\n",
       "      <th>hours-per-week</th>\n",
       "      <th>native-country</th>\n",
       "      <th>income</th>\n",
       "    </tr>\n",
       "  </thead>\n",
       "  <tbody>\n",
       "    <tr>\n",
       "      <th>age</th>\n",
       "      <td>1.000000</td>\n",
       "      <td>0.034091</td>\n",
       "      <td>-0.078141</td>\n",
       "      <td>-0.076983</td>\n",
       "      <td>0.066345</td>\n",
       "      <td>-0.394977</td>\n",
       "      <td>-0.004810</td>\n",
       "      <td>-0.321515</td>\n",
       "      <td>0.028056</td>\n",
       "      <td>0.100373</td>\n",
       "      <td>0.124948</td>\n",
       "      <td>0.058484</td>\n",
       "      <td>0.142907</td>\n",
       "      <td>0.007508</td>\n",
       "      <td>0.272962</td>\n",
       "    </tr>\n",
       "    <tr>\n",
       "      <th>workclass</th>\n",
       "      <td>0.034091</td>\n",
       "      <td>1.000000</td>\n",
       "      <td>-0.015506</td>\n",
       "      <td>-0.006799</td>\n",
       "      <td>-0.056307</td>\n",
       "      <td>-0.039712</td>\n",
       "      <td>0.143764</td>\n",
       "      <td>-0.112655</td>\n",
       "      <td>0.087370</td>\n",
       "      <td>0.126925</td>\n",
       "      <td>0.030524</td>\n",
       "      <td>0.012238</td>\n",
       "      <td>0.148242</td>\n",
       "      <td>-0.027769</td>\n",
       "      <td>0.044932</td>\n",
       "    </tr>\n",
       "    <tr>\n",
       "      <th>fnlwgt</th>\n",
       "      <td>-0.078141</td>\n",
       "      <td>-0.015506</td>\n",
       "      <td>1.000000</td>\n",
       "      <td>0.010777</td>\n",
       "      <td>-0.035706</td>\n",
       "      <td>0.019549</td>\n",
       "      <td>0.001656</td>\n",
       "      <td>0.013734</td>\n",
       "      <td>-0.053952</td>\n",
       "      <td>0.025078</td>\n",
       "      <td>-0.006039</td>\n",
       "      <td>-0.006914</td>\n",
       "      <td>-0.021621</td>\n",
       "      <td>-0.079336</td>\n",
       "      <td>-0.010738</td>\n",
       "    </tr>\n",
       "    <tr>\n",
       "      <th>education</th>\n",
       "      <td>-0.076983</td>\n",
       "      <td>-0.006799</td>\n",
       "      <td>0.010777</td>\n",
       "      <td>1.000000</td>\n",
       "      <td>-0.287868</td>\n",
       "      <td>0.047474</td>\n",
       "      <td>-0.055512</td>\n",
       "      <td>0.074108</td>\n",
       "      <td>-0.024707</td>\n",
       "      <td>-0.029639</td>\n",
       "      <td>-0.042120</td>\n",
       "      <td>-0.025516</td>\n",
       "      <td>-0.112541</td>\n",
       "      <td>-0.018027</td>\n",
       "      <td>-0.121944</td>\n",
       "    </tr>\n",
       "    <tr>\n",
       "      <th>education-num</th>\n",
       "      <td>0.066345</td>\n",
       "      <td>-0.056307</td>\n",
       "      <td>-0.035706</td>\n",
       "      <td>-0.287868</td>\n",
       "      <td>1.000000</td>\n",
       "      <td>-0.026398</td>\n",
       "      <td>0.115080</td>\n",
       "      <td>-0.096114</td>\n",
       "      <td>0.056429</td>\n",
       "      <td>0.006283</td>\n",
       "      <td>0.119140</td>\n",
       "      <td>0.074749</td>\n",
       "      <td>0.167215</td>\n",
       "      <td>0.050102</td>\n",
       "      <td>0.329682</td>\n",
       "    </tr>\n",
       "    <tr>\n",
       "      <th>marital-status</th>\n",
       "      <td>-0.394977</td>\n",
       "      <td>-0.039712</td>\n",
       "      <td>0.019549</td>\n",
       "      <td>0.047474</td>\n",
       "      <td>-0.026398</td>\n",
       "      <td>1.000000</td>\n",
       "      <td>-0.003918</td>\n",
       "      <td>0.207021</td>\n",
       "      <td>-0.036766</td>\n",
       "      <td>-0.074158</td>\n",
       "      <td>-0.060629</td>\n",
       "      <td>-0.032385</td>\n",
       "      <td>-0.188765</td>\n",
       "      <td>-0.009206</td>\n",
       "      <td>-0.180698</td>\n",
       "    </tr>\n",
       "    <tr>\n",
       "      <th>occupation</th>\n",
       "      <td>-0.004810</td>\n",
       "      <td>0.143764</td>\n",
       "      <td>0.001656</td>\n",
       "      <td>-0.055512</td>\n",
       "      <td>0.115080</td>\n",
       "      <td>-0.003918</td>\n",
       "      <td>1.000000</td>\n",
       "      <td>-0.075321</td>\n",
       "      <td>0.009430</td>\n",
       "      <td>0.078789</td>\n",
       "      <td>0.020514</td>\n",
       "      <td>0.019944</td>\n",
       "      <td>0.089875</td>\n",
       "      <td>-0.007114</td>\n",
       "      <td>0.082149</td>\n",
       "    </tr>\n",
       "    <tr>\n",
       "      <th>relationship</th>\n",
       "      <td>-0.321515</td>\n",
       "      <td>-0.112655</td>\n",
       "      <td>0.013734</td>\n",
       "      <td>0.074108</td>\n",
       "      <td>-0.096114</td>\n",
       "      <td>0.207021</td>\n",
       "      <td>-0.075321</td>\n",
       "      <td>1.000000</td>\n",
       "      <td>-0.142200</td>\n",
       "      <td>-0.617570</td>\n",
       "      <td>-0.100721</td>\n",
       "      <td>-0.067608</td>\n",
       "      <td>-0.301436</td>\n",
       "      <td>-0.013201</td>\n",
       "      <td>-0.329913</td>\n",
       "    </tr>\n",
       "    <tr>\n",
       "      <th>race</th>\n",
       "      <td>0.028056</td>\n",
       "      <td>0.087370</td>\n",
       "      <td>-0.053952</td>\n",
       "      <td>-0.024707</td>\n",
       "      <td>0.056429</td>\n",
       "      <td>-0.036766</td>\n",
       "      <td>0.009430</td>\n",
       "      <td>-0.142200</td>\n",
       "      <td>1.000000</td>\n",
       "      <td>0.107320</td>\n",
       "      <td>0.030212</td>\n",
       "      <td>0.020789</td>\n",
       "      <td>0.079843</td>\n",
       "      <td>0.150150</td>\n",
       "      <td>0.087640</td>\n",
       "    </tr>\n",
       "    <tr>\n",
       "      <th>sex</th>\n",
       "      <td>0.100373</td>\n",
       "      <td>0.126925</td>\n",
       "      <td>0.025078</td>\n",
       "      <td>-0.029639</td>\n",
       "      <td>0.006283</td>\n",
       "      <td>-0.074158</td>\n",
       "      <td>0.078789</td>\n",
       "      <td>-0.617570</td>\n",
       "      <td>0.107320</td>\n",
       "      <td>1.000000</td>\n",
       "      <td>0.066646</td>\n",
       "      <td>0.042154</td>\n",
       "      <td>0.264941</td>\n",
       "      <td>-0.006870</td>\n",
       "      <td>0.215980</td>\n",
       "    </tr>\n",
       "    <tr>\n",
       "      <th>capital-gain</th>\n",
       "      <td>0.124948</td>\n",
       "      <td>0.030524</td>\n",
       "      <td>-0.006039</td>\n",
       "      <td>-0.042120</td>\n",
       "      <td>0.119140</td>\n",
       "      <td>-0.060629</td>\n",
       "      <td>0.020514</td>\n",
       "      <td>-0.100721</td>\n",
       "      <td>0.030212</td>\n",
       "      <td>0.066646</td>\n",
       "      <td>1.000000</td>\n",
       "      <td>-0.066569</td>\n",
       "      <td>0.093322</td>\n",
       "      <td>0.014903</td>\n",
       "      <td>0.278159</td>\n",
       "    </tr>\n",
       "    <tr>\n",
       "      <th>capital-loss</th>\n",
       "      <td>0.058484</td>\n",
       "      <td>0.012238</td>\n",
       "      <td>-0.006914</td>\n",
       "      <td>-0.025516</td>\n",
       "      <td>0.074749</td>\n",
       "      <td>-0.032385</td>\n",
       "      <td>0.019944</td>\n",
       "      <td>-0.067608</td>\n",
       "      <td>0.020789</td>\n",
       "      <td>0.042154</td>\n",
       "      <td>-0.066569</td>\n",
       "      <td>1.000000</td>\n",
       "      <td>0.059852</td>\n",
       "      <td>0.007098</td>\n",
       "      <td>0.141042</td>\n",
       "    </tr>\n",
       "    <tr>\n",
       "      <th>hours-per-week</th>\n",
       "      <td>0.142907</td>\n",
       "      <td>0.148242</td>\n",
       "      <td>-0.021621</td>\n",
       "      <td>-0.112541</td>\n",
       "      <td>0.167215</td>\n",
       "      <td>-0.188765</td>\n",
       "      <td>0.089875</td>\n",
       "      <td>-0.301436</td>\n",
       "      <td>0.079843</td>\n",
       "      <td>0.264941</td>\n",
       "      <td>0.093322</td>\n",
       "      <td>0.059852</td>\n",
       "      <td>1.000000</td>\n",
       "      <td>0.010585</td>\n",
       "      <td>0.269075</td>\n",
       "    </tr>\n",
       "    <tr>\n",
       "      <th>native-country</th>\n",
       "      <td>0.007508</td>\n",
       "      <td>-0.027769</td>\n",
       "      <td>-0.079336</td>\n",
       "      <td>-0.018027</td>\n",
       "      <td>0.050102</td>\n",
       "      <td>-0.009206</td>\n",
       "      <td>-0.007114</td>\n",
       "      <td>-0.013201</td>\n",
       "      <td>0.150150</td>\n",
       "      <td>-0.006870</td>\n",
       "      <td>0.014903</td>\n",
       "      <td>0.007098</td>\n",
       "      <td>0.010585</td>\n",
       "      <td>1.000000</td>\n",
       "      <td>0.028747</td>\n",
       "    </tr>\n",
       "    <tr>\n",
       "      <th>income</th>\n",
       "      <td>0.272962</td>\n",
       "      <td>0.044932</td>\n",
       "      <td>-0.010738</td>\n",
       "      <td>-0.121944</td>\n",
       "      <td>0.329682</td>\n",
       "      <td>-0.180698</td>\n",
       "      <td>0.082149</td>\n",
       "      <td>-0.329913</td>\n",
       "      <td>0.087640</td>\n",
       "      <td>0.215980</td>\n",
       "      <td>0.278159</td>\n",
       "      <td>0.141042</td>\n",
       "      <td>0.269075</td>\n",
       "      <td>0.028747</td>\n",
       "      <td>1.000000</td>\n",
       "    </tr>\n",
       "  </tbody>\n",
       "</table>\n",
       "</div>"
      ],
      "text/plain": [
       "                     age  workclass    fnlwgt  education  education-num  \\\n",
       "age             1.000000   0.034091 -0.078141  -0.076983       0.066345   \n",
       "workclass       0.034091   1.000000 -0.015506  -0.006799      -0.056307   \n",
       "fnlwgt         -0.078141  -0.015506  1.000000   0.010777      -0.035706   \n",
       "education      -0.076983  -0.006799  0.010777   1.000000      -0.287868   \n",
       "education-num   0.066345  -0.056307 -0.035706  -0.287868       1.000000   \n",
       "marital-status -0.394977  -0.039712  0.019549   0.047474      -0.026398   \n",
       "occupation     -0.004810   0.143764  0.001656  -0.055512       0.115080   \n",
       "relationship   -0.321515  -0.112655  0.013734   0.074108      -0.096114   \n",
       "race            0.028056   0.087370 -0.053952  -0.024707       0.056429   \n",
       "sex             0.100373   0.126925  0.025078  -0.029639       0.006283   \n",
       "capital-gain    0.124948   0.030524 -0.006039  -0.042120       0.119140   \n",
       "capital-loss    0.058484   0.012238 -0.006914  -0.025516       0.074749   \n",
       "hours-per-week  0.142907   0.148242 -0.021621  -0.112541       0.167215   \n",
       "native-country  0.007508  -0.027769 -0.079336  -0.018027       0.050102   \n",
       "income          0.272962   0.044932 -0.010738  -0.121944       0.329682   \n",
       "\n",
       "                marital-status  occupation  relationship      race       sex  \\\n",
       "age                  -0.394977   -0.004810     -0.321515  0.028056  0.100373   \n",
       "workclass            -0.039712    0.143764     -0.112655  0.087370  0.126925   \n",
       "fnlwgt                0.019549    0.001656      0.013734 -0.053952  0.025078   \n",
       "education             0.047474   -0.055512      0.074108 -0.024707 -0.029639   \n",
       "education-num        -0.026398    0.115080     -0.096114  0.056429  0.006283   \n",
       "marital-status        1.000000   -0.003918      0.207021 -0.036766 -0.074158   \n",
       "occupation           -0.003918    1.000000     -0.075321  0.009430  0.078789   \n",
       "relationship          0.207021   -0.075321      1.000000 -0.142200 -0.617570   \n",
       "race                 -0.036766    0.009430     -0.142200  1.000000  0.107320   \n",
       "sex                  -0.074158    0.078789     -0.617570  0.107320  1.000000   \n",
       "capital-gain         -0.060629    0.020514     -0.100721  0.030212  0.066646   \n",
       "capital-loss         -0.032385    0.019944     -0.067608  0.020789  0.042154   \n",
       "hours-per-week       -0.188765    0.089875     -0.301436  0.079843  0.264941   \n",
       "native-country       -0.009206   -0.007114     -0.013201  0.150150 -0.006870   \n",
       "income               -0.180698    0.082149     -0.329913  0.087640  0.215980   \n",
       "\n",
       "                capital-gain  capital-loss  hours-per-week  native-country  \\\n",
       "age                 0.124948      0.058484        0.142907        0.007508   \n",
       "workclass           0.030524      0.012238        0.148242       -0.027769   \n",
       "fnlwgt             -0.006039     -0.006914       -0.021621       -0.079336   \n",
       "education          -0.042120     -0.025516       -0.112541       -0.018027   \n",
       "education-num       0.119140      0.074749        0.167215        0.050102   \n",
       "marital-status     -0.060629     -0.032385       -0.188765       -0.009206   \n",
       "occupation          0.020514      0.019944        0.089875       -0.007114   \n",
       "relationship       -0.100721     -0.067608       -0.301436       -0.013201   \n",
       "race                0.030212      0.020789        0.079843        0.150150   \n",
       "sex                 0.066646      0.042154        0.264941       -0.006870   \n",
       "capital-gain        1.000000     -0.066569        0.093322        0.014903   \n",
       "capital-loss       -0.066569      1.000000        0.059852        0.007098   \n",
       "hours-per-week      0.093322      0.059852        1.000000        0.010585   \n",
       "native-country      0.014903      0.007098        0.010585        1.000000   \n",
       "income              0.278159      0.141042        0.269075        0.028747   \n",
       "\n",
       "                  income  \n",
       "age             0.272962  \n",
       "workclass       0.044932  \n",
       "fnlwgt         -0.010738  \n",
       "education      -0.121944  \n",
       "education-num   0.329682  \n",
       "marital-status -0.180698  \n",
       "occupation      0.082149  \n",
       "relationship   -0.329913  \n",
       "race            0.087640  \n",
       "sex             0.215980  \n",
       "capital-gain    0.278159  \n",
       "capital-loss    0.141042  \n",
       "hours-per-week  0.269075  \n",
       "native-country  0.028747  \n",
       "income          1.000000  "
      ]
     },
     "execution_count": 47,
     "metadata": {},
     "output_type": "execute_result"
    }
   ],
   "source": [
    "# Creates a correlation matrix of the data\n",
    "income_fact.corr(method='spearman')"
   ]
  },
  {
   "cell_type": "code",
   "execution_count": 48,
   "metadata": {},
   "outputs": [
    {
     "data": {
      "text/plain": [
       "<matplotlib.axes._subplots.AxesSubplot at 0x1d35cc76c08>"
      ]
     },
     "execution_count": 48,
     "metadata": {},
     "output_type": "execute_result"
    },
    {
     "data": {
      "image/png": "[encoded data removed]",
      "text/plain": [
       "<Figure size 792x648 with 2 Axes>"
      ]
     },
     "metadata": {
      "needs_background": "light"
     },
     "output_type": "display_data"
    }
   ],
   "source": [
    "# Compute the correlation matrix\n",
    "corr = income_fact.corr(method='spearman')\n",
    "\n",
    "# Generate a mask for the upper triangle\n",
    "mask = np.zeros_like(corr, dtype=np.bool)\n",
    "mask[np.triu_indices_from(mask)] = True\n",
    "\n",
    "# Set up the matplotlib figure\n",
    "f, ax = plt.subplots(figsize=(11, 9))\n",
    "\n",
    "# Generate a custom diverging colormap\n",
    "cmap = sns.diverging_palette(220, 10, as_cmap=True)\n",
    "\n",
    "# Draw the heatmap with the mask and correct aspect ratio\n",
    "sns.heatmap(corr, mask=mask, cmap=cmap, vmax=.3, center=0,\n",
    "            square=True, linewidths=.5, cbar_kws={\"shrink\": .5})"
   ]
  },
  {
   "cell_type": "code",
   "execution_count": 49,
   "metadata": {},
   "outputs": [
    {
     "name": "stdout",
     "output_type": "stream",
     "text": [
      "<=50K    24720\n",
      ">50K      7841\n",
      "Name: income, dtype: int64\n",
      "24.08%\n"
     ]
    }
   ],
   "source": [
    "# Checks for class imbalance\n",
    "print(income['income'].value_counts())\n",
    "print(str(round(income['income'].value_counts()[1]*100/income.shape[0],2)) + '%')"
   ]
  },
  {
   "cell_type": "code",
   "execution_count": 50,
   "metadata": {},
   "outputs": [
    {
     "name": "stdout",
     "output_type": "stream",
     "text": [
      "0    24720\n",
      "1     7841\n",
      "Name: income, dtype: int64\n",
      "24.08%\n"
     ]
    }
   ],
   "source": [
    "# Checks for class imbalance again\n",
    "print(income_fact['income'].value_counts())\n",
    "print(str(round(income_fact['income'].value_counts()[1]*100/income.shape[0],2)) + '%')"
   ]
  },
  {
   "cell_type": "markdown",
   "metadata": {},
   "source": [
    "### Dummy Variables"
   ]
  },
  {
   "cell_type": "code",
   "execution_count": 51,
   "metadata": {},
   "outputs": [
    {
     "data": {
      "text/html": [
       "<div>\n",
       "<style scoped>\n",
       "    .dataframe tbody tr th:only-of-type {\n",
       "        vertical-align: middle;\n",
       "    }\n",
       "\n",
       "    .dataframe tbody tr th {\n",
       "        vertical-align: top;\n",
       "    }\n",
       "\n",
       "    .dataframe thead th {\n",
       "        text-align: right;\n",
       "    }\n",
       "</style>\n",
       "<table border=\"1\" class=\"dataframe\">\n",
       "  <thead>\n",
       "    <tr style=\"text-align: right;\">\n",
       "      <th></th>\n",
       "      <th>age</th>\n",
       "      <th>fnlwgt</th>\n",
       "      <th>education-num</th>\n",
       "      <th>capital-gain</th>\n",
       "      <th>capital-loss</th>\n",
       "      <th>hours-per-week</th>\n",
       "      <th>workclass_1</th>\n",
       "      <th>workclass_2</th>\n",
       "      <th>workclass_3</th>\n",
       "      <th>workclass_4</th>\n",
       "      <th>...</th>\n",
       "      <th>native-country_33</th>\n",
       "      <th>native-country_34</th>\n",
       "      <th>native-country_35</th>\n",
       "      <th>native-country_36</th>\n",
       "      <th>native-country_37</th>\n",
       "      <th>native-country_38</th>\n",
       "      <th>native-country_39</th>\n",
       "      <th>native-country_40</th>\n",
       "      <th>native-country_41</th>\n",
       "      <th>income_1</th>\n",
       "    </tr>\n",
       "  </thead>\n",
       "  <tbody>\n",
       "    <tr>\n",
       "      <th>0</th>\n",
       "      <td>39</td>\n",
       "      <td>77516</td>\n",
       "      <td>13</td>\n",
       "      <td>2174</td>\n",
       "      <td>0</td>\n",
       "      <td>40</td>\n",
       "      <td>0</td>\n",
       "      <td>0</td>\n",
       "      <td>0</td>\n",
       "      <td>0</td>\n",
       "      <td>...</td>\n",
       "      <td>0</td>\n",
       "      <td>0</td>\n",
       "      <td>0</td>\n",
       "      <td>0</td>\n",
       "      <td>0</td>\n",
       "      <td>0</td>\n",
       "      <td>1</td>\n",
       "      <td>0</td>\n",
       "      <td>0</td>\n",
       "      <td>0</td>\n",
       "    </tr>\n",
       "    <tr>\n",
       "      <th>1</th>\n",
       "      <td>50</td>\n",
       "      <td>83311</td>\n",
       "      <td>13</td>\n",
       "      <td>0</td>\n",
       "      <td>0</td>\n",
       "      <td>13</td>\n",
       "      <td>0</td>\n",
       "      <td>0</td>\n",
       "      <td>0</td>\n",
       "      <td>1</td>\n",
       "      <td>...</td>\n",
       "      <td>0</td>\n",
       "      <td>0</td>\n",
       "      <td>0</td>\n",
       "      <td>0</td>\n",
       "      <td>0</td>\n",
       "      <td>0</td>\n",
       "      <td>1</td>\n",
       "      <td>0</td>\n",
       "      <td>0</td>\n",
       "      <td>0</td>\n",
       "    </tr>\n",
       "    <tr>\n",
       "      <th>2</th>\n",
       "      <td>38</td>\n",
       "      <td>215646</td>\n",
       "      <td>9</td>\n",
       "      <td>0</td>\n",
       "      <td>0</td>\n",
       "      <td>40</td>\n",
       "      <td>0</td>\n",
       "      <td>0</td>\n",
       "      <td>1</td>\n",
       "      <td>0</td>\n",
       "      <td>...</td>\n",
       "      <td>0</td>\n",
       "      <td>0</td>\n",
       "      <td>0</td>\n",
       "      <td>0</td>\n",
       "      <td>0</td>\n",
       "      <td>0</td>\n",
       "      <td>1</td>\n",
       "      <td>0</td>\n",
       "      <td>0</td>\n",
       "      <td>0</td>\n",
       "    </tr>\n",
       "    <tr>\n",
       "      <th>3</th>\n",
       "      <td>53</td>\n",
       "      <td>234721</td>\n",
       "      <td>7</td>\n",
       "      <td>0</td>\n",
       "      <td>0</td>\n",
       "      <td>40</td>\n",
       "      <td>0</td>\n",
       "      <td>0</td>\n",
       "      <td>1</td>\n",
       "      <td>0</td>\n",
       "      <td>...</td>\n",
       "      <td>0</td>\n",
       "      <td>0</td>\n",
       "      <td>0</td>\n",
       "      <td>0</td>\n",
       "      <td>0</td>\n",
       "      <td>0</td>\n",
       "      <td>1</td>\n",
       "      <td>0</td>\n",
       "      <td>0</td>\n",
       "      <td>0</td>\n",
       "    </tr>\n",
       "    <tr>\n",
       "      <th>4</th>\n",
       "      <td>28</td>\n",
       "      <td>338409</td>\n",
       "      <td>13</td>\n",
       "      <td>0</td>\n",
       "      <td>0</td>\n",
       "      <td>40</td>\n",
       "      <td>0</td>\n",
       "      <td>0</td>\n",
       "      <td>1</td>\n",
       "      <td>0</td>\n",
       "      <td>...</td>\n",
       "      <td>0</td>\n",
       "      <td>0</td>\n",
       "      <td>0</td>\n",
       "      <td>0</td>\n",
       "      <td>0</td>\n",
       "      <td>0</td>\n",
       "      <td>0</td>\n",
       "      <td>0</td>\n",
       "      <td>0</td>\n",
       "      <td>0</td>\n",
       "    </tr>\n",
       "  </tbody>\n",
       "</table>\n",
       "<p>5 rows × 84 columns</p>\n",
       "</div>"
      ],
      "text/plain": [
       "   age  fnlwgt  education-num  capital-gain  capital-loss  hours-per-week  \\\n",
       "0   39   77516             13          2174             0              40   \n",
       "1   50   83311             13             0             0              13   \n",
       "2   38  215646              9             0             0              40   \n",
       "3   53  234721              7             0             0              40   \n",
       "4   28  338409             13             0             0              40   \n",
       "\n",
       "   workclass_1  workclass_2  workclass_3  workclass_4  ...  native-country_33  \\\n",
       "0            0            0            0            0  ...                  0   \n",
       "1            0            0            0            1  ...                  0   \n",
       "2            0            0            1            0  ...                  0   \n",
       "3            0            0            1            0  ...                  0   \n",
       "4            0            0            1            0  ...                  0   \n",
       "\n",
       "   native-country_34  native-country_35  native-country_36  native-country_37  \\\n",
       "0                  0                  0                  0                  0   \n",
       "1                  0                  0                  0                  0   \n",
       "2                  0                  0                  0                  0   \n",
       "3                  0                  0                  0                  0   \n",
       "4                  0                  0                  0                  0   \n",
       "\n",
       "   native-country_38  native-country_39  native-country_40  native-country_41  \\\n",
       "0                  0                  1                  0                  0   \n",
       "1                  0                  1                  0                  0   \n",
       "2                  0                  1                  0                  0   \n",
       "3                  0                  1                  0                  0   \n",
       "4                  0                  0                  0                  0   \n",
       "\n",
       "   income_1  \n",
       "0         0  \n",
       "1         0  \n",
       "2         0  \n",
       "3         0  \n",
       "4         0  \n",
       "\n",
       "[5 rows x 84 columns]"
      ]
     },
     "execution_count": 51,
     "metadata": {},
     "output_type": "execute_result"
    }
   ],
   "source": [
    "income_d = income_fact.copy()\n",
    "for var in factors:\n",
    "    if var != 'hours-per-week':\n",
    "        cat_list='var'+'_'+var\n",
    "        cat_list = pd.get_dummies(income_d[var], prefix=var, drop_first=True)\n",
    "        income_d = pd.concat([income_d,cat_list], axis = 1)\n",
    "        income_d = income_d.drop(var, 1)\n",
    "income_d.head()"
   ]
  },
  {
   "cell_type": "code",
   "execution_count": 52,
   "metadata": {},
   "outputs": [
    {
     "data": {
      "text/plain": [
       "(32561, 84)"
      ]
     },
     "execution_count": 52,
     "metadata": {},
     "output_type": "execute_result"
    }
   ],
   "source": [
    "income_d.shape"
   ]
  },
  {
   "cell_type": "code",
   "execution_count": 53,
   "metadata": {
    "scrolled": true
   },
   "outputs": [
    {
     "data": {
      "text/plain": [
       "['age',\n",
       " 'fnlwgt',\n",
       " 'education-num',\n",
       " 'capital-gain',\n",
       " 'capital-loss',\n",
       " 'hours-per-week',\n",
       " 'workclass_1',\n",
       " 'workclass_2',\n",
       " 'workclass_3',\n",
       " 'workclass_4',\n",
       " 'education_1',\n",
       " 'education_2',\n",
       " 'education_3',\n",
       " 'education_4',\n",
       " 'education_5',\n",
       " 'education_6',\n",
       " 'education_7',\n",
       " 'marital-status_1',\n",
       " 'marital-status_2',\n",
       " 'marital-status_3',\n",
       " 'occupation_1',\n",
       " 'occupation_2',\n",
       " 'occupation_3',\n",
       " 'occupation_4',\n",
       " 'occupation_5',\n",
       " 'occupation_6',\n",
       " 'occupation_7',\n",
       " 'occupation_8',\n",
       " 'occupation_9',\n",
       " 'occupation_10',\n",
       " 'occupation_11',\n",
       " 'occupation_12',\n",
       " 'occupation_13',\n",
       " 'occupation_14',\n",
       " 'relationship_1',\n",
       " 'relationship_2',\n",
       " 'relationship_3',\n",
       " 'relationship_4',\n",
       " 'relationship_5',\n",
       " 'race_1',\n",
       " 'race_2',\n",
       " 'sex_1',\n",
       " 'native-country_1',\n",
       " 'native-country_2',\n",
       " 'native-country_3',\n",
       " 'native-country_4',\n",
       " 'native-country_5',\n",
       " 'native-country_6',\n",
       " 'native-country_7',\n",
       " 'native-country_8',\n",
       " 'native-country_9',\n",
       " 'native-country_10',\n",
       " 'native-country_11',\n",
       " 'native-country_12',\n",
       " 'native-country_13',\n",
       " 'native-country_14',\n",
       " 'native-country_15',\n",
       " 'native-country_16',\n",
       " 'native-country_17',\n",
       " 'native-country_18',\n",
       " 'native-country_19',\n",
       " 'native-country_20',\n",
       " 'native-country_21',\n",
       " 'native-country_22',\n",
       " 'native-country_23',\n",
       " 'native-country_24',\n",
       " 'native-country_25',\n",
       " 'native-country_26',\n",
       " 'native-country_27',\n",
       " 'native-country_28',\n",
       " 'native-country_29',\n",
       " 'native-country_30',\n",
       " 'native-country_31',\n",
       " 'native-country_32',\n",
       " 'native-country_33',\n",
       " 'native-country_34',\n",
       " 'native-country_35',\n",
       " 'native-country_36',\n",
       " 'native-country_37',\n",
       " 'native-country_38',\n",
       " 'native-country_39',\n",
       " 'native-country_40',\n",
       " 'native-country_41',\n",
       " 'income_1']"
      ]
     },
     "execution_count": 53,
     "metadata": {},
     "output_type": "execute_result"
    }
   ],
   "source": [
    "income_d.columns.tolist()"
   ]
  },
  {
   "cell_type": "markdown",
   "metadata": {},
   "source": [
    "## Question 3.\n",
    "Use a technique of your choice to eliminate some of the features. Explain your method.\n"
   ]
  },
  {
   "cell_type": "code",
   "execution_count": 54,
   "metadata": {},
   "outputs": [],
   "source": [
    "# A combined approach of corelation matrix and RFE"
   ]
  },
  {
   "cell_type": "code",
   "execution_count": 55,
   "metadata": {},
   "outputs": [],
   "source": [
    "factors = ['workclass', 'education', 'marital-status', 'occupation', 'relationship', 'race', 'sex', 'native-country', 'income']"
   ]
  },
  {
   "cell_type": "code",
   "execution_count": 56,
   "metadata": {},
   "outputs": [
    {
     "data": {
      "text/html": [
       "<div>\n",
       "<style scoped>\n",
       "    .dataframe tbody tr th:only-of-type {\n",
       "        vertical-align: middle;\n",
       "    }\n",
       "\n",
       "    .dataframe tbody tr th {\n",
       "        vertical-align: top;\n",
       "    }\n",
       "\n",
       "    .dataframe thead th {\n",
       "        text-align: right;\n",
       "    }\n",
       "</style>\n",
       "<table border=\"1\" class=\"dataframe\">\n",
       "  <thead>\n",
       "    <tr style=\"text-align: right;\">\n",
       "      <th></th>\n",
       "      <th>age</th>\n",
       "      <th>fnlwgt</th>\n",
       "      <th>education-num</th>\n",
       "      <th>capital-gain</th>\n",
       "      <th>capital-loss</th>\n",
       "      <th>hours-per-week</th>\n",
       "      <th>workclass_1</th>\n",
       "      <th>workclass_2</th>\n",
       "      <th>workclass_3</th>\n",
       "      <th>workclass_4</th>\n",
       "      <th>...</th>\n",
       "      <th>native-country_33</th>\n",
       "      <th>native-country_34</th>\n",
       "      <th>native-country_35</th>\n",
       "      <th>native-country_36</th>\n",
       "      <th>native-country_37</th>\n",
       "      <th>native-country_38</th>\n",
       "      <th>native-country_39</th>\n",
       "      <th>native-country_40</th>\n",
       "      <th>native-country_41</th>\n",
       "      <th>income_1</th>\n",
       "    </tr>\n",
       "  </thead>\n",
       "  <tbody>\n",
       "    <tr>\n",
       "      <th>0</th>\n",
       "      <td>39</td>\n",
       "      <td>77516</td>\n",
       "      <td>13</td>\n",
       "      <td>2174</td>\n",
       "      <td>0</td>\n",
       "      <td>40</td>\n",
       "      <td>0</td>\n",
       "      <td>0</td>\n",
       "      <td>0</td>\n",
       "      <td>0</td>\n",
       "      <td>...</td>\n",
       "      <td>0</td>\n",
       "      <td>0</td>\n",
       "      <td>0</td>\n",
       "      <td>0</td>\n",
       "      <td>0</td>\n",
       "      <td>0</td>\n",
       "      <td>1</td>\n",
       "      <td>0</td>\n",
       "      <td>0</td>\n",
       "      <td>0</td>\n",
       "    </tr>\n",
       "    <tr>\n",
       "      <th>1</th>\n",
       "      <td>50</td>\n",
       "      <td>83311</td>\n",
       "      <td>13</td>\n",
       "      <td>0</td>\n",
       "      <td>0</td>\n",
       "      <td>13</td>\n",
       "      <td>0</td>\n",
       "      <td>0</td>\n",
       "      <td>0</td>\n",
       "      <td>1</td>\n",
       "      <td>...</td>\n",
       "      <td>0</td>\n",
       "      <td>0</td>\n",
       "      <td>0</td>\n",
       "      <td>0</td>\n",
       "      <td>0</td>\n",
       "      <td>0</td>\n",
       "      <td>1</td>\n",
       "      <td>0</td>\n",
       "      <td>0</td>\n",
       "      <td>0</td>\n",
       "    </tr>\n",
       "    <tr>\n",
       "      <th>2</th>\n",
       "      <td>38</td>\n",
       "      <td>215646</td>\n",
       "      <td>9</td>\n",
       "      <td>0</td>\n",
       "      <td>0</td>\n",
       "      <td>40</td>\n",
       "      <td>0</td>\n",
       "      <td>0</td>\n",
       "      <td>1</td>\n",
       "      <td>0</td>\n",
       "      <td>...</td>\n",
       "      <td>0</td>\n",
       "      <td>0</td>\n",
       "      <td>0</td>\n",
       "      <td>0</td>\n",
       "      <td>0</td>\n",
       "      <td>0</td>\n",
       "      <td>1</td>\n",
       "      <td>0</td>\n",
       "      <td>0</td>\n",
       "      <td>0</td>\n",
       "    </tr>\n",
       "    <tr>\n",
       "      <th>3</th>\n",
       "      <td>53</td>\n",
       "      <td>234721</td>\n",
       "      <td>7</td>\n",
       "      <td>0</td>\n",
       "      <td>0</td>\n",
       "      <td>40</td>\n",
       "      <td>0</td>\n",
       "      <td>0</td>\n",
       "      <td>1</td>\n",
       "      <td>0</td>\n",
       "      <td>...</td>\n",
       "      <td>0</td>\n",
       "      <td>0</td>\n",
       "      <td>0</td>\n",
       "      <td>0</td>\n",
       "      <td>0</td>\n",
       "      <td>0</td>\n",
       "      <td>1</td>\n",
       "      <td>0</td>\n",
       "      <td>0</td>\n",
       "      <td>0</td>\n",
       "    </tr>\n",
       "    <tr>\n",
       "      <th>4</th>\n",
       "      <td>28</td>\n",
       "      <td>338409</td>\n",
       "      <td>13</td>\n",
       "      <td>0</td>\n",
       "      <td>0</td>\n",
       "      <td>40</td>\n",
       "      <td>0</td>\n",
       "      <td>0</td>\n",
       "      <td>1</td>\n",
       "      <td>0</td>\n",
       "      <td>...</td>\n",
       "      <td>0</td>\n",
       "      <td>0</td>\n",
       "      <td>0</td>\n",
       "      <td>0</td>\n",
       "      <td>0</td>\n",
       "      <td>0</td>\n",
       "      <td>0</td>\n",
       "      <td>0</td>\n",
       "      <td>0</td>\n",
       "      <td>0</td>\n",
       "    </tr>\n",
       "  </tbody>\n",
       "</table>\n",
       "<p>5 rows × 84 columns</p>\n",
       "</div>"
      ],
      "text/plain": [
       "   age  fnlwgt  education-num  capital-gain  capital-loss  hours-per-week  \\\n",
       "0   39   77516             13          2174             0              40   \n",
       "1   50   83311             13             0             0              13   \n",
       "2   38  215646              9             0             0              40   \n",
       "3   53  234721              7             0             0              40   \n",
       "4   28  338409             13             0             0              40   \n",
       "\n",
       "   workclass_1  workclass_2  workclass_3  workclass_4  ...  native-country_33  \\\n",
       "0            0            0            0            0  ...                  0   \n",
       "1            0            0            0            1  ...                  0   \n",
       "2            0            0            1            0  ...                  0   \n",
       "3            0            0            1            0  ...                  0   \n",
       "4            0            0            1            0  ...                  0   \n",
       "\n",
       "   native-country_34  native-country_35  native-country_36  native-country_37  \\\n",
       "0                  0                  0                  0                  0   \n",
       "1                  0                  0                  0                  0   \n",
       "2                  0                  0                  0                  0   \n",
       "3                  0                  0                  0                  0   \n",
       "4                  0                  0                  0                  0   \n",
       "\n",
       "   native-country_38  native-country_39  native-country_40  native-country_41  \\\n",
       "0                  0                  1                  0                  0   \n",
       "1                  0                  1                  0                  0   \n",
       "2                  0                  1                  0                  0   \n",
       "3                  0                  1                  0                  0   \n",
       "4                  0                  0                  0                  0   \n",
       "\n",
       "   income_1  \n",
       "0         0  \n",
       "1         0  \n",
       "2         0  \n",
       "3         0  \n",
       "4         0  \n",
       "\n",
       "[5 rows x 84 columns]"
      ]
     },
     "execution_count": 56,
     "metadata": {},
     "output_type": "execute_result"
    }
   ],
   "source": [
    "income_d.head()"
   ]
  },
  {
   "cell_type": "code",
   "execution_count": 57,
   "metadata": {},
   "outputs": [],
   "source": [
    "income_dummy = income_d.copy()\n",
    "X = income_dummy.drop(['income_1'], 1)  #independent columns .\n",
    "y = income_dummy['income_1']   #target column i.e price range"
   ]
  },
  {
   "cell_type": "code",
   "execution_count": 58,
   "metadata": {},
   "outputs": [
    {
     "name": "stdout",
     "output_type": "stream",
     "text": [
      "[ True  True  True  True  True  True False False  True False False False\n",
      " False False False False False  True  True False False False False False\n",
      " False False False False False False False False False False  True False\n",
      " False False False False False False False False False False False False\n",
      " False False False False False False False False False False False False\n",
      " False False False False False False False False False False False False\n",
      " False False False False False False False False False False False]\n",
      "[ 1  1  1  1  1  1 65 15  1 28 12 26  3 14  6 25  9  1  1 21 11 70 19 10\n",
      " 22 17 16  7 31 13 32 29 34 27  1 20  4  8 18 24  5 23 69 66 68 38 47 36\n",
      " 49 37 61 51 56 58 39 44 74 67 63 71 43 54 57 52 40 53 60 30 48 55 50 73\n",
      " 46 42 33 72 41 45 64 59  2 35 62]\n"
     ]
    }
   ],
   "source": [
    "# create a base classifier used to evaluate a subset of attributes\n",
    "model = LogisticRegression()\n",
    "# create the RFE model and select 3 attributes\n",
    "rfe = RFE(model, 10)\n",
    "rfe = rfe.fit(X, y)\n",
    "# summarize the selection of the attributes\n",
    "print(rfe.support_)\n",
    "print(rfe.ranking_)"
   ]
  },
  {
   "cell_type": "markdown",
   "metadata": {},
   "source": [
    "## Question 4.\n",
    "Fit a regression model to predict whether income of an individual is more than 50k. What regression model do you use? Why? How well is your model performing?\n",
    "\n",
    "To predict whether the income of an individual is more than 50K , we will use a logistic regression model. \n"
   ]
  },
  {
   "cell_type": "code",
   "execution_count": 59,
   "metadata": {},
   "outputs": [],
   "source": [
    "factors_new = ['workclass', 'education', 'marital-status','occupation', 'sex', 'income']"
   ]
  },
  {
   "cell_type": "code",
   "execution_count": 60,
   "metadata": {},
   "outputs": [],
   "source": [
    "income_fact_c = income_fact.copy()\n",
    "for var in factors_new:\n",
    "    if var != 'income':\n",
    "        cat_list='var'+'_'+var\n",
    "        cat_list = pd.get_dummies(income_fact_c[var], prefix=var, drop_first=True)\n",
    "        income_fact_c = pd.concat([income_fact_c,cat_list], axis = 1)\n",
    "        income_fact_c = income_fact_c.drop(var, 1)"
   ]
  },
  {
   "cell_type": "code",
   "execution_count": 61,
   "metadata": {},
   "outputs": [
    {
     "data": {
      "text/html": [
       "<div>\n",
       "<style scoped>\n",
       "    .dataframe tbody tr th:only-of-type {\n",
       "        vertical-align: middle;\n",
       "    }\n",
       "\n",
       "    .dataframe tbody tr th {\n",
       "        vertical-align: top;\n",
       "    }\n",
       "\n",
       "    .dataframe thead th {\n",
       "        text-align: right;\n",
       "    }\n",
       "</style>\n",
       "<table border=\"1\" class=\"dataframe\">\n",
       "  <thead>\n",
       "    <tr style=\"text-align: right;\">\n",
       "      <th></th>\n",
       "      <th>age</th>\n",
       "      <th>education-num</th>\n",
       "      <th>capital-gain</th>\n",
       "      <th>capital-loss</th>\n",
       "      <th>hours-per-week</th>\n",
       "      <th>income</th>\n",
       "      <th>workclass_1</th>\n",
       "      <th>workclass_2</th>\n",
       "      <th>workclass_3</th>\n",
       "      <th>workclass_4</th>\n",
       "      <th>...</th>\n",
       "      <th>occupation_6</th>\n",
       "      <th>occupation_7</th>\n",
       "      <th>occupation_8</th>\n",
       "      <th>occupation_9</th>\n",
       "      <th>occupation_10</th>\n",
       "      <th>occupation_11</th>\n",
       "      <th>occupation_12</th>\n",
       "      <th>occupation_13</th>\n",
       "      <th>occupation_14</th>\n",
       "      <th>sex_1</th>\n",
       "    </tr>\n",
       "  </thead>\n",
       "  <tbody>\n",
       "    <tr>\n",
       "      <th>0</th>\n",
       "      <td>39</td>\n",
       "      <td>13</td>\n",
       "      <td>2174</td>\n",
       "      <td>0</td>\n",
       "      <td>40</td>\n",
       "      <td>0</td>\n",
       "      <td>0</td>\n",
       "      <td>0</td>\n",
       "      <td>0</td>\n",
       "      <td>0</td>\n",
       "      <td>...</td>\n",
       "      <td>0</td>\n",
       "      <td>0</td>\n",
       "      <td>0</td>\n",
       "      <td>0</td>\n",
       "      <td>0</td>\n",
       "      <td>0</td>\n",
       "      <td>0</td>\n",
       "      <td>0</td>\n",
       "      <td>0</td>\n",
       "      <td>1</td>\n",
       "    </tr>\n",
       "    <tr>\n",
       "      <th>1</th>\n",
       "      <td>50</td>\n",
       "      <td>13</td>\n",
       "      <td>0</td>\n",
       "      <td>0</td>\n",
       "      <td>13</td>\n",
       "      <td>0</td>\n",
       "      <td>0</td>\n",
       "      <td>0</td>\n",
       "      <td>0</td>\n",
       "      <td>1</td>\n",
       "      <td>...</td>\n",
       "      <td>0</td>\n",
       "      <td>0</td>\n",
       "      <td>0</td>\n",
       "      <td>0</td>\n",
       "      <td>0</td>\n",
       "      <td>0</td>\n",
       "      <td>0</td>\n",
       "      <td>0</td>\n",
       "      <td>0</td>\n",
       "      <td>1</td>\n",
       "    </tr>\n",
       "    <tr>\n",
       "      <th>2</th>\n",
       "      <td>38</td>\n",
       "      <td>9</td>\n",
       "      <td>0</td>\n",
       "      <td>0</td>\n",
       "      <td>40</td>\n",
       "      <td>0</td>\n",
       "      <td>0</td>\n",
       "      <td>0</td>\n",
       "      <td>1</td>\n",
       "      <td>0</td>\n",
       "      <td>...</td>\n",
       "      <td>1</td>\n",
       "      <td>0</td>\n",
       "      <td>0</td>\n",
       "      <td>0</td>\n",
       "      <td>0</td>\n",
       "      <td>0</td>\n",
       "      <td>0</td>\n",
       "      <td>0</td>\n",
       "      <td>0</td>\n",
       "      <td>1</td>\n",
       "    </tr>\n",
       "    <tr>\n",
       "      <th>3</th>\n",
       "      <td>53</td>\n",
       "      <td>7</td>\n",
       "      <td>0</td>\n",
       "      <td>0</td>\n",
       "      <td>40</td>\n",
       "      <td>0</td>\n",
       "      <td>0</td>\n",
       "      <td>0</td>\n",
       "      <td>1</td>\n",
       "      <td>0</td>\n",
       "      <td>...</td>\n",
       "      <td>1</td>\n",
       "      <td>0</td>\n",
       "      <td>0</td>\n",
       "      <td>0</td>\n",
       "      <td>0</td>\n",
       "      <td>0</td>\n",
       "      <td>0</td>\n",
       "      <td>0</td>\n",
       "      <td>0</td>\n",
       "      <td>1</td>\n",
       "    </tr>\n",
       "    <tr>\n",
       "      <th>4</th>\n",
       "      <td>28</td>\n",
       "      <td>13</td>\n",
       "      <td>0</td>\n",
       "      <td>0</td>\n",
       "      <td>40</td>\n",
       "      <td>0</td>\n",
       "      <td>0</td>\n",
       "      <td>0</td>\n",
       "      <td>1</td>\n",
       "      <td>0</td>\n",
       "      <td>...</td>\n",
       "      <td>0</td>\n",
       "      <td>0</td>\n",
       "      <td>0</td>\n",
       "      <td>0</td>\n",
       "      <td>1</td>\n",
       "      <td>0</td>\n",
       "      <td>0</td>\n",
       "      <td>0</td>\n",
       "      <td>0</td>\n",
       "      <td>0</td>\n",
       "    </tr>\n",
       "  </tbody>\n",
       "</table>\n",
       "<p>5 rows × 35 columns</p>\n",
       "</div>"
      ],
      "text/plain": [
       "   age  education-num  capital-gain  capital-loss  hours-per-week  income  \\\n",
       "0   39             13          2174             0              40       0   \n",
       "1   50             13             0             0              13       0   \n",
       "2   38              9             0             0              40       0   \n",
       "3   53              7             0             0              40       0   \n",
       "4   28             13             0             0              40       0   \n",
       "\n",
       "   workclass_1  workclass_2  workclass_3  workclass_4  ...  occupation_6  \\\n",
       "0            0            0            0            0  ...             0   \n",
       "1            0            0            0            1  ...             0   \n",
       "2            0            0            1            0  ...             1   \n",
       "3            0            0            1            0  ...             1   \n",
       "4            0            0            1            0  ...             0   \n",
       "\n",
       "   occupation_7  occupation_8  occupation_9  occupation_10  occupation_11  \\\n",
       "0             0             0             0              0              0   \n",
       "1             0             0             0              0              0   \n",
       "2             0             0             0              0              0   \n",
       "3             0             0             0              0              0   \n",
       "4             0             0             0              1              0   \n",
       "\n",
       "   occupation_12  occupation_13  occupation_14  sex_1  \n",
       "0              0              0              0      1  \n",
       "1              0              0              0      1  \n",
       "2              0              0              0      1  \n",
       "3              0              0              0      1  \n",
       "4              0              0              0      0  \n",
       "\n",
       "[5 rows x 35 columns]"
      ]
     },
     "execution_count": 61,
     "metadata": {},
     "output_type": "execute_result"
    }
   ],
   "source": [
    "income_fact_c = income_fact_c.drop(['fnlwgt','relationship','race','native-country'], axis = 1)\n",
    "income_fact_c.head()"
   ]
  },
  {
   "cell_type": "code",
   "execution_count": 62,
   "metadata": {},
   "outputs": [
    {
     "name": "stderr",
     "output_type": "stream",
     "text": [
      "C:\\Users\\whn97\\Anaconda3\\lib\\site-packages\\sklearn\\linear_model\\_logistic.py:940: ConvergenceWarning: lbfgs failed to converge (status=1):\n",
      "STOP: TOTAL NO. of ITERATIONS REACHED LIMIT.\n",
      "\n",
      "Increase the number of iterations (max_iter) or scale the data as shown in:\n",
      "    https://scikit-learn.org/stable/modules/preprocessing.html\n",
      "Please also refer to the documentation for alternative solver options:\n",
      "    https://scikit-learn.org/stable/modules/linear_model.html#logistic-regression\n",
      "  extra_warning_msg=_LOGISTIC_SOLVER_CONVERGENCE_MSG)\n"
     ]
    },
    {
     "data": {
      "text/plain": [
       "LogisticRegression(C=1.0, class_weight=None, dual=False, fit_intercept=True,\n",
       "                   intercept_scaling=1, l1_ratio=None, max_iter=100,\n",
       "                   multi_class='auto', n_jobs=None, penalty='l2',\n",
       "                   random_state=None, solver='lbfgs', tol=0.0001, verbose=0,\n",
       "                   warm_start=False)"
      ]
     },
     "execution_count": 62,
     "metadata": {},
     "output_type": "execute_result"
    }
   ],
   "source": [
    "#70% records being sent into training set \n",
    "income_fact_c['income'] = income_fact_c['income'].factorize()[0]\n",
    "pts = np.random.rand(len(income_fact_c)) < 0.7\n",
    "\n",
    "income_train_new = income_fact_c[pts]\n",
    "income_test_new = income_fact_c[~pts]\n",
    "\n",
    "X_train_new = income_train_new.copy()\n",
    "X_train_new = X_train_new.drop('income', 1)\n",
    "Y_train_new = income_train_new['income']\n",
    "\n",
    "#fitting the model\n",
    "logreg = LogisticRegression()\n",
    "logreg.fit(X_train_new, Y_train_new)"
   ]
  },
  {
   "cell_type": "code",
   "execution_count": 63,
   "metadata": {},
   "outputs": [
    {
     "name": "stdout",
     "output_type": "stream",
     "text": [
      "[[6783  555]\n",
      " [1132 1251]]\n"
     ]
    }
   ],
   "source": [
    "#generating confusion matrix\n",
    "X_test_new = income_test_new.copy()\n",
    "X_test_new = X_test_new.drop('income', 1)\n",
    "Y_test_new = income_test_new['income']\n",
    "Y_pred_new = logreg.predict(X_test_new)\n",
    "confusion_matrix_new = confusion_matrix(Y_test_new, Y_pred_new)\n",
    "print(confusion_matrix_new)"
   ]
  },
  {
   "cell_type": "markdown",
   "metadata": {},
   "source": [
    "Model Accuracy"
   ]
  },
  {
   "cell_type": "code",
   "execution_count": 64,
   "metadata": {},
   "outputs": [
    {
     "data": {
      "text/plain": [
       "0.8264581833144738"
      ]
     },
     "execution_count": 64,
     "metadata": {},
     "output_type": "execute_result"
    }
   ],
   "source": [
    "logreg.score(X_test_new,Y_test_new)"
   ]
  },
  {
   "cell_type": "code",
   "execution_count": 65,
   "metadata": {},
   "outputs": [
    {
     "name": "stdout",
     "output_type": "stream",
     "text": [
      "              precision    recall  f1-score   support\n",
      "\n",
      "           0       0.86      0.92      0.89      7338\n",
      "           1       0.69      0.52      0.60      2383\n",
      "\n",
      "    accuracy                           0.83      9721\n",
      "   macro avg       0.77      0.72      0.74      9721\n",
      "weighted avg       0.82      0.83      0.82      9721\n",
      "\n"
     ]
    }
   ],
   "source": [
    "print(classification_report(Y_test_new, logreg.predict(X_test_new)))"
   ]
  },
  {
   "cell_type": "markdown",
   "metadata": {},
   "source": [
    "## Question 5.\n",
    "Use the income dataset to regress work hours on the rest of the data. Compare the R^2 with R^2 of another model that you fit with only the significant variables. Explore some interaction terms and explain why they were of interest.\n"
   ]
  },
  {
   "cell_type": "code",
   "execution_count": 66,
   "metadata": {
    "scrolled": true
   },
   "outputs": [
    {
     "data": {
      "text/html": [
       "<div>\n",
       "<style scoped>\n",
       "    .dataframe tbody tr th:only-of-type {\n",
       "        vertical-align: middle;\n",
       "    }\n",
       "\n",
       "    .dataframe tbody tr th {\n",
       "        vertical-align: top;\n",
       "    }\n",
       "\n",
       "    .dataframe thead th {\n",
       "        text-align: right;\n",
       "    }\n",
       "</style>\n",
       "<table border=\"1\" class=\"dataframe\">\n",
       "  <thead>\n",
       "    <tr style=\"text-align: right;\">\n",
       "      <th></th>\n",
       "      <th>age</th>\n",
       "      <th>workclass</th>\n",
       "      <th>fnlwgt</th>\n",
       "      <th>education</th>\n",
       "      <th>education-num</th>\n",
       "      <th>marital-status</th>\n",
       "      <th>occupation</th>\n",
       "      <th>relationship</th>\n",
       "      <th>race</th>\n",
       "      <th>sex</th>\n",
       "      <th>capital-gain</th>\n",
       "      <th>capital-loss</th>\n",
       "      <th>hours-per-week</th>\n",
       "      <th>native-country</th>\n",
       "      <th>income</th>\n",
       "    </tr>\n",
       "  </thead>\n",
       "  <tbody>\n",
       "    <tr>\n",
       "      <th>0</th>\n",
       "      <td>39</td>\n",
       "      <td>0</td>\n",
       "      <td>77516</td>\n",
       "      <td>1</td>\n",
       "      <td>13</td>\n",
       "      <td>2</td>\n",
       "      <td>1</td>\n",
       "      <td>1</td>\n",
       "      <td>2</td>\n",
       "      <td>1</td>\n",
       "      <td>2174</td>\n",
       "      <td>0</td>\n",
       "      <td>40</td>\n",
       "      <td>39</td>\n",
       "      <td>0</td>\n",
       "    </tr>\n",
       "    <tr>\n",
       "      <th>1</th>\n",
       "      <td>50</td>\n",
       "      <td>4</td>\n",
       "      <td>83311</td>\n",
       "      <td>1</td>\n",
       "      <td>13</td>\n",
       "      <td>1</td>\n",
       "      <td>4</td>\n",
       "      <td>0</td>\n",
       "      <td>2</td>\n",
       "      <td>1</td>\n",
       "      <td>0</td>\n",
       "      <td>0</td>\n",
       "      <td>13</td>\n",
       "      <td>39</td>\n",
       "      <td>0</td>\n",
       "    </tr>\n",
       "    <tr>\n",
       "      <th>2</th>\n",
       "      <td>38</td>\n",
       "      <td>3</td>\n",
       "      <td>215646</td>\n",
       "      <td>3</td>\n",
       "      <td>9</td>\n",
       "      <td>0</td>\n",
       "      <td>6</td>\n",
       "      <td>1</td>\n",
       "      <td>2</td>\n",
       "      <td>1</td>\n",
       "      <td>0</td>\n",
       "      <td>0</td>\n",
       "      <td>40</td>\n",
       "      <td>39</td>\n",
       "      <td>0</td>\n",
       "    </tr>\n",
       "    <tr>\n",
       "      <th>3</th>\n",
       "      <td>53</td>\n",
       "      <td>3</td>\n",
       "      <td>234721</td>\n",
       "      <td>5</td>\n",
       "      <td>7</td>\n",
       "      <td>1</td>\n",
       "      <td>6</td>\n",
       "      <td>0</td>\n",
       "      <td>0</td>\n",
       "      <td>1</td>\n",
       "      <td>0</td>\n",
       "      <td>0</td>\n",
       "      <td>40</td>\n",
       "      <td>39</td>\n",
       "      <td>0</td>\n",
       "    </tr>\n",
       "    <tr>\n",
       "      <th>4</th>\n",
       "      <td>28</td>\n",
       "      <td>3</td>\n",
       "      <td>338409</td>\n",
       "      <td>1</td>\n",
       "      <td>13</td>\n",
       "      <td>1</td>\n",
       "      <td>10</td>\n",
       "      <td>5</td>\n",
       "      <td>0</td>\n",
       "      <td>0</td>\n",
       "      <td>0</td>\n",
       "      <td>0</td>\n",
       "      <td>40</td>\n",
       "      <td>5</td>\n",
       "      <td>0</td>\n",
       "    </tr>\n",
       "  </tbody>\n",
       "</table>\n",
       "</div>"
      ],
      "text/plain": [
       "   age  workclass  fnlwgt  education  education-num  marital-status  \\\n",
       "0   39          0   77516          1             13               2   \n",
       "1   50          4   83311          1             13               1   \n",
       "2   38          3  215646          3              9               0   \n",
       "3   53          3  234721          5              7               1   \n",
       "4   28          3  338409          1             13               1   \n",
       "\n",
       "   occupation  relationship  race  sex  capital-gain  capital-loss  \\\n",
       "0           1             1     2    1          2174             0   \n",
       "1           4             0     2    1             0             0   \n",
       "2           6             1     2    1             0             0   \n",
       "3           6             0     0    1             0             0   \n",
       "4          10             5     0    0             0             0   \n",
       "\n",
       "   hours-per-week  native-country  income  \n",
       "0              40              39       0  \n",
       "1              13              39       0  \n",
       "2              40              39       0  \n",
       "3              40              39       0  \n",
       "4              40               5       0  "
      ]
     },
     "execution_count": 66,
     "metadata": {},
     "output_type": "execute_result"
    }
   ],
   "source": [
    "income_fact.head()"
   ]
  },
  {
   "cell_type": "code",
   "execution_count": 67,
   "metadata": {},
   "outputs": [
    {
     "name": "stdout",
     "output_type": "stream",
     "text": [
      "['workclass', 'education', 'marital-status', 'occupation', 'relationship', 'race', 'sex', 'native-country', 'income']\n"
     ]
    }
   ],
   "source": [
    "print(factors)"
   ]
  },
  {
   "cell_type": "markdown",
   "metadata": {},
   "source": [
    "## Part 1\n",
    "test-training set split and fitting"
   ]
  },
  {
   "cell_type": "code",
   "execution_count": 68,
   "metadata": {},
   "outputs": [],
   "source": [
    "np.random.seed(12345)"
   ]
  },
  {
   "cell_type": "code",
   "execution_count": 69,
   "metadata": {},
   "outputs": [
    {
     "data": {
      "text/plain": [
       "LinearRegression(copy_X=True, fit_intercept=True, n_jobs=None, normalize=False)"
      ]
     },
     "execution_count": 69,
     "metadata": {},
     "output_type": "execute_result"
    }
   ],
   "source": [
    "# 70% records being sent into training set \n",
    "income_ln = income_d.copy()\n",
    "income_ln['hours-per-week'] = income_ln['hours-per-week'].factorize()[0]\n",
    "pts = np.random.rand(len(income_ln)) < 0.7\n",
    "\n",
    "income_train = income_ln[pts]\n",
    "income_test = income_ln[~pts]\n",
    "\n",
    "X_train = income_train.copy()\n",
    "X_train = X_train.drop('hours-per-week', 1)\n",
    "Y_train = income_train['hours-per-week']\n",
    "\n",
    "#fitting the model\n",
    "linreg = LinearRegression()\n",
    "linreg.fit(X_train, Y_train)"
   ]
  },
  {
   "cell_type": "code",
   "execution_count": 70,
   "metadata": {},
   "outputs": [
    {
     "name": "stdout",
     "output_type": "stream",
     "text": [
      "coefficient of determination: 0.04402679943955656\n"
     ]
    }
   ],
   "source": [
    "r_sq = linreg.score(X_train, Y_train)\n",
    "print('coefficient of determination:', r_sq)"
   ]
  },
  {
   "cell_type": "code",
   "execution_count": 71,
   "metadata": {
    "scrolled": false
   },
   "outputs": [
    {
     "name": "stdout",
     "output_type": "stream",
     "text": [
      "                                 OLS Regression Results                                \n",
      "=======================================================================================\n",
      "Dep. Variable:         hours-per-week   R-squared (uncentered):                   0.296\n",
      "Model:                            OLS   Adj. R-squared (uncentered):              0.293\n",
      "Method:                 Least Squares   F-statistic:                              114.7\n",
      "Date:                Thu, 16 Jan 2020   Prob (F-statistic):                        0.00\n",
      "Time:                        23:45:28   Log-Likelihood:                         -89255.\n",
      "No. Observations:               22739   AIC:                                  1.787e+05\n",
      "Df Residuals:                   22656   BIC:                                  1.793e+05\n",
      "Df Model:                          83                                                  \n",
      "Covariance Type:            nonrobust                                                  \n",
      "=====================================================================================\n",
      "                        coef    std err          t      P>|t|      [0.025      0.975]\n",
      "-------------------------------------------------------------------------------------\n",
      "age                   0.0392      0.008      5.030      0.000       0.024       0.054\n",
      "fnlwgt            -1.612e-06   7.95e-07     -2.027      0.043   -3.17e-06   -5.29e-08\n",
      "education-num         0.2032      0.128      1.581      0.114      -0.049       0.455\n",
      "capital-gain       1.242e-05   1.14e-05      1.086      0.277   -9.98e-06    3.48e-05\n",
      "capital-loss          0.0002      0.000      1.128      0.260      -0.000       0.001\n",
      "workclass_1          17.2997      6.379      2.712      0.007       4.796      29.803\n",
      "workclass_2           5.6022      1.781      3.145      0.002       2.110       9.094\n",
      "workclass_3           0.8930      0.264      3.379      0.001       0.375       1.411\n",
      "workclass_4           3.4491      0.357      9.662      0.000       2.749       4.149\n",
      "education_1          -0.6167      0.425     -1.451      0.147      -1.450       0.216\n",
      "education_2           1.6858      1.013      1.664      0.096      -0.300       3.672\n",
      "education_3           0.4708      0.451      1.044      0.297      -0.413       1.355\n",
      "education_4          -0.4208      0.595     -0.707      0.480      -1.588       0.746\n",
      "education_5           2.4245      0.818      2.964      0.003       0.821       4.028\n",
      "education_6           1.4786      0.877      1.685      0.092      -0.241       3.198\n",
      "education_7           0.8631      0.390      2.215      0.027       0.099       1.627\n",
      "marital-status_1     -0.3235      0.630     -0.513      0.608      -1.559       0.912\n",
      "marital-status_2      0.8206      0.287      2.858      0.004       0.258       1.383\n",
      "marital-status_3      2.9407      0.531      5.542      0.000       1.901       3.981\n",
      "occupation_1          0.2231      1.781      0.125      0.900      -3.269       3.715\n",
      "occupation_2          8.8331      5.782      1.528      0.127      -2.500      20.166\n",
      "occupation_3         -0.5313      1.786     -0.298      0.766      -4.032       2.969\n",
      "occupation_4          0.8461      1.786      0.474      0.636      -2.655       4.347\n",
      "occupation_5          4.3232      1.811      2.388      0.017       0.774       7.872\n",
      "occupation_6          0.5410      1.815      0.298      0.766      -3.016       4.098\n",
      "occupation_7         -1.3867      1.791     -0.774      0.439      -4.897       2.124\n",
      "occupation_8          3.3812      1.779      1.901      0.057      -0.106       6.868\n",
      "occupation_9          6.0293      2.128      2.833      0.005       1.857      10.201\n",
      "occupation_10         1.3845      1.782      0.777      0.437      -2.109       4.878\n",
      "occupation_11         3.7848      1.850      2.046      0.041       0.159       7.410\n",
      "occupation_12         2.3075      1.791      1.289      0.198      -1.202       5.818\n",
      "occupation_13         0.8306      1.826      0.455      0.649      -2.748       4.409\n",
      "occupation_14         2.0717      1.810      1.144      0.252      -1.476       5.620\n",
      "relationship_1       -0.8080      0.631     -1.280      0.201      -2.045       0.429\n",
      "relationship_2       -0.6933      0.720     -0.962      0.336      -2.105       0.719\n",
      "relationship_3        1.0974      0.657      1.671      0.095      -0.190       2.384\n",
      "relationship_4       -0.7303      0.675     -1.082      0.279      -2.054       0.593\n",
      "relationship_5        1.1630      0.455      2.554      0.011       0.271       2.056\n",
      "race_1                0.8094      0.547      1.480      0.139      -0.262       1.881\n",
      "race_2                1.8386      0.294      6.251      0.000       1.262       2.415\n",
      "sex_1                -0.9816      0.244     -4.025      0.000      -1.460      -0.504\n",
      "native-country_1     -3.2166      3.155     -1.020      0.308      -9.401       2.967\n",
      "native-country_2      1.8530      1.508      1.229      0.219      -1.103       4.809\n",
      "native-country_3      0.8364      1.882      0.444      0.657      -2.852       4.525\n",
      "native-country_4     -3.6122      1.996     -1.809      0.070      -7.525       0.301\n",
      "native-country_5     -1.6805      1.560     -1.077      0.281      -4.738       1.377\n",
      "native-country_6      0.9581      2.000      0.479      0.632      -2.961       4.878\n",
      "native-country_7      2.9050      2.962      0.981      0.327      -2.901       8.711\n",
      "native-country_8     -1.4352      1.617     -0.888      0.375      -4.604       1.734\n",
      "native-country_9      2.6838      1.743      1.540      0.124      -0.732       6.099\n",
      "native-country_10    -0.8268      2.696     -0.307      0.759      -6.111       4.457\n",
      "native-country_11    -0.5318      1.377     -0.386      0.699      -3.231       2.167\n",
      "native-country_12    -0.7825      2.818     -0.278      0.781      -6.305       4.740\n",
      "native-country_13    -4.3318      1.885     -2.298      0.022      -8.026      -0.638\n",
      "native-country_14     6.0426      2.457      2.459      0.014       1.226      10.859\n",
      "native-country_15    -6.0890     12.322     -0.494      0.621     -30.240      18.062\n",
      "native-country_16     4.4974      4.688      0.959      0.337      -4.691      13.685\n",
      "native-country_17     0.1009      3.152      0.032      0.974      -6.077       6.278\n",
      "native-country_18    -1.4534      5.530     -0.263      0.793     -12.293       9.386\n",
      "native-country_19     1.5401      1.673      0.920      0.357      -1.740       4.820\n",
      "native-country_20     4.0943      2.488      1.646      0.100      -0.782       8.971\n",
      "native-country_21     0.7741      3.135      0.247      0.805      -5.371       6.920\n",
      "native-country_22    -0.0476      1.863     -0.026      0.980      -3.700       3.605\n",
      "native-country_23     0.0942      1.770      0.053      0.958      -3.375       3.564\n",
      "native-country_24     1.1104      1.942      0.572      0.568      -2.697       4.918\n",
      "native-country_25    -3.9618      3.956     -1.001      0.317     -11.716       3.792\n",
      "native-country_26    -0.2701      0.876     -0.308      0.758      -1.987       1.447\n",
      "native-country_27    -0.2820      2.537     -0.111      0.911      -5.254       4.690\n",
      "native-country_28     1.4789      3.936      0.376      0.707      -6.236       9.194\n",
      "native-country_29     0.4900      2.755      0.178      0.859      -4.909       5.889\n",
      "native-country_30    -1.1634      1.274     -0.913      0.361      -3.660       1.333\n",
      "native-country_31    -2.2185      2.041     -1.087      0.277      -6.220       1.782\n",
      "native-country_32    -1.2000      2.494     -0.481      0.630      -6.088       3.688\n",
      "native-country_33    -1.9955      1.539     -1.297      0.195      -5.012       1.021\n",
      "native-country_34    -1.2594      5.056     -0.249      0.803     -11.169       8.650\n",
      "native-country_35    -1.8391      1.781     -1.032      0.302      -5.331       1.653\n",
      "native-country_36     4.2173      2.291      1.841      0.066      -0.273       8.707\n",
      "native-country_37    10.0681      3.478      2.895      0.004       3.252      16.885\n",
      "native-country_38     1.4474      3.050      0.475      0.635      -4.530       7.425\n",
      "native-country_39     0.2161      0.627      0.345      0.730      -1.013       1.445\n",
      "native-country_40    -0.1745      1.882     -0.093      0.926      -3.864       3.515\n",
      "native-country_41     6.0932      4.390      1.388      0.165      -2.511      14.698\n",
      "income_1             -0.5283      0.238     -2.218      0.027      -0.995      -0.061\n",
      "==============================================================================\n",
      "Omnibus:                    12400.284   Durbin-Watson:                   1.986\n",
      "Prob(Omnibus):                  0.000   Jarque-Bera (JB):            88143.025\n",
      "Skew:                           2.603   Prob(JB):                         0.00\n",
      "Kurtosis:                      11.120   Cond. No.                     3.29e+07\n",
      "==============================================================================\n",
      "\n",
      "Warnings:\n",
      "[1] Standard Errors assume that the covariance matrix of the errors is correctly specified.\n",
      "[2] The condition number is large, 3.29e+07. This might indicate that there are\n",
      "strong multicollinearity or other numerical problems.\n"
     ]
    }
   ],
   "source": [
    "mod = sm.OLS(Y_train,X_train)\n",
    "lnfit = mod.fit()\n",
    "print(lnfit.summary())"
   ]
  },
  {
   "cell_type": "markdown",
   "metadata": {},
   "source": [
    "## Part 2\n",
    "Eliminating insignificant variables"
   ]
  },
  {
   "cell_type": "markdown",
   "metadata": {},
   "source": [
    "### Approach 1: Eliminating relationship, native country, edu-num\n",
    "- Relationship was eliminated because it is highly correlated with marital status\n",
    "- Education number was eliminated because this information is already included in Education\n",
    "- Native country was eliminated because most of the IVs for this variable showed as insignificant above"
   ]
  },
  {
   "cell_type": "markdown",
   "metadata": {},
   "source": [
    "### Dummy Variables"
   ]
  },
  {
   "cell_type": "code",
   "execution_count": 72,
   "metadata": {
    "scrolled": true
   },
   "outputs": [
    {
     "data": {
      "text/plain": [
       "['workclass',\n",
       " 'education',\n",
       " 'marital-status',\n",
       " 'occupation',\n",
       " 'race',\n",
       " 'sex',\n",
       " 'income']"
      ]
     },
     "execution_count": 72,
     "metadata": {},
     "output_type": "execute_result"
    }
   ],
   "source": [
    "new_factors = ['workclass', 'education', 'marital-status', 'occupation', 'race', 'sex', 'income']\n",
    "new_factors"
   ]
  },
  {
   "cell_type": "code",
   "execution_count": 73,
   "metadata": {},
   "outputs": [
    {
     "data": {
      "text/html": [
       "<div>\n",
       "<style scoped>\n",
       "    .dataframe tbody tr th:only-of-type {\n",
       "        vertical-align: middle;\n",
       "    }\n",
       "\n",
       "    .dataframe tbody tr th {\n",
       "        vertical-align: top;\n",
       "    }\n",
       "\n",
       "    .dataframe thead th {\n",
       "        text-align: right;\n",
       "    }\n",
       "</style>\n",
       "<table border=\"1\" class=\"dataframe\">\n",
       "  <thead>\n",
       "    <tr style=\"text-align: right;\">\n",
       "      <th></th>\n",
       "      <th>age</th>\n",
       "      <th>workclass</th>\n",
       "      <th>fnlwgt</th>\n",
       "      <th>education</th>\n",
       "      <th>education-num</th>\n",
       "      <th>marital-status</th>\n",
       "      <th>occupation</th>\n",
       "      <th>relationship</th>\n",
       "      <th>race</th>\n",
       "      <th>sex</th>\n",
       "      <th>capital-gain</th>\n",
       "      <th>capital-loss</th>\n",
       "      <th>hours-per-week</th>\n",
       "      <th>native-country</th>\n",
       "      <th>income</th>\n",
       "    </tr>\n",
       "  </thead>\n",
       "  <tbody>\n",
       "    <tr>\n",
       "      <th>0</th>\n",
       "      <td>39</td>\n",
       "      <td>0</td>\n",
       "      <td>77516</td>\n",
       "      <td>1</td>\n",
       "      <td>13</td>\n",
       "      <td>2</td>\n",
       "      <td>1</td>\n",
       "      <td>1</td>\n",
       "      <td>2</td>\n",
       "      <td>1</td>\n",
       "      <td>2174</td>\n",
       "      <td>0</td>\n",
       "      <td>40</td>\n",
       "      <td>39</td>\n",
       "      <td>0</td>\n",
       "    </tr>\n",
       "    <tr>\n",
       "      <th>1</th>\n",
       "      <td>50</td>\n",
       "      <td>4</td>\n",
       "      <td>83311</td>\n",
       "      <td>1</td>\n",
       "      <td>13</td>\n",
       "      <td>1</td>\n",
       "      <td>4</td>\n",
       "      <td>0</td>\n",
       "      <td>2</td>\n",
       "      <td>1</td>\n",
       "      <td>0</td>\n",
       "      <td>0</td>\n",
       "      <td>13</td>\n",
       "      <td>39</td>\n",
       "      <td>0</td>\n",
       "    </tr>\n",
       "    <tr>\n",
       "      <th>2</th>\n",
       "      <td>38</td>\n",
       "      <td>3</td>\n",
       "      <td>215646</td>\n",
       "      <td>3</td>\n",
       "      <td>9</td>\n",
       "      <td>0</td>\n",
       "      <td>6</td>\n",
       "      <td>1</td>\n",
       "      <td>2</td>\n",
       "      <td>1</td>\n",
       "      <td>0</td>\n",
       "      <td>0</td>\n",
       "      <td>40</td>\n",
       "      <td>39</td>\n",
       "      <td>0</td>\n",
       "    </tr>\n",
       "    <tr>\n",
       "      <th>3</th>\n",
       "      <td>53</td>\n",
       "      <td>3</td>\n",
       "      <td>234721</td>\n",
       "      <td>5</td>\n",
       "      <td>7</td>\n",
       "      <td>1</td>\n",
       "      <td>6</td>\n",
       "      <td>0</td>\n",
       "      <td>0</td>\n",
       "      <td>1</td>\n",
       "      <td>0</td>\n",
       "      <td>0</td>\n",
       "      <td>40</td>\n",
       "      <td>39</td>\n",
       "      <td>0</td>\n",
       "    </tr>\n",
       "    <tr>\n",
       "      <th>4</th>\n",
       "      <td>28</td>\n",
       "      <td>3</td>\n",
       "      <td>338409</td>\n",
       "      <td>1</td>\n",
       "      <td>13</td>\n",
       "      <td>1</td>\n",
       "      <td>10</td>\n",
       "      <td>5</td>\n",
       "      <td>0</td>\n",
       "      <td>0</td>\n",
       "      <td>0</td>\n",
       "      <td>0</td>\n",
       "      <td>40</td>\n",
       "      <td>5</td>\n",
       "      <td>0</td>\n",
       "    </tr>\n",
       "  </tbody>\n",
       "</table>\n",
       "</div>"
      ],
      "text/plain": [
       "   age  workclass  fnlwgt  education  education-num  marital-status  \\\n",
       "0   39          0   77516          1             13               2   \n",
       "1   50          4   83311          1             13               1   \n",
       "2   38          3  215646          3              9               0   \n",
       "3   53          3  234721          5              7               1   \n",
       "4   28          3  338409          1             13               1   \n",
       "\n",
       "   occupation  relationship  race  sex  capital-gain  capital-loss  \\\n",
       "0           1             1     2    1          2174             0   \n",
       "1           4             0     2    1             0             0   \n",
       "2           6             1     2    1             0             0   \n",
       "3           6             0     0    1             0             0   \n",
       "4          10             5     0    0             0             0   \n",
       "\n",
       "   hours-per-week  native-country  income  \n",
       "0              40              39       0  \n",
       "1              13              39       0  \n",
       "2              40              39       0  \n",
       "3              40              39       0  \n",
       "4              40               5       0  "
      ]
     },
     "execution_count": 73,
     "metadata": {},
     "output_type": "execute_result"
    }
   ],
   "source": [
    "income_fact.head()"
   ]
  },
  {
   "cell_type": "code",
   "execution_count": 74,
   "metadata": {},
   "outputs": [
    {
     "data": {
      "text/html": [
       "<div>\n",
       "<style scoped>\n",
       "    .dataframe tbody tr th:only-of-type {\n",
       "        vertical-align: middle;\n",
       "    }\n",
       "\n",
       "    .dataframe tbody tr th {\n",
       "        vertical-align: top;\n",
       "    }\n",
       "\n",
       "    .dataframe thead th {\n",
       "        text-align: right;\n",
       "    }\n",
       "</style>\n",
       "<table border=\"1\" class=\"dataframe\">\n",
       "  <thead>\n",
       "    <tr style=\"text-align: right;\">\n",
       "      <th></th>\n",
       "      <th>age</th>\n",
       "      <th>fnlwgt</th>\n",
       "      <th>capital-gain</th>\n",
       "      <th>capital-loss</th>\n",
       "      <th>hours-per-week</th>\n",
       "      <th>workclass_1</th>\n",
       "      <th>workclass_2</th>\n",
       "      <th>workclass_3</th>\n",
       "      <th>workclass_4</th>\n",
       "      <th>education_1</th>\n",
       "      <th>...</th>\n",
       "      <th>occupation_9</th>\n",
       "      <th>occupation_10</th>\n",
       "      <th>occupation_11</th>\n",
       "      <th>occupation_12</th>\n",
       "      <th>occupation_13</th>\n",
       "      <th>occupation_14</th>\n",
       "      <th>race_1</th>\n",
       "      <th>race_2</th>\n",
       "      <th>sex_1</th>\n",
       "      <th>income_1</th>\n",
       "    </tr>\n",
       "  </thead>\n",
       "  <tbody>\n",
       "    <tr>\n",
       "      <th>0</th>\n",
       "      <td>39</td>\n",
       "      <td>77516</td>\n",
       "      <td>2174</td>\n",
       "      <td>0</td>\n",
       "      <td>40</td>\n",
       "      <td>0</td>\n",
       "      <td>0</td>\n",
       "      <td>0</td>\n",
       "      <td>0</td>\n",
       "      <td>1</td>\n",
       "      <td>...</td>\n",
       "      <td>0</td>\n",
       "      <td>0</td>\n",
       "      <td>0</td>\n",
       "      <td>0</td>\n",
       "      <td>0</td>\n",
       "      <td>0</td>\n",
       "      <td>0</td>\n",
       "      <td>1</td>\n",
       "      <td>1</td>\n",
       "      <td>0</td>\n",
       "    </tr>\n",
       "    <tr>\n",
       "      <th>1</th>\n",
       "      <td>50</td>\n",
       "      <td>83311</td>\n",
       "      <td>0</td>\n",
       "      <td>0</td>\n",
       "      <td>13</td>\n",
       "      <td>0</td>\n",
       "      <td>0</td>\n",
       "      <td>0</td>\n",
       "      <td>1</td>\n",
       "      <td>1</td>\n",
       "      <td>...</td>\n",
       "      <td>0</td>\n",
       "      <td>0</td>\n",
       "      <td>0</td>\n",
       "      <td>0</td>\n",
       "      <td>0</td>\n",
       "      <td>0</td>\n",
       "      <td>0</td>\n",
       "      <td>1</td>\n",
       "      <td>1</td>\n",
       "      <td>0</td>\n",
       "    </tr>\n",
       "    <tr>\n",
       "      <th>2</th>\n",
       "      <td>38</td>\n",
       "      <td>215646</td>\n",
       "      <td>0</td>\n",
       "      <td>0</td>\n",
       "      <td>40</td>\n",
       "      <td>0</td>\n",
       "      <td>0</td>\n",
       "      <td>1</td>\n",
       "      <td>0</td>\n",
       "      <td>0</td>\n",
       "      <td>...</td>\n",
       "      <td>0</td>\n",
       "      <td>0</td>\n",
       "      <td>0</td>\n",
       "      <td>0</td>\n",
       "      <td>0</td>\n",
       "      <td>0</td>\n",
       "      <td>0</td>\n",
       "      <td>1</td>\n",
       "      <td>1</td>\n",
       "      <td>0</td>\n",
       "    </tr>\n",
       "    <tr>\n",
       "      <th>3</th>\n",
       "      <td>53</td>\n",
       "      <td>234721</td>\n",
       "      <td>0</td>\n",
       "      <td>0</td>\n",
       "      <td>40</td>\n",
       "      <td>0</td>\n",
       "      <td>0</td>\n",
       "      <td>1</td>\n",
       "      <td>0</td>\n",
       "      <td>0</td>\n",
       "      <td>...</td>\n",
       "      <td>0</td>\n",
       "      <td>0</td>\n",
       "      <td>0</td>\n",
       "      <td>0</td>\n",
       "      <td>0</td>\n",
       "      <td>0</td>\n",
       "      <td>0</td>\n",
       "      <td>0</td>\n",
       "      <td>1</td>\n",
       "      <td>0</td>\n",
       "    </tr>\n",
       "    <tr>\n",
       "      <th>4</th>\n",
       "      <td>28</td>\n",
       "      <td>338409</td>\n",
       "      <td>0</td>\n",
       "      <td>0</td>\n",
       "      <td>40</td>\n",
       "      <td>0</td>\n",
       "      <td>0</td>\n",
       "      <td>1</td>\n",
       "      <td>0</td>\n",
       "      <td>1</td>\n",
       "      <td>...</td>\n",
       "      <td>0</td>\n",
       "      <td>1</td>\n",
       "      <td>0</td>\n",
       "      <td>0</td>\n",
       "      <td>0</td>\n",
       "      <td>0</td>\n",
       "      <td>0</td>\n",
       "      <td>0</td>\n",
       "      <td>0</td>\n",
       "      <td>0</td>\n",
       "    </tr>\n",
       "  </tbody>\n",
       "</table>\n",
       "<p>5 rows × 37 columns</p>\n",
       "</div>"
      ],
      "text/plain": [
       "   age  fnlwgt  capital-gain  capital-loss  hours-per-week  workclass_1  \\\n",
       "0   39   77516          2174             0              40            0   \n",
       "1   50   83311             0             0              13            0   \n",
       "2   38  215646             0             0              40            0   \n",
       "3   53  234721             0             0              40            0   \n",
       "4   28  338409             0             0              40            0   \n",
       "\n",
       "   workclass_2  workclass_3  workclass_4  education_1  ...  occupation_9  \\\n",
       "0            0            0            0            1  ...             0   \n",
       "1            0            0            1            1  ...             0   \n",
       "2            0            1            0            0  ...             0   \n",
       "3            0            1            0            0  ...             0   \n",
       "4            0            1            0            1  ...             0   \n",
       "\n",
       "   occupation_10  occupation_11  occupation_12  occupation_13  occupation_14  \\\n",
       "0              0              0              0              0              0   \n",
       "1              0              0              0              0              0   \n",
       "2              0              0              0              0              0   \n",
       "3              0              0              0              0              0   \n",
       "4              1              0              0              0              0   \n",
       "\n",
       "   race_1  race_2  sex_1  income_1  \n",
       "0       0       1      1         0  \n",
       "1       0       1      1         0  \n",
       "2       0       1      1         0  \n",
       "3       0       0      1         0  \n",
       "4       0       0      0         0  \n",
       "\n",
       "[5 rows x 37 columns]"
      ]
     },
     "execution_count": 74,
     "metadata": {},
     "output_type": "execute_result"
    }
   ],
   "source": [
    "income_new = income_fact.copy()\n",
    "income_new = income_new.drop(columns=['education-num'], axis=1)\n",
    "income_new = income_new.drop(columns=['relationship'], axis=1)\n",
    "income_new = income_new.drop(columns=['native-country'], axis=1)\n",
    "for var in new_factors:\n",
    "    if var != 'hours-per-week':\n",
    "        cat_list='var'+'_'+var\n",
    "        cat_list = pd.get_dummies(income_new[var], prefix=var, drop_first=True)\n",
    "        income_new = pd.concat([income_new,cat_list], axis = 1)\n",
    "        income_new = income_new.drop(var, 1)\n",
    "income_new.head()"
   ]
  },
  {
   "cell_type": "code",
   "execution_count": 75,
   "metadata": {},
   "outputs": [
    {
     "data": {
      "text/plain": [
       "(32561, 37)"
      ]
     },
     "execution_count": 75,
     "metadata": {},
     "output_type": "execute_result"
    }
   ],
   "source": [
    "income_new.shape"
   ]
  },
  {
   "cell_type": "code",
   "execution_count": 76,
   "metadata": {
    "scrolled": true
   },
   "outputs": [
    {
     "data": {
      "text/plain": [
       "['age',\n",
       " 'fnlwgt',\n",
       " 'capital-gain',\n",
       " 'capital-loss',\n",
       " 'hours-per-week',\n",
       " 'workclass_1',\n",
       " 'workclass_2',\n",
       " 'workclass_3',\n",
       " 'workclass_4',\n",
       " 'education_1',\n",
       " 'education_2',\n",
       " 'education_3',\n",
       " 'education_4',\n",
       " 'education_5',\n",
       " 'education_6',\n",
       " 'education_7',\n",
       " 'marital-status_1',\n",
       " 'marital-status_2',\n",
       " 'marital-status_3',\n",
       " 'occupation_1',\n",
       " 'occupation_2',\n",
       " 'occupation_3',\n",
       " 'occupation_4',\n",
       " 'occupation_5',\n",
       " 'occupation_6',\n",
       " 'occupation_7',\n",
       " 'occupation_8',\n",
       " 'occupation_9',\n",
       " 'occupation_10',\n",
       " 'occupation_11',\n",
       " 'occupation_12',\n",
       " 'occupation_13',\n",
       " 'occupation_14',\n",
       " 'race_1',\n",
       " 'race_2',\n",
       " 'sex_1',\n",
       " 'income_1']"
      ]
     },
     "execution_count": 76,
     "metadata": {},
     "output_type": "execute_result"
    }
   ],
   "source": [
    "income_new.columns.tolist()"
   ]
  },
  {
   "cell_type": "markdown",
   "metadata": {},
   "source": [
    "### Test-Training Set Split and Fitting"
   ]
  },
  {
   "cell_type": "code",
   "execution_count": 77,
   "metadata": {},
   "outputs": [
    {
     "data": {
      "text/plain": [
       "LinearRegression(copy_X=True, fit_intercept=True, n_jobs=None, normalize=False)"
      ]
     },
     "execution_count": 77,
     "metadata": {},
     "output_type": "execute_result"
    }
   ],
   "source": [
    "# 70% records being sent into training set \n",
    "income_ln_red = income_new.copy()\n",
    "income_ln_red['hours-per-week'] = income_ln_red['hours-per-week'].factorize()[0]\n",
    "pts = np.random.rand(len(income_ln_red)) < 0.7\n",
    "\n",
    "income_train_red = income_ln_red[pts]\n",
    "income_test_red = income_ln_red[~pts]\n",
    "\n",
    "X_train_red = income_train_red.copy()\n",
    "X_train_red = X_train_red.drop('hours-per-week', 1)\n",
    "Y_train_red = income_train_red['hours-per-week']\n",
    "\n",
    "X_test_red = income_test_red.copy()\n",
    "X_test_red = X_test_red.drop('hours-per-week', 1)\n",
    "Y_test_red = income_test_red['hours-per-week']\n",
    "\n",
    "#fitting the model\n",
    "linreg_red = LinearRegression()\n",
    "linreg_red.fit(X_train_red, Y_train_red)"
   ]
  },
  {
   "cell_type": "code",
   "execution_count": 78,
   "metadata": {},
   "outputs": [
    {
     "name": "stdout",
     "output_type": "stream",
     "text": [
      "coefficient of determination: 0.04114871230826933\n"
     ]
    }
   ],
   "source": [
    "r_sq_red = linreg_red.score(X_train_red, Y_train_red)\n",
    "print('coefficient of determination:', r_sq_red)"
   ]
  },
  {
   "cell_type": "code",
   "execution_count": 79,
   "metadata": {
    "scrolled": false
   },
   "outputs": [
    {
     "name": "stdout",
     "output_type": "stream",
     "text": [
      "                                 OLS Regression Results                                \n",
      "=======================================================================================\n",
      "Dep. Variable:         hours-per-week   R-squared (uncentered):                   0.291\n",
      "Model:                            OLS   Adj. R-squared (uncentered):              0.290\n",
      "Method:                 Least Squares   F-statistic:                              260.0\n",
      "Date:                Thu, 16 Jan 2020   Prob (F-statistic):                        0.00\n",
      "Time:                        23:45:28   Log-Likelihood:                         -89810.\n",
      "No. Observations:               22823   AIC:                                  1.797e+05\n",
      "Df Residuals:                   22787   BIC:                                  1.800e+05\n",
      "Df Model:                          36                                                  \n",
      "Covariance Type:            nonrobust                                                  \n",
      "====================================================================================\n",
      "                       coef    std err          t      P>|t|      [0.025      0.975]\n",
      "------------------------------------------------------------------------------------\n",
      "age                  0.0360      0.008      4.721      0.000       0.021       0.051\n",
      "fnlwgt           -2.284e-06   7.96e-07     -2.868      0.004   -3.84e-06   -7.23e-07\n",
      "capital-gain      6.737e-06   1.18e-05      0.573      0.567   -1.63e-05    2.98e-05\n",
      "capital-loss         0.0004      0.000      1.988      0.047     5.9e-06       0.001\n",
      "workclass_1         16.3260      5.565      2.934      0.003       5.419      27.233\n",
      "workclass_2          8.6955      0.670     12.970      0.000       7.381      10.010\n",
      "workclass_3          0.7243      0.266      2.727      0.006       0.204       1.245\n",
      "workclass_4          3.3533      0.358      9.362      0.000       2.651       4.055\n",
      "education_1         -0.2503      0.372     -0.672      0.501      -0.980       0.480\n",
      "education_2          2.8631      0.807      3.550      0.000       1.282       4.444\n",
      "education_3         -0.1637      0.340     -0.482      0.630      -0.829       0.502\n",
      "education_4          0.1921      0.487      0.394      0.693      -0.763       1.147\n",
      "education_5          1.2505      0.390      3.208      0.001       0.486       2.014\n",
      "education_6          2.3460      0.725      3.237      0.001       0.926       3.766\n",
      "education_7          0.6697      0.349      1.921      0.055      -0.014       1.353\n",
      "marital-status_1     0.2378      0.262      0.909      0.364      -0.275       0.751\n",
      "marital-status_2     1.1827      0.273      4.329      0.000       0.647       1.718\n",
      "marital-status_3     2.9231      0.527      5.543      0.000       1.889       3.957\n",
      "occupation_1         3.0411      0.633      4.804      0.000       1.800       4.282\n",
      "occupation_2         9.6113      5.094      1.887      0.059      -0.374      19.597\n",
      "occupation_3         1.8172      0.661      2.747      0.006       0.521       3.114\n",
      "occupation_4         3.4536      0.658      5.249      0.000       2.164       4.743\n",
      "occupation_5         8.0349      0.788     10.191      0.000       6.490       9.580\n",
      "occupation_6         3.4018      0.735      4.625      0.000       1.960       4.843\n",
      "occupation_7         1.6267      0.703      2.314      0.021       0.249       3.005\n",
      "occupation_8         6.1547      0.651      9.455      0.000       4.879       7.431\n",
      "occupation_9         7.1786      1.421      5.051      0.000       4.393       9.964\n",
      "occupation_10        4.0271      0.648      6.216      0.000       2.757       5.297\n",
      "occupation_11        6.2029      0.802      7.735      0.000       4.631       7.775\n",
      "occupation_12        5.0808      0.665      7.637      0.000       3.777       6.385\n",
      "occupation_13        3.1309      0.760      4.121      0.000       1.642       4.620\n",
      "occupation_14        4.6145      0.727      6.348      0.000       3.190       6.039\n",
      "race_1               0.6411      0.463      1.386      0.166      -0.266       1.548\n",
      "race_2               1.5147      0.287      5.272      0.000       0.952       2.078\n",
      "sex_1               -0.9875      0.212     -4.650      0.000      -1.404      -0.571\n",
      "income_1            -0.5149      0.237     -2.173      0.030      -0.979      -0.050\n",
      "==============================================================================\n",
      "Omnibus:                    12471.045   Durbin-Watson:                   1.996\n",
      "Prob(Omnibus):                  0.000   Jarque-Bera (JB):            88716.881\n",
      "Skew:                           2.609   Prob(JB):                         0.00\n",
      "Kurtosis:                      11.128   Cond. No.                     1.47e+07\n",
      "==============================================================================\n",
      "\n",
      "Warnings:\n",
      "[1] Standard Errors assume that the covariance matrix of the errors is correctly specified.\n",
      "[2] The condition number is large, 1.47e+07. This might indicate that there are\n",
      "strong multicollinearity or other numerical problems.\n"
     ]
    }
   ],
   "source": [
    "mod_red = sm.OLS(Y_train_red,X_train_red)\n",
    "lnfit_red = mod_red.fit()\n",
    "print(lnfit_red.summary())"
   ]
  },
  {
   "cell_type": "markdown",
   "metadata": {},
   "source": [
    "### Approach 2: RFE"
   ]
  },
  {
   "cell_type": "code",
   "execution_count": 80,
   "metadata": {},
   "outputs": [
    {
     "name": "stdout",
     "output_type": "stream",
     "text": [
      "1 coefficient of determination: 0.00016258115820955155 mse: 153.0144107799293\n",
      "2 coefficient of determination: 0.005053258155121586 mse: 153.10179142560906\n",
      "3 coefficient of determination: 0.012635459255603165 mse: 152.56231553635956\n",
      "4 coefficient of determination: 0.013194928827587993 mse: 152.39451381408944\n",
      "5 coefficient of determination: 0.013225126656047026 mse: 152.41906781087317\n",
      "6 coefficient of determination: 0.01622467947841244 mse: 151.8028609647357\n",
      "7 coefficient of determination: 0.0169291319064645 mse: 151.87579892288392\n",
      "8 coefficient of determination: 0.021907263306728764 mse: 151.0354299449694\n",
      "9 coefficient of determination: 0.027159847434772955 mse: 150.4539308833601\n",
      "10 coefficient of determination: 0.027849910487305785 mse: 150.4474659197326\n",
      "11 coefficient of determination: 0.028356251688042455 mse: 150.37742287030872\n",
      "12 coefficient of determination: 0.03131781067042261 mse: 149.87606656806776\n",
      "13 coefficient of determination: 0.03203183185821268 mse: 149.85559097005836\n",
      "14 coefficient of determination: 0.03273797411857082 mse: 149.66468470017867\n",
      "15 coefficient of determination: 0.03290042697587281 mse: 149.5946480045917\n",
      "16 coefficient of determination: 0.033375623111211894 mse: 149.4987118540341\n",
      "17 coefficient of determination: 0.034370350263204674 mse: 149.37474488178094\n",
      "18 coefficient of determination: 0.03467902510123344 mse: 149.20146499252206\n",
      "19 coefficient of determination: 0.03564051085942832 mse: 149.04377151779158\n",
      "20 coefficient of determination: 0.036746147861945966 mse: 148.87745021459253\n",
      "21 coefficient of determination: 0.03797285496200242 mse: 148.50604625455233\n",
      "22 coefficient of determination: 0.03861127097133776 mse: 148.29113794748844\n",
      "23 coefficient of determination: 0.038721273930431566 mse: 148.22846015631822\n",
      "24 coefficient of determination: 0.039203560583970454 mse: 148.12356114967446\n",
      "25 coefficient of determination: 0.0394043688867578 mse: 148.0858960076981\n",
      "26 coefficient of determination: 0.0394114244667102 mse: 148.0671193804306\n",
      "27 coefficient of determination: 0.03941227870253272 mse: 148.06482365396286\n",
      "28 coefficient of determination: 0.039467936658266756 mse: 148.0505081659186\n",
      "29 coefficient of determination: 0.03956589076673822 mse: 148.08632012192675\n",
      "30 coefficient of determination: 0.039591546431190006 mse: 148.07465141942805\n",
      "31 coefficient of determination: 0.03960045954515822 mse: 148.06225363948866\n",
      "32 coefficient of determination: 0.03960845162818705 mse: 148.04720629534648\n",
      "33 coefficient of determination: 0.040618661257257105 mse: 148.0226579649367\n",
      "34 coefficient of determination: 0.040781383447474846 mse: 148.0369640139614\n",
      "35 coefficient of determination: 0.040794662286609995 mse: 148.02767301489078\n",
      "36 coefficient of determination: 0.04114871230826933 mse: 147.93439626499816\n"
     ]
    }
   ],
   "source": [
    "# test the best number of variables\n",
    "for i in range(1, 37):\n",
    "    rfe = RFE(linreg, i)\n",
    "    rfe = rfe.fit(X_train_red, Y_train_red)\n",
    "    X_train_rfe = rfe.transform(X_train_red)\n",
    "    X_test_rfe = rfe.transform(X_test_red)\n",
    "    linreg.fit(X_train_rfe, Y_train_red)\n",
    "    r_sq = linreg.score(X_train_rfe, Y_train_red)\n",
    "    Y_pred = linreg.predict(X_test_rfe)\n",
    "    mse = mean_squared_error(Y_test_red, Y_pred)\n",
    "    print(i, 'coefficient of determination:', r_sq, 'mse:', mse)"
   ]
  },
  {
   "cell_type": "markdown",
   "metadata": {},
   "source": [
    "Considering p-value, R^2 and MSE, the best model consists of 33 variables."
   ]
  },
  {
   "cell_type": "code",
   "execution_count": 81,
   "metadata": {},
   "outputs": [
    {
     "name": "stdout",
     "output_type": "stream",
     "text": [
      "[ True False False False  True  True  True  True  True  True  True  True\n",
      "  True  True  True  True  True  True  True  True  True  True  True  True\n",
      "  True  True  True  True  True  True  True  True  True  True  True  True]\n",
      "[1 4 3 2 1 1 1 1 1 1 1 1 1 1 1 1 1 1 1 1 1 1 1 1 1 1 1 1 1 1 1 1 1 1 1 1]\n"
     ]
    }
   ],
   "source": [
    "#Find the 33 variables\n",
    "rfe = RFE(linreg, 33)\n",
    "rfe = rfe.fit(X_train_red, Y_train_red)\n",
    "print(rfe.support_)\n",
    "print(rfe.ranking_)"
   ]
  },
  {
   "cell_type": "code",
   "execution_count": 82,
   "metadata": {},
   "outputs": [
    {
     "data": {
      "text/plain": [
       "Index(['age', 'workclass_1', 'workclass_2', 'workclass_3', 'workclass_4',\n",
       "       'education_1', 'education_2', 'education_3', 'education_4',\n",
       "       'education_5', 'education_6', 'education_7', 'marital-status_1',\n",
       "       'marital-status_2', 'marital-status_3', 'occupation_1', 'occupation_2',\n",
       "       'occupation_3', 'occupation_4', 'occupation_5', 'occupation_6',\n",
       "       'occupation_7', 'occupation_8', 'occupation_9', 'occupation_10',\n",
       "       'occupation_11', 'occupation_12', 'occupation_13', 'occupation_14',\n",
       "       'race_1', 'race_2', 'sex_1', 'income_1'],\n",
       "      dtype='object')"
      ]
     },
     "execution_count": 82,
     "metadata": {},
     "output_type": "execute_result"
    }
   ],
   "source": [
    "feature = X_train_red.columns[rfe.get_support()]\n",
    "feature"
   ]
  },
  {
   "cell_type": "code",
   "execution_count": 83,
   "metadata": {},
   "outputs": [
    {
     "data": {
      "text/plain": [
       "33"
      ]
     },
     "execution_count": 83,
     "metadata": {},
     "output_type": "execute_result"
    }
   ],
   "source": [
    "len(feature)"
   ]
  },
  {
   "cell_type": "code",
   "execution_count": 84,
   "metadata": {},
   "outputs": [],
   "source": [
    "income_rfe = income_new.copy()\n",
    "income_rfe = income_rfe.drop('fnlwgt', 1)\n",
    "income_rfe = income_rfe.drop('capital-gain', 1)\n",
    "income_rfe = income_rfe.drop('capital-loss', 1)"
   ]
  },
  {
   "cell_type": "code",
   "execution_count": 85,
   "metadata": {},
   "outputs": [],
   "source": [
    "income_rfe_c = income_rfe.copy()\n",
    "X_rfe = income_rfe_c.drop('hours-per-week', 1)\n",
    "Y_rfe = income_rfe_c['hours-per-week']"
   ]
  },
  {
   "cell_type": "code",
   "execution_count": 86,
   "metadata": {},
   "outputs": [
    {
     "name": "stdout",
     "output_type": "stream",
     "text": [
      "                                 OLS Regression Results                                \n",
      "=======================================================================================\n",
      "Dep. Variable:         hours-per-week   R-squared (uncentered):                   0.929\n",
      "Model:                            OLS   Adj. R-squared (uncentered):              0.929\n",
      "Method:                 Least Squares   F-statistic:                          1.286e+04\n",
      "Date:                Thu, 16 Jan 2020   Prob (F-statistic):                        0.00\n",
      "Time:                        23:45:36   Log-Likelihood:                     -1.2510e+05\n",
      "No. Observations:               32561   AIC:                                  2.503e+05\n",
      "Df Residuals:                   32528   BIC:                                  2.505e+05\n",
      "Df Model:                          33                                                  \n",
      "Covariance Type:            nonrobust                                                  \n",
      "====================================================================================\n",
      "                       coef    std err          t      P>|t|      [0.025      0.975]\n",
      "------------------------------------------------------------------------------------\n",
      "age                 -0.0500      0.006     -8.697      0.000      -0.061      -0.039\n",
      "workclass_1         32.3883      4.283      7.562      0.000      23.993      40.783\n",
      "workclass_2         35.2075      0.489     71.931      0.000      34.248      36.167\n",
      "workclass_3          0.8311      0.202      4.109      0.000       0.435       1.228\n",
      "workclass_4          3.4585      0.273     12.651      0.000       2.923       3.994\n",
      "education_1          0.8096      0.282      2.868      0.004       0.256       1.363\n",
      "education_2          4.0693      0.626      6.505      0.000       2.843       5.295\n",
      "education_3         -0.1498      0.258     -0.581      0.561      -0.655       0.355\n",
      "education_4          1.5668      0.373      4.200      0.000       0.836       2.298\n",
      "education_5         -2.7851      0.296     -9.401      0.000      -3.366      -2.204\n",
      "education_6          3.6307      0.552      6.573      0.000       2.548       4.713\n",
      "education_7         -1.2628      0.265     -4.768      0.000      -1.782      -0.744\n",
      "marital-status_1    -1.5461      0.200     -7.746      0.000      -1.937      -1.155\n",
      "marital-status_2    -4.3534      0.207    -21.003      0.000      -4.760      -3.947\n",
      "marital-status_3    -4.9219      0.404    -12.187      0.000      -5.713      -4.130\n",
      "occupation_1        40.1861      0.459     87.537      0.000      39.286      41.086\n",
      "occupation_2        42.3023      3.786     11.173      0.000      34.881      49.723\n",
      "occupation_3        41.9184      0.483     86.850      0.000      40.972      42.864\n",
      "occupation_4        43.7392      0.478     91.473      0.000      42.802      44.676\n",
      "occupation_5        46.5421      0.585     79.534      0.000      45.395      47.689\n",
      "occupation_6        39.4822      0.541     73.004      0.000      38.422      40.542\n",
      "occupation_7        42.0421      0.514     81.846      0.000      41.035      43.049\n",
      "occupation_8        37.7502      0.473     79.818      0.000      36.823      38.677\n",
      "occupation_9        38.3568      1.033     37.125      0.000      36.332      40.382\n",
      "occupation_10       41.1119      0.470     87.454      0.000      40.191      42.033\n",
      "occupation_11       43.0296      0.597     72.075      0.000      41.859      44.200\n",
      "occupation_12       41.1956      0.484     85.032      0.000      40.246      42.145\n",
      "occupation_13       40.0182      0.559     71.648      0.000      38.923      41.113\n",
      "occupation_14       44.7368      0.533     83.909      0.000      43.692      45.782\n",
      "race_1              -0.0895      0.348     -0.257      0.797      -0.772       0.593\n",
      "race_2              -0.1267      0.217     -0.584      0.559      -0.552       0.299\n",
      "sex_1                3.4501      0.162     21.277      0.000       3.132       3.768\n",
      "income_1             3.1097      0.178     17.488      0.000       2.761       3.458\n",
      "==============================================================================\n",
      "Omnibus:                     3295.127   Durbin-Watson:                   2.019\n",
      "Prob(Omnibus):                  0.000   Jarque-Bera (JB):            17633.586\n",
      "Skew:                           0.347   Prob(JB):                         0.00\n",
      "Kurtosis:                       6.538   Cond. No.                     2.81e+03\n",
      "==============================================================================\n",
      "\n",
      "Warnings:\n",
      "[1] Standard Errors assume that the covariance matrix of the errors is correctly specified.\n",
      "[2] The condition number is large, 2.81e+03. This might indicate that there are\n",
      "strong multicollinearity or other numerical problems.\n"
     ]
    }
   ],
   "source": [
    "mod_rfe = sm.OLS(Y_rfe,X_rfe)\n",
    "lnfit_rfe = mod_rfe.fit()\n",
    "print(lnfit_rfe.summary())"
   ]
  },
  {
   "cell_type": "markdown",
   "metadata": {},
   "source": [
    "## Part 3\n",
    "Interaction terms"
   ]
  },
  {
   "cell_type": "code",
   "execution_count": 87,
   "metadata": {},
   "outputs": [
    {
     "data": {
      "text/html": [
       "<div>\n",
       "<style scoped>\n",
       "    .dataframe tbody tr th:only-of-type {\n",
       "        vertical-align: middle;\n",
       "    }\n",
       "\n",
       "    .dataframe tbody tr th {\n",
       "        vertical-align: top;\n",
       "    }\n",
       "\n",
       "    .dataframe thead th {\n",
       "        text-align: right;\n",
       "    }\n",
       "</style>\n",
       "<table border=\"1\" class=\"dataframe\">\n",
       "  <thead>\n",
       "    <tr style=\"text-align: right;\">\n",
       "      <th></th>\n",
       "      <th>age</th>\n",
       "      <th>fnlwgt</th>\n",
       "      <th>education-num</th>\n",
       "      <th>capital-gain</th>\n",
       "      <th>capital-loss</th>\n",
       "      <th>hours-per-week</th>\n",
       "      <th>workclass_1</th>\n",
       "      <th>workclass_2</th>\n",
       "      <th>workclass_3</th>\n",
       "      <th>workclass_4</th>\n",
       "      <th>...</th>\n",
       "      <th>native-country_33</th>\n",
       "      <th>native-country_34</th>\n",
       "      <th>native-country_35</th>\n",
       "      <th>native-country_36</th>\n",
       "      <th>native-country_37</th>\n",
       "      <th>native-country_38</th>\n",
       "      <th>native-country_39</th>\n",
       "      <th>native-country_40</th>\n",
       "      <th>native-country_41</th>\n",
       "      <th>income_1</th>\n",
       "    </tr>\n",
       "  </thead>\n",
       "  <tbody>\n",
       "    <tr>\n",
       "      <th>0</th>\n",
       "      <td>39</td>\n",
       "      <td>77516</td>\n",
       "      <td>13</td>\n",
       "      <td>2174</td>\n",
       "      <td>0</td>\n",
       "      <td>40</td>\n",
       "      <td>0</td>\n",
       "      <td>0</td>\n",
       "      <td>0</td>\n",
       "      <td>0</td>\n",
       "      <td>...</td>\n",
       "      <td>0</td>\n",
       "      <td>0</td>\n",
       "      <td>0</td>\n",
       "      <td>0</td>\n",
       "      <td>0</td>\n",
       "      <td>0</td>\n",
       "      <td>1</td>\n",
       "      <td>0</td>\n",
       "      <td>0</td>\n",
       "      <td>0</td>\n",
       "    </tr>\n",
       "    <tr>\n",
       "      <th>1</th>\n",
       "      <td>50</td>\n",
       "      <td>83311</td>\n",
       "      <td>13</td>\n",
       "      <td>0</td>\n",
       "      <td>0</td>\n",
       "      <td>13</td>\n",
       "      <td>0</td>\n",
       "      <td>0</td>\n",
       "      <td>0</td>\n",
       "      <td>1</td>\n",
       "      <td>...</td>\n",
       "      <td>0</td>\n",
       "      <td>0</td>\n",
       "      <td>0</td>\n",
       "      <td>0</td>\n",
       "      <td>0</td>\n",
       "      <td>0</td>\n",
       "      <td>1</td>\n",
       "      <td>0</td>\n",
       "      <td>0</td>\n",
       "      <td>0</td>\n",
       "    </tr>\n",
       "    <tr>\n",
       "      <th>2</th>\n",
       "      <td>38</td>\n",
       "      <td>215646</td>\n",
       "      <td>9</td>\n",
       "      <td>0</td>\n",
       "      <td>0</td>\n",
       "      <td>40</td>\n",
       "      <td>0</td>\n",
       "      <td>0</td>\n",
       "      <td>1</td>\n",
       "      <td>0</td>\n",
       "      <td>...</td>\n",
       "      <td>0</td>\n",
       "      <td>0</td>\n",
       "      <td>0</td>\n",
       "      <td>0</td>\n",
       "      <td>0</td>\n",
       "      <td>0</td>\n",
       "      <td>1</td>\n",
       "      <td>0</td>\n",
       "      <td>0</td>\n",
       "      <td>0</td>\n",
       "    </tr>\n",
       "    <tr>\n",
       "      <th>3</th>\n",
       "      <td>53</td>\n",
       "      <td>234721</td>\n",
       "      <td>7</td>\n",
       "      <td>0</td>\n",
       "      <td>0</td>\n",
       "      <td>40</td>\n",
       "      <td>0</td>\n",
       "      <td>0</td>\n",
       "      <td>1</td>\n",
       "      <td>0</td>\n",
       "      <td>...</td>\n",
       "      <td>0</td>\n",
       "      <td>0</td>\n",
       "      <td>0</td>\n",
       "      <td>0</td>\n",
       "      <td>0</td>\n",
       "      <td>0</td>\n",
       "      <td>1</td>\n",
       "      <td>0</td>\n",
       "      <td>0</td>\n",
       "      <td>0</td>\n",
       "    </tr>\n",
       "    <tr>\n",
       "      <th>4</th>\n",
       "      <td>28</td>\n",
       "      <td>338409</td>\n",
       "      <td>13</td>\n",
       "      <td>0</td>\n",
       "      <td>0</td>\n",
       "      <td>40</td>\n",
       "      <td>0</td>\n",
       "      <td>0</td>\n",
       "      <td>1</td>\n",
       "      <td>0</td>\n",
       "      <td>...</td>\n",
       "      <td>0</td>\n",
       "      <td>0</td>\n",
       "      <td>0</td>\n",
       "      <td>0</td>\n",
       "      <td>0</td>\n",
       "      <td>0</td>\n",
       "      <td>0</td>\n",
       "      <td>0</td>\n",
       "      <td>0</td>\n",
       "      <td>0</td>\n",
       "    </tr>\n",
       "  </tbody>\n",
       "</table>\n",
       "<p>5 rows × 84 columns</p>\n",
       "</div>"
      ],
      "text/plain": [
       "   age  fnlwgt  education-num  capital-gain  capital-loss  hours-per-week  \\\n",
       "0   39   77516             13          2174             0              40   \n",
       "1   50   83311             13             0             0              13   \n",
       "2   38  215646              9             0             0              40   \n",
       "3   53  234721              7             0             0              40   \n",
       "4   28  338409             13             0             0              40   \n",
       "\n",
       "   workclass_1  workclass_2  workclass_3  workclass_4  ...  native-country_33  \\\n",
       "0            0            0            0            0  ...                  0   \n",
       "1            0            0            0            1  ...                  0   \n",
       "2            0            0            1            0  ...                  0   \n",
       "3            0            0            1            0  ...                  0   \n",
       "4            0            0            1            0  ...                  0   \n",
       "\n",
       "   native-country_34  native-country_35  native-country_36  native-country_37  \\\n",
       "0                  0                  0                  0                  0   \n",
       "1                  0                  0                  0                  0   \n",
       "2                  0                  0                  0                  0   \n",
       "3                  0                  0                  0                  0   \n",
       "4                  0                  0                  0                  0   \n",
       "\n",
       "   native-country_38  native-country_39  native-country_40  native-country_41  \\\n",
       "0                  0                  1                  0                  0   \n",
       "1                  0                  1                  0                  0   \n",
       "2                  0                  1                  0                  0   \n",
       "3                  0                  1                  0                  0   \n",
       "4                  0                  0                  0                  0   \n",
       "\n",
       "   income_1  \n",
       "0         0  \n",
       "1         0  \n",
       "2         0  \n",
       "3         0  \n",
       "4         0  \n",
       "\n",
       "[5 rows x 84 columns]"
      ]
     },
     "execution_count": 87,
     "metadata": {},
     "output_type": "execute_result"
    }
   ],
   "source": [
    "income_d.head()"
   ]
  },
  {
   "cell_type": "code",
   "execution_count": 88,
   "metadata": {},
   "outputs": [],
   "source": [
    "income_d_copy = income_d.copy()\n",
    "X_rfe['sex*age'] = income_d_copy['sex_1']*income_d_copy['age']\n",
    "X_rfe['sex*education-num'] = income_d_copy['sex_1']*income_d_copy['education-num']\n",
    "X_rfe['age*education-num'] = income_d_copy['age']*income_d_copy['education-num']\n",
    "X_rfe['age*income1'] = income_d_copy['age']*income_d_copy['income_1']\n",
    "X_rfe['income1*education-num'] = income_d_copy['income_1']*income_d_copy['education-num']"
   ]
  },
  {
   "cell_type": "code",
   "execution_count": 89,
   "metadata": {},
   "outputs": [
    {
     "name": "stdout",
     "output_type": "stream",
     "text": [
      "                                 OLS Regression Results                                \n",
      "=======================================================================================\n",
      "Dep. Variable:         hours-per-week   R-squared (uncentered):                   0.929\n",
      "Model:                            OLS   Adj. R-squared (uncentered):              0.929\n",
      "Method:                 Least Squares   F-statistic:                          1.126e+04\n",
      "Date:                Thu, 16 Jan 2020   Prob (F-statistic):                        0.00\n",
      "Time:                        23:45:36   Log-Likelihood:                     -1.2497e+05\n",
      "No. Observations:               32561   AIC:                                  2.500e+05\n",
      "Df Residuals:                   32523   BIC:                                  2.503e+05\n",
      "Df Model:                          38                                                  \n",
      "Covariance Type:            nonrobust                                                  \n",
      "=========================================================================================\n",
      "                            coef    std err          t      P>|t|      [0.025      0.975]\n",
      "-----------------------------------------------------------------------------------------\n",
      "age                       0.1242      0.016      7.714      0.000       0.093       0.156\n",
      "workclass_1              30.7701      4.281      7.188      0.000      22.380      39.160\n",
      "workclass_2              33.3931      0.575     58.048      0.000      32.266      34.521\n",
      "workclass_3               0.8590      0.202      4.259      0.000       0.464       1.254\n",
      "workclass_4               3.6232      0.273     13.287      0.000       3.089       4.158\n",
      "education_1               1.7884      0.298      5.999      0.000       1.204       2.373\n",
      "education_2               8.2953      0.736     11.265      0.000       6.852       9.739\n",
      "education_3              -1.4132      0.289     -4.892      0.000      -1.979      -0.847\n",
      "education_4               3.5424      0.419      8.447      0.000       2.720       4.364\n",
      "education_5              -5.7965      0.444    -13.057      0.000      -6.667      -4.926\n",
      "education_6               6.7497      0.627     10.759      0.000       5.520       7.979\n",
      "education_7              -1.9805      0.276     -7.167      0.000      -2.522      -1.439\n",
      "marital-status_1         -1.3278      0.203     -6.552      0.000      -1.725      -0.931\n",
      "marital-status_2         -3.9650      0.211    -18.782      0.000      -4.379      -3.551\n",
      "marital-status_3         -6.0788      0.417    -14.585      0.000      -6.896      -5.262\n",
      "occupation_1             38.1039      0.561     67.974      0.000      37.005      39.203\n",
      "occupation_2             40.1821      3.787     10.611      0.000      32.760      47.604\n",
      "occupation_3             39.7182      0.579     68.637      0.000      38.584      40.852\n",
      "occupation_4             41.6935      0.574     72.574      0.000      40.567      42.820\n",
      "occupation_5             44.2561      0.662     66.824      0.000      42.958      45.554\n",
      "occupation_6             37.3106      0.635     58.762      0.000      36.066      38.555\n",
      "occupation_7             39.8359      0.605     65.826      0.000      38.650      41.022\n",
      "occupation_8             35.7526      0.572     62.511      0.000      34.632      36.874\n",
      "occupation_9             35.9614      1.089     33.016      0.000      33.827      38.096\n",
      "occupation_10            38.8337      0.570     68.127      0.000      37.716      39.951\n",
      "occupation_11            40.8716      0.675     60.563      0.000      39.549      42.194\n",
      "occupation_12            39.2442      0.578     67.929      0.000      38.112      40.377\n",
      "occupation_13            37.8559      0.640     59.133      0.000      36.601      39.111\n",
      "occupation_14            42.5409      0.618     68.798      0.000      41.329      43.753\n",
      "race_1                   -0.1574      0.347     -0.454      0.650      -0.838       0.523\n",
      "race_2                   -0.1022      0.216     -0.472      0.637      -0.526       0.322\n",
      "sex_1                     8.2440      0.678     12.157      0.000       6.915       9.573\n",
      "income_1                  9.4733      1.031      9.188      0.000       7.452      11.494\n",
      "sex*age                  -0.0917      0.011     -8.702      0.000      -0.112      -0.071\n",
      "sex*education-num        -0.1432      0.054     -2.632      0.008      -0.250      -0.037\n",
      "age*education-num        -0.0105      0.001     -7.305      0.000      -0.013      -0.008\n",
      "age*income1              -0.0813      0.014     -5.727      0.000      -0.109      -0.053\n",
      "income1*education-num    -0.2393      0.071     -3.382      0.001      -0.378      -0.101\n",
      "==============================================================================\n",
      "Omnibus:                     3281.727   Durbin-Watson:                   2.021\n",
      "Prob(Omnibus):                  0.000   Jarque-Bera (JB):            17242.116\n",
      "Skew:                           0.352   Prob(JB):                         0.00\n",
      "Kurtosis:                       6.495   Cond. No.                     2.97e+04\n",
      "==============================================================================\n",
      "\n",
      "Warnings:\n",
      "[1] Standard Errors assume that the covariance matrix of the errors is correctly specified.\n",
      "[2] The condition number is large, 2.97e+04. This might indicate that there are\n",
      "strong multicollinearity or other numerical problems.\n"
     ]
    }
   ],
   "source": [
    "mod_rfe = sm.OLS(Y_rfe,X_rfe)\n",
    "lnfit_rfe = mod_rfe.fit()\n",
    "print(lnfit_rfe.summary())"
   ]
  },
  {
   "cell_type": "markdown",
   "metadata": {},
   "source": [
    "All interaction terms are significant."
   ]
  },
  {
   "cell_type": "markdown",
   "metadata": {},
   "source": [
    "## Question 6.\n",
    "Regress work hours of only people who are working in Sales. Once you fit a reasonable (as per your judgement) model for this data, compare the R^2 with the ones you calculated for Question 5. Explain your findings.\n"
   ]
  },
  {
   "cell_type": "code",
   "execution_count": 90,
   "metadata": {},
   "outputs": [],
   "source": [
    "#Select 'sales' people\n",
    "income_sales = income[income['occupation']=='Sales']"
   ]
  },
  {
   "cell_type": "code",
   "execution_count": 91,
   "metadata": {},
   "outputs": [
    {
     "data": {
      "text/html": [
       "<div>\n",
       "<style scoped>\n",
       "    .dataframe tbody tr th:only-of-type {\n",
       "        vertical-align: middle;\n",
       "    }\n",
       "\n",
       "    .dataframe tbody tr th {\n",
       "        vertical-align: top;\n",
       "    }\n",
       "\n",
       "    .dataframe thead th {\n",
       "        text-align: right;\n",
       "    }\n",
       "</style>\n",
       "<table border=\"1\" class=\"dataframe\">\n",
       "  <thead>\n",
       "    <tr style=\"text-align: right;\">\n",
       "      <th></th>\n",
       "      <th>age</th>\n",
       "      <th>workclass</th>\n",
       "      <th>fnlwgt</th>\n",
       "      <th>education</th>\n",
       "      <th>education-num</th>\n",
       "      <th>marital-status</th>\n",
       "      <th>occupation</th>\n",
       "      <th>relationship</th>\n",
       "      <th>race</th>\n",
       "      <th>sex</th>\n",
       "      <th>capital-gain</th>\n",
       "      <th>capital-loss</th>\n",
       "      <th>hours-per-week</th>\n",
       "      <th>native-country</th>\n",
       "      <th>income</th>\n",
       "    </tr>\n",
       "  </thead>\n",
       "  <tbody>\n",
       "    <tr>\n",
       "      <th>13</th>\n",
       "      <td>32</td>\n",
       "      <td>Private</td>\n",
       "      <td>205019</td>\n",
       "      <td>Associates</td>\n",
       "      <td>12</td>\n",
       "      <td>Never-married</td>\n",
       "      <td>Sales</td>\n",
       "      <td>Not-in-family</td>\n",
       "      <td>Black</td>\n",
       "      <td>Male</td>\n",
       "      <td>0</td>\n",
       "      <td>0</td>\n",
       "      <td>50</td>\n",
       "      <td>United-States</td>\n",
       "      <td>&lt;=50K</td>\n",
       "    </tr>\n",
       "    <tr>\n",
       "      <th>18</th>\n",
       "      <td>38</td>\n",
       "      <td>Private</td>\n",
       "      <td>28887</td>\n",
       "      <td>Not-HS-Grad</td>\n",
       "      <td>7</td>\n",
       "      <td>Married</td>\n",
       "      <td>Sales</td>\n",
       "      <td>Husband</td>\n",
       "      <td>White</td>\n",
       "      <td>Male</td>\n",
       "      <td>0</td>\n",
       "      <td>0</td>\n",
       "      <td>50</td>\n",
       "      <td>United-States</td>\n",
       "      <td>&lt;=50K</td>\n",
       "    </tr>\n",
       "    <tr>\n",
       "      <th>31</th>\n",
       "      <td>20</td>\n",
       "      <td>Private</td>\n",
       "      <td>266015</td>\n",
       "      <td>Some-college</td>\n",
       "      <td>10</td>\n",
       "      <td>Never-married</td>\n",
       "      <td>Sales</td>\n",
       "      <td>Own-child</td>\n",
       "      <td>Black</td>\n",
       "      <td>Male</td>\n",
       "      <td>0</td>\n",
       "      <td>0</td>\n",
       "      <td>44</td>\n",
       "      <td>United-States</td>\n",
       "      <td>&lt;=50K</td>\n",
       "    </tr>\n",
       "    <tr>\n",
       "      <th>38</th>\n",
       "      <td>31</td>\n",
       "      <td>Private</td>\n",
       "      <td>84154</td>\n",
       "      <td>Some-college</td>\n",
       "      <td>10</td>\n",
       "      <td>Married</td>\n",
       "      <td>Sales</td>\n",
       "      <td>Husband</td>\n",
       "      <td>White</td>\n",
       "      <td>Male</td>\n",
       "      <td>0</td>\n",
       "      <td>0</td>\n",
       "      <td>38</td>\n",
       "      <td>?</td>\n",
       "      <td>&gt;50K</td>\n",
       "    </tr>\n",
       "    <tr>\n",
       "      <th>60</th>\n",
       "      <td>30</td>\n",
       "      <td>Private</td>\n",
       "      <td>59496</td>\n",
       "      <td>Bachelors</td>\n",
       "      <td>13</td>\n",
       "      <td>Married</td>\n",
       "      <td>Sales</td>\n",
       "      <td>Husband</td>\n",
       "      <td>White</td>\n",
       "      <td>Male</td>\n",
       "      <td>2407</td>\n",
       "      <td>0</td>\n",
       "      <td>40</td>\n",
       "      <td>United-States</td>\n",
       "      <td>&lt;=50K</td>\n",
       "    </tr>\n",
       "  </tbody>\n",
       "</table>\n",
       "</div>"
      ],
      "text/plain": [
       "    age workclass  fnlwgt     education  education-num marital-status  \\\n",
       "13   32   Private  205019    Associates             12  Never-married   \n",
       "18   38   Private   28887   Not-HS-Grad              7        Married   \n",
       "31   20   Private  266015  Some-college             10  Never-married   \n",
       "38   31   Private   84154  Some-college             10        Married   \n",
       "60   30   Private   59496     Bachelors             13        Married   \n",
       "\n",
       "   occupation   relationship   race   sex  capital-gain  capital-loss  \\\n",
       "13      Sales  Not-in-family  Black  Male             0             0   \n",
       "18      Sales        Husband  White  Male             0             0   \n",
       "31      Sales      Own-child  Black  Male             0             0   \n",
       "38      Sales        Husband  White  Male             0             0   \n",
       "60      Sales        Husband  White  Male          2407             0   \n",
       "\n",
       "    hours-per-week native-country income  \n",
       "13              50  United-States  <=50K  \n",
       "18              50  United-States  <=50K  \n",
       "31              44  United-States  <=50K  \n",
       "38              38              ?   >50K  \n",
       "60              40  United-States  <=50K  "
      ]
     },
     "execution_count": 91,
     "metadata": {},
     "output_type": "execute_result"
    }
   ],
   "source": [
    "income_sales.head()"
   ]
  },
  {
   "cell_type": "code",
   "execution_count": 92,
   "metadata": {},
   "outputs": [],
   "source": [
    "sfactors = [\n",
    "    'workclass', 'education', 'marital-status', 'relationship',\n",
    "    'race', 'sex', 'native-country', 'income'\n",
    "]"
   ]
  },
  {
   "cell_type": "code",
   "execution_count": 93,
   "metadata": {
    "scrolled": true
   },
   "outputs": [
    {
     "data": {
      "text/html": [
       "<div>\n",
       "<style scoped>\n",
       "    .dataframe tbody tr th:only-of-type {\n",
       "        vertical-align: middle;\n",
       "    }\n",
       "\n",
       "    .dataframe tbody tr th {\n",
       "        vertical-align: top;\n",
       "    }\n",
       "\n",
       "    .dataframe thead th {\n",
       "        text-align: right;\n",
       "    }\n",
       "</style>\n",
       "<table border=\"1\" class=\"dataframe\">\n",
       "  <thead>\n",
       "    <tr style=\"text-align: right;\">\n",
       "      <th></th>\n",
       "      <th>age</th>\n",
       "      <th>workclass</th>\n",
       "      <th>fnlwgt</th>\n",
       "      <th>education</th>\n",
       "      <th>education-num</th>\n",
       "      <th>marital-status</th>\n",
       "      <th>relationship</th>\n",
       "      <th>race</th>\n",
       "      <th>sex</th>\n",
       "      <th>capital-gain</th>\n",
       "      <th>capital-loss</th>\n",
       "      <th>hours-per-week</th>\n",
       "      <th>native-country</th>\n",
       "      <th>income</th>\n",
       "    </tr>\n",
       "  </thead>\n",
       "  <tbody>\n",
       "    <tr>\n",
       "      <th>13</th>\n",
       "      <td>32</td>\n",
       "      <td>1</td>\n",
       "      <td>205019</td>\n",
       "      <td>0</td>\n",
       "      <td>12</td>\n",
       "      <td>2</td>\n",
       "      <td>1</td>\n",
       "      <td>0</td>\n",
       "      <td>1</td>\n",
       "      <td>0</td>\n",
       "      <td>0</td>\n",
       "      <td>50</td>\n",
       "      <td>34</td>\n",
       "      <td>0</td>\n",
       "    </tr>\n",
       "    <tr>\n",
       "      <th>18</th>\n",
       "      <td>38</td>\n",
       "      <td>1</td>\n",
       "      <td>28887</td>\n",
       "      <td>5</td>\n",
       "      <td>7</td>\n",
       "      <td>1</td>\n",
       "      <td>0</td>\n",
       "      <td>2</td>\n",
       "      <td>1</td>\n",
       "      <td>0</td>\n",
       "      <td>0</td>\n",
       "      <td>50</td>\n",
       "      <td>34</td>\n",
       "      <td>0</td>\n",
       "    </tr>\n",
       "    <tr>\n",
       "      <th>31</th>\n",
       "      <td>20</td>\n",
       "      <td>1</td>\n",
       "      <td>266015</td>\n",
       "      <td>7</td>\n",
       "      <td>10</td>\n",
       "      <td>2</td>\n",
       "      <td>3</td>\n",
       "      <td>0</td>\n",
       "      <td>1</td>\n",
       "      <td>0</td>\n",
       "      <td>0</td>\n",
       "      <td>44</td>\n",
       "      <td>34</td>\n",
       "      <td>0</td>\n",
       "    </tr>\n",
       "    <tr>\n",
       "      <th>38</th>\n",
       "      <td>31</td>\n",
       "      <td>1</td>\n",
       "      <td>84154</td>\n",
       "      <td>7</td>\n",
       "      <td>10</td>\n",
       "      <td>1</td>\n",
       "      <td>0</td>\n",
       "      <td>2</td>\n",
       "      <td>1</td>\n",
       "      <td>0</td>\n",
       "      <td>0</td>\n",
       "      <td>38</td>\n",
       "      <td>0</td>\n",
       "      <td>1</td>\n",
       "    </tr>\n",
       "    <tr>\n",
       "      <th>60</th>\n",
       "      <td>30</td>\n",
       "      <td>1</td>\n",
       "      <td>59496</td>\n",
       "      <td>1</td>\n",
       "      <td>13</td>\n",
       "      <td>1</td>\n",
       "      <td>0</td>\n",
       "      <td>2</td>\n",
       "      <td>1</td>\n",
       "      <td>2407</td>\n",
       "      <td>0</td>\n",
       "      <td>40</td>\n",
       "      <td>34</td>\n",
       "      <td>0</td>\n",
       "    </tr>\n",
       "  </tbody>\n",
       "</table>\n",
       "</div>"
      ],
      "text/plain": [
       "    age  workclass  fnlwgt  education  education-num  marital-status  \\\n",
       "13   32          1  205019          0             12               2   \n",
       "18   38          1   28887          5              7               1   \n",
       "31   20          1  266015          7             10               2   \n",
       "38   31          1   84154          7             10               1   \n",
       "60   30          1   59496          1             13               1   \n",
       "\n",
       "    relationship  race  sex  capital-gain  capital-loss  hours-per-week  \\\n",
       "13             1     0    1             0             0              50   \n",
       "18             0     2    1             0             0              50   \n",
       "31             3     0    1             0             0              44   \n",
       "38             0     2    1             0             0              38   \n",
       "60             0     2    1          2407             0              40   \n",
       "\n",
       "    native-country  income  \n",
       "13              34       0  \n",
       "18              34       0  \n",
       "31              34       0  \n",
       "38               0       1  \n",
       "60              34       0  "
      ]
     },
     "execution_count": 93,
     "metadata": {},
     "output_type": "execute_result"
    }
   ],
   "source": [
    "#assigning levels to the values of categorical variables\n",
    "income_fact_sales = income_sales.copy()\n",
    "income_fact_sales = income_fact_sales.drop('occupation', 1)\n",
    "mapping_levels = []\n",
    "for sfactor in sfactors:\n",
    "    income_fact_sales[sfactor] = income_fact_sales[sfactor].factorize(sort = True)[0]\n",
    "    mapping_levels.append(income_fact_sales[sfactor].factorize(sort = True)[1])\n",
    "income_fact_sales.head()"
   ]
  },
  {
   "cell_type": "code",
   "execution_count": 94,
   "metadata": {},
   "outputs": [
    {
     "data": {
      "text/html": [
       "<div>\n",
       "<style scoped>\n",
       "    .dataframe tbody tr th:only-of-type {\n",
       "        vertical-align: middle;\n",
       "    }\n",
       "\n",
       "    .dataframe tbody tr th {\n",
       "        vertical-align: top;\n",
       "    }\n",
       "\n",
       "    .dataframe thead th {\n",
       "        text-align: right;\n",
       "    }\n",
       "</style>\n",
       "<table border=\"1\" class=\"dataframe\">\n",
       "  <thead>\n",
       "    <tr style=\"text-align: right;\">\n",
       "      <th></th>\n",
       "      <th>age</th>\n",
       "      <th>fnlwgt</th>\n",
       "      <th>education-num</th>\n",
       "      <th>capital-gain</th>\n",
       "      <th>capital-loss</th>\n",
       "      <th>hours-per-week</th>\n",
       "      <th>workclass_1</th>\n",
       "      <th>workclass_2</th>\n",
       "      <th>education_1</th>\n",
       "      <th>education_2</th>\n",
       "      <th>...</th>\n",
       "      <th>native-country_27</th>\n",
       "      <th>native-country_28</th>\n",
       "      <th>native-country_29</th>\n",
       "      <th>native-country_30</th>\n",
       "      <th>native-country_31</th>\n",
       "      <th>native-country_32</th>\n",
       "      <th>native-country_33</th>\n",
       "      <th>native-country_34</th>\n",
       "      <th>native-country_35</th>\n",
       "      <th>income_1</th>\n",
       "    </tr>\n",
       "  </thead>\n",
       "  <tbody>\n",
       "    <tr>\n",
       "      <th>13</th>\n",
       "      <td>32</td>\n",
       "      <td>205019</td>\n",
       "      <td>12</td>\n",
       "      <td>0</td>\n",
       "      <td>0</td>\n",
       "      <td>50</td>\n",
       "      <td>1</td>\n",
       "      <td>0</td>\n",
       "      <td>0</td>\n",
       "      <td>0</td>\n",
       "      <td>...</td>\n",
       "      <td>0</td>\n",
       "      <td>0</td>\n",
       "      <td>0</td>\n",
       "      <td>0</td>\n",
       "      <td>0</td>\n",
       "      <td>0</td>\n",
       "      <td>0</td>\n",
       "      <td>1</td>\n",
       "      <td>0</td>\n",
       "      <td>0</td>\n",
       "    </tr>\n",
       "    <tr>\n",
       "      <th>18</th>\n",
       "      <td>38</td>\n",
       "      <td>28887</td>\n",
       "      <td>7</td>\n",
       "      <td>0</td>\n",
       "      <td>0</td>\n",
       "      <td>50</td>\n",
       "      <td>1</td>\n",
       "      <td>0</td>\n",
       "      <td>0</td>\n",
       "      <td>0</td>\n",
       "      <td>...</td>\n",
       "      <td>0</td>\n",
       "      <td>0</td>\n",
       "      <td>0</td>\n",
       "      <td>0</td>\n",
       "      <td>0</td>\n",
       "      <td>0</td>\n",
       "      <td>0</td>\n",
       "      <td>1</td>\n",
       "      <td>0</td>\n",
       "      <td>0</td>\n",
       "    </tr>\n",
       "    <tr>\n",
       "      <th>31</th>\n",
       "      <td>20</td>\n",
       "      <td>266015</td>\n",
       "      <td>10</td>\n",
       "      <td>0</td>\n",
       "      <td>0</td>\n",
       "      <td>44</td>\n",
       "      <td>1</td>\n",
       "      <td>0</td>\n",
       "      <td>0</td>\n",
       "      <td>0</td>\n",
       "      <td>...</td>\n",
       "      <td>0</td>\n",
       "      <td>0</td>\n",
       "      <td>0</td>\n",
       "      <td>0</td>\n",
       "      <td>0</td>\n",
       "      <td>0</td>\n",
       "      <td>0</td>\n",
       "      <td>1</td>\n",
       "      <td>0</td>\n",
       "      <td>0</td>\n",
       "    </tr>\n",
       "    <tr>\n",
       "      <th>38</th>\n",
       "      <td>31</td>\n",
       "      <td>84154</td>\n",
       "      <td>10</td>\n",
       "      <td>0</td>\n",
       "      <td>0</td>\n",
       "      <td>38</td>\n",
       "      <td>1</td>\n",
       "      <td>0</td>\n",
       "      <td>0</td>\n",
       "      <td>0</td>\n",
       "      <td>...</td>\n",
       "      <td>0</td>\n",
       "      <td>0</td>\n",
       "      <td>0</td>\n",
       "      <td>0</td>\n",
       "      <td>0</td>\n",
       "      <td>0</td>\n",
       "      <td>0</td>\n",
       "      <td>0</td>\n",
       "      <td>0</td>\n",
       "      <td>1</td>\n",
       "    </tr>\n",
       "    <tr>\n",
       "      <th>60</th>\n",
       "      <td>30</td>\n",
       "      <td>59496</td>\n",
       "      <td>13</td>\n",
       "      <td>2407</td>\n",
       "      <td>0</td>\n",
       "      <td>40</td>\n",
       "      <td>1</td>\n",
       "      <td>0</td>\n",
       "      <td>1</td>\n",
       "      <td>0</td>\n",
       "      <td>...</td>\n",
       "      <td>0</td>\n",
       "      <td>0</td>\n",
       "      <td>0</td>\n",
       "      <td>0</td>\n",
       "      <td>0</td>\n",
       "      <td>0</td>\n",
       "      <td>0</td>\n",
       "      <td>1</td>\n",
       "      <td>0</td>\n",
       "      <td>0</td>\n",
       "    </tr>\n",
       "  </tbody>\n",
       "</table>\n",
       "<p>5 rows × 62 columns</p>\n",
       "</div>"
      ],
      "text/plain": [
       "    age  fnlwgt  education-num  capital-gain  capital-loss  hours-per-week  \\\n",
       "13   32  205019             12             0             0              50   \n",
       "18   38   28887              7             0             0              50   \n",
       "31   20  266015             10             0             0              44   \n",
       "38   31   84154             10             0             0              38   \n",
       "60   30   59496             13          2407             0              40   \n",
       "\n",
       "    workclass_1  workclass_2  education_1  education_2  ...  \\\n",
       "13            1            0            0            0  ...   \n",
       "18            1            0            0            0  ...   \n",
       "31            1            0            0            0  ...   \n",
       "38            1            0            0            0  ...   \n",
       "60            1            0            1            0  ...   \n",
       "\n",
       "    native-country_27  native-country_28  native-country_29  \\\n",
       "13                  0                  0                  0   \n",
       "18                  0                  0                  0   \n",
       "31                  0                  0                  0   \n",
       "38                  0                  0                  0   \n",
       "60                  0                  0                  0   \n",
       "\n",
       "    native-country_30  native-country_31  native-country_32  \\\n",
       "13                  0                  0                  0   \n",
       "18                  0                  0                  0   \n",
       "31                  0                  0                  0   \n",
       "38                  0                  0                  0   \n",
       "60                  0                  0                  0   \n",
       "\n",
       "    native-country_33  native-country_34  native-country_35  income_1  \n",
       "13                  0                  1                  0         0  \n",
       "18                  0                  1                  0         0  \n",
       "31                  0                  1                  0         0  \n",
       "38                  0                  0                  0         1  \n",
       "60                  0                  1                  0         0  \n",
       "\n",
       "[5 rows x 62 columns]"
      ]
     },
     "execution_count": 94,
     "metadata": {},
     "output_type": "execute_result"
    }
   ],
   "source": [
    "#Create dummy variables\n",
    "income_sales_d = income_fact_sales.copy()\n",
    "for var in sfactors:\n",
    "    if var != 'hours-per-week':\n",
    "        cat_list='var'+'_'+var\n",
    "        cat_list = pd.get_dummies(income_sales_d[var], prefix=var, drop_first=True)\n",
    "        income_sales_d = pd.concat([income_sales_d,cat_list], axis = 1)\n",
    "        income_sales_d = income_sales_d.drop(var, 1)\n",
    "income_sales_d.head()"
   ]
  },
  {
   "cell_type": "markdown",
   "metadata": {},
   "source": [
    "## Part 1\n",
    "test-training set split and fitting"
   ]
  },
  {
   "cell_type": "code",
   "execution_count": 95,
   "metadata": {},
   "outputs": [],
   "source": [
    "np.random.seed(12345)"
   ]
  },
  {
   "cell_type": "code",
   "execution_count": 96,
   "metadata": {},
   "outputs": [
    {
     "data": {
      "text/plain": [
       "LinearRegression(copy_X=True, fit_intercept=True, n_jobs=None, normalize=False)"
      ]
     },
     "execution_count": 96,
     "metadata": {},
     "output_type": "execute_result"
    }
   ],
   "source": [
    "# 70% records being sent into training set \n",
    "income_s = income_sales_d.copy()\n",
    "income_s['hours-per-week'] = income_s['hours-per-week'].factorize()[0]\n",
    "pts = np.random.rand(len(income_s)) < 0.7\n",
    "\n",
    "income_train = income_s[pts]\n",
    "income_test = income_s[~pts]\n",
    "\n",
    "X_train = income_train.copy()\n",
    "X_train = X_train.drop('hours-per-week', 1)\n",
    "Y_train = income_train['hours-per-week']\n",
    "\n",
    "#fitting the model\n",
    "linreg = LinearRegression()\n",
    "linreg.fit(X_train, Y_train)"
   ]
  },
  {
   "cell_type": "code",
   "execution_count": 97,
   "metadata": {},
   "outputs": [
    {
     "name": "stdout",
     "output_type": "stream",
     "text": [
      "coefficient of determination: 0.05460793450258028\n"
     ]
    }
   ],
   "source": [
    "r_sq = linreg.score(X_train, Y_train)\n",
    "print('coefficient of determination:', r_sq)"
   ]
  },
  {
   "cell_type": "code",
   "execution_count": 98,
   "metadata": {
    "scrolled": false
   },
   "outputs": [
    {
     "name": "stdout",
     "output_type": "stream",
     "text": [
      "                                 OLS Regression Results                                \n",
      "=======================================================================================\n",
      "Dep. Variable:         hours-per-week   R-squared (uncentered):                   0.450\n",
      "Model:                            OLS   Adj. R-squared (uncentered):              0.437\n",
      "Method:                 Least Squares   F-statistic:                              34.75\n",
      "Date:                Thu, 16 Jan 2020   Prob (F-statistic):                   1.34e-277\n",
      "Time:                        23:45:37   Log-Likelihood:                         -9781.2\n",
      "No. Observations:                2563   AIC:                                  1.968e+04\n",
      "Df Residuals:                    2504   BIC:                                  2.003e+04\n",
      "Df Model:                          59                                                  \n",
      "Covariance Type:            nonrobust                                                  \n",
      "=====================================================================================\n",
      "                        coef    std err          t      P>|t|      [0.025      0.975]\n",
      "-------------------------------------------------------------------------------------\n",
      "age                   0.0268      0.022      1.239      0.216      -0.016       0.069\n",
      "fnlwgt            -2.248e-06   2.15e-06     -1.046      0.295   -6.46e-06    1.96e-06\n",
      "education-num         0.5526      0.277      1.997      0.046       0.010       1.095\n",
      "capital-gain       1.598e-05   2.69e-05      0.595      0.552   -3.67e-05    6.87e-05\n",
      "capital-loss          0.0015      0.001      2.844      0.004       0.000       0.003\n",
      "workclass_1           2.4080      2.271      1.060      0.289      -2.045       6.861\n",
      "workclass_2           3.7522      2.329      1.611      0.107      -0.816       8.320\n",
      "education_1          -1.6346      1.096     -1.492      0.136      -3.783       0.514\n",
      "education_2          -6.8946      5.797     -1.189      0.234     -18.263       4.473\n",
      "education_3           0.9953      1.087      0.915      0.360      -1.137       3.128\n",
      "education_4          -1.6346      1.702     -0.961      0.337      -4.972       1.702\n",
      "education_5           6.3325      1.743      3.633      0.000       2.914       9.751\n",
      "education_6           2.8986      3.249      0.892      0.372      -3.472       9.270\n",
      "education_7           0.9430      0.977      0.965      0.335      -0.974       2.860\n",
      "marital-status_1     -0.6851      1.850     -0.370      0.711      -4.313       2.943\n",
      "marital-status_2      2.0043      0.827      2.422      0.016       0.382       3.627\n",
      "marital-status_3      1.0118      1.488      0.680      0.497      -1.906       3.930\n",
      "relationship_1       -2.4261      1.859     -1.305      0.192      -6.072       1.220\n",
      "relationship_2       -1.2237      2.123     -0.576      0.564      -5.387       2.939\n",
      "relationship_3        0.1339      1.887      0.071      0.943      -3.566       3.834\n",
      "relationship_4       -1.4757      1.970     -0.749      0.454      -5.339       2.387\n",
      "relationship_5       -0.2782      1.343     -0.207      0.836      -2.912       2.356\n",
      "race_1               -1.8468      1.584     -1.166      0.244      -4.953       1.260\n",
      "race_2               -0.2768      0.886     -0.312      0.755      -2.014       1.460\n",
      "sex_1                -1.0019      0.639     -1.568      0.117      -2.255       0.251\n",
      "native-country_1     -6.3575      8.132     -0.782      0.434     -22.303       9.588\n",
      "native-country_2      2.5275      5.814      0.435      0.664      -8.874      13.928\n",
      "native-country_3     -4.5938      8.241     -0.557      0.577     -20.753      11.566\n",
      "native-country_4     -5.9955      6.638     -0.903      0.366     -19.011       7.020\n",
      "native-country_5      2.8278      4.544      0.622      0.534      -6.082      11.738\n",
      "native-country_6     20.7022      4.852      4.267      0.000      11.187      30.217\n",
      "native-country_7     -3.9264      8.068     -0.487      0.627     -19.747      11.894\n",
      "native-country_8      2.6827      6.633      0.404      0.686     -10.324      15.689\n",
      "native-country_9     -5.0422      6.650     -0.758      0.448     -18.082       7.997\n",
      "native-country_10     0.5275      8.101      0.065      0.948     -15.357      16.413\n",
      "native-country_11    -4.3777      3.720     -1.177      0.239     -11.672       2.916\n",
      "native-country_12     5.7248      6.676      0.857      0.391      -7.367      18.817\n",
      "native-country_13     6.6868      6.694      0.999      0.318      -6.440      19.813\n",
      "native-country_14    -3.1796     11.304     -0.281      0.779     -25.346      18.986\n",
      "native-country_15    -8.7483     11.297     -0.774      0.439     -30.900      13.404\n",
      "native-country_16    -2.3264     11.296     -0.206      0.837     -24.477      19.824\n",
      "native-country_17     2.5902      3.606      0.718      0.473      -4.481       9.661\n",
      "native-country_18     2.9776      4.829      0.617      0.538      -6.491      12.446\n",
      "native-country_19     8.2511     11.268      0.732      0.464     -13.845      30.347\n",
      "native-country_20     2.4045      5.811      0.414      0.679      -8.990      13.799\n",
      "native-country_21     3.4833      8.059      0.432      0.666     -12.321      19.287\n",
      "native-country_22    -0.9981     11.304     -0.088      0.930     -23.165      21.169\n",
      "native-country_23     5.9137      2.885      2.050      0.040       0.257      11.571\n",
      "native-country_24  3.622e-15   4.98e-15      0.727      0.467   -6.15e-15    1.34e-14\n",
      "native-country_25    10.3046     11.286      0.913      0.361     -11.827      32.436\n",
      "native-country_26    -2.2682      6.653     -0.341      0.733     -15.315      10.779\n",
      "native-country_27     4.1021      3.711      1.105      0.269      -3.175      11.379\n",
      "native-country_28    -5.9323      6.728     -0.882      0.378     -19.125       7.260\n",
      "native-country_29   -14.7193     11.279     -1.305      0.192     -36.837       7.398\n",
      "native-country_30    -3.0803      4.832     -0.637      0.524     -12.555       6.395\n",
      "native-country_31     1.5079      3.305      0.456      0.648      -4.973       7.989\n",
      "native-country_32    -6.0355      8.112     -0.744      0.457     -21.943       9.872\n",
      "native-country_33    1.4e-15   7.97e-16      1.757      0.079   -1.63e-16    2.96e-15\n",
      "native-country_34     1.3304      1.636      0.813      0.416      -1.877       4.538\n",
      "native-country_35     8.2782      5.872      1.410      0.159      -3.236      19.793\n",
      "income_1             -1.0192      0.617     -1.651      0.099      -2.230       0.192\n",
      "==============================================================================\n",
      "Omnibus:                     1164.161   Durbin-Watson:                   2.036\n",
      "Prob(Omnibus):                  0.000   Jarque-Bera (JB):             5618.169\n",
      "Skew:                           2.187   Prob(JB):                         0.00\n",
      "Kurtosis:                       8.786   Cond. No.                     1.24e+16\n",
      "==============================================================================\n",
      "\n",
      "Warnings:\n",
      "[1] Standard Errors assume that the covariance matrix of the errors is correctly specified.\n",
      "[2] The smallest eigenvalue is 7.95e-19. This might indicate that there are\n",
      "strong multicollinearity problems or that the design matrix is singular.\n"
     ]
    }
   ],
   "source": [
    "mod = sm.OLS(Y_train,X_train)\n",
    "lnfit = mod.fit()\n",
    "print(lnfit.summary())"
   ]
  },
  {
   "cell_type": "markdown",
   "metadata": {},
   "source": [
    "## Part 2 Remove variables"
   ]
  },
  {
   "cell_type": "markdown",
   "metadata": {},
   "source": [
    "### Approach 1\n",
    "remove education-num, relationship, native-country as Question 5"
   ]
  },
  {
   "cell_type": "code",
   "execution_count": 99,
   "metadata": {},
   "outputs": [
    {
     "data": {
      "text/plain": [
       "['workclass', 'education', 'marital-status', 'race', 'sex', 'income']"
      ]
     },
     "execution_count": 99,
     "metadata": {},
     "output_type": "execute_result"
    }
   ],
   "source": [
    "new_factors = ['workclass', 'education', 'marital-status', 'race', 'sex', 'income']\n",
    "new_factors"
   ]
  },
  {
   "cell_type": "code",
   "execution_count": 100,
   "metadata": {},
   "outputs": [
    {
     "data": {
      "text/html": [
       "<div>\n",
       "<style scoped>\n",
       "    .dataframe tbody tr th:only-of-type {\n",
       "        vertical-align: middle;\n",
       "    }\n",
       "\n",
       "    .dataframe tbody tr th {\n",
       "        vertical-align: top;\n",
       "    }\n",
       "\n",
       "    .dataframe thead th {\n",
       "        text-align: right;\n",
       "    }\n",
       "</style>\n",
       "<table border=\"1\" class=\"dataframe\">\n",
       "  <thead>\n",
       "    <tr style=\"text-align: right;\">\n",
       "      <th></th>\n",
       "      <th>age</th>\n",
       "      <th>fnlwgt</th>\n",
       "      <th>capital-gain</th>\n",
       "      <th>capital-loss</th>\n",
       "      <th>hours-per-week</th>\n",
       "      <th>workclass_1</th>\n",
       "      <th>workclass_2</th>\n",
       "      <th>education_1</th>\n",
       "      <th>education_2</th>\n",
       "      <th>education_3</th>\n",
       "      <th>...</th>\n",
       "      <th>education_5</th>\n",
       "      <th>education_6</th>\n",
       "      <th>education_7</th>\n",
       "      <th>marital-status_1</th>\n",
       "      <th>marital-status_2</th>\n",
       "      <th>marital-status_3</th>\n",
       "      <th>race_1</th>\n",
       "      <th>race_2</th>\n",
       "      <th>sex_1</th>\n",
       "      <th>income_1</th>\n",
       "    </tr>\n",
       "  </thead>\n",
       "  <tbody>\n",
       "    <tr>\n",
       "      <th>13</th>\n",
       "      <td>32</td>\n",
       "      <td>205019</td>\n",
       "      <td>0</td>\n",
       "      <td>0</td>\n",
       "      <td>50</td>\n",
       "      <td>1</td>\n",
       "      <td>0</td>\n",
       "      <td>0</td>\n",
       "      <td>0</td>\n",
       "      <td>0</td>\n",
       "      <td>...</td>\n",
       "      <td>0</td>\n",
       "      <td>0</td>\n",
       "      <td>0</td>\n",
       "      <td>0</td>\n",
       "      <td>1</td>\n",
       "      <td>0</td>\n",
       "      <td>0</td>\n",
       "      <td>0</td>\n",
       "      <td>1</td>\n",
       "      <td>0</td>\n",
       "    </tr>\n",
       "    <tr>\n",
       "      <th>18</th>\n",
       "      <td>38</td>\n",
       "      <td>28887</td>\n",
       "      <td>0</td>\n",
       "      <td>0</td>\n",
       "      <td>50</td>\n",
       "      <td>1</td>\n",
       "      <td>0</td>\n",
       "      <td>0</td>\n",
       "      <td>0</td>\n",
       "      <td>0</td>\n",
       "      <td>...</td>\n",
       "      <td>1</td>\n",
       "      <td>0</td>\n",
       "      <td>0</td>\n",
       "      <td>1</td>\n",
       "      <td>0</td>\n",
       "      <td>0</td>\n",
       "      <td>0</td>\n",
       "      <td>1</td>\n",
       "      <td>1</td>\n",
       "      <td>0</td>\n",
       "    </tr>\n",
       "    <tr>\n",
       "      <th>31</th>\n",
       "      <td>20</td>\n",
       "      <td>266015</td>\n",
       "      <td>0</td>\n",
       "      <td>0</td>\n",
       "      <td>44</td>\n",
       "      <td>1</td>\n",
       "      <td>0</td>\n",
       "      <td>0</td>\n",
       "      <td>0</td>\n",
       "      <td>0</td>\n",
       "      <td>...</td>\n",
       "      <td>0</td>\n",
       "      <td>0</td>\n",
       "      <td>1</td>\n",
       "      <td>0</td>\n",
       "      <td>1</td>\n",
       "      <td>0</td>\n",
       "      <td>0</td>\n",
       "      <td>0</td>\n",
       "      <td>1</td>\n",
       "      <td>0</td>\n",
       "    </tr>\n",
       "    <tr>\n",
       "      <th>38</th>\n",
       "      <td>31</td>\n",
       "      <td>84154</td>\n",
       "      <td>0</td>\n",
       "      <td>0</td>\n",
       "      <td>38</td>\n",
       "      <td>1</td>\n",
       "      <td>0</td>\n",
       "      <td>0</td>\n",
       "      <td>0</td>\n",
       "      <td>0</td>\n",
       "      <td>...</td>\n",
       "      <td>0</td>\n",
       "      <td>0</td>\n",
       "      <td>1</td>\n",
       "      <td>1</td>\n",
       "      <td>0</td>\n",
       "      <td>0</td>\n",
       "      <td>0</td>\n",
       "      <td>1</td>\n",
       "      <td>1</td>\n",
       "      <td>1</td>\n",
       "    </tr>\n",
       "    <tr>\n",
       "      <th>60</th>\n",
       "      <td>30</td>\n",
       "      <td>59496</td>\n",
       "      <td>2407</td>\n",
       "      <td>0</td>\n",
       "      <td>40</td>\n",
       "      <td>1</td>\n",
       "      <td>0</td>\n",
       "      <td>1</td>\n",
       "      <td>0</td>\n",
       "      <td>0</td>\n",
       "      <td>...</td>\n",
       "      <td>0</td>\n",
       "      <td>0</td>\n",
       "      <td>0</td>\n",
       "      <td>1</td>\n",
       "      <td>0</td>\n",
       "      <td>0</td>\n",
       "      <td>0</td>\n",
       "      <td>1</td>\n",
       "      <td>1</td>\n",
       "      <td>0</td>\n",
       "    </tr>\n",
       "  </tbody>\n",
       "</table>\n",
       "<p>5 rows × 21 columns</p>\n",
       "</div>"
      ],
      "text/plain": [
       "    age  fnlwgt  capital-gain  capital-loss  hours-per-week  workclass_1  \\\n",
       "13   32  205019             0             0              50            1   \n",
       "18   38   28887             0             0              50            1   \n",
       "31   20  266015             0             0              44            1   \n",
       "38   31   84154             0             0              38            1   \n",
       "60   30   59496          2407             0              40            1   \n",
       "\n",
       "    workclass_2  education_1  education_2  education_3  ...  education_5  \\\n",
       "13            0            0            0            0  ...            0   \n",
       "18            0            0            0            0  ...            1   \n",
       "31            0            0            0            0  ...            0   \n",
       "38            0            0            0            0  ...            0   \n",
       "60            0            1            0            0  ...            0   \n",
       "\n",
       "    education_6  education_7  marital-status_1  marital-status_2  \\\n",
       "13            0            0                 0                 1   \n",
       "18            0            0                 1                 0   \n",
       "31            0            1                 0                 1   \n",
       "38            0            1                 1                 0   \n",
       "60            0            0                 1                 0   \n",
       "\n",
       "    marital-status_3  race_1  race_2  sex_1  income_1  \n",
       "13                 0       0       0      1         0  \n",
       "18                 0       0       1      1         0  \n",
       "31                 0       0       0      1         0  \n",
       "38                 0       0       1      1         1  \n",
       "60                 0       0       1      1         0  \n",
       "\n",
       "[5 rows x 21 columns]"
      ]
     },
     "execution_count": 100,
     "metadata": {},
     "output_type": "execute_result"
    }
   ],
   "source": [
    "income_new = income_fact_sales.copy()\n",
    "income_new = income_new.drop(columns=['education-num'], axis=1)\n",
    "income_new = income_new.drop(columns=['relationship'], axis=1)\n",
    "income_new = income_new.drop(columns=['native-country'], axis=1)\n",
    "for var in new_factors:\n",
    "    if var != 'hours-per-week':\n",
    "        cat_list='var'+'_'+var\n",
    "        cat_list = pd.get_dummies(income_new[var], prefix=var, drop_first=True)\n",
    "        income_new = pd.concat([income_new,cat_list], axis = 1)\n",
    "        income_new = income_new.drop(var, 1)\n",
    "income_new.head()"
   ]
  },
  {
   "cell_type": "code",
   "execution_count": 101,
   "metadata": {},
   "outputs": [
    {
     "data": {
      "text/plain": [
       "LinearRegression(copy_X=True, fit_intercept=True, n_jobs=None, normalize=False)"
      ]
     },
     "execution_count": 101,
     "metadata": {},
     "output_type": "execute_result"
    }
   ],
   "source": [
    "# 70% records being sent into training set \n",
    "income_s_red = income_new.copy()\n",
    "income_s_red['hours-per-week'] = income_s_red['hours-per-week'].factorize()[0]\n",
    "pts = np.random.rand(len(income_s_red)) < 0.7\n",
    "\n",
    "income_train_red = income_s_red[pts]\n",
    "income_test_red = income_s_red[~pts]\n",
    "\n",
    "X_train_red = income_train_red.copy()\n",
    "X_train_red = X_train_red.drop('hours-per-week', 1)\n",
    "Y_train_red = income_train_red['hours-per-week']\n",
    "\n",
    "X_test_red = income_test_red.copy()\n",
    "X_test_red = X_test_red.drop('hours-per-week', 1)\n",
    "Y_test_red = income_test_red['hours-per-week']\n",
    "\n",
    "#fitting the model\n",
    "linreg_red = LinearRegression()\n",
    "linreg_red.fit(X_train_red, Y_train_red)"
   ]
  },
  {
   "cell_type": "code",
   "execution_count": 102,
   "metadata": {},
   "outputs": [
    {
     "name": "stdout",
     "output_type": "stream",
     "text": [
      "coefficient of determination: 0.030958923504051165\n"
     ]
    }
   ],
   "source": [
    "r_sq_red = linreg_red.score(X_train_red, Y_train_red)\n",
    "print('coefficient of determination:', r_sq_red)"
   ]
  },
  {
   "cell_type": "code",
   "execution_count": 103,
   "metadata": {},
   "outputs": [
    {
     "name": "stdout",
     "output_type": "stream",
     "text": [
      "                                 OLS Regression Results                                \n",
      "=======================================================================================\n",
      "Dep. Variable:         hours-per-week   R-squared (uncentered):                   0.431\n",
      "Model:                            OLS   Adj. R-squared (uncentered):              0.427\n",
      "Method:                 Least Squares   F-statistic:                              93.89\n",
      "Date:                Thu, 16 Jan 2020   Prob (F-statistic):                   3.08e-285\n",
      "Time:                        23:45:37   Log-Likelihood:                         -9583.0\n",
      "No. Observations:                2498   AIC:                                  1.921e+04\n",
      "Df Residuals:                    2478   BIC:                                  1.932e+04\n",
      "Df Model:                          20                                                  \n",
      "Covariance Type:            nonrobust                                                  \n",
      "====================================================================================\n",
      "                       coef    std err          t      P>|t|      [0.025      0.975]\n",
      "------------------------------------------------------------------------------------\n",
      "age                  0.0234      0.021      1.118      0.264      -0.018       0.064\n",
      "fnlwgt           -1.919e-06   2.17e-06     -0.884      0.377   -6.18e-06    2.34e-06\n",
      "capital-gain      3.535e-05   2.81e-05      1.258      0.209   -1.98e-05    9.05e-05\n",
      "capital-loss         0.0016      0.001      3.106      0.002       0.001       0.003\n",
      "workclass_1          6.6062      1.397      4.728      0.000       3.866       9.346\n",
      "workclass_2          7.7127      1.548      4.982      0.000       4.677      10.749\n",
      "education_1          1.0476      0.963      1.088      0.277      -0.840       2.936\n",
      "education_2          1.4208      5.751      0.247      0.805      -9.857      12.699\n",
      "education_3          1.6829      0.920      1.829      0.067      -0.121       3.487\n",
      "education_4          2.2319      1.436      1.554      0.120      -0.584       5.048\n",
      "education_5          5.9790      1.121      5.335      0.000       3.781       8.177\n",
      "education_6          7.6357      3.366      2.268      0.023       1.035      14.237\n",
      "education_7          2.3391      0.927      2.522      0.012       0.521       4.157\n",
      "marital-status_1     1.1832      0.755      1.568      0.117      -0.297       2.663\n",
      "marital-status_2     2.0638      0.758      2.721      0.007       0.577       3.551\n",
      "marital-status_3    -0.3096      1.535     -0.202      0.840      -3.320       2.701\n",
      "race_1              -0.7873      1.392     -0.565      0.572      -3.518       1.943\n",
      "race_2              -0.0498      0.892     -0.056      0.955      -1.799       1.699\n",
      "sex_1               -1.3842      0.565     -2.451      0.014      -2.492      -0.277\n",
      "income_1            -1.1112      0.621     -1.788      0.074      -2.330       0.107\n",
      "==============================================================================\n",
      "Omnibus:                     1168.856   Durbin-Watson:                   2.039\n",
      "Prob(Omnibus):                  0.000   Jarque-Bera (JB):             5874.829\n",
      "Skew:                           2.247   Prob(JB):                         0.00\n",
      "Kurtosis:                       9.020   Cond. No.                     5.54e+06\n",
      "==============================================================================\n",
      "\n",
      "Warnings:\n",
      "[1] Standard Errors assume that the covariance matrix of the errors is correctly specified.\n",
      "[2] The condition number is large, 5.54e+06. This might indicate that there are\n",
      "strong multicollinearity or other numerical problems.\n"
     ]
    }
   ],
   "source": [
    "mod_red = sm.OLS(Y_train_red,X_train_red)\n",
    "lnfit_red = mod_red.fit()\n",
    "print(lnfit_red.summary())"
   ]
  },
  {
   "cell_type": "markdown",
   "metadata": {},
   "source": [
    "### Approach 2: RFE"
   ]
  },
  {
   "cell_type": "code",
   "execution_count": 104,
   "metadata": {},
   "outputs": [
    {
     "name": "stdout",
     "output_type": "stream",
     "text": [
      "1 coefficient of determination: 0.0010008543051566177 mse: 120.66334484301134\n",
      "2 coefficient of determination: 0.015227668362418734 mse: 119.07443518593274\n",
      "3 coefficient of determination: 0.01572687725038513 mse: 119.06143911341047\n",
      "4 coefficient of determination: 0.01602227461070127 mse: 119.12093804890674\n",
      "5 coefficient of determination: 0.020199835482147876 mse: 117.91014815213354\n",
      "6 coefficient of determination: 0.022083815698896836 mse: 117.3746629225354\n",
      "7 coefficient of determination: 0.02349380782977184 mse: 117.36321414773917\n",
      "8 coefficient of determination: 0.02350015014400353 mse: 117.38287140661997\n",
      "9 coefficient of determination: 0.0236350043662773 mse: 117.39518266829256\n",
      "10 coefficient of determination: 0.024618775257555292 mse: 117.04374812957445\n",
      "11 coefficient of determination: 0.025121397882560403 mse: 117.11186737615077\n",
      "12 coefficient of determination: 0.02528565605088573 mse: 117.1687333235516\n",
      "13 coefficient of determination: 0.02585590016108596 mse: 117.06373580286355\n",
      "14 coefficient of determination: 0.026065746428196146 mse: 117.29601272392918\n",
      "15 coefficient of determination: 0.026083687429205304 mse: 117.3733546106342\n",
      "16 coefficient of determination: 0.026125199569103082 mse: 117.24348203287383\n",
      "17 coefficient of determination: 0.026341647422341463 mse: 117.15566828698917\n",
      "18 coefficient of determination: 0.029831805272869993 mse: 117.56242065173622\n",
      "19 coefficient of determination: 0.030357637421698728 mse: 117.48872557752374\n"
     ]
    }
   ],
   "source": [
    "# test the best number of variables\n",
    "for i in range(1, 20):\n",
    "    rfe = RFE(linreg, i)\n",
    "    rfe = rfe.fit(X_train_red, Y_train_red)\n",
    "    X_train_rfe = rfe.transform(X_train_red)\n",
    "    X_test_rfe = rfe.transform(X_test_red)\n",
    "    linreg.fit(X_train_rfe, Y_train_red)\n",
    "    r_sq = linreg.score(X_train_rfe, Y_train_red)\n",
    "    Y_pred = linreg.predict(X_test_rfe)\n",
    "    mse = mean_squared_error(Y_test_red, Y_pred)\n",
    "    print(i, 'coefficient of determination:', r_sq, 'mse:', mse)"
   ]
  },
  {
   "cell_type": "markdown",
   "metadata": {},
   "source": [
    "Accroding to R^2 and MSE, the best model consists of 19 variables. "
   ]
  },
  {
   "cell_type": "code",
   "execution_count": 105,
   "metadata": {},
   "outputs": [
    {
     "name": "stdout",
     "output_type": "stream",
     "text": [
      "[ True False  True  True  True  True  True  True  True  True  True  True\n",
      "  True  True  True  True  True  True  True  True]\n",
      "[1 2 1 1 1 1 1 1 1 1 1 1 1 1 1 1 1 1 1 1]\n"
     ]
    }
   ],
   "source": [
    "#Find the 19 variables\n",
    "rfe = RFE(linreg, 19)\n",
    "rfe = rfe.fit(X_train_red, Y_train_red)\n",
    "print(rfe.support_)\n",
    "print(rfe.ranking_)"
   ]
  },
  {
   "cell_type": "code",
   "execution_count": 106,
   "metadata": {},
   "outputs": [
    {
     "data": {
      "text/plain": [
       "Index(['age', 'capital-gain', 'capital-loss', 'workclass_1', 'workclass_2',\n",
       "       'education_1', 'education_2', 'education_3', 'education_4',\n",
       "       'education_5', 'education_6', 'education_7', 'marital-status_1',\n",
       "       'marital-status_2', 'marital-status_3', 'race_1', 'race_2', 'sex_1',\n",
       "       'income_1'],\n",
       "      dtype='object')"
      ]
     },
     "execution_count": 106,
     "metadata": {},
     "output_type": "execute_result"
    }
   ],
   "source": [
    "feature = X_train_red.columns[rfe.get_support()]\n",
    "feature"
   ]
  },
  {
   "cell_type": "code",
   "execution_count": 107,
   "metadata": {},
   "outputs": [],
   "source": [
    "income_rfe = income_new.copy()\n",
    "income_rfe = income_rfe.drop('fnlwgt', 1)"
   ]
  },
  {
   "cell_type": "code",
   "execution_count": 108,
   "metadata": {},
   "outputs": [],
   "source": [
    "income_rfe_c = income_rfe.copy()\n",
    "X_rfe = income_rfe_c.drop('hours-per-week', 1)\n",
    "Y_rfe = income_rfe_c['hours-per-week']"
   ]
  },
  {
   "cell_type": "code",
   "execution_count": 109,
   "metadata": {},
   "outputs": [
    {
     "name": "stdout",
     "output_type": "stream",
     "text": [
      "                                 OLS Regression Results                                \n",
      "=======================================================================================\n",
      "Dep. Variable:         hours-per-week   R-squared (uncentered):                   0.923\n",
      "Model:                            OLS   Adj. R-squared (uncentered):              0.923\n",
      "Method:                 Least Squares   F-statistic:                              2295.\n",
      "Date:                Thu, 16 Jan 2020   Prob (F-statistic):                        0.00\n",
      "Time:                        23:45:37   Log-Likelihood:                         -14215.\n",
      "No. Observations:                3650   AIC:                                  2.847e+04\n",
      "Df Residuals:                    3631   BIC:                                  2.859e+04\n",
      "Df Model:                          19                                                  \n",
      "Covariance Type:            nonrobust                                                  \n",
      "====================================================================================\n",
      "                       coef    std err          t      P>|t|      [0.025      0.975]\n",
      "------------------------------------------------------------------------------------\n",
      "age                  0.0362      0.018      2.002      0.045       0.001       0.072\n",
      "capital-gain      6.265e-05   2.37e-05      2.641      0.008    1.61e-05       0.000\n",
      "capital-loss         0.0006      0.000      1.300      0.194      -0.000       0.002\n",
      "workclass_1         29.4635      1.154     25.539      0.000      27.202      31.725\n",
      "workclass_2         32.5414      1.292     25.191      0.000      30.009      35.074\n",
      "education_1          3.8294      0.849      4.509      0.000       2.164       5.494\n",
      "education_2          1.3710      4.304      0.319      0.750      -7.067       9.809\n",
      "education_3          2.5929      0.815      3.180      0.001       0.994       4.191\n",
      "education_4          3.2817      1.277      2.570      0.010       0.778       5.785\n",
      "education_5         -4.7089      0.973     -4.841      0.000      -6.616      -2.802\n",
      "education_6          0.8188      2.910      0.281      0.778      -4.887       6.524\n",
      "education_7          1.2935      0.818      1.581      0.114      -0.310       2.897\n",
      "marital-status_1    -0.2897      0.661     -0.438      0.661      -1.587       1.007\n",
      "marital-status_2    -3.4988      0.663     -5.275      0.000      -4.799      -2.198\n",
      "marital-status_3    -3.5305      1.322     -2.670      0.008      -6.123      -0.938\n",
      "race_1               6.1477      1.192      5.156      0.000       3.810       8.485\n",
      "race_2               4.0939      0.763      5.367      0.000       2.598       5.590\n",
      "sex_1                6.5805      0.493     13.336      0.000       5.613       7.548\n",
      "income_1             3.4440      0.547      6.293      0.000       2.371       4.517\n",
      "==============================================================================\n",
      "Omnibus:                      155.014   Durbin-Watson:                   1.931\n",
      "Prob(Omnibus):                  0.000   Jarque-Bera (JB):              475.246\n",
      "Skew:                           0.106   Prob(JB):                    6.33e-104\n",
      "Kurtosis:                       4.755   Cond. No.                     1.91e+05\n",
      "==============================================================================\n",
      "\n",
      "Warnings:\n",
      "[1] Standard Errors assume that the covariance matrix of the errors is correctly specified.\n",
      "[2] The condition number is large, 1.91e+05. This might indicate that there are\n",
      "strong multicollinearity or other numerical problems.\n"
     ]
    }
   ],
   "source": [
    "mod_rfe = sm.OLS(Y_rfe,X_rfe)\n",
    "lnfit_rfe = mod_rfe.fit()\n",
    "print(lnfit_rfe.summary())"
   ]
  }
 ],
 "metadata": {
  "kernelspec": {
   "display_name": "Python 3",
   "language": "python",
   "name": "python3"
  },
  "language_info": {
   "codemirror_mode": {
    "name": "ipython",
    "version": 3
   },
   "file_extension": ".py",
   "mimetype": "text/x-python",
   "name": "python",
   "nbconvert_exporter": "python",
   "pygments_lexer": "ipython3",
   "version": "3.7.5"
  }
 },
 "nbformat": 4,
 "nbformat_minor": 2
}
